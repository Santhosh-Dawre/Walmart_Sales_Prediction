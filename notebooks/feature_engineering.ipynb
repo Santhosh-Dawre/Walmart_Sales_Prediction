{
 "cells": [
  {
   "cell_type": "code",
   "execution_count": 19,
   "id": "6a8ae388",
   "metadata": {},
   "outputs": [],
   "source": [
    "import pandas as pd\n",
    "from sklearn.preprocessing import LabelEncoder\n",
    "\n",
    "# Load the cleaned dataset from Phase 1\n",
    "df = pd.read_csv('C:/Users/Saisa/Downloads/Walmart_Sales/data/processed/processed_sales.csv', parse_dates=['date'])\n",
    "\n",
    "# Sort by store and date\n",
    "df = df.sort_values(by=['store', 'date'])\n"
   ]
  },
  {
   "cell_type": "code",
   "execution_count": 20,
   "id": "3b6ab860",
   "metadata": {},
   "outputs": [],
   "source": [
    "# Date Parts\n",
    "df['day'] = df['date'].dt.day\n",
    "df['week'] = df['date'].dt.isocalendar().week\n",
    "df['month'] = df['date'].dt.month\n",
    "df['quarter'] = df['date'].dt.quarter\n",
    "df['year'] = df['date'].dt.year\n",
    "df['weekday'] = df['date'].dt.weekday\n",
    "df['is_weekend'] = df['weekday'].isin([5, 6]).astype(int)\n",
    "\n"
   ]
  },
  {
   "cell_type": "code",
   "execution_count": 21,
   "id": "eaa7da08",
   "metadata": {},
   "outputs": [],
   "source": [
    "# Lag Features\n",
    "for lag in [1, 2, 4, 13, 26, 52]:\n",
    "    df[f'lag_{lag}'] = df.groupby('store')['weekly_sales'].shift(lag)\n"
   ]
  },
  {
   "cell_type": "code",
   "execution_count": 22,
   "id": "e529834a",
   "metadata": {},
   "outputs": [],
   "source": [
    "# Rolling averages\n",
    "for window in [4, 13, 26, 52]:\n",
    "    df[f'sales_roll_{window}'] = (\n",
    "        df.groupby('store')['weekly_sales']\n",
    "        .shift(1)\n",
    "        .rolling(window=window)\n",
    "        .mean()\n",
    "    )"
   ]
  },
  {
   "cell_type": "code",
   "execution_count": 23,
   "id": "91b57818",
   "metadata": {},
   "outputs": [],
   "source": [
    "# Sales difference \n",
    "df['sales_diff_1'] = df.groupby('store')['weekly_sales'].diff(1)\n",
    "df['sales_diff_4'] = df.groupby('store')['weekly_sales'].diff(4)"
   ]
  },
  {
   "cell_type": "code",
   "execution_count": 24,
   "id": "7bac5f59",
   "metadata": {},
   "outputs": [],
   "source": [
    "# Cumulative Sales\n",
    "\n",
    "df['cumulative_sales'] = df.groupby('store')['weekly_sales'].cumsum()\n"
   ]
  },
  {
   "cell_type": "code",
   "execution_count": 25,
   "id": "41745ce4",
   "metadata": {},
   "outputs": [],
   "source": [
    "# Store-wise average sales\n",
    "df['avg_sales_per_store'] = df.groupby('store')['weekly_sales'].transform('mean')\n"
   ]
  },
  {
   "cell_type": "code",
   "execution_count": 26,
   "id": "69a109a7",
   "metadata": {},
   "outputs": [],
   "source": [
    "# Promotion Features\n",
    "df['promo_last_week'] = df.groupby('store')['is_holiday'].shift(1)\n",
    "df['promo_next_week'] = df.groupby('store')['is_holiday'].shift(-1)\n"
   ]
  },
  {
   "cell_type": "code",
   "execution_count": 28,
   "id": "86552f3d",
   "metadata": {},
   "outputs": [],
   "source": [
    "# Label Encoding\n",
    "\n",
    "le_store = LabelEncoder()\n",
    "le_dept = LabelEncoder()\n",
    "\n",
    "if 'store' in df.columns:\n",
    "    df['store_encoded'] = le_store.fit_transform(df['store'])\n",
    "\n",
    "if 'dept' in df.columns:\n",
    "    df['dept_encoded'] = le_dept.fit_transform(df['dept'])\n"
   ]
  },
  {
   "cell_type": "code",
   "execution_count": 29,
   "id": "97bb3459",
   "metadata": {},
   "outputs": [],
   "source": [
    "# Missing Values\n",
    "\n",
    "df.fillna(0, inplace=True)"
   ]
  },
  {
   "cell_type": "code",
   "execution_count": 30,
   "id": "a861c3ca",
   "metadata": {},
   "outputs": [
    {
     "name": "stdout",
     "output_type": "stream",
     "text": [
      "✅ Feature engineering completed and file saved to:\n",
      "C:/Users/Saisa/Downloads/Walmart_Sales/data/processed/feature_engineered_sales.csv\n"
     ]
    }
   ],
   "source": [
    "output_path = 'C:/Users/Saisa/Downloads/Walmart_Sales/data/processed/feature_engineered_sales.csv'\n",
    "df.to_csv(output_path, index=False)\n",
    "print(\"✅ Feature engineering completed and file saved to:\")\n",
    "print(output_path)"
   ]
  }
 ],
 "metadata": {
  "kernelspec": {
   "display_name": "venv",
   "language": "python",
   "name": "python3"
  },
  "language_info": {
   "codemirror_mode": {
    "name": "ipython",
    "version": 3
   },
   "file_extension": ".py",
   "mimetype": "text/x-python",
   "name": "python",
   "nbconvert_exporter": "python",
   "pygments_lexer": "ipython3",
   "version": "3.13.5"
  }
 },
 "nbformat": 4,
 "nbformat_minor": 5
}
