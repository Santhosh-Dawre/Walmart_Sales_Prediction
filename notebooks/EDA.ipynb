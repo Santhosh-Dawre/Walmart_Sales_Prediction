{
 "cells": [
  {
   "cell_type": "markdown",
   "id": "c7b90ba6",
   "metadata": {},
   "source": [
    "# Exploratory Data Analysis (EDA) for Walmart Sales Data"
   ]
  },
  {
   "cell_type": "code",
   "execution_count": 2,
   "id": "a447dd34",
   "metadata": {},
   "outputs": [],
   "source": [
    "import pandas as pd\n",
    "import numpy as np\n",
    "import matplotlib.pyplot as plt\n",
    "import seaborn as sns\n",
    "import plotly.express as px\n",
    "import plotly.graph_objects as go\n",
    "\n",
    "\n",
    "pd.set_option('display.max_columns', None)\n",
    "\n",
    "# Load dataset\n",
    "df = pd.read_csv('C:/Users/Saisa/Downloads/Walmart_Sales/data/processed/feature_engineered_sales.csv', parse_dates=['date'])\n",
    "\n",
    "\n"
   ]
  },
  {
   "cell_type": "markdown",
   "id": "05ff6c69",
   "metadata": {},
   "source": [
    "# Numerical Analysis\n"
   ]
  },
  {
   "cell_type": "code",
   "execution_count": 3,
   "id": "8dab627c",
   "metadata": {},
   "outputs": [
    {
     "data": {
      "text/html": [
       "<div>\n",
       "<style scoped>\n",
       "    .dataframe tbody tr th:only-of-type {\n",
       "        vertical-align: middle;\n",
       "    }\n",
       "\n",
       "    .dataframe tbody tr th {\n",
       "        vertical-align: top;\n",
       "    }\n",
       "\n",
       "    .dataframe thead th {\n",
       "        text-align: right;\n",
       "    }\n",
       "</style>\n",
       "<table border=\"1\" class=\"dataframe\">\n",
       "  <thead>\n",
       "    <tr style=\"text-align: right;\">\n",
       "      <th></th>\n",
       "      <th>store</th>\n",
       "      <th>date</th>\n",
       "      <th>weekly_sales</th>\n",
       "      <th>holiday_flag</th>\n",
       "      <th>temperature</th>\n",
       "      <th>fuel_price</th>\n",
       "      <th>cpi</th>\n",
       "      <th>unemployment</th>\n",
       "      <th>year</th>\n",
       "      <th>month</th>\n",
       "      <th>day</th>\n",
       "      <th>weekday</th>\n",
       "      <th>is_weekend</th>\n",
       "      <th>is_holiday</th>\n",
       "      <th>holiday_name</th>\n",
       "      <th>store_name</th>\n",
       "      <th>week</th>\n",
       "      <th>quarter</th>\n",
       "      <th>lag_1</th>\n",
       "      <th>lag_2</th>\n",
       "      <th>lag_4</th>\n",
       "      <th>lag_13</th>\n",
       "      <th>lag_26</th>\n",
       "      <th>lag_52</th>\n",
       "      <th>sales_roll_4</th>\n",
       "      <th>sales_roll_13</th>\n",
       "      <th>sales_roll_26</th>\n",
       "      <th>sales_roll_52</th>\n",
       "      <th>sales_diff_1</th>\n",
       "      <th>sales_diff_4</th>\n",
       "      <th>cumulative_sales</th>\n",
       "      <th>avg_sales_per_store</th>\n",
       "      <th>promo_last_week</th>\n",
       "      <th>promo_next_week</th>\n",
       "      <th>store_encoded</th>\n",
       "    </tr>\n",
       "  </thead>\n",
       "  <tbody>\n",
       "    <tr>\n",
       "      <th>0</th>\n",
       "      <td>1</td>\n",
       "      <td>2010-01-10</td>\n",
       "      <td>1453329.50</td>\n",
       "      <td>0</td>\n",
       "      <td>71.89</td>\n",
       "      <td>2.603</td>\n",
       "      <td>211.671989</td>\n",
       "      <td>7.838</td>\n",
       "      <td>2010</td>\n",
       "      <td>1</td>\n",
       "      <td>10</td>\n",
       "      <td>6</td>\n",
       "      <td>1</td>\n",
       "      <td>0</td>\n",
       "      <td>No Holiday</td>\n",
       "      <td>Mesa West</td>\n",
       "      <td>1</td>\n",
       "      <td>1</td>\n",
       "      <td>0.00</td>\n",
       "      <td>0.00</td>\n",
       "      <td>0.0</td>\n",
       "      <td>0.0</td>\n",
       "      <td>0.0</td>\n",
       "      <td>0.0</td>\n",
       "      <td>0.000000e+00</td>\n",
       "      <td>0.0</td>\n",
       "      <td>0.0</td>\n",
       "      <td>0.0</td>\n",
       "      <td>0.00</td>\n",
       "      <td>0.00</td>\n",
       "      <td>1453329.50</td>\n",
       "      <td>1.601845e+06</td>\n",
       "      <td>0.0</td>\n",
       "      <td>0.0</td>\n",
       "      <td>0</td>\n",
       "    </tr>\n",
       "    <tr>\n",
       "      <th>1</th>\n",
       "      <td>1</td>\n",
       "      <td>2010-02-04</td>\n",
       "      <td>1594968.28</td>\n",
       "      <td>0</td>\n",
       "      <td>62.27</td>\n",
       "      <td>2.719</td>\n",
       "      <td>210.820450</td>\n",
       "      <td>7.808</td>\n",
       "      <td>2010</td>\n",
       "      <td>2</td>\n",
       "      <td>4</td>\n",
       "      <td>3</td>\n",
       "      <td>0</td>\n",
       "      <td>0</td>\n",
       "      <td>No Holiday</td>\n",
       "      <td>Mesa West</td>\n",
       "      <td>5</td>\n",
       "      <td>1</td>\n",
       "      <td>1453329.50</td>\n",
       "      <td>0.00</td>\n",
       "      <td>0.0</td>\n",
       "      <td>0.0</td>\n",
       "      <td>0.0</td>\n",
       "      <td>0.0</td>\n",
       "      <td>0.000000e+00</td>\n",
       "      <td>0.0</td>\n",
       "      <td>0.0</td>\n",
       "      <td>0.0</td>\n",
       "      <td>141638.78</td>\n",
       "      <td>0.00</td>\n",
       "      <td>3048297.78</td>\n",
       "      <td>1.601845e+06</td>\n",
       "      <td>0.0</td>\n",
       "      <td>0.0</td>\n",
       "      <td>0</td>\n",
       "    </tr>\n",
       "    <tr>\n",
       "      <th>2</th>\n",
       "      <td>1</td>\n",
       "      <td>2010-02-07</td>\n",
       "      <td>1492418.14</td>\n",
       "      <td>0</td>\n",
       "      <td>80.91</td>\n",
       "      <td>2.669</td>\n",
       "      <td>211.223533</td>\n",
       "      <td>7.787</td>\n",
       "      <td>2010</td>\n",
       "      <td>2</td>\n",
       "      <td>7</td>\n",
       "      <td>6</td>\n",
       "      <td>1</td>\n",
       "      <td>0</td>\n",
       "      <td>No Holiday</td>\n",
       "      <td>Mesa West</td>\n",
       "      <td>5</td>\n",
       "      <td>1</td>\n",
       "      <td>1594968.28</td>\n",
       "      <td>1453329.50</td>\n",
       "      <td>0.0</td>\n",
       "      <td>0.0</td>\n",
       "      <td>0.0</td>\n",
       "      <td>0.0</td>\n",
       "      <td>0.000000e+00</td>\n",
       "      <td>0.0</td>\n",
       "      <td>0.0</td>\n",
       "      <td>0.0</td>\n",
       "      <td>-102550.14</td>\n",
       "      <td>0.00</td>\n",
       "      <td>4540715.92</td>\n",
       "      <td>1.601845e+06</td>\n",
       "      <td>0.0</td>\n",
       "      <td>0.0</td>\n",
       "      <td>0</td>\n",
       "    </tr>\n",
       "    <tr>\n",
       "      <th>3</th>\n",
       "      <td>1</td>\n",
       "      <td>2010-03-09</td>\n",
       "      <td>1540163.53</td>\n",
       "      <td>0</td>\n",
       "      <td>81.21</td>\n",
       "      <td>2.577</td>\n",
       "      <td>211.531248</td>\n",
       "      <td>7.787</td>\n",
       "      <td>2010</td>\n",
       "      <td>3</td>\n",
       "      <td>9</td>\n",
       "      <td>1</td>\n",
       "      <td>0</td>\n",
       "      <td>0</td>\n",
       "      <td>No Holiday</td>\n",
       "      <td>Mesa West</td>\n",
       "      <td>10</td>\n",
       "      <td>1</td>\n",
       "      <td>1492418.14</td>\n",
       "      <td>1594968.28</td>\n",
       "      <td>0.0</td>\n",
       "      <td>0.0</td>\n",
       "      <td>0.0</td>\n",
       "      <td>0.0</td>\n",
       "      <td>0.000000e+00</td>\n",
       "      <td>0.0</td>\n",
       "      <td>0.0</td>\n",
       "      <td>0.0</td>\n",
       "      <td>47745.39</td>\n",
       "      <td>0.00</td>\n",
       "      <td>6080879.45</td>\n",
       "      <td>1.601845e+06</td>\n",
       "      <td>0.0</td>\n",
       "      <td>0.0</td>\n",
       "      <td>0</td>\n",
       "    </tr>\n",
       "    <tr>\n",
       "      <th>4</th>\n",
       "      <td>1</td>\n",
       "      <td>2010-03-12</td>\n",
       "      <td>1548033.78</td>\n",
       "      <td>0</td>\n",
       "      <td>49.27</td>\n",
       "      <td>2.708</td>\n",
       "      <td>211.607193</td>\n",
       "      <td>7.838</td>\n",
       "      <td>2010</td>\n",
       "      <td>3</td>\n",
       "      <td>12</td>\n",
       "      <td>4</td>\n",
       "      <td>0</td>\n",
       "      <td>0</td>\n",
       "      <td>No Holiday</td>\n",
       "      <td>Mesa West</td>\n",
       "      <td>10</td>\n",
       "      <td>1</td>\n",
       "      <td>1540163.53</td>\n",
       "      <td>1492418.14</td>\n",
       "      <td>1453329.5</td>\n",
       "      <td>0.0</td>\n",
       "      <td>0.0</td>\n",
       "      <td>0.0</td>\n",
       "      <td>1.520220e+06</td>\n",
       "      <td>0.0</td>\n",
       "      <td>0.0</td>\n",
       "      <td>0.0</td>\n",
       "      <td>7870.25</td>\n",
       "      <td>94704.28</td>\n",
       "      <td>7628913.23</td>\n",
       "      <td>1.601845e+06</td>\n",
       "      <td>0.0</td>\n",
       "      <td>0.0</td>\n",
       "      <td>0</td>\n",
       "    </tr>\n",
       "  </tbody>\n",
       "</table>\n",
       "</div>"
      ],
      "text/plain": [
       "   store       date  weekly_sales  holiday_flag  temperature  fuel_price  \\\n",
       "0      1 2010-01-10    1453329.50             0        71.89       2.603   \n",
       "1      1 2010-02-04    1594968.28             0        62.27       2.719   \n",
       "2      1 2010-02-07    1492418.14             0        80.91       2.669   \n",
       "3      1 2010-03-09    1540163.53             0        81.21       2.577   \n",
       "4      1 2010-03-12    1548033.78             0        49.27       2.708   \n",
       "\n",
       "          cpi  unemployment  year  month  day  weekday  is_weekend  \\\n",
       "0  211.671989         7.838  2010      1   10        6           1   \n",
       "1  210.820450         7.808  2010      2    4        3           0   \n",
       "2  211.223533         7.787  2010      2    7        6           1   \n",
       "3  211.531248         7.787  2010      3    9        1           0   \n",
       "4  211.607193         7.838  2010      3   12        4           0   \n",
       "\n",
       "   is_holiday holiday_name store_name  week  quarter       lag_1       lag_2  \\\n",
       "0           0   No Holiday  Mesa West     1        1        0.00        0.00   \n",
       "1           0   No Holiday  Mesa West     5        1  1453329.50        0.00   \n",
       "2           0   No Holiday  Mesa West     5        1  1594968.28  1453329.50   \n",
       "3           0   No Holiday  Mesa West    10        1  1492418.14  1594968.28   \n",
       "4           0   No Holiday  Mesa West    10        1  1540163.53  1492418.14   \n",
       "\n",
       "       lag_4  lag_13  lag_26  lag_52  sales_roll_4  sales_roll_13  \\\n",
       "0        0.0     0.0     0.0     0.0  0.000000e+00            0.0   \n",
       "1        0.0     0.0     0.0     0.0  0.000000e+00            0.0   \n",
       "2        0.0     0.0     0.0     0.0  0.000000e+00            0.0   \n",
       "3        0.0     0.0     0.0     0.0  0.000000e+00            0.0   \n",
       "4  1453329.5     0.0     0.0     0.0  1.520220e+06            0.0   \n",
       "\n",
       "   sales_roll_26  sales_roll_52  sales_diff_1  sales_diff_4  cumulative_sales  \\\n",
       "0            0.0            0.0          0.00          0.00        1453329.50   \n",
       "1            0.0            0.0     141638.78          0.00        3048297.78   \n",
       "2            0.0            0.0    -102550.14          0.00        4540715.92   \n",
       "3            0.0            0.0      47745.39          0.00        6080879.45   \n",
       "4            0.0            0.0       7870.25      94704.28        7628913.23   \n",
       "\n",
       "   avg_sales_per_store  promo_last_week  promo_next_week  store_encoded  \n",
       "0         1.601845e+06              0.0              0.0              0  \n",
       "1         1.601845e+06              0.0              0.0              0  \n",
       "2         1.601845e+06              0.0              0.0              0  \n",
       "3         1.601845e+06              0.0              0.0              0  \n",
       "4         1.601845e+06              0.0              0.0              0  "
      ]
     },
     "execution_count": 3,
     "metadata": {},
     "output_type": "execute_result"
    }
   ],
   "source": [
    "# Preview top 5 rows\n",
    "df.head()\n"
   ]
  },
  {
   "cell_type": "code",
   "execution_count": null,
   "id": "c396d495",
   "metadata": {},
   "outputs": [
    {
     "data": {
      "text/html": [
       "<div>\n",
       "<style scoped>\n",
       "    .dataframe tbody tr th:only-of-type {\n",
       "        vertical-align: middle;\n",
       "    }\n",
       "\n",
       "    .dataframe tbody tr th {\n",
       "        vertical-align: top;\n",
       "    }\n",
       "\n",
       "    .dataframe thead th {\n",
       "        text-align: right;\n",
       "    }\n",
       "</style>\n",
       "<table border=\"1\" class=\"dataframe\">\n",
       "  <thead>\n",
       "    <tr style=\"text-align: right;\">\n",
       "      <th></th>\n",
       "      <th>Column</th>\n",
       "      <th>Unique Values</th>\n",
       "    </tr>\n",
       "  </thead>\n",
       "  <tbody>\n",
       "    <tr>\n",
       "      <th>0</th>\n",
       "      <td>store</td>\n",
       "      <td>45</td>\n",
       "    </tr>\n",
       "    <tr>\n",
       "      <th>1</th>\n",
       "      <td>is_holiday</td>\n",
       "      <td>2</td>\n",
       "    </tr>\n",
       "    <tr>\n",
       "      <th>2</th>\n",
       "      <td>month</td>\n",
       "      <td>12</td>\n",
       "    </tr>\n",
       "    <tr>\n",
       "      <th>3</th>\n",
       "      <td>weekday</td>\n",
       "      <td>7</td>\n",
       "    </tr>\n",
       "  </tbody>\n",
       "</table>\n",
       "</div>"
      ],
      "text/plain": [
       "       Column  Unique Values\n",
       "0       store             45\n",
       "1  is_holiday              2\n",
       "2       month             12\n",
       "3     weekday              7"
      ]
     },
     "metadata": {},
     "output_type": "display_data"
    }
   ],
   "source": [
    "# Check unique values for categorical/ID columns safely\n",
    "categorical_cols = ['store', 'is_holiday', 'month', 'weekday']\n",
    "\n",
    "unique_values = {}\n",
    "for col in categorical_cols:\n",
    "    if col in df.columns:\n",
    "        unique_values[col] = df[col].nunique()\n",
    "    else:\n",
    "        unique_values[col] = \" Column not found\"\n",
    "\n",
    "import pandas as pd\n",
    "unique_df = pd.DataFrame(list(unique_values.items()), columns=[\"Column\", \"Unique Values\"])\n",
    "display(unique_df)\n"
   ]
  },
  {
   "cell_type": "code",
   "execution_count": 5,
   "id": "1461c4bc",
   "metadata": {},
   "outputs": [
    {
     "name": "stdout",
     "output_type": "stream",
     "text": [
      " Duplicate Rows: 0\n"
     ]
    },
    {
     "data": {
      "text/html": [
       "<div>\n",
       "<style scoped>\n",
       "    .dataframe tbody tr th:only-of-type {\n",
       "        vertical-align: middle;\n",
       "    }\n",
       "\n",
       "    .dataframe tbody tr th {\n",
       "        vertical-align: top;\n",
       "    }\n",
       "\n",
       "    .dataframe thead th {\n",
       "        text-align: right;\n",
       "    }\n",
       "</style>\n",
       "<table border=\"1\" class=\"dataframe\">\n",
       "  <thead>\n",
       "    <tr style=\"text-align: right;\">\n",
       "      <th></th>\n",
       "      <th>Column</th>\n",
       "      <th>Data Type</th>\n",
       "      <th>Non-Null Count</th>\n",
       "      <th>Missing Values</th>\n",
       "      <th>Mean</th>\n",
       "      <th>Median</th>\n",
       "      <th>Std Dev</th>\n",
       "      <th>Skewness</th>\n",
       "      <th>Kurtosis</th>\n",
       "    </tr>\n",
       "  </thead>\n",
       "  <tbody>\n",
       "    <tr>\n",
       "      <th>store</th>\n",
       "      <td>store</td>\n",
       "      <td>int64</td>\n",
       "      <td>2565</td>\n",
       "      <td>0</td>\n",
       "      <td>23.00</td>\n",
       "      <td>23.00</td>\n",
       "      <td>12.99</td>\n",
       "      <td>0.000000</td>\n",
       "      <td>-1.201188</td>\n",
       "    </tr>\n",
       "    <tr>\n",
       "      <th>weekly_sales</th>\n",
       "      <td>weekly_sales</td>\n",
       "      <td>float64</td>\n",
       "      <td>2565</td>\n",
       "      <td>0</td>\n",
       "      <td>1059871.95</td>\n",
       "      <td>981345.20</td>\n",
       "      <td>557383.10</td>\n",
       "      <td>0.487995</td>\n",
       "      <td>-0.742206</td>\n",
       "    </tr>\n",
       "    <tr>\n",
       "      <th>holiday_flag</th>\n",
       "      <td>holiday_flag</td>\n",
       "      <td>int64</td>\n",
       "      <td>2565</td>\n",
       "      <td>0</td>\n",
       "      <td>0.11</td>\n",
       "      <td>0.00</td>\n",
       "      <td>0.31</td>\n",
       "      <td>2.573984</td>\n",
       "      <td>4.629004</td>\n",
       "    </tr>\n",
       "    <tr>\n",
       "      <th>temperature</th>\n",
       "      <td>temperature</td>\n",
       "      <td>float64</td>\n",
       "      <td>2565</td>\n",
       "      <td>0</td>\n",
       "      <td>59.59</td>\n",
       "      <td>61.10</td>\n",
       "      <td>19.07</td>\n",
       "      <td>-0.260733</td>\n",
       "      <td>-0.732725</td>\n",
       "    </tr>\n",
       "    <tr>\n",
       "      <th>fuel_price</th>\n",
       "      <td>fuel_price</td>\n",
       "      <td>float64</td>\n",
       "      <td>2565</td>\n",
       "      <td>0</td>\n",
       "      <td>3.33</td>\n",
       "      <td>3.42</td>\n",
       "      <td>0.46</td>\n",
       "      <td>-0.071055</td>\n",
       "      <td>-1.204003</td>\n",
       "    </tr>\n",
       "    <tr>\n",
       "      <th>cpi</th>\n",
       "      <td>cpi</td>\n",
       "      <td>float64</td>\n",
       "      <td>2565</td>\n",
       "      <td>0</td>\n",
       "      <td>171.39</td>\n",
       "      <td>182.60</td>\n",
       "      <td>39.29</td>\n",
       "      <td>0.063058</td>\n",
       "      <td>-1.841544</td>\n",
       "    </tr>\n",
       "    <tr>\n",
       "      <th>unemployment</th>\n",
       "      <td>unemployment</td>\n",
       "      <td>float64</td>\n",
       "      <td>2565</td>\n",
       "      <td>0</td>\n",
       "      <td>8.02</td>\n",
       "      <td>7.91</td>\n",
       "      <td>1.88</td>\n",
       "      <td>1.202300</td>\n",
       "      <td>2.667348</td>\n",
       "    </tr>\n",
       "    <tr>\n",
       "      <th>year</th>\n",
       "      <td>year</td>\n",
       "      <td>int64</td>\n",
       "      <td>2565</td>\n",
       "      <td>0</td>\n",
       "      <td>2010.93</td>\n",
       "      <td>2011.00</td>\n",
       "      <td>0.79</td>\n",
       "      <td>0.125252</td>\n",
       "      <td>-1.394888</td>\n",
       "    </tr>\n",
       "    <tr>\n",
       "      <th>month</th>\n",
       "      <td>month</td>\n",
       "      <td>int64</td>\n",
       "      <td>2565</td>\n",
       "      <td>0</td>\n",
       "      <td>6.56</td>\n",
       "      <td>6.00</td>\n",
       "      <td>3.46</td>\n",
       "      <td>0.015787</td>\n",
       "      <td>-1.254100</td>\n",
       "    </tr>\n",
       "    <tr>\n",
       "      <th>day</th>\n",
       "      <td>day</td>\n",
       "      <td>int64</td>\n",
       "      <td>2565</td>\n",
       "      <td>0</td>\n",
       "      <td>6.49</td>\n",
       "      <td>6.00</td>\n",
       "      <td>3.26</td>\n",
       "      <td>0.064478</td>\n",
       "      <td>-1.176090</td>\n",
       "    </tr>\n",
       "    <tr>\n",
       "      <th>weekday</th>\n",
       "      <td>weekday</td>\n",
       "      <td>int64</td>\n",
       "      <td>2565</td>\n",
       "      <td>0</td>\n",
       "      <td>2.93</td>\n",
       "      <td>3.00</td>\n",
       "      <td>2.10</td>\n",
       "      <td>-0.032131</td>\n",
       "      <td>-1.327207</td>\n",
       "    </tr>\n",
       "    <tr>\n",
       "      <th>is_weekend</th>\n",
       "      <td>is_weekend</td>\n",
       "      <td>int64</td>\n",
       "      <td>2565</td>\n",
       "      <td>0</td>\n",
       "      <td>0.26</td>\n",
       "      <td>0.00</td>\n",
       "      <td>0.44</td>\n",
       "      <td>1.076335</td>\n",
       "      <td>-0.842160</td>\n",
       "    </tr>\n",
       "    <tr>\n",
       "      <th>is_holiday</th>\n",
       "      <td>is_holiday</td>\n",
       "      <td>int64</td>\n",
       "      <td>2565</td>\n",
       "      <td>0</td>\n",
       "      <td>0.07</td>\n",
       "      <td>0.00</td>\n",
       "      <td>0.26</td>\n",
       "      <td>3.367303</td>\n",
       "      <td>9.346018</td>\n",
       "    </tr>\n",
       "    <tr>\n",
       "      <th>week</th>\n",
       "      <td>week</td>\n",
       "      <td>int64</td>\n",
       "      <td>2565</td>\n",
       "      <td>0</td>\n",
       "      <td>25.16</td>\n",
       "      <td>23.00</td>\n",
       "      <td>15.11</td>\n",
       "      <td>0.020710</td>\n",
       "      <td>-1.271869</td>\n",
       "    </tr>\n",
       "    <tr>\n",
       "      <th>quarter</th>\n",
       "      <td>quarter</td>\n",
       "      <td>int64</td>\n",
       "      <td>2565</td>\n",
       "      <td>0</td>\n",
       "      <td>2.51</td>\n",
       "      <td>2.00</td>\n",
       "      <td>1.13</td>\n",
       "      <td>0.015055</td>\n",
       "      <td>-1.378769</td>\n",
       "    </tr>\n",
       "    <tr>\n",
       "      <th>lag_1</th>\n",
       "      <td>lag_1</td>\n",
       "      <td>float64</td>\n",
       "      <td>2565</td>\n",
       "      <td>0</td>\n",
       "      <td>1041888.13</td>\n",
       "      <td>970328.68</td>\n",
       "      <td>570279.69</td>\n",
       "      <td>0.434440</td>\n",
       "      <td>-0.707295</td>\n",
       "    </tr>\n",
       "    <tr>\n",
       "      <th>lag_2</th>\n",
       "      <td>lag_2</td>\n",
       "      <td>float64</td>\n",
       "      <td>2565</td>\n",
       "      <td>0</td>\n",
       "      <td>1023593.44</td>\n",
       "      <td>958225.41</td>\n",
       "      <td>582094.73</td>\n",
       "      <td>0.395511</td>\n",
       "      <td>-0.691949</td>\n",
       "    </tr>\n",
       "    <tr>\n",
       "      <th>lag_4</th>\n",
       "      <td>lag_4</td>\n",
       "      <td>float64</td>\n",
       "      <td>2565</td>\n",
       "      <td>0</td>\n",
       "      <td>985615.71</td>\n",
       "      <td>939367.14</td>\n",
       "      <td>602140.69</td>\n",
       "      <td>0.349916</td>\n",
       "      <td>-0.699078</td>\n",
       "    </tr>\n",
       "    <tr>\n",
       "      <th>lag_13</th>\n",
       "      <td>lag_13</td>\n",
       "      <td>float64</td>\n",
       "      <td>2565</td>\n",
       "      <td>0</td>\n",
       "      <td>815109.21</td>\n",
       "      <td>712425.76</td>\n",
       "      <td>660120.60</td>\n",
       "      <td>0.439049</td>\n",
       "      <td>-0.791735</td>\n",
       "    </tr>\n",
       "    <tr>\n",
       "      <th>lag_26</th>\n",
       "      <td>lag_26</td>\n",
       "      <td>float64</td>\n",
       "      <td>2565</td>\n",
       "      <td>0</td>\n",
       "      <td>573835.09</td>\n",
       "      <td>360266.09</td>\n",
       "      <td>666905.25</td>\n",
       "      <td>0.891178</td>\n",
       "      <td>-0.361646</td>\n",
       "    </tr>\n",
       "    <tr>\n",
       "      <th>lag_52</th>\n",
       "      <td>lag_52</td>\n",
       "      <td>float64</td>\n",
       "      <td>2565</td>\n",
       "      <td>0</td>\n",
       "      <td>93054.38</td>\n",
       "      <td>0.00</td>\n",
       "      <td>343412.47</td>\n",
       "      <td>4.142229</td>\n",
       "      <td>17.536228</td>\n",
       "    </tr>\n",
       "    <tr>\n",
       "      <th>sales_roll_4</th>\n",
       "      <td>sales_roll_4</td>\n",
       "      <td>float64</td>\n",
       "      <td>2565</td>\n",
       "      <td>0</td>\n",
       "      <td>987104.63</td>\n",
       "      <td>957879.73</td>\n",
       "      <td>597807.69</td>\n",
       "      <td>0.308284</td>\n",
       "      <td>-0.793852</td>\n",
       "    </tr>\n",
       "    <tr>\n",
       "      <th>sales_roll_13</th>\n",
       "      <td>sales_roll_13</td>\n",
       "      <td>float64</td>\n",
       "      <td>2565</td>\n",
       "      <td>0</td>\n",
       "      <td>816500.75</td>\n",
       "      <td>708266.11</td>\n",
       "      <td>655148.19</td>\n",
       "      <td>0.390629</td>\n",
       "      <td>-0.908533</td>\n",
       "    </tr>\n",
       "    <tr>\n",
       "      <th>sales_roll_26</th>\n",
       "      <td>sales_roll_26</td>\n",
       "      <td>float64</td>\n",
       "      <td>2565</td>\n",
       "      <td>0</td>\n",
       "      <td>574102.92</td>\n",
       "      <td>378598.09</td>\n",
       "      <td>662632.64</td>\n",
       "      <td>0.850786</td>\n",
       "      <td>-0.508472</td>\n",
       "    </tr>\n",
       "    <tr>\n",
       "      <th>sales_roll_52</th>\n",
       "      <td>sales_roll_52</td>\n",
       "      <td>float64</td>\n",
       "      <td>2565</td>\n",
       "      <td>0</td>\n",
       "      <td>93113.97</td>\n",
       "      <td>0.00</td>\n",
       "      <td>341543.17</td>\n",
       "      <td>4.067831</td>\n",
       "      <td>16.623546</td>\n",
       "    </tr>\n",
       "    <tr>\n",
       "      <th>sales_diff_1</th>\n",
       "      <td>sales_diff_1</td>\n",
       "      <td>float64</td>\n",
       "      <td>2565</td>\n",
       "      <td>0</td>\n",
       "      <td>1516.04</td>\n",
       "      <td>-1136.58</td>\n",
       "      <td>130554.32</td>\n",
       "      <td>0.537988</td>\n",
       "      <td>4.805007</td>\n",
       "    </tr>\n",
       "    <tr>\n",
       "      <th>sales_diff_4</th>\n",
       "      <td>sales_diff_4</td>\n",
       "      <td>float64</td>\n",
       "      <td>2565</td>\n",
       "      <td>0</td>\n",
       "      <td>659.57</td>\n",
       "      <td>0.00</td>\n",
       "      <td>132268.19</td>\n",
       "      <td>0.287719</td>\n",
       "      <td>3.624379</td>\n",
       "    </tr>\n",
       "    <tr>\n",
       "      <th>cumulative_sales</th>\n",
       "      <td>cumulative_sales</td>\n",
       "      <td>float64</td>\n",
       "      <td>2565</td>\n",
       "      <td>0</td>\n",
       "      <td>30699721.24</td>\n",
       "      <td>23455828.34</td>\n",
       "      <td>25243901.12</td>\n",
       "      <td>1.141107</td>\n",
       "      <td>0.823779</td>\n",
       "    </tr>\n",
       "    <tr>\n",
       "      <th>avg_sales_per_store</th>\n",
       "      <td>avg_sales_per_store</td>\n",
       "      <td>float64</td>\n",
       "      <td>2565</td>\n",
       "      <td>0</td>\n",
       "      <td>1059871.95</td>\n",
       "      <td>1004469.46</td>\n",
       "      <td>548015.57</td>\n",
       "      <td>0.424673</td>\n",
       "      <td>-0.921266</td>\n",
       "    </tr>\n",
       "    <tr>\n",
       "      <th>promo_last_week</th>\n",
       "      <td>promo_last_week</td>\n",
       "      <td>float64</td>\n",
       "      <td>2565</td>\n",
       "      <td>0</td>\n",
       "      <td>0.07</td>\n",
       "      <td>0.00</td>\n",
       "      <td>0.26</td>\n",
       "      <td>3.367303</td>\n",
       "      <td>9.346018</td>\n",
       "    </tr>\n",
       "    <tr>\n",
       "      <th>promo_next_week</th>\n",
       "      <td>promo_next_week</td>\n",
       "      <td>float64</td>\n",
       "      <td>2565</td>\n",
       "      <td>0</td>\n",
       "      <td>0.07</td>\n",
       "      <td>0.00</td>\n",
       "      <td>0.26</td>\n",
       "      <td>3.367303</td>\n",
       "      <td>9.346018</td>\n",
       "    </tr>\n",
       "    <tr>\n",
       "      <th>store_encoded</th>\n",
       "      <td>store_encoded</td>\n",
       "      <td>int64</td>\n",
       "      <td>2565</td>\n",
       "      <td>0</td>\n",
       "      <td>22.00</td>\n",
       "      <td>22.00</td>\n",
       "      <td>12.99</td>\n",
       "      <td>0.000000</td>\n",
       "      <td>-1.201188</td>\n",
       "    </tr>\n",
       "  </tbody>\n",
       "</table>\n",
       "</div>"
      ],
      "text/plain": [
       "                                  Column Data Type  Non-Null Count  \\\n",
       "store                              store     int64            2565   \n",
       "weekly_sales                weekly_sales   float64            2565   \n",
       "holiday_flag                holiday_flag     int64            2565   \n",
       "temperature                  temperature   float64            2565   \n",
       "fuel_price                    fuel_price   float64            2565   \n",
       "cpi                                  cpi   float64            2565   \n",
       "unemployment                unemployment   float64            2565   \n",
       "year                                year     int64            2565   \n",
       "month                              month     int64            2565   \n",
       "day                                  day     int64            2565   \n",
       "weekday                          weekday     int64            2565   \n",
       "is_weekend                    is_weekend     int64            2565   \n",
       "is_holiday                    is_holiday     int64            2565   \n",
       "week                                week     int64            2565   \n",
       "quarter                          quarter     int64            2565   \n",
       "lag_1                              lag_1   float64            2565   \n",
       "lag_2                              lag_2   float64            2565   \n",
       "lag_4                              lag_4   float64            2565   \n",
       "lag_13                            lag_13   float64            2565   \n",
       "lag_26                            lag_26   float64            2565   \n",
       "lag_52                            lag_52   float64            2565   \n",
       "sales_roll_4                sales_roll_4   float64            2565   \n",
       "sales_roll_13              sales_roll_13   float64            2565   \n",
       "sales_roll_26              sales_roll_26   float64            2565   \n",
       "sales_roll_52              sales_roll_52   float64            2565   \n",
       "sales_diff_1                sales_diff_1   float64            2565   \n",
       "sales_diff_4                sales_diff_4   float64            2565   \n",
       "cumulative_sales        cumulative_sales   float64            2565   \n",
       "avg_sales_per_store  avg_sales_per_store   float64            2565   \n",
       "promo_last_week          promo_last_week   float64            2565   \n",
       "promo_next_week          promo_next_week   float64            2565   \n",
       "store_encoded              store_encoded     int64            2565   \n",
       "\n",
       "                     Missing Values         Mean       Median      Std Dev  \\\n",
       "store                             0        23.00        23.00        12.99   \n",
       "weekly_sales                      0   1059871.95    981345.20    557383.10   \n",
       "holiday_flag                      0         0.11         0.00         0.31   \n",
       "temperature                       0        59.59        61.10        19.07   \n",
       "fuel_price                        0         3.33         3.42         0.46   \n",
       "cpi                               0       171.39       182.60        39.29   \n",
       "unemployment                      0         8.02         7.91         1.88   \n",
       "year                              0      2010.93      2011.00         0.79   \n",
       "month                             0         6.56         6.00         3.46   \n",
       "day                               0         6.49         6.00         3.26   \n",
       "weekday                           0         2.93         3.00         2.10   \n",
       "is_weekend                        0         0.26         0.00         0.44   \n",
       "is_holiday                        0         0.07         0.00         0.26   \n",
       "week                              0        25.16        23.00        15.11   \n",
       "quarter                           0         2.51         2.00         1.13   \n",
       "lag_1                             0   1041888.13    970328.68    570279.69   \n",
       "lag_2                             0   1023593.44    958225.41    582094.73   \n",
       "lag_4                             0    985615.71    939367.14    602140.69   \n",
       "lag_13                            0    815109.21    712425.76    660120.60   \n",
       "lag_26                            0    573835.09    360266.09    666905.25   \n",
       "lag_52                            0     93054.38         0.00    343412.47   \n",
       "sales_roll_4                      0    987104.63    957879.73    597807.69   \n",
       "sales_roll_13                     0    816500.75    708266.11    655148.19   \n",
       "sales_roll_26                     0    574102.92    378598.09    662632.64   \n",
       "sales_roll_52                     0     93113.97         0.00    341543.17   \n",
       "sales_diff_1                      0      1516.04     -1136.58    130554.32   \n",
       "sales_diff_4                      0       659.57         0.00    132268.19   \n",
       "cumulative_sales                  0  30699721.24  23455828.34  25243901.12   \n",
       "avg_sales_per_store               0   1059871.95   1004469.46    548015.57   \n",
       "promo_last_week                   0         0.07         0.00         0.26   \n",
       "promo_next_week                   0         0.07         0.00         0.26   \n",
       "store_encoded                     0        22.00        22.00        12.99   \n",
       "\n",
       "                     Skewness   Kurtosis  \n",
       "store                0.000000  -1.201188  \n",
       "weekly_sales         0.487995  -0.742206  \n",
       "holiday_flag         2.573984   4.629004  \n",
       "temperature         -0.260733  -0.732725  \n",
       "fuel_price          -0.071055  -1.204003  \n",
       "cpi                  0.063058  -1.841544  \n",
       "unemployment         1.202300   2.667348  \n",
       "year                 0.125252  -1.394888  \n",
       "month                0.015787  -1.254100  \n",
       "day                  0.064478  -1.176090  \n",
       "weekday             -0.032131  -1.327207  \n",
       "is_weekend           1.076335  -0.842160  \n",
       "is_holiday           3.367303   9.346018  \n",
       "week                 0.020710  -1.271869  \n",
       "quarter              0.015055  -1.378769  \n",
       "lag_1                0.434440  -0.707295  \n",
       "lag_2                0.395511  -0.691949  \n",
       "lag_4                0.349916  -0.699078  \n",
       "lag_13               0.439049  -0.791735  \n",
       "lag_26               0.891178  -0.361646  \n",
       "lag_52               4.142229  17.536228  \n",
       "sales_roll_4         0.308284  -0.793852  \n",
       "sales_roll_13        0.390629  -0.908533  \n",
       "sales_roll_26        0.850786  -0.508472  \n",
       "sales_roll_52        4.067831  16.623546  \n",
       "sales_diff_1         0.537988   4.805007  \n",
       "sales_diff_4         0.287719   3.624379  \n",
       "cumulative_sales     1.141107   0.823779  \n",
       "avg_sales_per_store  0.424673  -0.921266  \n",
       "promo_last_week      3.367303   9.346018  \n",
       "promo_next_week      3.367303   9.346018  \n",
       "store_encoded        0.000000  -1.201188  "
      ]
     },
     "metadata": {},
     "output_type": "display_data"
    },
    {
     "name": "stdout",
     "output_type": "stream",
     "text": [
      " Dataset Shape\n"
     ]
    },
    {
     "data": {
      "text/html": [
       "<div>\n",
       "<style scoped>\n",
       "    .dataframe tbody tr th:only-of-type {\n",
       "        vertical-align: middle;\n",
       "    }\n",
       "\n",
       "    .dataframe tbody tr th {\n",
       "        vertical-align: top;\n",
       "    }\n",
       "\n",
       "    .dataframe thead th {\n",
       "        text-align: right;\n",
       "    }\n",
       "</style>\n",
       "<table border=\"1\" class=\"dataframe\">\n",
       "  <thead>\n",
       "    <tr style=\"text-align: right;\">\n",
       "      <th></th>\n",
       "      <th>Rows</th>\n",
       "      <th>Columns</th>\n",
       "    </tr>\n",
       "  </thead>\n",
       "  <tbody>\n",
       "    <tr>\n",
       "      <th>Dataset Shape</th>\n",
       "      <td>2565</td>\n",
       "      <td>35</td>\n",
       "    </tr>\n",
       "  </tbody>\n",
       "</table>\n",
       "</div>"
      ],
      "text/plain": [
       "               Rows  Columns\n",
       "Dataset Shape  2565       35"
      ]
     },
     "metadata": {},
     "output_type": "display_data"
    }
   ],
   "source": [
    "# Summary\n",
    "\n",
    "\n",
    "# Count \n",
    "non_nulls = df.count()\n",
    "\n",
    "# Missing Values\n",
    "missing_counts = df.isnull().sum()\n",
    "\n",
    "# Duplicate Rows\n",
    "duplicate_rows = df.duplicated().sum()\n",
    "\n",
    "# Stats\n",
    "num_cols = df.select_dtypes(include='number').columns\n",
    "means = df[num_cols].mean()\n",
    "medians = df[num_cols].median()\n",
    "stds = df[num_cols].std()\n",
    "dtypes = df[num_cols].dtypes\n",
    "\n",
    "# Table\n",
    "summary_df = pd.DataFrame({\n",
    "    'Column': num_cols,\n",
    "    'Data Type': dtypes.values,\n",
    "    'Non-Null Count': non_nulls[num_cols].values,\n",
    "    'Missing Values': missing_counts[num_cols].values,\n",
    "    'Mean': means.round(2).values,\n",
    "    'Median': medians.round(2).values,\n",
    "    'Std Dev': stds.round(2).values,\n",
    "     'Skewness': df[num_cols].skew(),\n",
    "    'Kurtosis': df[num_cols].kurtosis()\n",
    "})\n",
    "\n",
    "\n",
    "# Display\n",
    "print(f\" Duplicate Rows: {duplicate_rows}\")\n",
    "display(summary_df)\n",
    "\n",
    "# Dataset Shape\n",
    "shape_data = {\n",
    "    \"Rows\": [df.shape[0]],\n",
    "    \"Columns\": [df.shape[1]]\n",
    "}\n",
    "shape_df = pd.DataFrame(shape_data, index=[\"Dataset Shape\"])\n",
    "print(\" Dataset Shape\")\n",
    "display(shape_df)"
   ]
  },
  {
   "cell_type": "code",
   "execution_count": 6,
   "id": "fd8ef4ad",
   "metadata": {},
   "outputs": [
    {
     "data": {
      "text/html": [
       "<div>\n",
       "<style scoped>\n",
       "    .dataframe tbody tr th:only-of-type {\n",
       "        vertical-align: middle;\n",
       "    }\n",
       "\n",
       "    .dataframe tbody tr th {\n",
       "        vertical-align: top;\n",
       "    }\n",
       "\n",
       "    .dataframe thead th {\n",
       "        text-align: right;\n",
       "    }\n",
       "</style>\n",
       "<table border=\"1\" class=\"dataframe\">\n",
       "  <thead>\n",
       "    <tr style=\"text-align: right;\">\n",
       "      <th></th>\n",
       "      <th>store_name</th>\n",
       "      <th>Mean</th>\n",
       "      <th>Median</th>\n",
       "      <th>Std_Dev</th>\n",
       "      <th>Min</th>\n",
       "      <th>Max</th>\n",
       "    </tr>\n",
       "  </thead>\n",
       "  <tbody>\n",
       "    <tr>\n",
       "      <th>0</th>\n",
       "      <td>Albuquerque South</td>\n",
       "      <td>379781.83</td>\n",
       "      <td>380188.69</td>\n",
       "      <td>60419.48</td>\n",
       "      <td>277137.86</td>\n",
       "      <td>489372.02</td>\n",
       "    </tr>\n",
       "    <tr>\n",
       "      <th>1</th>\n",
       "      <td>Atlanta Downtown</td>\n",
       "      <td>1588921.57</td>\n",
       "      <td>1569304.40</td>\n",
       "      <td>131430.55</td>\n",
       "      <td>1328468.89</td>\n",
       "      <td>1903385.14</td>\n",
       "    </tr>\n",
       "    <tr>\n",
       "      <th>2</th>\n",
       "      <td>Austin East</td>\n",
       "      <td>923150.81</td>\n",
       "      <td>921161.20</td>\n",
       "      <td>54147.02</td>\n",
       "      <td>804105.49</td>\n",
       "      <td>1069061.63</td>\n",
       "    </tr>\n",
       "    <tr>\n",
       "      <th>3</th>\n",
       "      <td>Baltimore Central</td>\n",
       "      <td>1468691.88</td>\n",
       "      <td>1462731.93</td>\n",
       "      <td>107915.82</td>\n",
       "      <td>1224175.99</td>\n",
       "      <td>1799070.98</td>\n",
       "    </tr>\n",
       "    <tr>\n",
       "      <th>4</th>\n",
       "      <td>Charlotte East</td>\n",
       "      <td>523923.46</td>\n",
       "      <td>524483.65</td>\n",
       "      <td>20118.58</td>\n",
       "      <td>479195.02</td>\n",
       "      <td>583835.18</td>\n",
       "    </tr>\n",
       "    <tr>\n",
       "      <th>5</th>\n",
       "      <td>Charlotte Metro</td>\n",
       "      <td>965963.38</td>\n",
       "      <td>964356.74</td>\n",
       "      <td>44032.12</td>\n",
       "      <td>865709.11</td>\n",
       "      <td>1091020.37</td>\n",
       "    </tr>\n",
       "    <tr>\n",
       "      <th>6</th>\n",
       "      <td>Charlotte South</td>\n",
       "      <td>2075189.47</td>\n",
       "      <td>2078417.47</td>\n",
       "      <td>224425.65</td>\n",
       "      <td>1639585.61</td>\n",
       "      <td>2623469.95</td>\n",
       "    </tr>\n",
       "    <tr>\n",
       "      <th>7</th>\n",
       "      <td>Columbus Uptown</td>\n",
       "      <td>1998168.43</td>\n",
       "      <td>1995994.51</td>\n",
       "      <td>139551.51</td>\n",
       "      <td>1744544.39</td>\n",
       "      <td>2462779.06</td>\n",
       "    </tr>\n",
       "    <tr>\n",
       "      <th>8</th>\n",
       "      <td>Dallas Downtown</td>\n",
       "      <td>1017965.71</td>\n",
       "      <td>1011822.30</td>\n",
       "      <td>74937.88</td>\n",
       "      <td>850936.26</td>\n",
       "      <td>1199330.85</td>\n",
       "    </tr>\n",
       "    <tr>\n",
       "      <th>9</th>\n",
       "      <td>Denver North</td>\n",
       "      <td>267338.97</td>\n",
       "      <td>270373.05</td>\n",
       "      <td>25277.79</td>\n",
       "      <td>209986.25</td>\n",
       "      <td>326870.13</td>\n",
       "    </tr>\n",
       "    <tr>\n",
       "      <th>10</th>\n",
       "      <td>Detroit West</td>\n",
       "      <td>2169370.45</td>\n",
       "      <td>2143126.59</td>\n",
       "      <td>167719.24</td>\n",
       "      <td>1843030.95</td>\n",
       "      <td>2752122.08</td>\n",
       "    </tr>\n",
       "    <tr>\n",
       "      <th>11</th>\n",
       "      <td>Houston West</td>\n",
       "      <td>404411.49</td>\n",
       "      <td>396826.06</td>\n",
       "      <td>45779.31</td>\n",
       "      <td>336227.69</td>\n",
       "      <td>499267.66</td>\n",
       "    </tr>\n",
       "    <tr>\n",
       "      <th>12</th>\n",
       "      <td>Indianapolis Downtown</td>\n",
       "      <td>552418.23</td>\n",
       "      <td>545251.10</td>\n",
       "      <td>40301.90</td>\n",
       "      <td>484835.20</td>\n",
       "      <td>677885.99</td>\n",
       "    </tr>\n",
       "    <tr>\n",
       "      <th>13</th>\n",
       "      <td>Indianapolis Suburb</td>\n",
       "      <td>584655.29</td>\n",
       "      <td>588448.21</td>\n",
       "      <td>44519.81</td>\n",
       "      <td>481523.93</td>\n",
       "      <td>674919.45</td>\n",
       "    </tr>\n",
       "    <tr>\n",
       "      <th>14</th>\n",
       "      <td>Indianapolis West</td>\n",
       "      <td>900831.83</td>\n",
       "      <td>876902.87</td>\n",
       "      <td>108633.44</td>\n",
       "      <td>763961.82</td>\n",
       "      <td>1255633.29</td>\n",
       "    </tr>\n",
       "    <tr>\n",
       "      <th>15</th>\n",
       "      <td>Kansas City Uptown</td>\n",
       "      <td>1435258.35</td>\n",
       "      <td>1431910.98</td>\n",
       "      <td>139820.50</td>\n",
       "      <td>1219583.91</td>\n",
       "      <td>1781528.77</td>\n",
       "    </tr>\n",
       "    <tr>\n",
       "      <th>16</th>\n",
       "      <td>Las Vegas Metro</td>\n",
       "      <td>2088557.17</td>\n",
       "      <td>2102530.17</td>\n",
       "      <td>153324.59</td>\n",
       "      <td>1812208.22</td>\n",
       "      <td>2508955.24</td>\n",
       "    </tr>\n",
       "    <tr>\n",
       "      <th>17</th>\n",
       "      <td>Las Vegas West</td>\n",
       "      <td>1037306.55</td>\n",
       "      <td>1037549.71</td>\n",
       "      <td>69717.79</td>\n",
       "      <td>849231.61</td>\n",
       "      <td>1180470.80</td>\n",
       "    </tr>\n",
       "    <tr>\n",
       "      <th>18</th>\n",
       "      <td>Long Beach East</td>\n",
       "      <td>1372474.36</td>\n",
       "      <td>1361595.33</td>\n",
       "      <td>97161.33</td>\n",
       "      <td>1178905.44</td>\n",
       "      <td>1646655.94</td>\n",
       "    </tr>\n",
       "    <tr>\n",
       "      <th>19</th>\n",
       "      <td>Long Beach Uptown</td>\n",
       "      <td>622874.39</td>\n",
       "      <td>615121.78</td>\n",
       "      <td>64852.27</td>\n",
       "      <td>509640.77</td>\n",
       "      <td>847294.04</td>\n",
       "    </tr>\n",
       "    <tr>\n",
       "      <th>20</th>\n",
       "      <td>Los Angeles North</td>\n",
       "      <td>643528.52</td>\n",
       "      <td>643041.71</td>\n",
       "      <td>35475.33</td>\n",
       "      <td>557543.62</td>\n",
       "      <td>722120.04</td>\n",
       "    </tr>\n",
       "    <tr>\n",
       "      <th>21</th>\n",
       "      <td>Los Angeles West</td>\n",
       "      <td>1905260.18</td>\n",
       "      <td>1870720.73</td>\n",
       "      <td>178732.21</td>\n",
       "      <td>1645892.97</td>\n",
       "      <td>2429310.90</td>\n",
       "    </tr>\n",
       "    <tr>\n",
       "      <th>22</th>\n",
       "      <td>Louisville Central</td>\n",
       "      <td>1395030.30</td>\n",
       "      <td>1403460.87</td>\n",
       "      <td>115916.47</td>\n",
       "      <td>1163803.30</td>\n",
       "      <td>1665502.55</td>\n",
       "    </tr>\n",
       "    <tr>\n",
       "      <th>23</th>\n",
       "      <td>Memphis Industrial</td>\n",
       "      <td>1392810.17</td>\n",
       "      <td>1408082.96</td>\n",
       "      <td>157337.34</td>\n",
       "      <td>1042043.55</td>\n",
       "      <td>1872365.99</td>\n",
       "    </tr>\n",
       "    <tr>\n",
       "      <th>24</th>\n",
       "      <td>Mesa West</td>\n",
       "      <td>1601845.14</td>\n",
       "      <td>1603955.12</td>\n",
       "      <td>89168.47</td>\n",
       "      <td>1439541.59</td>\n",
       "      <td>1899676.88</td>\n",
       "    </tr>\n",
       "    <tr>\n",
       "      <th>25</th>\n",
       "      <td>Miami East</td>\n",
       "      <td>567398.76</td>\n",
       "      <td>558963.83</td>\n",
       "      <td>83806.43</td>\n",
       "      <td>395453.83</td>\n",
       "      <td>805642.61</td>\n",
       "    </tr>\n",
       "    <tr>\n",
       "      <th>26</th>\n",
       "      <td>Miami Metro</td>\n",
       "      <td>785843.71</td>\n",
       "      <td>770487.37</td>\n",
       "      <td>65241.38</td>\n",
       "      <td>656988.64</td>\n",
       "      <td>1002364.34</td>\n",
       "    </tr>\n",
       "    <tr>\n",
       "      <th>27</th>\n",
       "      <td>Milwaukee Suburb</td>\n",
       "      <td>413140.20</td>\n",
       "      <td>409981.25</td>\n",
       "      <td>35491.94</td>\n",
       "      <td>349214.18</td>\n",
       "      <td>503232.13</td>\n",
       "    </tr>\n",
       "    <tr>\n",
       "      <th>28</th>\n",
       "      <td>Milwaukee West</td>\n",
       "      <td>925258.80</td>\n",
       "      <td>873415.01</td>\n",
       "      <td>165835.46</td>\n",
       "      <td>649289.75</td>\n",
       "      <td>1282378.71</td>\n",
       "    </tr>\n",
       "    <tr>\n",
       "      <th>29</th>\n",
       "      <td>Minneapolis North</td>\n",
       "      <td>302548.91</td>\n",
       "      <td>298080.45</td>\n",
       "      <td>22276.67</td>\n",
       "      <td>257361.30</td>\n",
       "      <td>358461.58</td>\n",
       "    </tr>\n",
       "    <tr>\n",
       "      <th>30</th>\n",
       "      <td>Nashville Uptown</td>\n",
       "      <td>1004469.46</td>\n",
       "      <td>1000582.06</td>\n",
       "      <td>72189.19</td>\n",
       "      <td>841889.08</td>\n",
       "      <td>1182901.56</td>\n",
       "    </tr>\n",
       "    <tr>\n",
       "      <th>31</th>\n",
       "      <td>New York Industrial</td>\n",
       "      <td>1951954.53</td>\n",
       "      <td>1933756.21</td>\n",
       "      <td>122384.04</td>\n",
       "      <td>1748000.65</td>\n",
       "      <td>2378726.55</td>\n",
       "    </tr>\n",
       "    <tr>\n",
       "      <th>32</th>\n",
       "      <td>Oakland North</td>\n",
       "      <td>1399383.00</td>\n",
       "      <td>1392938.06</td>\n",
       "      <td>64287.15</td>\n",
       "      <td>1213981.64</td>\n",
       "      <td>1556798.94</td>\n",
       "    </tr>\n",
       "    <tr>\n",
       "      <th>33</th>\n",
       "      <td>Oakland South</td>\n",
       "      <td>441263.86</td>\n",
       "      <td>438789.52</td>\n",
       "      <td>23396.84</td>\n",
       "      <td>369722.32</td>\n",
       "      <td>497374.57</td>\n",
       "    </tr>\n",
       "    <tr>\n",
       "      <th>34</th>\n",
       "      <td>Omaha Metro</td>\n",
       "      <td>540458.58</td>\n",
       "      <td>531600.62</td>\n",
       "      <td>48816.20</td>\n",
       "      <td>455952.18</td>\n",
       "      <td>713834.74</td>\n",
       "    </tr>\n",
       "    <tr>\n",
       "      <th>35</th>\n",
       "      <td>Omaha Suburb</td>\n",
       "      <td>1434570.29</td>\n",
       "      <td>1447916.29</td>\n",
       "      <td>121327.39</td>\n",
       "      <td>1203080.41</td>\n",
       "      <td>1723736.91</td>\n",
       "    </tr>\n",
       "    <tr>\n",
       "      <th>36</th>\n",
       "      <td>Portland Industrial</td>\n",
       "      <td>1036432.11</td>\n",
       "      <td>1010326.14</td>\n",
       "      <td>93035.00</td>\n",
       "      <td>873954.70</td>\n",
       "      <td>1367202.84</td>\n",
       "    </tr>\n",
       "    <tr>\n",
       "      <th>37</th>\n",
       "      <td>Raleigh Uptown</td>\n",
       "      <td>1266985.71</td>\n",
       "      <td>1244956.91</td>\n",
       "      <td>119210.16</td>\n",
       "      <td>1023997.71</td>\n",
       "      <td>1548661.45</td>\n",
       "    </tr>\n",
       "    <tr>\n",
       "      <th>38</th>\n",
       "      <td>Sacramento North</td>\n",
       "      <td>324442.29</td>\n",
       "      <td>323798.00</td>\n",
       "      <td>24701.81</td>\n",
       "      <td>283178.12</td>\n",
       "      <td>402985.70</td>\n",
       "    </tr>\n",
       "    <tr>\n",
       "      <th>39</th>\n",
       "      <td>San Francisco Downtown</td>\n",
       "      <td>702949.07</td>\n",
       "      <td>696421.72</td>\n",
       "      <td>75771.50</td>\n",
       "      <td>558794.63</td>\n",
       "      <td>964729.18</td>\n",
       "    </tr>\n",
       "    <tr>\n",
       "      <th>40</th>\n",
       "      <td>San Jose Central</td>\n",
       "      <td>1152726.15</td>\n",
       "      <td>1149234.96</td>\n",
       "      <td>72321.85</td>\n",
       "      <td>1028635.39</td>\n",
       "      <td>1415746.91</td>\n",
       "    </tr>\n",
       "    <tr>\n",
       "      <th>41</th>\n",
       "      <td>San Jose North</td>\n",
       "      <td>515345.10</td>\n",
       "      <td>511059.95</td>\n",
       "      <td>61395.11</td>\n",
       "      <td>403217.22</td>\n",
       "      <td>641763.53</td>\n",
       "    </tr>\n",
       "    <tr>\n",
       "      <th>42</th>\n",
       "      <td>Tucson East</td>\n",
       "      <td>1096184.89</td>\n",
       "      <td>1087051.26</td>\n",
       "      <td>126826.93</td>\n",
       "      <td>540922.94</td>\n",
       "      <td>1416168.98</td>\n",
       "    </tr>\n",
       "    <tr>\n",
       "      <th>43</th>\n",
       "      <td>Tulsa East</td>\n",
       "      <td>1782782.45</td>\n",
       "      <td>1758437.96</td>\n",
       "      <td>180950.06</td>\n",
       "      <td>1313729.72</td>\n",
       "      <td>2139733.68</td>\n",
       "    </tr>\n",
       "    <tr>\n",
       "      <th>44</th>\n",
       "      <td>Virginia Beach Downtown</td>\n",
       "      <td>734372.07</td>\n",
       "      <td>735796.38</td>\n",
       "      <td>63735.72</td>\n",
       "      <td>596218.24</td>\n",
       "      <td>943891.64</td>\n",
       "    </tr>\n",
       "  </tbody>\n",
       "</table>\n",
       "</div>"
      ],
      "text/plain": [
       "                 store_name        Mean      Median    Std_Dev         Min  \\\n",
       "0         Albuquerque South   379781.83   380188.69   60419.48   277137.86   \n",
       "1          Atlanta Downtown  1588921.57  1569304.40  131430.55  1328468.89   \n",
       "2               Austin East   923150.81   921161.20   54147.02   804105.49   \n",
       "3         Baltimore Central  1468691.88  1462731.93  107915.82  1224175.99   \n",
       "4            Charlotte East   523923.46   524483.65   20118.58   479195.02   \n",
       "5           Charlotte Metro   965963.38   964356.74   44032.12   865709.11   \n",
       "6           Charlotte South  2075189.47  2078417.47  224425.65  1639585.61   \n",
       "7           Columbus Uptown  1998168.43  1995994.51  139551.51  1744544.39   \n",
       "8           Dallas Downtown  1017965.71  1011822.30   74937.88   850936.26   \n",
       "9              Denver North   267338.97   270373.05   25277.79   209986.25   \n",
       "10             Detroit West  2169370.45  2143126.59  167719.24  1843030.95   \n",
       "11             Houston West   404411.49   396826.06   45779.31   336227.69   \n",
       "12    Indianapolis Downtown   552418.23   545251.10   40301.90   484835.20   \n",
       "13      Indianapolis Suburb   584655.29   588448.21   44519.81   481523.93   \n",
       "14        Indianapolis West   900831.83   876902.87  108633.44   763961.82   \n",
       "15       Kansas City Uptown  1435258.35  1431910.98  139820.50  1219583.91   \n",
       "16          Las Vegas Metro  2088557.17  2102530.17  153324.59  1812208.22   \n",
       "17           Las Vegas West  1037306.55  1037549.71   69717.79   849231.61   \n",
       "18          Long Beach East  1372474.36  1361595.33   97161.33  1178905.44   \n",
       "19        Long Beach Uptown   622874.39   615121.78   64852.27   509640.77   \n",
       "20        Los Angeles North   643528.52   643041.71   35475.33   557543.62   \n",
       "21         Los Angeles West  1905260.18  1870720.73  178732.21  1645892.97   \n",
       "22       Louisville Central  1395030.30  1403460.87  115916.47  1163803.30   \n",
       "23       Memphis Industrial  1392810.17  1408082.96  157337.34  1042043.55   \n",
       "24                Mesa West  1601845.14  1603955.12   89168.47  1439541.59   \n",
       "25               Miami East   567398.76   558963.83   83806.43   395453.83   \n",
       "26              Miami Metro   785843.71   770487.37   65241.38   656988.64   \n",
       "27         Milwaukee Suburb   413140.20   409981.25   35491.94   349214.18   \n",
       "28           Milwaukee West   925258.80   873415.01  165835.46   649289.75   \n",
       "29        Minneapolis North   302548.91   298080.45   22276.67   257361.30   \n",
       "30         Nashville Uptown  1004469.46  1000582.06   72189.19   841889.08   \n",
       "31      New York Industrial  1951954.53  1933756.21  122384.04  1748000.65   \n",
       "32            Oakland North  1399383.00  1392938.06   64287.15  1213981.64   \n",
       "33            Oakland South   441263.86   438789.52   23396.84   369722.32   \n",
       "34              Omaha Metro   540458.58   531600.62   48816.20   455952.18   \n",
       "35             Omaha Suburb  1434570.29  1447916.29  121327.39  1203080.41   \n",
       "36      Portland Industrial  1036432.11  1010326.14   93035.00   873954.70   \n",
       "37           Raleigh Uptown  1266985.71  1244956.91  119210.16  1023997.71   \n",
       "38         Sacramento North   324442.29   323798.00   24701.81   283178.12   \n",
       "39   San Francisco Downtown   702949.07   696421.72   75771.50   558794.63   \n",
       "40         San Jose Central  1152726.15  1149234.96   72321.85  1028635.39   \n",
       "41           San Jose North   515345.10   511059.95   61395.11   403217.22   \n",
       "42              Tucson East  1096184.89  1087051.26  126826.93   540922.94   \n",
       "43               Tulsa East  1782782.45  1758437.96  180950.06  1313729.72   \n",
       "44  Virginia Beach Downtown   734372.07   735796.38   63735.72   596218.24   \n",
       "\n",
       "           Max  \n",
       "0    489372.02  \n",
       "1   1903385.14  \n",
       "2   1069061.63  \n",
       "3   1799070.98  \n",
       "4    583835.18  \n",
       "5   1091020.37  \n",
       "6   2623469.95  \n",
       "7   2462779.06  \n",
       "8   1199330.85  \n",
       "9    326870.13  \n",
       "10  2752122.08  \n",
       "11   499267.66  \n",
       "12   677885.99  \n",
       "13   674919.45  \n",
       "14  1255633.29  \n",
       "15  1781528.77  \n",
       "16  2508955.24  \n",
       "17  1180470.80  \n",
       "18  1646655.94  \n",
       "19   847294.04  \n",
       "20   722120.04  \n",
       "21  2429310.90  \n",
       "22  1665502.55  \n",
       "23  1872365.99  \n",
       "24  1899676.88  \n",
       "25   805642.61  \n",
       "26  1002364.34  \n",
       "27   503232.13  \n",
       "28  1282378.71  \n",
       "29   358461.58  \n",
       "30  1182901.56  \n",
       "31  2378726.55  \n",
       "32  1556798.94  \n",
       "33   497374.57  \n",
       "34   713834.74  \n",
       "35  1723736.91  \n",
       "36  1367202.84  \n",
       "37  1548661.45  \n",
       "38   402985.70  \n",
       "39   964729.18  \n",
       "40  1415746.91  \n",
       "41   641763.53  \n",
       "42  1416168.98  \n",
       "43  2139733.68  \n",
       "44   943891.64  "
      ]
     },
     "execution_count": 6,
     "metadata": {},
     "output_type": "execute_result"
    }
   ],
   "source": [
    "# Weekly Sales Summary by Store\n",
    "store_weekly_summary = df.groupby('store_name')['weekly_sales'].agg(\n",
    "    Mean='mean',\n",
    "    Median='median',\n",
    "    Std_Dev='std',\n",
    "    Min='min',\n",
    "    Max='max'\n",
    ").round(2).reset_index()\n",
    "\n",
    "store_weekly_summary\n"
   ]
  },
  {
   "cell_type": "code",
   "execution_count": null,
   "id": "17512951",
   "metadata": {},
   "outputs": [
    {
     "data": {
      "text/html": [
       "<div>\n",
       "<style scoped>\n",
       "    .dataframe tbody tr th:only-of-type {\n",
       "        vertical-align: middle;\n",
       "    }\n",
       "\n",
       "    .dataframe tbody tr th {\n",
       "        vertical-align: top;\n",
       "    }\n",
       "\n",
       "    .dataframe thead th {\n",
       "        text-align: right;\n",
       "    }\n",
       "</style>\n",
       "<table border=\"1\" class=\"dataframe\">\n",
       "  <thead>\n",
       "    <tr style=\"text-align: right;\">\n",
       "      <th></th>\n",
       "      <th>store_name</th>\n",
       "      <th>Mean</th>\n",
       "      <th>Median</th>\n",
       "      <th>Std_Dev</th>\n",
       "      <th>Min</th>\n",
       "      <th>Max</th>\n",
       "    </tr>\n",
       "  </thead>\n",
       "  <tbody>\n",
       "    <tr>\n",
       "      <th>0</th>\n",
       "      <td>Albuquerque South</td>\n",
       "      <td>601321.24</td>\n",
       "      <td>469400.03</td>\n",
       "      <td>306936.06</td>\n",
       "      <td>277137.86</td>\n",
       "      <td>1353610.54</td>\n",
       "    </tr>\n",
       "    <tr>\n",
       "      <th>1</th>\n",
       "      <td>Atlanta Downtown</td>\n",
       "      <td>2515792.48</td>\n",
       "      <td>1701062.90</td>\n",
       "      <td>1173987.20</td>\n",
       "      <td>1328468.89</td>\n",
       "      <td>5111830.29</td>\n",
       "    </tr>\n",
       "    <tr>\n",
       "      <th>2</th>\n",
       "      <td>Austin East</td>\n",
       "      <td>1461655.44</td>\n",
       "      <td>959170.49</td>\n",
       "      <td>691441.24</td>\n",
       "      <td>804105.49</td>\n",
       "      <td>2855135.32</td>\n",
       "    </tr>\n",
       "    <tr>\n",
       "      <th>3</th>\n",
       "      <td>Baltimore Central</td>\n",
       "      <td>2325428.81</td>\n",
       "      <td>1508043.66</td>\n",
       "      <td>1114277.70</td>\n",
       "      <td>1308977.05</td>\n",
       "      <td>4494675.01</td>\n",
       "    </tr>\n",
       "    <tr>\n",
       "      <th>4</th>\n",
       "      <td>Charlotte East</td>\n",
       "      <td>829545.47</td>\n",
       "      <td>544678.57</td>\n",
       "      <td>392085.53</td>\n",
       "      <td>479195.02</td>\n",
       "      <td>1667333.03</td>\n",
       "    </tr>\n",
       "    <tr>\n",
       "      <th>5</th>\n",
       "      <td>Charlotte Metro</td>\n",
       "      <td>1529442.01</td>\n",
       "      <td>990684.05</td>\n",
       "      <td>721257.03</td>\n",
       "      <td>865709.11</td>\n",
       "      <td>3052732.90</td>\n",
       "    </tr>\n",
       "    <tr>\n",
       "      <th>6</th>\n",
       "      <td>Charlotte South</td>\n",
       "      <td>3285716.66</td>\n",
       "      <td>2306585.76</td>\n",
       "      <td>1583066.78</td>\n",
       "      <td>1639585.61</td>\n",
       "      <td>6939432.17</td>\n",
       "    </tr>\n",
       "    <tr>\n",
       "      <th>7</th>\n",
       "      <td>Columbus Uptown</td>\n",
       "      <td>3163766.69</td>\n",
       "      <td>2123280.24</td>\n",
       "      <td>1449094.82</td>\n",
       "      <td>1765584.48</td>\n",
       "      <td>6322347.89</td>\n",
       "    </tr>\n",
       "    <tr>\n",
       "      <th>8</th>\n",
       "      <td>Dallas Downtown</td>\n",
       "      <td>1611779.04</td>\n",
       "      <td>1099720.02</td>\n",
       "      <td>772551.31</td>\n",
       "      <td>850936.26</td>\n",
       "      <td>3183261.17</td>\n",
       "    </tr>\n",
       "    <tr>\n",
       "      <th>9</th>\n",
       "      <td>Denver North</td>\n",
       "      <td>423286.70</td>\n",
       "      <td>303321.32</td>\n",
       "      <td>197330.84</td>\n",
       "      <td>224294.39</td>\n",
       "      <td>879847.77</td>\n",
       "    </tr>\n",
       "    <tr>\n",
       "      <th>10</th>\n",
       "      <td>Detroit West</td>\n",
       "      <td>3434836.54</td>\n",
       "      <td>2217790.74</td>\n",
       "      <td>1656766.09</td>\n",
       "      <td>1910177.38</td>\n",
       "      <td>6888017.16</td>\n",
       "    </tr>\n",
       "    <tr>\n",
       "      <th>11</th>\n",
       "      <td>Houston West</td>\n",
       "      <td>640318.18</td>\n",
       "      <td>480695.10</td>\n",
       "      <td>292823.38</td>\n",
       "      <td>351271.36</td>\n",
       "      <td>1448837.08</td>\n",
       "    </tr>\n",
       "    <tr>\n",
       "      <th>12</th>\n",
       "      <td>Indianapolis Downtown</td>\n",
       "      <td>874662.20</td>\n",
       "      <td>599663.80</td>\n",
       "      <td>401045.58</td>\n",
       "      <td>495692.19</td>\n",
       "      <td>1776262.02</td>\n",
       "    </tr>\n",
       "    <tr>\n",
       "      <th>13</th>\n",
       "      <td>Indianapolis Suburb</td>\n",
       "      <td>925704.21</td>\n",
       "      <td>643137.58</td>\n",
       "      <td>435468.05</td>\n",
       "      <td>481523.93</td>\n",
       "      <td>1907386.57</td>\n",
       "    </tr>\n",
       "    <tr>\n",
       "      <th>14</th>\n",
       "      <td>Indianapolis West</td>\n",
       "      <td>1426317.06</td>\n",
       "      <td>970299.70</td>\n",
       "      <td>668388.85</td>\n",
       "      <td>795301.17</td>\n",
       "      <td>3231809.36</td>\n",
       "    </tr>\n",
       "    <tr>\n",
       "      <th>15</th>\n",
       "      <td>Kansas City Uptown</td>\n",
       "      <td>2272492.40</td>\n",
       "      <td>1616627.00</td>\n",
       "      <td>1011597.35</td>\n",
       "      <td>1219583.91</td>\n",
       "      <td>4902607.86</td>\n",
       "    </tr>\n",
       "    <tr>\n",
       "      <th>16</th>\n",
       "      <td>Las Vegas Metro</td>\n",
       "      <td>3306882.18</td>\n",
       "      <td>2208077.66</td>\n",
       "      <td>1571618.91</td>\n",
       "      <td>1842821.02</td>\n",
       "      <td>6742471.48</td>\n",
       "    </tr>\n",
       "    <tr>\n",
       "      <th>17</th>\n",
       "      <td>Las Vegas West</td>\n",
       "      <td>1642402.04</td>\n",
       "      <td>1106864.63</td>\n",
       "      <td>740586.64</td>\n",
       "      <td>923221.52</td>\n",
       "      <td>3268857.65</td>\n",
       "    </tr>\n",
       "    <tr>\n",
       "      <th>18</th>\n",
       "      <td>Long Beach East</td>\n",
       "      <td>2173084.41</td>\n",
       "      <td>1418568.90</td>\n",
       "      <td>1050811.31</td>\n",
       "      <td>1182490.46</td>\n",
       "      <td>4341340.50</td>\n",
       "    </tr>\n",
       "    <tr>\n",
       "      <th>19</th>\n",
       "      <td>Long Beach Uptown</td>\n",
       "      <td>986217.78</td>\n",
       "      <td>678581.88</td>\n",
       "      <td>466481.07</td>\n",
       "      <td>541292.64</td>\n",
       "      <td>1906260.43</td>\n",
       "    </tr>\n",
       "    <tr>\n",
       "      <th>20</th>\n",
       "      <td>Los Angeles North</td>\n",
       "      <td>1018920.16</td>\n",
       "      <td>695893.02</td>\n",
       "      <td>464724.22</td>\n",
       "      <td>595626.56</td>\n",
       "      <td>1975079.87</td>\n",
       "    </tr>\n",
       "    <tr>\n",
       "      <th>21</th>\n",
       "      <td>Los Angeles West</td>\n",
       "      <td>3016661.95</td>\n",
       "      <td>1940321.18</td>\n",
       "      <td>1504872.17</td>\n",
       "      <td>1645892.97</td>\n",
       "      <td>6125448.30</td>\n",
       "    </tr>\n",
       "    <tr>\n",
       "      <th>22</th>\n",
       "      <td>Louisville Central</td>\n",
       "      <td>2208797.98</td>\n",
       "      <td>1515986.18</td>\n",
       "      <td>1018110.83</td>\n",
       "      <td>1213994.39</td>\n",
       "      <td>4421413.93</td>\n",
       "    </tr>\n",
       "    <tr>\n",
       "      <th>23</th>\n",
       "      <td>Memphis Industrial</td>\n",
       "      <td>2205282.77</td>\n",
       "      <td>1538298.74</td>\n",
       "      <td>1003202.19</td>\n",
       "      <td>1129909.44</td>\n",
       "      <td>4300638.40</td>\n",
       "    </tr>\n",
       "    <tr>\n",
       "      <th>24</th>\n",
       "      <td>Mesa West</td>\n",
       "      <td>2536254.81</td>\n",
       "      <td>1686470.38</td>\n",
       "      <td>1181372.46</td>\n",
       "      <td>1453329.50</td>\n",
       "      <td>5219900.96</td>\n",
       "    </tr>\n",
       "    <tr>\n",
       "      <th>25</th>\n",
       "      <td>Miami East</td>\n",
       "      <td>898381.36</td>\n",
       "      <td>657262.31</td>\n",
       "      <td>450830.22</td>\n",
       "      <td>395453.83</td>\n",
       "      <td>2140186.25</td>\n",
       "    </tr>\n",
       "    <tr>\n",
       "      <th>26</th>\n",
       "      <td>Miami Metro</td>\n",
       "      <td>1244252.55</td>\n",
       "      <td>837346.62</td>\n",
       "      <td>581857.28</td>\n",
       "      <td>690007.76</td>\n",
       "      <td>2456921.58</td>\n",
       "    </tr>\n",
       "    <tr>\n",
       "      <th>27</th>\n",
       "      <td>Milwaukee Suburb</td>\n",
       "      <td>654138.65</td>\n",
       "      <td>445749.42</td>\n",
       "      <td>313501.31</td>\n",
       "      <td>355017.09</td>\n",
       "      <td>1335044.26</td>\n",
       "    </tr>\n",
       "    <tr>\n",
       "      <th>28</th>\n",
       "      <td>Milwaukee West</td>\n",
       "      <td>1464993.11</td>\n",
       "      <td>1181141.63</td>\n",
       "      <td>724578.66</td>\n",
       "      <td>766571.10</td>\n",
       "      <td>3236978.89</td>\n",
       "    </tr>\n",
       "    <tr>\n",
       "      <th>29</th>\n",
       "      <td>Minneapolis North</td>\n",
       "      <td>479035.77</td>\n",
       "      <td>339487.86</td>\n",
       "      <td>215710.14</td>\n",
       "      <td>279524.44</td>\n",
       "      <td>1003810.61</td>\n",
       "    </tr>\n",
       "    <tr>\n",
       "      <th>30</th>\n",
       "      <td>Nashville Uptown</td>\n",
       "      <td>1590409.98</td>\n",
       "      <td>1077537.31</td>\n",
       "      <td>724402.97</td>\n",
       "      <td>891152.33</td>\n",
       "      <td>3269542.65</td>\n",
       "    </tr>\n",
       "    <tr>\n",
       "      <th>31</th>\n",
       "      <td>New York Industrial</td>\n",
       "      <td>3090594.67</td>\n",
       "      <td>2034060.24</td>\n",
       "      <td>1472963.26</td>\n",
       "      <td>1812768.26</td>\n",
       "      <td>6067064.00</td>\n",
       "    </tr>\n",
       "    <tr>\n",
       "      <th>32</th>\n",
       "      <td>Oakland North</td>\n",
       "      <td>2215689.75</td>\n",
       "      <td>1441160.33</td>\n",
       "      <td>1053329.42</td>\n",
       "      <td>1213981.64</td>\n",
       "      <td>4389586.89</td>\n",
       "    </tr>\n",
       "    <tr>\n",
       "      <th>33</th>\n",
       "      <td>Oakland South</td>\n",
       "      <td>698667.78</td>\n",
       "      <td>458113.82</td>\n",
       "      <td>334803.40</td>\n",
       "      <td>412224.67</td>\n",
       "      <td>1422361.46</td>\n",
       "    </tr>\n",
       "    <tr>\n",
       "      <th>34</th>\n",
       "      <td>Omaha Metro</td>\n",
       "      <td>855726.09</td>\n",
       "      <td>582135.00</td>\n",
       "      <td>405422.91</td>\n",
       "      <td>471311.50</td>\n",
       "      <td>1682432.81</td>\n",
       "    </tr>\n",
       "    <tr>\n",
       "      <th>35</th>\n",
       "      <td>Omaha Suburb</td>\n",
       "      <td>2271402.95</td>\n",
       "      <td>1538285.62</td>\n",
       "      <td>1121910.73</td>\n",
       "      <td>1203080.41</td>\n",
       "      <td>4865288.90</td>\n",
       "    </tr>\n",
       "    <tr>\n",
       "      <th>36</th>\n",
       "      <td>Portland Industrial</td>\n",
       "      <td>1641017.51</td>\n",
       "      <td>1099198.25</td>\n",
       "      <td>766678.93</td>\n",
       "      <td>905987.17</td>\n",
       "      <td>3190634.00</td>\n",
       "    </tr>\n",
       "    <tr>\n",
       "      <th>37</th>\n",
       "      <td>Raleigh Uptown</td>\n",
       "      <td>2006060.70</td>\n",
       "      <td>1405889.33</td>\n",
       "      <td>874801.85</td>\n",
       "      <td>1109216.35</td>\n",
       "      <td>4124726.81</td>\n",
       "    </tr>\n",
       "    <tr>\n",
       "      <th>38</th>\n",
       "      <td>Sacramento North</td>\n",
       "      <td>513700.30</td>\n",
       "      <td>359537.00</td>\n",
       "      <td>236556.80</td>\n",
       "      <td>283178.12</td>\n",
       "      <td>1056278.84</td>\n",
       "    </tr>\n",
       "    <tr>\n",
       "      <th>39</th>\n",
       "      <td>San Francisco Downtown</td>\n",
       "      <td>1113002.70</td>\n",
       "      <td>740062.90</td>\n",
       "      <td>510222.95</td>\n",
       "      <td>643155.89</td>\n",
       "      <td>2181161.57</td>\n",
       "    </tr>\n",
       "    <tr>\n",
       "      <th>40</th>\n",
       "      <td>San Jose Central</td>\n",
       "      <td>1825149.73</td>\n",
       "      <td>1223268.54</td>\n",
       "      <td>823804.48</td>\n",
       "      <td>1061089.56</td>\n",
       "      <td>3584698.23</td>\n",
       "    </tr>\n",
       "    <tr>\n",
       "      <th>41</th>\n",
       "      <td>San Jose North</td>\n",
       "      <td>815963.08</td>\n",
       "      <td>596966.70</td>\n",
       "      <td>376513.83</td>\n",
       "      <td>403217.22</td>\n",
       "      <td>1708963.67</td>\n",
       "    </tr>\n",
       "    <tr>\n",
       "      <th>42</th>\n",
       "      <td>Tucson East</td>\n",
       "      <td>1735626.07</td>\n",
       "      <td>1200147.23</td>\n",
       "      <td>827051.47</td>\n",
       "      <td>928470.83</td>\n",
       "      <td>3474576.94</td>\n",
       "    </tr>\n",
       "    <tr>\n",
       "      <th>43</th>\n",
       "      <td>Tulsa East</td>\n",
       "      <td>2822738.87</td>\n",
       "      <td>1996583.42</td>\n",
       "      <td>1304009.54</td>\n",
       "      <td>1509323.09</td>\n",
       "      <td>5498486.09</td>\n",
       "    </tr>\n",
       "    <tr>\n",
       "      <th>44</th>\n",
       "      <td>Virginia Beach Downtown</td>\n",
       "      <td>1162755.77</td>\n",
       "      <td>789351.72</td>\n",
       "      <td>551301.83</td>\n",
       "      <td>642827.29</td>\n",
       "      <td>2292758.28</td>\n",
       "    </tr>\n",
       "  </tbody>\n",
       "</table>\n",
       "</div>"
      ],
      "text/plain": [
       "                 store_name        Mean      Median     Std_Dev         Min  \\\n",
       "0         Albuquerque South   601321.24   469400.03   306936.06   277137.86   \n",
       "1          Atlanta Downtown  2515792.48  1701062.90  1173987.20  1328468.89   \n",
       "2               Austin East  1461655.44   959170.49   691441.24   804105.49   \n",
       "3         Baltimore Central  2325428.81  1508043.66  1114277.70  1308977.05   \n",
       "4            Charlotte East   829545.47   544678.57   392085.53   479195.02   \n",
       "5           Charlotte Metro  1529442.01   990684.05   721257.03   865709.11   \n",
       "6           Charlotte South  3285716.66  2306585.76  1583066.78  1639585.61   \n",
       "7           Columbus Uptown  3163766.69  2123280.24  1449094.82  1765584.48   \n",
       "8           Dallas Downtown  1611779.04  1099720.02   772551.31   850936.26   \n",
       "9              Denver North   423286.70   303321.32   197330.84   224294.39   \n",
       "10             Detroit West  3434836.54  2217790.74  1656766.09  1910177.38   \n",
       "11             Houston West   640318.18   480695.10   292823.38   351271.36   \n",
       "12    Indianapolis Downtown   874662.20   599663.80   401045.58   495692.19   \n",
       "13      Indianapolis Suburb   925704.21   643137.58   435468.05   481523.93   \n",
       "14        Indianapolis West  1426317.06   970299.70   668388.85   795301.17   \n",
       "15       Kansas City Uptown  2272492.40  1616627.00  1011597.35  1219583.91   \n",
       "16          Las Vegas Metro  3306882.18  2208077.66  1571618.91  1842821.02   \n",
       "17           Las Vegas West  1642402.04  1106864.63   740586.64   923221.52   \n",
       "18          Long Beach East  2173084.41  1418568.90  1050811.31  1182490.46   \n",
       "19        Long Beach Uptown   986217.78   678581.88   466481.07   541292.64   \n",
       "20        Los Angeles North  1018920.16   695893.02   464724.22   595626.56   \n",
       "21         Los Angeles West  3016661.95  1940321.18  1504872.17  1645892.97   \n",
       "22       Louisville Central  2208797.98  1515986.18  1018110.83  1213994.39   \n",
       "23       Memphis Industrial  2205282.77  1538298.74  1003202.19  1129909.44   \n",
       "24                Mesa West  2536254.81  1686470.38  1181372.46  1453329.50   \n",
       "25               Miami East   898381.36   657262.31   450830.22   395453.83   \n",
       "26              Miami Metro  1244252.55   837346.62   581857.28   690007.76   \n",
       "27         Milwaukee Suburb   654138.65   445749.42   313501.31   355017.09   \n",
       "28           Milwaukee West  1464993.11  1181141.63   724578.66   766571.10   \n",
       "29        Minneapolis North   479035.77   339487.86   215710.14   279524.44   \n",
       "30         Nashville Uptown  1590409.98  1077537.31   724402.97   891152.33   \n",
       "31      New York Industrial  3090594.67  2034060.24  1472963.26  1812768.26   \n",
       "32            Oakland North  2215689.75  1441160.33  1053329.42  1213981.64   \n",
       "33            Oakland South   698667.78   458113.82   334803.40   412224.67   \n",
       "34              Omaha Metro   855726.09   582135.00   405422.91   471311.50   \n",
       "35             Omaha Suburb  2271402.95  1538285.62  1121910.73  1203080.41   \n",
       "36      Portland Industrial  1641017.51  1099198.25   766678.93   905987.17   \n",
       "37           Raleigh Uptown  2006060.70  1405889.33   874801.85  1109216.35   \n",
       "38         Sacramento North   513700.30   359537.00   236556.80   283178.12   \n",
       "39   San Francisco Downtown  1113002.70   740062.90   510222.95   643155.89   \n",
       "40         San Jose Central  1825149.73  1223268.54   823804.48  1061089.56   \n",
       "41           San Jose North   815963.08   596966.70   376513.83   403217.22   \n",
       "42              Tucson East  1735626.07  1200147.23   827051.47   928470.83   \n",
       "43               Tulsa East  2822738.87  1996583.42  1304009.54  1509323.09   \n",
       "44  Virginia Beach Downtown  1162755.77   789351.72   551301.83   642827.29   \n",
       "\n",
       "           Max  \n",
       "0   1353610.54  \n",
       "1   5111830.29  \n",
       "2   2855135.32  \n",
       "3   4494675.01  \n",
       "4   1667333.03  \n",
       "5   3052732.90  \n",
       "6   6939432.17  \n",
       "7   6322347.89  \n",
       "8   3183261.17  \n",
       "9    879847.77  \n",
       "10  6888017.16  \n",
       "11  1448837.08  \n",
       "12  1776262.02  \n",
       "13  1907386.57  \n",
       "14  3231809.36  \n",
       "15  4902607.86  \n",
       "16  6742471.48  \n",
       "17  3268857.65  \n",
       "18  4341340.50  \n",
       "19  1906260.43  \n",
       "20  1975079.87  \n",
       "21  6125448.30  \n",
       "22  4421413.93  \n",
       "23  4300638.40  \n",
       "24  5219900.96  \n",
       "25  2140186.25  \n",
       "26  2456921.58  \n",
       "27  1335044.26  \n",
       "28  3236978.89  \n",
       "29  1003810.61  \n",
       "30  3269542.65  \n",
       "31  6067064.00  \n",
       "32  4389586.89  \n",
       "33  1422361.46  \n",
       "34  1682432.81  \n",
       "35  4865288.90  \n",
       "36  3190634.00  \n",
       "37  4124726.81  \n",
       "38  1056278.84  \n",
       "39  2181161.57  \n",
       "40  3584698.23  \n",
       "41  1708963.67  \n",
       "42  3474576.94  \n",
       "43  5498486.09  \n",
       "44  2292758.28  "
      ]
     },
     "execution_count": 7,
     "metadata": {},
     "output_type": "execute_result"
    }
   ],
   "source": [
    "# Monthly Sales Summary by Store\n",
    "\n",
    "df['month'] = df['date'].dt.to_period('M')  # e.g., '2025-07'\n",
    "\n",
    "monthly_sales = df.groupby(['store_name', 'month'])['weekly_sales'].sum().reset_index()\n",
    "\n",
    "store_monthly_summary = monthly_sales.groupby('store_name')['weekly_sales'].agg(\n",
    "    Mean='mean',\n",
    "    Median='median',\n",
    "    Std_Dev='std',\n",
    "    Min='min',\n",
    "    Max='max'\n",
    "    ).round(2).reset_index()\n",
    "\n",
    "store_monthly_summary\n"
   ]
  },
  {
   "cell_type": "code",
   "execution_count": null,
   "id": "01bad4d3",
   "metadata": {},
   "outputs": [],
   "source": []
  },
  {
   "cell_type": "markdown",
   "id": "2ce12189",
   "metadata": {},
   "source": [
    "# Graphical Analysis"
   ]
  },
  {
   "cell_type": "code",
   "execution_count": 8,
   "id": "3303f727",
   "metadata": {},
   "outputs": [
    {
     "data": {
      "application/vnd.plotly.v1+json": {
       "config": {
        "plotlyServerURL": "https://plot.ly"
       },
       "data": [
        {
         "hovertemplate": "store_name=Atlanta Downtown<br>date=%{x}<br>weekly_sales=%{y}<extra></extra>",
         "legendgroup": "Atlanta Downtown",
         "line": {
          "color": "#636efa",
          "dash": "solid"
         },
         "marker": {
          "symbol": "circle"
         },
         "mode": "lines",
         "name": "Atlanta Downtown",
         "orientation": "v",
         "showlegend": true,
         "type": "scatter",
         "x": [
          "2010-01-10T00:00:00",
          "2010-02-04T00:00:00",
          "2010-02-07T00:00:00",
          "2010-03-09T00:00:00",
          "2010-03-12T00:00:00",
          "2010-04-06T00:00:00",
          "2010-05-02T00:00:00",
          "2010-05-03T00:00:00",
          "2010-05-11T00:00:00",
          "2010-06-08T00:00:00",
          "2010-07-05T00:00:00",
          "2010-08-10T00:00:00",
          "2010-09-04T00:00:00",
          "2010-09-07T00:00:00",
          "2010-10-09T00:00:00",
          "2010-10-12T00:00:00",
          "2010-11-06T00:00:00",
          "2010-12-02T00:00:00",
          "2010-12-03T00:00:00",
          "2010-12-11T00:00:00",
          "2011-01-04T00:00:00",
          "2011-01-07T00:00:00",
          "2011-02-09T00:00:00",
          "2011-02-12T00:00:00",
          "2011-03-06T00:00:00",
          "2011-04-02T00:00:00",
          "2011-04-03T00:00:00",
          "2011-04-11T00:00:00",
          "2011-05-08T00:00:00",
          "2011-06-05T00:00:00",
          "2011-07-01T00:00:00",
          "2011-07-10T00:00:00",
          "2011-08-04T00:00:00",
          "2011-08-07T00:00:00",
          "2011-09-09T00:00:00",
          "2011-09-12T00:00:00",
          "2011-10-06T00:00:00",
          "2011-11-02T00:00:00",
          "2011-11-03T00:00:00",
          "2011-11-11T00:00:00",
          "2011-12-08T00:00:00",
          "2012-01-06T00:00:00",
          "2012-02-03T00:00:00",
          "2012-03-02T00:00:00",
          "2012-03-08T00:00:00",
          "2012-04-05T00:00:00",
          "2012-05-10T00:00:00",
          "2012-06-01T00:00:00",
          "2012-06-04T00:00:00",
          "2012-06-07T00:00:00",
          "2012-07-09T00:00:00",
          "2012-08-06T00:00:00",
          "2012-09-03T00:00:00",
          "2012-10-02T00:00:00",
          "2012-10-08T00:00:00",
          "2012-11-05T00:00:00",
          "2012-12-10T00:00:00"
         ],
         "xaxis": "x9",
         "y": {
          "bdata": "PQrX41RFNEFmZmbmXQM7QQAAAEAh2jpBH4XrUQ0ON0HXo3A9C5c5QXE9ChdkVzxBmpmZGZs3OUEfhevRRG84QWZmZiai+DZBcT0Kl9nrOEGkcD0K0Lc4QWZmZua9wTRBH4Xr0W1wOUHXo3D9zco5QQrXo3BhuzVBSOF6lPH+O0GamZlZlLg5QcP1KNyLgjhBw/UoXF3IN0Fcj8J18NE2QVK4HsVMRDZBZmZmJlfbOUHXo3C9kps2QXE9ClfTwzlBpHA9SiIGOkG4HoUr9x03QdejcP2Z7TZBFK5HYdw+N0EfheuRMHA4QR+F65GL9TZB4XoUrimbNEEzMzMzC5w2QQAAAACCajdB7FG4nj0VOkEUrkdhNqM2QT0K1yMZCz1BZmZmprNkOEG4HoUrSLA2QT0K12PhzTZBpHA9irBwN0EUrkdhw6g2QRSuR2HhpjlBZmZmpjGoN0F7FK7H8dQ2QeF6FO6K1DhB7FG4HiWNN0Fcj8K1YSo3QVyPwrWLSjVBCtejMAMUPEE9Ctdjh6E8QSlcjwKNiThBUrgehWvjOUFmZmZmGPI3Qbgehet7ujhBrkfhupw8OEG4HoWrEyY3QXE9CtfERDZB",
          "dtype": "f8"
         },
         "yaxis": "y9"
        },
        {
         "hovertemplate": "store_name=Austin East<br>date=%{x}<br>weekly_sales=%{y}<extra></extra>",
         "legendgroup": "Austin East",
         "line": {
          "color": "#EF553B",
          "dash": "solid"
         },
         "marker": {
          "symbol": "circle"
         },
         "mode": "lines",
         "name": "Austin East",
         "orientation": "v",
         "showlegend": true,
         "type": "scatter",
         "x": [
          "2010-01-10T00:00:00",
          "2010-02-04T00:00:00",
          "2010-02-07T00:00:00",
          "2010-03-09T00:00:00",
          "2010-03-12T00:00:00",
          "2010-04-06T00:00:00",
          "2010-05-02T00:00:00",
          "2010-05-03T00:00:00",
          "2010-05-11T00:00:00",
          "2010-06-08T00:00:00",
          "2010-07-05T00:00:00",
          "2010-08-10T00:00:00",
          "2010-09-04T00:00:00",
          "2010-09-07T00:00:00",
          "2010-10-09T00:00:00",
          "2010-10-12T00:00:00",
          "2010-11-06T00:00:00",
          "2010-12-02T00:00:00",
          "2010-12-03T00:00:00",
          "2010-12-11T00:00:00",
          "2011-01-04T00:00:00",
          "2011-01-07T00:00:00",
          "2011-02-09T00:00:00",
          "2011-02-12T00:00:00",
          "2011-03-06T00:00:00",
          "2011-04-02T00:00:00",
          "2011-04-03T00:00:00",
          "2011-04-11T00:00:00",
          "2011-05-08T00:00:00",
          "2011-06-05T00:00:00",
          "2011-07-01T00:00:00",
          "2011-07-10T00:00:00",
          "2011-08-04T00:00:00",
          "2011-08-07T00:00:00",
          "2011-09-09T00:00:00",
          "2011-09-12T00:00:00",
          "2011-10-06T00:00:00",
          "2011-11-02T00:00:00",
          "2011-11-03T00:00:00",
          "2011-11-11T00:00:00",
          "2011-12-08T00:00:00",
          "2012-01-06T00:00:00",
          "2012-02-03T00:00:00",
          "2012-03-02T00:00:00",
          "2012-03-08T00:00:00",
          "2012-04-05T00:00:00",
          "2012-05-10T00:00:00",
          "2012-06-01T00:00:00",
          "2012-06-04T00:00:00",
          "2012-06-07T00:00:00",
          "2012-07-09T00:00:00",
          "2012-08-06T00:00:00",
          "2012-09-03T00:00:00",
          "2012-10-02T00:00:00",
          "2012-10-08T00:00:00",
          "2012-11-05T00:00:00",
          "2012-12-10T00:00:00"
         ],
         "xaxis": "x10",
         "y": {
          "bdata": "rkfh+hKKKEEfhevRiegrQQAAAIDbAipBCtej8LhvK0HD9SjcfRMtQR+F69EiPi1B4XoULtKkLkFmZmbmv+YqQeF6FK5ETCxBpHA9iq9DK0G4HoXrqforQYXrUbibjypBcT0K14P0K0GkcD2K08spQWZmZmaCXylBFK5HoQVQMEGF61G4J+srQc3MzMziWy5BH4XrUWBBKkFcj8L1ZdErQZqZmZlU0SpBMzMzs8b3KkF7FK5H9jMrQbgehevSGy5BH4XrUYxbLEH2KFyPpdMsQcP1KNzEiixBmpmZGc7sLEGkcD2K0zsrQeF6FK4iuyxBXI/CddKkKkGamZkZcWEsQY/C9aiD/CxB16NwPRpOKkHhehQuzOMpQTMzM/MSDTBBH4Xr0TpiK0F7FK7HZmYuQUjhepRGeitBXI/C9cD8K0EzMzMzuCUqQWZmZmaSHCxBH4Xr0ZEPLUEUrkdh9U4sQVyPwnVpYCtB4XoULiCaLEGkcD0KaMwtQVyPwnVinSpB4XoULkHyL0EAAAAAG5IsQdejcL2AcixBAAAAAGhYLEHsUbge50wtQXE9CtewKy9BFK5HYXNnLEF7FK7HgRQsQa5H4fovTixB",
          "dtype": "f8"
         },
         "yaxis": "y10"
        },
        {
         "hovertemplate": "store_name=Indianapolis Downtown<br>date=%{x}<br>weekly_sales=%{y}<extra></extra>",
         "legendgroup": "Indianapolis Downtown",
         "line": {
          "color": "#00cc96",
          "dash": "solid"
         },
         "marker": {
          "symbol": "circle"
         },
         "mode": "lines",
         "name": "Indianapolis Downtown",
         "orientation": "v",
         "showlegend": true,
         "type": "scatter",
         "x": [
          "2010-01-10T00:00:00",
          "2010-02-04T00:00:00",
          "2010-02-07T00:00:00",
          "2010-03-09T00:00:00",
          "2010-03-12T00:00:00",
          "2010-04-06T00:00:00",
          "2010-05-02T00:00:00",
          "2010-05-03T00:00:00",
          "2010-05-11T00:00:00",
          "2010-06-08T00:00:00",
          "2010-07-05T00:00:00",
          "2010-08-10T00:00:00",
          "2010-09-04T00:00:00",
          "2010-09-07T00:00:00",
          "2010-10-09T00:00:00",
          "2010-10-12T00:00:00",
          "2010-11-06T00:00:00",
          "2010-12-02T00:00:00",
          "2010-12-03T00:00:00",
          "2010-12-11T00:00:00",
          "2011-01-04T00:00:00",
          "2011-01-07T00:00:00",
          "2011-02-09T00:00:00",
          "2011-02-12T00:00:00",
          "2011-03-06T00:00:00",
          "2011-04-02T00:00:00",
          "2011-04-03T00:00:00",
          "2011-04-11T00:00:00",
          "2011-05-08T00:00:00",
          "2011-06-05T00:00:00",
          "2011-07-01T00:00:00",
          "2011-07-10T00:00:00",
          "2011-08-04T00:00:00",
          "2011-08-07T00:00:00",
          "2011-09-09T00:00:00",
          "2011-09-12T00:00:00",
          "2011-10-06T00:00:00",
          "2011-11-02T00:00:00",
          "2011-11-03T00:00:00",
          "2011-11-11T00:00:00",
          "2011-12-08T00:00:00",
          "2012-01-06T00:00:00",
          "2012-02-03T00:00:00",
          "2012-03-02T00:00:00",
          "2012-03-08T00:00:00",
          "2012-04-05T00:00:00",
          "2012-05-10T00:00:00",
          "2012-06-01T00:00:00",
          "2012-06-04T00:00:00",
          "2012-06-07T00:00:00",
          "2012-07-09T00:00:00",
          "2012-08-06T00:00:00",
          "2012-09-03T00:00:00",
          "2012-10-02T00:00:00",
          "2012-10-08T00:00:00",
          "2012-11-05T00:00:00",
          "2012-12-10T00:00:00"
         ],
         "xaxis": "x7",
         "y": {
          "bdata": "KVyPwjBBHkE9CtejbKMgQUjhehSBIyBB16NwPSQxH0E9Ctej6aQhQbgeheua4iFBmpmZGQPFIEFSuB6Fh/YeQRSuR+G3mx9BzczMzP3oH0GF61E4YQ4gQXE9Cte00x5B7FG4ntAnIEGamZmZNKAdQc3MzMyMlx1BPQrXoxPdIkGF61G4bucfQVyPwvXK3SBBMzMzMwcpHkGF61G4OsofQfYoXI8IzB9B9ihcD9BjIEGPwvWoBp8gQbgehWv2tSJBSOF6lPjpIUH2KFyPyJ4gQcP1KFyAiiBBPQrXI74+IkFxPQpX/+4gQTMzMzPGoyBB7FG4Hpf3HUFcj8L12eYgQXE9CtezIyFBKVyPQl5bIEGF61G4ISMgQfYoXI9uPCNBPQrXo3jJIEGkcD0KHvIgQQAAAABemh9B16NwPRwlIkGPwvUoc8EfQeF6FC7BzyFB9ihcj9TnIkF7FK7Hn8ggQUjhehT/SiBBj8L1KGLkIUGamZmZRoQiQeF6FK6Gth9Brkfh+vuvJEGF61G4zKkhQUjhepRoRCFBcT0K1/rGIUFmZmbm14shQdejcD2QmyJBCtej8LJwIEGamZmZeBUiQZqZmZkBCyFB",
          "dtype": "f8"
         },
         "yaxis": "y7"
        },
        {
         "hovertemplate": "store_name=Las Vegas Metro<br>date=%{x}<br>weekly_sales=%{y}<extra></extra>",
         "legendgroup": "Las Vegas Metro",
         "line": {
          "color": "#ab63fa",
          "dash": "solid"
         },
         "marker": {
          "symbol": "circle"
         },
         "mode": "lines",
         "name": "Las Vegas Metro",
         "orientation": "v",
         "showlegend": true,
         "type": "scatter",
         "x": [
          "2010-01-10T00:00:00",
          "2010-02-04T00:00:00",
          "2010-02-07T00:00:00",
          "2010-03-09T00:00:00",
          "2010-03-12T00:00:00",
          "2010-04-06T00:00:00",
          "2010-05-02T00:00:00",
          "2010-05-03T00:00:00",
          "2010-05-11T00:00:00",
          "2010-06-08T00:00:00",
          "2010-07-05T00:00:00",
          "2010-08-10T00:00:00",
          "2010-09-04T00:00:00",
          "2010-09-07T00:00:00",
          "2010-10-09T00:00:00",
          "2010-10-12T00:00:00",
          "2010-11-06T00:00:00",
          "2010-12-02T00:00:00",
          "2010-12-03T00:00:00",
          "2010-12-11T00:00:00",
          "2011-01-04T00:00:00",
          "2011-01-07T00:00:00",
          "2011-02-09T00:00:00",
          "2011-02-12T00:00:00",
          "2011-03-06T00:00:00",
          "2011-04-02T00:00:00",
          "2011-04-03T00:00:00",
          "2011-04-11T00:00:00",
          "2011-05-08T00:00:00",
          "2011-06-05T00:00:00",
          "2011-07-01T00:00:00",
          "2011-07-10T00:00:00",
          "2011-08-04T00:00:00",
          "2011-08-07T00:00:00",
          "2011-09-09T00:00:00",
          "2011-09-12T00:00:00",
          "2011-10-06T00:00:00",
          "2011-11-02T00:00:00",
          "2011-11-03T00:00:00",
          "2011-11-11T00:00:00",
          "2011-12-08T00:00:00",
          "2012-01-06T00:00:00",
          "2012-02-03T00:00:00",
          "2012-03-02T00:00:00",
          "2012-03-08T00:00:00",
          "2012-04-05T00:00:00",
          "2012-05-10T00:00:00",
          "2012-06-01T00:00:00",
          "2012-06-04T00:00:00",
          "2012-06-07T00:00:00",
          "2012-07-09T00:00:00",
          "2012-08-06T00:00:00",
          "2012-09-03T00:00:00",
          "2012-10-02T00:00:00",
          "2012-10-08T00:00:00",
          "2012-11-05T00:00:00",
          "2012-12-10T00:00:00"
         ],
         "xaxis": "x8",
         "y": {
          "bdata": "UrgeBYUePEHsUbgebzM+QVyPwjX5tDxBSOF6lPGJPUFcj8IVgQpAQUjhepS6Cj1B9ihc7zNKQEEK16NwcRM+QaRwPcq7tz5BSOF6lLYbPUE9Ctcj8oY+QZqZmdkGxz1BhetRuFS/O0GF61E48KY7QfYoXM9ceDxB4XoUbhSRQUGuR+E6G4s8QR+F67EJskBBcT0KF7TnPEEpXI9CsoM+QYXrUXjW/jxBexSuh81NP0H2KFxP1LY/QRSuR6HDo0BBZmZmJuGDP0FSuB4F1ypAQQAAAOBPDEBBexSup4BnQUEfheux3HpAQSlcj8JCfT9BUrgeRUxrPEEzMzPT6IdAQVyPwnVJqT9Bw/Uo3G2IP0EpXI8CU/A/QexRuJ5NJENBFK5HYV+lP0FSuB6lI7FAQY/C9WgKID9BrkfhesrOQEHsUbheohBAQYXrUXiQoEBBMzMz8zfVQEFI4Xr03pRAQQrXoxAZl0BBpHA9KvTCQEFxPQq3FdxAQR+F6xEWPz9BCtejEJ/YQkE9CtejufhAQcP1KFyYNkBBcT0Kl0QhQUF7FK5nqc1AQR+F61ECHkJBhetR2Ou7QEFcj8KVljtAQY/C9QgRRkBB",
          "dtype": "f8"
         },
         "yaxis": "y8"
        },
        {
         "hovertemplate": "store_name=Los Angeles West<br>date=%{x}<br>weekly_sales=%{y}<extra></extra>",
         "legendgroup": "Los Angeles West",
         "line": {
          "color": "#FFA15A",
          "dash": "solid"
         },
         "marker": {
          "symbol": "circle"
         },
         "mode": "lines",
         "name": "Los Angeles West",
         "orientation": "v",
         "showlegend": true,
         "type": "scatter",
         "x": [
          "2010-01-10T00:00:00",
          "2010-02-04T00:00:00",
          "2010-02-07T00:00:00",
          "2010-03-09T00:00:00",
          "2010-03-12T00:00:00",
          "2010-04-06T00:00:00",
          "2010-05-02T00:00:00",
          "2010-05-03T00:00:00",
          "2010-05-11T00:00:00",
          "2010-06-08T00:00:00",
          "2010-07-05T00:00:00",
          "2010-08-10T00:00:00",
          "2010-09-04T00:00:00",
          "2010-09-07T00:00:00",
          "2010-10-09T00:00:00",
          "2010-10-12T00:00:00",
          "2010-11-06T00:00:00",
          "2010-12-02T00:00:00",
          "2010-12-03T00:00:00",
          "2010-12-11T00:00:00",
          "2011-01-04T00:00:00",
          "2011-01-07T00:00:00",
          "2011-02-09T00:00:00",
          "2011-02-12T00:00:00",
          "2011-03-06T00:00:00",
          "2011-04-02T00:00:00",
          "2011-04-03T00:00:00",
          "2011-04-11T00:00:00",
          "2011-05-08T00:00:00",
          "2011-06-05T00:00:00",
          "2011-07-01T00:00:00",
          "2011-07-10T00:00:00",
          "2011-08-04T00:00:00",
          "2011-08-07T00:00:00",
          "2011-09-09T00:00:00",
          "2011-09-12T00:00:00",
          "2011-10-06T00:00:00",
          "2011-11-02T00:00:00",
          "2011-11-03T00:00:00",
          "2011-11-11T00:00:00",
          "2011-12-08T00:00:00",
          "2012-01-06T00:00:00",
          "2012-02-03T00:00:00",
          "2012-03-02T00:00:00",
          "2012-03-08T00:00:00",
          "2012-04-05T00:00:00",
          "2012-05-10T00:00:00",
          "2012-06-01T00:00:00",
          "2012-06-04T00:00:00",
          "2012-06-07T00:00:00",
          "2012-07-09T00:00:00",
          "2012-08-06T00:00:00",
          "2012-09-03T00:00:00",
          "2012-10-02T00:00:00",
          "2012-10-08T00:00:00",
          "2012-11-05T00:00:00",
          "2012-12-10T00:00:00"
         ],
         "xaxis": "x5",
         "y": {
          "bdata": "hetR+EQdOUHD9Sj8DVFAQexRuN6FKjxBMzMzc7vzOkEfhetR4yxBQXsUrkeOeD1BAAAAYEy7QEFxPQoXElI+QVyPwvUT9TtBcT0KFzS+PUGPwvUomFE9QbgehWugCjtB7FG4Xu0kP0HsUbheQQE7Qa5H4TrSQDpBrkfhGodmQkFcj8K1weI7QSlcj0IOmkBBFK5HIWKfPUFxPQqX3e08QeF6FC6V4ztBAAAAwEm5OkGamZlZe9U6QeF6FC6Bjj9BPQrX49JYO0GPwvXorQc+QQrXozBz4D1BcT0KlzYPPUGuR+H6W8g8QdejcP3ZGDxBZmZm5oUoOkGamZmZQ0k7Qa5H4bqAizxBFK5HYXzvOUEfhevRs305QTMzM3O/iEJBmpmZGR+NOkF7FK4nqCNAQWZmZiadgD1BcT0K15qvP0EUrkeh1UE9Qa5H4Xov+DpBUrgeBeNePkEpXI8Ci348QXE9Chfwlz1BuB6Fa7TKO0EUrkdh+9Y6QXsUrsfJrzlBXI/CFVyBQEGkcD3Kr447QXsUrkf7EDpBj8L1aGsVPEGamZkZK0I9QWZmZuYx7UBBCtej8HSxPEHNzMxMWVk7QcP1KBzhJjpB",
          "dtype": "f8"
         },
         "yaxis": "y5"
        },
        {
         "hovertemplate": "store_name=Mesa West<br>date=%{x}<br>weekly_sales=%{y}<extra></extra>",
         "legendgroup": "Mesa West",
         "line": {
          "color": "#19d3f3",
          "dash": "solid"
         },
         "marker": {
          "symbol": "circle"
         },
         "mode": "lines",
         "name": "Mesa West",
         "orientation": "v",
         "showlegend": true,
         "type": "scatter",
         "x": [
          "2010-01-10T00:00:00",
          "2010-02-04T00:00:00",
          "2010-02-07T00:00:00",
          "2010-03-09T00:00:00",
          "2010-03-12T00:00:00",
          "2010-04-06T00:00:00",
          "2010-05-02T00:00:00",
          "2010-05-03T00:00:00",
          "2010-05-11T00:00:00",
          "2010-06-08T00:00:00",
          "2010-07-05T00:00:00",
          "2010-08-10T00:00:00",
          "2010-09-04T00:00:00",
          "2010-09-07T00:00:00",
          "2010-10-09T00:00:00",
          "2010-10-12T00:00:00",
          "2010-11-06T00:00:00",
          "2010-12-02T00:00:00",
          "2010-12-03T00:00:00",
          "2010-12-11T00:00:00",
          "2011-01-04T00:00:00",
          "2011-01-07T00:00:00",
          "2011-02-09T00:00:00",
          "2011-02-12T00:00:00",
          "2011-03-06T00:00:00",
          "2011-04-02T00:00:00",
          "2011-04-03T00:00:00",
          "2011-04-11T00:00:00",
          "2011-05-08T00:00:00",
          "2011-06-05T00:00:00",
          "2011-07-01T00:00:00",
          "2011-07-10T00:00:00",
          "2011-08-04T00:00:00",
          "2011-08-07T00:00:00",
          "2011-09-09T00:00:00",
          "2011-09-12T00:00:00",
          "2011-10-06T00:00:00",
          "2011-11-02T00:00:00",
          "2011-11-03T00:00:00",
          "2011-11-11T00:00:00",
          "2011-12-08T00:00:00",
          "2012-01-06T00:00:00",
          "2012-02-03T00:00:00",
          "2012-03-02T00:00:00",
          "2012-03-08T00:00:00",
          "2012-04-05T00:00:00",
          "2012-05-10T00:00:00",
          "2012-06-01T00:00:00",
          "2012-06-04T00:00:00",
          "2012-06-07T00:00:00",
          "2012-07-09T00:00:00",
          "2012-08-06T00:00:00",
          "2012-09-03T00:00:00",
          "2012-10-02T00:00:00",
          "2012-10-08T00:00:00",
          "2012-11-05T00:00:00",
          "2012-12-10T00:00:00"
         ],
         "xaxis": "x6",
         "y": {
          "bdata": "AAAAgBEtNkF7FK5HWFY4QT0K1yPCxTZBexSuh0OAN0F7FK7HAZ83QVyPwrWkpjhBZmZm5qoUOUHhehSudrk3QXsUrkcrrTdBexSux3N/OEHsUbgec3k4QeF6FO6PAzdBexSuh8qUN0HhehQuWpc3QQrXo7CEADdBKVyPQrasOUFxPQoXoYk3QQrXo3DlDTlBcT0KlzX3NUHXo3B9z802QQAAAMAY0DZBcT0KF5q2NkGF61E4lac3QTMzM/PTKzhBj8L1aAbzOEFI4XqU5YM4QY/C9Win9zhBSOF6lM3lOUEAAADAP8k4QXsUrkfP3DhBexSuR3wLNkEzMzPzDeM4QZqZmVmzoThBPQrXo4FrN0HXo3A9d4E3QRSuR2ECdjtBH4XrUdQ+OEHhehTuzis5QRSuR6EnszdBPQrX4zpWOEFxPQoXm0U3QUjhepSdyThBKVyPwmTDOUFmZmam8/c4QaRwPcqf4zhB16Nw/Se0OUGF61H4gX45QbgeheshqDdBFK5H4Zz8PEGPwvUofgE7QUjhelRHWzlBXI/C9c7lOUGPwvUop5A5QeF6FG7tgDtBhetR+FlMOEHNzMwMWJU4QfYoXM/QADhB",
          "dtype": "f8"
         },
         "yaxis": "y6"
        },
        {
         "hovertemplate": "store_name=Miami East<br>date=%{x}<br>weekly_sales=%{y}<extra></extra>",
         "legendgroup": "Miami East",
         "line": {
          "color": "#FF6692",
          "dash": "solid"
         },
         "marker": {
          "symbol": "circle"
         },
         "mode": "lines",
         "name": "Miami East",
         "orientation": "v",
         "showlegend": true,
         "type": "scatter",
         "x": [
          "2010-01-10T00:00:00",
          "2010-02-04T00:00:00",
          "2010-02-07T00:00:00",
          "2010-03-09T00:00:00",
          "2010-03-12T00:00:00",
          "2010-04-06T00:00:00",
          "2010-05-02T00:00:00",
          "2010-05-03T00:00:00",
          "2010-05-11T00:00:00",
          "2010-06-08T00:00:00",
          "2010-07-05T00:00:00",
          "2010-08-10T00:00:00",
          "2010-09-04T00:00:00",
          "2010-09-07T00:00:00",
          "2010-10-09T00:00:00",
          "2010-10-12T00:00:00",
          "2010-11-06T00:00:00",
          "2010-12-02T00:00:00",
          "2010-12-03T00:00:00",
          "2010-12-11T00:00:00",
          "2011-01-04T00:00:00",
          "2011-01-07T00:00:00",
          "2011-02-09T00:00:00",
          "2011-02-12T00:00:00",
          "2011-03-06T00:00:00",
          "2011-04-02T00:00:00",
          "2011-04-03T00:00:00",
          "2011-04-11T00:00:00",
          "2011-05-08T00:00:00",
          "2011-06-05T00:00:00",
          "2011-07-01T00:00:00",
          "2011-07-10T00:00:00",
          "2011-08-04T00:00:00",
          "2011-08-07T00:00:00",
          "2011-09-09T00:00:00",
          "2011-09-12T00:00:00",
          "2011-10-06T00:00:00",
          "2011-11-02T00:00:00",
          "2011-11-03T00:00:00",
          "2011-11-11T00:00:00",
          "2011-12-08T00:00:00",
          "2012-01-06T00:00:00",
          "2012-02-03T00:00:00",
          "2012-03-02T00:00:00",
          "2012-03-08T00:00:00",
          "2012-04-05T00:00:00",
          "2012-05-10T00:00:00",
          "2012-06-01T00:00:00",
          "2012-06-04T00:00:00",
          "2012-06-07T00:00:00",
          "2012-07-09T00:00:00",
          "2012-08-06T00:00:00",
          "2012-09-03T00:00:00",
          "2012-10-02T00:00:00",
          "2012-10-08T00:00:00",
          "2012-11-05T00:00:00",
          "2012-12-10T00:00:00"
         ],
         "xaxis": "x3",
         "y": {
          "bdata": "uB6F65pnG0F7FK5H8h8hQaRwPYqlkCFBmpmZGTpCIEHXo3A9194gQRSuR+H8Ex9BKVyPwlVRHkEzMzMzbv4dQSlcj8IBVB1BcT0KVxymI0EfhetR9yIYQVK4HoW/Tx1BAAAAAJ2OHUHhehSubBwiQT0K16OyWSBBPQrXI2RNIkGuR+F6U24eQeF6FK4j/R9BZmZmZhBTHUGPwvUoAfseQeF6FK4GVh9BuB6Fa7B+JUGuR+F6xhMiQSlcj8JHECJB16Nwva6MIEGkcD2KlwchQXsUrsek0yBBUrgeBXA6IUHhehSuwTglQRSuR+GR1xhBFK5H4VctJEGF61G4VAwgQT0K16MgjR5BFK5H4YM/J0Fcj8J1HrYiQWZmZuYq9CNBZmZm5lf0IkEpXI9CPhYhQY/C9ajnDiFB4XoULt/3IEG4HoXrnHckQaRwPQq+QyJBKVyPQiTRIEE9CtejyrYhQexRuJ71xyRB9ihcj7tkHEHXo3A9mt8eQR+F61E7wyVBXI/C9eP2IkGF61E4FZYoQZqZmRnpPiJBAAAAgCefI0EAAAAAvawhQaRwPYoJMiFBmpmZmaygJEE9CtejtRkcQYXrUbifuh5B",
          "dtype": "f8"
         },
         "yaxis": "y3"
        },
        {
         "hovertemplate": "store_name=Milwaukee Suburb<br>date=%{x}<br>weekly_sales=%{y}<extra></extra>",
         "legendgroup": "Milwaukee Suburb",
         "line": {
          "color": "#B6E880",
          "dash": "solid"
         },
         "marker": {
          "symbol": "circle"
         },
         "mode": "lines",
         "name": "Milwaukee Suburb",
         "orientation": "v",
         "showlegend": true,
         "type": "scatter",
         "x": [
          "2010-01-10T00:00:00",
          "2010-02-04T00:00:00",
          "2010-02-07T00:00:00",
          "2010-03-09T00:00:00",
          "2010-03-12T00:00:00",
          "2010-04-06T00:00:00",
          "2010-05-02T00:00:00",
          "2010-05-03T00:00:00",
          "2010-05-11T00:00:00",
          "2010-06-08T00:00:00",
          "2010-07-05T00:00:00",
          "2010-08-10T00:00:00",
          "2010-09-04T00:00:00",
          "2010-09-07T00:00:00",
          "2010-10-09T00:00:00",
          "2010-10-12T00:00:00",
          "2010-11-06T00:00:00",
          "2010-12-02T00:00:00",
          "2010-12-03T00:00:00",
          "2010-12-11T00:00:00",
          "2011-01-04T00:00:00",
          "2011-01-07T00:00:00",
          "2011-02-09T00:00:00",
          "2011-02-12T00:00:00",
          "2011-03-06T00:00:00",
          "2011-04-02T00:00:00",
          "2011-04-03T00:00:00",
          "2011-04-11T00:00:00",
          "2011-05-08T00:00:00",
          "2011-06-05T00:00:00",
          "2011-07-01T00:00:00",
          "2011-07-10T00:00:00",
          "2011-08-04T00:00:00",
          "2011-08-07T00:00:00",
          "2011-09-09T00:00:00",
          "2011-09-12T00:00:00",
          "2011-10-06T00:00:00",
          "2011-11-02T00:00:00",
          "2011-11-03T00:00:00",
          "2011-11-11T00:00:00",
          "2011-12-08T00:00:00",
          "2012-01-06T00:00:00",
          "2012-02-03T00:00:00",
          "2012-03-02T00:00:00",
          "2012-03-08T00:00:00",
          "2012-04-05T00:00:00",
          "2012-05-10T00:00:00",
          "2012-06-01T00:00:00",
          "2012-06-04T00:00:00",
          "2012-06-07T00:00:00",
          "2012-07-09T00:00:00",
          "2012-08-06T00:00:00",
          "2012-09-03T00:00:00",
          "2012-10-02T00:00:00",
          "2012-10-08T00:00:00",
          "2012-11-05T00:00:00",
          "2012-12-10T00:00:00"
         ],
         "xaxis": "x4",
         "y": {
          "bdata": "ZmZmZgDmFUGamZmZ+dUZQRSuR+F+QxdBFK5H4SdeFkFI4XoUExQdQTMzMzOjOhhBFK5H4dgsHEGPwvUoiFcZQdejcD0e1BlBpHA9Ci+TGEEK16Nwb18YQWZmZmaNHRhB7FG4HvlhGUGF61G4eFAVQRSuR+ETgBVB7FG4HuiKHEHD9ShcJKsVQXE9CtfjrRlBKVyPwiJzF0HsUbgeLJkXQR+F61Fw3BZBFK5H4QqFFkEpXI/C0vIWQXsUrkf91hxBw/UoXC8UGEHsUbge0sMaQaRwPQpyrRpBFK5H4cwKHEEAAAAA9QUZQa5H4XrINRlBw/UoXAUWF0GamZmZOZ4YQdejcD0tcRdBXI/C9SgeGEFcj8L1DQgXQTMzMzOTnBxBAAAAAFvnF0FxPQrX+EYaQTMzMzNFtBhBAAAAAFHjGEFmZmZmYzcXQexRuB4yYhpB16NwPeKrHEE9CtejAvAZQY/C9ShZohlBexSuR6bZGkGamZmZlhIbQXE9CteITRhBUrgehQC3HkEAAAAAGhkZQbgeheuW6hhBMzMzMwM+G0EzMzMzqCsbQRSuR+Ex4xxBZmZmZg7qF0EK16NwxV0aQfYoXI/REhlB",
          "dtype": "f8"
         },
         "yaxis": "y4"
        },
        {
         "hovertemplate": "store_name=New York Industrial<br>date=%{x}<br>weekly_sales=%{y}<extra></extra>",
         "legendgroup": "New York Industrial",
         "line": {
          "color": "#FF97FF",
          "dash": "solid"
         },
         "marker": {
          "symbol": "circle"
         },
         "mode": "lines",
         "name": "New York Industrial",
         "orientation": "v",
         "showlegend": true,
         "type": "scatter",
         "x": [
          "2010-01-10T00:00:00",
          "2010-02-04T00:00:00",
          "2010-02-07T00:00:00",
          "2010-03-09T00:00:00",
          "2010-03-12T00:00:00",
          "2010-04-06T00:00:00",
          "2010-05-02T00:00:00",
          "2010-05-03T00:00:00",
          "2010-05-11T00:00:00",
          "2010-06-08T00:00:00",
          "2010-07-05T00:00:00",
          "2010-08-10T00:00:00",
          "2010-09-04T00:00:00",
          "2010-09-07T00:00:00",
          "2010-10-09T00:00:00",
          "2010-10-12T00:00:00",
          "2010-11-06T00:00:00",
          "2010-12-02T00:00:00",
          "2010-12-03T00:00:00",
          "2010-12-11T00:00:00",
          "2011-01-04T00:00:00",
          "2011-01-07T00:00:00",
          "2011-02-09T00:00:00",
          "2011-02-12T00:00:00",
          "2011-03-06T00:00:00",
          "2011-04-02T00:00:00",
          "2011-04-03T00:00:00",
          "2011-04-11T00:00:00",
          "2011-05-08T00:00:00",
          "2011-06-05T00:00:00",
          "2011-07-01T00:00:00",
          "2011-07-10T00:00:00",
          "2011-08-04T00:00:00",
          "2011-08-07T00:00:00",
          "2011-09-09T00:00:00",
          "2011-09-12T00:00:00",
          "2011-10-06T00:00:00",
          "2011-11-02T00:00:00",
          "2011-11-03T00:00:00",
          "2011-11-11T00:00:00",
          "2011-12-08T00:00:00",
          "2012-01-06T00:00:00",
          "2012-02-03T00:00:00",
          "2012-03-02T00:00:00",
          "2012-03-08T00:00:00",
          "2012-04-05T00:00:00",
          "2012-05-10T00:00:00",
          "2012-06-01T00:00:00",
          "2012-06-04T00:00:00",
          "2012-06-07T00:00:00",
          "2012-07-09T00:00:00",
          "2012-08-06T00:00:00",
          "2012-09-03T00:00:00",
          "2012-10-02T00:00:00",
          "2012-10-08T00:00:00",
          "2012-11-05T00:00:00",
          "2012-12-10T00:00:00"
         ],
         "xaxis": "x",
         "y": {
          "bdata": "4XoUbnDiO0GF61G4C4c/QT0K16Pkkz5BcT0KF+APPUFSuB5FJcI+QXE9CveFCkBBrkfhus5NQEEUrkchZWE+QY/C9Wh1lj1Brkfh+uVkPkFcj8K11So/QQrXo3BBOjxBXI/CNYHTPUHsUbieRrM8QUjhetQYEDxBZmZmRvMlQkEpXI/CQug+QQAAAMBoT0BBexSux1NfPkHXo3C9jD89QcP1KFzrdztBAAAAAAN6PEEzMzOz35o7QQAAAACI1D1BXI/CNbyBPUGuR+E6gnA9QXsUrsenPD5BZmZm5hvnPUEpXI9C4KI8QZqZmZmvCjxBpHA9ymLTOkHhehRu8Qk8QcP1KJwAMTxB16Nw/elGPEFmZmamIKw6QY/C9ai6eUFBj8L1KMFvPUHhehTOdIpAQfYoXE9DrDxBZmZmJtVOPUEpXI9CIKk7QexRuF5MJT1Bj8L1qCvLPUEK16Pww4c9QT0K16P4sT1BcT0KF3VbPUGkcD0K8X0+QT0K1yNgdTtBSOF69EU+QEFmZmZmoyY/QR+F6xEZ+TxB16NwfWisPkEpXI9C3JA9QXE9ClcNDEBBXI/C9d97PEHXo3D9UEI9QRSuRyHJAD1B",
          "dtype": "f8"
         },
         "yaxis": "y"
        },
        {
         "hovertemplate": "store_name=Sacramento North<br>date=%{x}<br>weekly_sales=%{y}<extra></extra>",
         "legendgroup": "Sacramento North",
         "line": {
          "color": "#FECB52",
          "dash": "solid"
         },
         "marker": {
          "symbol": "circle"
         },
         "mode": "lines",
         "name": "Sacramento North",
         "orientation": "v",
         "showlegend": true,
         "type": "scatter",
         "x": [
          "2010-01-10T00:00:00",
          "2010-02-04T00:00:00",
          "2010-02-07T00:00:00",
          "2010-03-09T00:00:00",
          "2010-03-12T00:00:00",
          "2010-04-06T00:00:00",
          "2010-05-02T00:00:00",
          "2010-05-03T00:00:00",
          "2010-05-11T00:00:00",
          "2010-06-08T00:00:00",
          "2010-07-05T00:00:00",
          "2010-08-10T00:00:00",
          "2010-09-04T00:00:00",
          "2010-09-07T00:00:00",
          "2010-10-09T00:00:00",
          "2010-10-12T00:00:00",
          "2010-11-06T00:00:00",
          "2010-12-02T00:00:00",
          "2010-12-03T00:00:00",
          "2010-12-11T00:00:00",
          "2011-01-04T00:00:00",
          "2011-01-07T00:00:00",
          "2011-02-09T00:00:00",
          "2011-02-12T00:00:00",
          "2011-03-06T00:00:00",
          "2011-04-02T00:00:00",
          "2011-04-03T00:00:00",
          "2011-04-11T00:00:00",
          "2011-05-08T00:00:00",
          "2011-06-05T00:00:00",
          "2011-07-01T00:00:00",
          "2011-07-10T00:00:00",
          "2011-08-04T00:00:00",
          "2011-08-07T00:00:00",
          "2011-09-09T00:00:00",
          "2011-09-12T00:00:00",
          "2011-10-06T00:00:00",
          "2011-11-02T00:00:00",
          "2011-11-03T00:00:00",
          "2011-11-11T00:00:00",
          "2011-12-08T00:00:00",
          "2012-01-06T00:00:00",
          "2012-02-03T00:00:00",
          "2012-03-02T00:00:00",
          "2012-03-08T00:00:00",
          "2012-04-05T00:00:00",
          "2012-05-10T00:00:00",
          "2012-06-01T00:00:00",
          "2012-06-04T00:00:00",
          "2012-06-07T00:00:00",
          "2012-07-09T00:00:00",
          "2012-08-06T00:00:00",
          "2012-09-03T00:00:00",
          "2012-10-02T00:00:00",
          "2012-10-08T00:00:00",
          "2012-11-05T00:00:00",
          "2012-12-10T00:00:00"
         ],
         "xaxis": "x2",
         "y": {
          "bdata": "rkfheqhIEUEAAAAAODoUQUjhehQlrRJBAAAAAFjDE0FSuB6FqwYVQfYoXI+HnhRBZmZmZtRbE0FxPQrXXqERQTMzMzP52hNBSOF6FAx/EkFmZmZmSlsUQWZmZmb7uhFBXI/C9VEFFEGuR+F6g88RQR+F61GUtRJB7FG4Hq6IFUE9CtejBxsSQc3MzMxGCBNBw/UoXDYlEkEK16NwDWwSQTMzMzMyLxNB9ihcj9f2E0HsUbge9kMTQQrXo3CG9hZB4XoUrn8XFEHNzMzMNB4UQT0K16MmFRRBuB6F69CVFUHXo3A9qmQTQYXrUbhitRNBpHA9Ci16EUEUrkfh3d0SQa5H4XoWwhJBhetRuFP4EkEUrkfhWJkTQUjhehQnbRZB9ihcj2CdEkGPwvUomgQTQWZmZmao4xFBzczMzIoJE0E9CtejeLERQTMzMzPv9hVBcT0K15jsFUEAAAAA8GEUQeF6FK6MyRNBKVyPwpIHFkGPwvUoIfAUQXE9Ctc6DBNBzczMzKaYGEGF61G4edMUQT0K16PjZhVBw/UoXCLbFEFmZmZmfjIVQVK4HoXfUBVBzczMzB65EkFI4XoUumAUQT0K16OF2xNB",
          "dtype": "f8"
         },
         "yaxis": "y2"
        }
       ],
       "layout": {
        "annotations": [
         {
          "font": {},
          "showarrow": false,
          "text": "store_name=New York Industrial",
          "x": 0.245,
          "xanchor": "center",
          "xref": "paper",
          "y": 0.144,
          "yanchor": "bottom",
          "yref": "paper"
         },
         {
          "font": {},
          "showarrow": false,
          "text": "store_name=Sacramento North",
          "x": 0.755,
          "xanchor": "center",
          "xref": "paper",
          "y": 0.144,
          "yanchor": "bottom",
          "yref": "paper"
         },
         {
          "font": {},
          "showarrow": false,
          "text": "store_name=Miami East",
          "x": 0.245,
          "xanchor": "center",
          "xref": "paper",
          "y": 0.358,
          "yanchor": "bottom",
          "yref": "paper"
         },
         {
          "font": {},
          "showarrow": false,
          "text": "store_name=Milwaukee Suburb",
          "x": 0.755,
          "xanchor": "center",
          "xref": "paper",
          "y": 0.358,
          "yanchor": "bottom",
          "yref": "paper"
         },
         {
          "font": {},
          "showarrow": false,
          "text": "store_name=Los Angeles West",
          "x": 0.245,
          "xanchor": "center",
          "xref": "paper",
          "y": 0.572,
          "yanchor": "bottom",
          "yref": "paper"
         },
         {
          "font": {},
          "showarrow": false,
          "text": "store_name=Mesa West",
          "x": 0.755,
          "xanchor": "center",
          "xref": "paper",
          "y": 0.572,
          "yanchor": "bottom",
          "yref": "paper"
         },
         {
          "font": {},
          "showarrow": false,
          "text": "store_name=Indianapolis Downtown",
          "x": 0.245,
          "xanchor": "center",
          "xref": "paper",
          "y": 0.7859999999999999,
          "yanchor": "bottom",
          "yref": "paper"
         },
         {
          "font": {},
          "showarrow": false,
          "text": "store_name=Las Vegas Metro",
          "x": 0.755,
          "xanchor": "center",
          "xref": "paper",
          "y": 0.7859999999999999,
          "yanchor": "bottom",
          "yref": "paper"
         },
         {
          "font": {},
          "showarrow": false,
          "text": "store_name=Atlanta Downtown",
          "x": 0.245,
          "xanchor": "center",
          "xref": "paper",
          "y": 1,
          "yanchor": "bottom",
          "yref": "paper"
         },
         {
          "font": {},
          "showarrow": false,
          "text": "store_name=Austin East",
          "x": 0.755,
          "xanchor": "center",
          "xref": "paper",
          "y": 1,
          "yanchor": "bottom",
          "yref": "paper"
         }
        ],
        "height": 800,
        "legend": {
         "title": {
          "text": "store_name"
         },
         "tracegroupgap": 0
        },
        "template": {
         "data": {
          "bar": [
           {
            "error_x": {
             "color": "#2a3f5f"
            },
            "error_y": {
             "color": "#2a3f5f"
            },
            "marker": {
             "line": {
              "color": "#E5ECF6",
              "width": 0.5
             },
             "pattern": {
              "fillmode": "overlay",
              "size": 10,
              "solidity": 0.2
             }
            },
            "type": "bar"
           }
          ],
          "barpolar": [
           {
            "marker": {
             "line": {
              "color": "#E5ECF6",
              "width": 0.5
             },
             "pattern": {
              "fillmode": "overlay",
              "size": 10,
              "solidity": 0.2
             }
            },
            "type": "barpolar"
           }
          ],
          "carpet": [
           {
            "aaxis": {
             "endlinecolor": "#2a3f5f",
             "gridcolor": "white",
             "linecolor": "white",
             "minorgridcolor": "white",
             "startlinecolor": "#2a3f5f"
            },
            "baxis": {
             "endlinecolor": "#2a3f5f",
             "gridcolor": "white",
             "linecolor": "white",
             "minorgridcolor": "white",
             "startlinecolor": "#2a3f5f"
            },
            "type": "carpet"
           }
          ],
          "choropleth": [
           {
            "colorbar": {
             "outlinewidth": 0,
             "ticks": ""
            },
            "type": "choropleth"
           }
          ],
          "contour": [
           {
            "colorbar": {
             "outlinewidth": 0,
             "ticks": ""
            },
            "colorscale": [
             [
              0,
              "#0d0887"
             ],
             [
              0.1111111111111111,
              "#46039f"
             ],
             [
              0.2222222222222222,
              "#7201a8"
             ],
             [
              0.3333333333333333,
              "#9c179e"
             ],
             [
              0.4444444444444444,
              "#bd3786"
             ],
             [
              0.5555555555555556,
              "#d8576b"
             ],
             [
              0.6666666666666666,
              "#ed7953"
             ],
             [
              0.7777777777777778,
              "#fb9f3a"
             ],
             [
              0.8888888888888888,
              "#fdca26"
             ],
             [
              1,
              "#f0f921"
             ]
            ],
            "type": "contour"
           }
          ],
          "contourcarpet": [
           {
            "colorbar": {
             "outlinewidth": 0,
             "ticks": ""
            },
            "type": "contourcarpet"
           }
          ],
          "heatmap": [
           {
            "colorbar": {
             "outlinewidth": 0,
             "ticks": ""
            },
            "colorscale": [
             [
              0,
              "#0d0887"
             ],
             [
              0.1111111111111111,
              "#46039f"
             ],
             [
              0.2222222222222222,
              "#7201a8"
             ],
             [
              0.3333333333333333,
              "#9c179e"
             ],
             [
              0.4444444444444444,
              "#bd3786"
             ],
             [
              0.5555555555555556,
              "#d8576b"
             ],
             [
              0.6666666666666666,
              "#ed7953"
             ],
             [
              0.7777777777777778,
              "#fb9f3a"
             ],
             [
              0.8888888888888888,
              "#fdca26"
             ],
             [
              1,
              "#f0f921"
             ]
            ],
            "type": "heatmap"
           }
          ],
          "histogram": [
           {
            "marker": {
             "pattern": {
              "fillmode": "overlay",
              "size": 10,
              "solidity": 0.2
             }
            },
            "type": "histogram"
           }
          ],
          "histogram2d": [
           {
            "colorbar": {
             "outlinewidth": 0,
             "ticks": ""
            },
            "colorscale": [
             [
              0,
              "#0d0887"
             ],
             [
              0.1111111111111111,
              "#46039f"
             ],
             [
              0.2222222222222222,
              "#7201a8"
             ],
             [
              0.3333333333333333,
              "#9c179e"
             ],
             [
              0.4444444444444444,
              "#bd3786"
             ],
             [
              0.5555555555555556,
              "#d8576b"
             ],
             [
              0.6666666666666666,
              "#ed7953"
             ],
             [
              0.7777777777777778,
              "#fb9f3a"
             ],
             [
              0.8888888888888888,
              "#fdca26"
             ],
             [
              1,
              "#f0f921"
             ]
            ],
            "type": "histogram2d"
           }
          ],
          "histogram2dcontour": [
           {
            "colorbar": {
             "outlinewidth": 0,
             "ticks": ""
            },
            "colorscale": [
             [
              0,
              "#0d0887"
             ],
             [
              0.1111111111111111,
              "#46039f"
             ],
             [
              0.2222222222222222,
              "#7201a8"
             ],
             [
              0.3333333333333333,
              "#9c179e"
             ],
             [
              0.4444444444444444,
              "#bd3786"
             ],
             [
              0.5555555555555556,
              "#d8576b"
             ],
             [
              0.6666666666666666,
              "#ed7953"
             ],
             [
              0.7777777777777778,
              "#fb9f3a"
             ],
             [
              0.8888888888888888,
              "#fdca26"
             ],
             [
              1,
              "#f0f921"
             ]
            ],
            "type": "histogram2dcontour"
           }
          ],
          "mesh3d": [
           {
            "colorbar": {
             "outlinewidth": 0,
             "ticks": ""
            },
            "type": "mesh3d"
           }
          ],
          "parcoords": [
           {
            "line": {
             "colorbar": {
              "outlinewidth": 0,
              "ticks": ""
             }
            },
            "type": "parcoords"
           }
          ],
          "pie": [
           {
            "automargin": true,
            "type": "pie"
           }
          ],
          "scatter": [
           {
            "fillpattern": {
             "fillmode": "overlay",
             "size": 10,
             "solidity": 0.2
            },
            "type": "scatter"
           }
          ],
          "scatter3d": [
           {
            "line": {
             "colorbar": {
              "outlinewidth": 0,
              "ticks": ""
             }
            },
            "marker": {
             "colorbar": {
              "outlinewidth": 0,
              "ticks": ""
             }
            },
            "type": "scatter3d"
           }
          ],
          "scattercarpet": [
           {
            "marker": {
             "colorbar": {
              "outlinewidth": 0,
              "ticks": ""
             }
            },
            "type": "scattercarpet"
           }
          ],
          "scattergeo": [
           {
            "marker": {
             "colorbar": {
              "outlinewidth": 0,
              "ticks": ""
             }
            },
            "type": "scattergeo"
           }
          ],
          "scattergl": [
           {
            "marker": {
             "colorbar": {
              "outlinewidth": 0,
              "ticks": ""
             }
            },
            "type": "scattergl"
           }
          ],
          "scattermap": [
           {
            "marker": {
             "colorbar": {
              "outlinewidth": 0,
              "ticks": ""
             }
            },
            "type": "scattermap"
           }
          ],
          "scattermapbox": [
           {
            "marker": {
             "colorbar": {
              "outlinewidth": 0,
              "ticks": ""
             }
            },
            "type": "scattermapbox"
           }
          ],
          "scatterpolar": [
           {
            "marker": {
             "colorbar": {
              "outlinewidth": 0,
              "ticks": ""
             }
            },
            "type": "scatterpolar"
           }
          ],
          "scatterpolargl": [
           {
            "marker": {
             "colorbar": {
              "outlinewidth": 0,
              "ticks": ""
             }
            },
            "type": "scatterpolargl"
           }
          ],
          "scatterternary": [
           {
            "marker": {
             "colorbar": {
              "outlinewidth": 0,
              "ticks": ""
             }
            },
            "type": "scatterternary"
           }
          ],
          "surface": [
           {
            "colorbar": {
             "outlinewidth": 0,
             "ticks": ""
            },
            "colorscale": [
             [
              0,
              "#0d0887"
             ],
             [
              0.1111111111111111,
              "#46039f"
             ],
             [
              0.2222222222222222,
              "#7201a8"
             ],
             [
              0.3333333333333333,
              "#9c179e"
             ],
             [
              0.4444444444444444,
              "#bd3786"
             ],
             [
              0.5555555555555556,
              "#d8576b"
             ],
             [
              0.6666666666666666,
              "#ed7953"
             ],
             [
              0.7777777777777778,
              "#fb9f3a"
             ],
             [
              0.8888888888888888,
              "#fdca26"
             ],
             [
              1,
              "#f0f921"
             ]
            ],
            "type": "surface"
           }
          ],
          "table": [
           {
            "cells": {
             "fill": {
              "color": "#EBF0F8"
             },
             "line": {
              "color": "white"
             }
            },
            "header": {
             "fill": {
              "color": "#C8D4E3"
             },
             "line": {
              "color": "white"
             }
            },
            "type": "table"
           }
          ]
         },
         "layout": {
          "annotationdefaults": {
           "arrowcolor": "#2a3f5f",
           "arrowhead": 0,
           "arrowwidth": 1
          },
          "autotypenumbers": "strict",
          "coloraxis": {
           "colorbar": {
            "outlinewidth": 0,
            "ticks": ""
           }
          },
          "colorscale": {
           "diverging": [
            [
             0,
             "#8e0152"
            ],
            [
             0.1,
             "#c51b7d"
            ],
            [
             0.2,
             "#de77ae"
            ],
            [
             0.3,
             "#f1b6da"
            ],
            [
             0.4,
             "#fde0ef"
            ],
            [
             0.5,
             "#f7f7f7"
            ],
            [
             0.6,
             "#e6f5d0"
            ],
            [
             0.7,
             "#b8e186"
            ],
            [
             0.8,
             "#7fbc41"
            ],
            [
             0.9,
             "#4d9221"
            ],
            [
             1,
             "#276419"
            ]
           ],
           "sequential": [
            [
             0,
             "#0d0887"
            ],
            [
             0.1111111111111111,
             "#46039f"
            ],
            [
             0.2222222222222222,
             "#7201a8"
            ],
            [
             0.3333333333333333,
             "#9c179e"
            ],
            [
             0.4444444444444444,
             "#bd3786"
            ],
            [
             0.5555555555555556,
             "#d8576b"
            ],
            [
             0.6666666666666666,
             "#ed7953"
            ],
            [
             0.7777777777777778,
             "#fb9f3a"
            ],
            [
             0.8888888888888888,
             "#fdca26"
            ],
            [
             1,
             "#f0f921"
            ]
           ],
           "sequentialminus": [
            [
             0,
             "#0d0887"
            ],
            [
             0.1111111111111111,
             "#46039f"
            ],
            [
             0.2222222222222222,
             "#7201a8"
            ],
            [
             0.3333333333333333,
             "#9c179e"
            ],
            [
             0.4444444444444444,
             "#bd3786"
            ],
            [
             0.5555555555555556,
             "#d8576b"
            ],
            [
             0.6666666666666666,
             "#ed7953"
            ],
            [
             0.7777777777777778,
             "#fb9f3a"
            ],
            [
             0.8888888888888888,
             "#fdca26"
            ],
            [
             1,
             "#f0f921"
            ]
           ]
          },
          "colorway": [
           "#636efa",
           "#EF553B",
           "#00cc96",
           "#ab63fa",
           "#FFA15A",
           "#19d3f3",
           "#FF6692",
           "#B6E880",
           "#FF97FF",
           "#FECB52"
          ],
          "font": {
           "color": "#2a3f5f"
          },
          "geo": {
           "bgcolor": "white",
           "lakecolor": "white",
           "landcolor": "#E5ECF6",
           "showlakes": true,
           "showland": true,
           "subunitcolor": "white"
          },
          "hoverlabel": {
           "align": "left"
          },
          "hovermode": "closest",
          "mapbox": {
           "style": "light"
          },
          "paper_bgcolor": "white",
          "plot_bgcolor": "#E5ECF6",
          "polar": {
           "angularaxis": {
            "gridcolor": "white",
            "linecolor": "white",
            "ticks": ""
           },
           "bgcolor": "#E5ECF6",
           "radialaxis": {
            "gridcolor": "white",
            "linecolor": "white",
            "ticks": ""
           }
          },
          "scene": {
           "xaxis": {
            "backgroundcolor": "#E5ECF6",
            "gridcolor": "white",
            "gridwidth": 2,
            "linecolor": "white",
            "showbackground": true,
            "ticks": "",
            "zerolinecolor": "white"
           },
           "yaxis": {
            "backgroundcolor": "#E5ECF6",
            "gridcolor": "white",
            "gridwidth": 2,
            "linecolor": "white",
            "showbackground": true,
            "ticks": "",
            "zerolinecolor": "white"
           },
           "zaxis": {
            "backgroundcolor": "#E5ECF6",
            "gridcolor": "white",
            "gridwidth": 2,
            "linecolor": "white",
            "showbackground": true,
            "ticks": "",
            "zerolinecolor": "white"
           }
          },
          "shapedefaults": {
           "line": {
            "color": "#2a3f5f"
           }
          },
          "ternary": {
           "aaxis": {
            "gridcolor": "white",
            "linecolor": "white",
            "ticks": ""
           },
           "baxis": {
            "gridcolor": "white",
            "linecolor": "white",
            "ticks": ""
           },
           "bgcolor": "#E5ECF6",
           "caxis": {
            "gridcolor": "white",
            "linecolor": "white",
            "ticks": ""
           }
          },
          "title": {
           "x": 0.05
          },
          "xaxis": {
           "automargin": true,
           "gridcolor": "white",
           "linecolor": "white",
           "ticks": "",
           "title": {
            "standoff": 15
           },
           "zerolinecolor": "white",
           "zerolinewidth": 2
          },
          "yaxis": {
           "automargin": true,
           "gridcolor": "white",
           "linecolor": "white",
           "ticks": "",
           "title": {
            "standoff": 15
           },
           "zerolinecolor": "white",
           "zerolinewidth": 2
          }
         }
        },
        "title": {
         "text": "Weekly Sales Over Time by Store"
        },
        "xaxis": {
         "anchor": "y",
         "domain": [
          0,
          0.49
         ],
         "title": {
          "text": "date"
         }
        },
        "xaxis10": {
         "anchor": "y10",
         "domain": [
          0.51,
          1
         ],
         "matches": "x",
         "showticklabels": false
        },
        "xaxis2": {
         "anchor": "y2",
         "domain": [
          0.51,
          1
         ],
         "matches": "x",
         "title": {
          "text": "date"
         }
        },
        "xaxis3": {
         "anchor": "y3",
         "domain": [
          0,
          0.49
         ],
         "matches": "x",
         "showticklabels": false
        },
        "xaxis4": {
         "anchor": "y4",
         "domain": [
          0.51,
          1
         ],
         "matches": "x",
         "showticklabels": false
        },
        "xaxis5": {
         "anchor": "y5",
         "domain": [
          0,
          0.49
         ],
         "matches": "x",
         "showticklabels": false
        },
        "xaxis6": {
         "anchor": "y6",
         "domain": [
          0.51,
          1
         ],
         "matches": "x",
         "showticklabels": false
        },
        "xaxis7": {
         "anchor": "y7",
         "domain": [
          0,
          0.49
         ],
         "matches": "x",
         "showticklabels": false
        },
        "xaxis8": {
         "anchor": "y8",
         "domain": [
          0.51,
          1
         ],
         "matches": "x",
         "showticklabels": false
        },
        "xaxis9": {
         "anchor": "y9",
         "domain": [
          0,
          0.49
         ],
         "matches": "x",
         "showticklabels": false
        },
        "yaxis": {
         "anchor": "x",
         "domain": [
          0,
          0.144
         ],
         "title": {
          "text": "weekly_sales"
         }
        },
        "yaxis10": {
         "anchor": "x10",
         "domain": [
          0.856,
          1
         ],
         "matches": "y",
         "showticklabels": false
        },
        "yaxis2": {
         "anchor": "x2",
         "domain": [
          0,
          0.144
         ],
         "matches": "y",
         "showticklabels": false
        },
        "yaxis3": {
         "anchor": "x3",
         "domain": [
          0.214,
          0.358
         ],
         "matches": "y",
         "title": {
          "text": "weekly_sales"
         }
        },
        "yaxis4": {
         "anchor": "x4",
         "domain": [
          0.214,
          0.358
         ],
         "matches": "y",
         "showticklabels": false
        },
        "yaxis5": {
         "anchor": "x5",
         "domain": [
          0.428,
          0.572
         ],
         "matches": "y",
         "title": {
          "text": "weekly_sales"
         }
        },
        "yaxis6": {
         "anchor": "x6",
         "domain": [
          0.428,
          0.572
         ],
         "matches": "y",
         "showticklabels": false
        },
        "yaxis7": {
         "anchor": "x7",
         "domain": [
          0.6419999999999999,
          0.7859999999999999
         ],
         "matches": "y",
         "title": {
          "text": "weekly_sales"
         }
        },
        "yaxis8": {
         "anchor": "x8",
         "domain": [
          0.6419999999999999,
          0.7859999999999999
         ],
         "matches": "y",
         "showticklabels": false
        },
        "yaxis9": {
         "anchor": "x9",
         "domain": [
          0.856,
          1
         ],
         "matches": "y",
         "title": {
          "text": "weekly_sales"
         }
        }
       }
      }
     },
     "metadata": {},
     "output_type": "display_data"
    }
   ],
   "source": [
    "# Weekly Sales Over Time\n",
    "\n",
    "sample_stores = df['store_name'].unique()[:10]  \n",
    "\n",
    "sample_df = df[df['store_name'].isin(sample_stores)]\n",
    "sample_df = sample_df.groupby(['store_name', 'date'])['weekly_sales'].sum().reset_index()\n",
    "\n",
    "fig = px.line(sample_df, x='date', y='weekly_sales', color='store_name', facet_col='store_name',\n",
    "              facet_col_wrap=2, title='Weekly Sales Over Time by Store')\n",
    "fig.update_layout(height=800)\n",
    "fig.show()\n"
   ]
  },
  {
   "cell_type": "code",
   "execution_count": 9,
   "id": "37db1800",
   "metadata": {},
   "outputs": [
    {
     "data": {
      "application/vnd.plotly.v1+json": {
       "config": {
        "plotlyServerURL": "https://plot.ly"
       },
       "data": [
        {
         "hovertemplate": "month=%{x}<br>monthly_sales=%{y}<extra></extra>",
         "legendgroup": "",
         "line": {
          "color": "#636efa",
          "dash": "solid"
         },
         "marker": {
          "symbol": "circle"
         },
         "mode": "lines",
         "name": "",
         "orientation": "v",
         "showlegend": false,
         "type": "scatter",
         "x": [
          "2010-01",
          "2010-02",
          "2010-03",
          "2010-04",
          "2010-05",
          "2010-06",
          "2010-07",
          "2010-08",
          "2010-09",
          "2010-10",
          "2010-11",
          "2010-12",
          "2011-01",
          "2011-02",
          "2011-03",
          "2011-04",
          "2011-05",
          "2011-06",
          "2011-07",
          "2011-08",
          "2011-09",
          "2011-10",
          "2011-11",
          "2011-12",
          "2012-01",
          "2012-02",
          "2012-03",
          "2012-04",
          "2012-05",
          "2012-06",
          "2012-07",
          "2012-08",
          "2012-09",
          "2012-10",
          "2012-11",
          "2012-12"
         ],
         "xaxis": "x",
         "y": {
          "bdata": "j8L1HjwkhEFxPQoPUK+XQY/C9dW2JpdBj8L1+Ifuh0GuR2HB1PmgQY/C9Thm/IZBw/UoXM4gh0E9Ctfxu4GFQaRwPc+AtpZBH4XrwO4mmEFcj8KVM86GQdej8HVEvKBBXI/CGn20lUFxPQovIZiWQdejcNGcQYdBhetRlhDnoEFcj8JXQ+WGQYXrUTJ0WIZBuB6FUGZ0lUGF61Gq2FmWQR+F61xiZZhBFK5HNQ+7hkGuR+HR0b2gQXsUrgmzDYZBXI/CjcEFh0Fcj8JXV1iGQZqZmc4mT5ZB16NwL3d4hkFI4Xp6ea6GQWZmZk/P2KFBSOF6WqoLh0GkcD0e76yHQa5H4TD0o4ZBPQrX65s5l0Efheu3QWCGQQAAABLs/oVB",
          "dtype": "f8"
         },
         "yaxis": "y"
        }
       ],
       "layout": {
        "legend": {
         "tracegroupgap": 0
        },
        "template": {
         "data": {
          "bar": [
           {
            "error_x": {
             "color": "#2a3f5f"
            },
            "error_y": {
             "color": "#2a3f5f"
            },
            "marker": {
             "line": {
              "color": "#E5ECF6",
              "width": 0.5
             },
             "pattern": {
              "fillmode": "overlay",
              "size": 10,
              "solidity": 0.2
             }
            },
            "type": "bar"
           }
          ],
          "barpolar": [
           {
            "marker": {
             "line": {
              "color": "#E5ECF6",
              "width": 0.5
             },
             "pattern": {
              "fillmode": "overlay",
              "size": 10,
              "solidity": 0.2
             }
            },
            "type": "barpolar"
           }
          ],
          "carpet": [
           {
            "aaxis": {
             "endlinecolor": "#2a3f5f",
             "gridcolor": "white",
             "linecolor": "white",
             "minorgridcolor": "white",
             "startlinecolor": "#2a3f5f"
            },
            "baxis": {
             "endlinecolor": "#2a3f5f",
             "gridcolor": "white",
             "linecolor": "white",
             "minorgridcolor": "white",
             "startlinecolor": "#2a3f5f"
            },
            "type": "carpet"
           }
          ],
          "choropleth": [
           {
            "colorbar": {
             "outlinewidth": 0,
             "ticks": ""
            },
            "type": "choropleth"
           }
          ],
          "contour": [
           {
            "colorbar": {
             "outlinewidth": 0,
             "ticks": ""
            },
            "colorscale": [
             [
              0,
              "#0d0887"
             ],
             [
              0.1111111111111111,
              "#46039f"
             ],
             [
              0.2222222222222222,
              "#7201a8"
             ],
             [
              0.3333333333333333,
              "#9c179e"
             ],
             [
              0.4444444444444444,
              "#bd3786"
             ],
             [
              0.5555555555555556,
              "#d8576b"
             ],
             [
              0.6666666666666666,
              "#ed7953"
             ],
             [
              0.7777777777777778,
              "#fb9f3a"
             ],
             [
              0.8888888888888888,
              "#fdca26"
             ],
             [
              1,
              "#f0f921"
             ]
            ],
            "type": "contour"
           }
          ],
          "contourcarpet": [
           {
            "colorbar": {
             "outlinewidth": 0,
             "ticks": ""
            },
            "type": "contourcarpet"
           }
          ],
          "heatmap": [
           {
            "colorbar": {
             "outlinewidth": 0,
             "ticks": ""
            },
            "colorscale": [
             [
              0,
              "#0d0887"
             ],
             [
              0.1111111111111111,
              "#46039f"
             ],
             [
              0.2222222222222222,
              "#7201a8"
             ],
             [
              0.3333333333333333,
              "#9c179e"
             ],
             [
              0.4444444444444444,
              "#bd3786"
             ],
             [
              0.5555555555555556,
              "#d8576b"
             ],
             [
              0.6666666666666666,
              "#ed7953"
             ],
             [
              0.7777777777777778,
              "#fb9f3a"
             ],
             [
              0.8888888888888888,
              "#fdca26"
             ],
             [
              1,
              "#f0f921"
             ]
            ],
            "type": "heatmap"
           }
          ],
          "histogram": [
           {
            "marker": {
             "pattern": {
              "fillmode": "overlay",
              "size": 10,
              "solidity": 0.2
             }
            },
            "type": "histogram"
           }
          ],
          "histogram2d": [
           {
            "colorbar": {
             "outlinewidth": 0,
             "ticks": ""
            },
            "colorscale": [
             [
              0,
              "#0d0887"
             ],
             [
              0.1111111111111111,
              "#46039f"
             ],
             [
              0.2222222222222222,
              "#7201a8"
             ],
             [
              0.3333333333333333,
              "#9c179e"
             ],
             [
              0.4444444444444444,
              "#bd3786"
             ],
             [
              0.5555555555555556,
              "#d8576b"
             ],
             [
              0.6666666666666666,
              "#ed7953"
             ],
             [
              0.7777777777777778,
              "#fb9f3a"
             ],
             [
              0.8888888888888888,
              "#fdca26"
             ],
             [
              1,
              "#f0f921"
             ]
            ],
            "type": "histogram2d"
           }
          ],
          "histogram2dcontour": [
           {
            "colorbar": {
             "outlinewidth": 0,
             "ticks": ""
            },
            "colorscale": [
             [
              0,
              "#0d0887"
             ],
             [
              0.1111111111111111,
              "#46039f"
             ],
             [
              0.2222222222222222,
              "#7201a8"
             ],
             [
              0.3333333333333333,
              "#9c179e"
             ],
             [
              0.4444444444444444,
              "#bd3786"
             ],
             [
              0.5555555555555556,
              "#d8576b"
             ],
             [
              0.6666666666666666,
              "#ed7953"
             ],
             [
              0.7777777777777778,
              "#fb9f3a"
             ],
             [
              0.8888888888888888,
              "#fdca26"
             ],
             [
              1,
              "#f0f921"
             ]
            ],
            "type": "histogram2dcontour"
           }
          ],
          "mesh3d": [
           {
            "colorbar": {
             "outlinewidth": 0,
             "ticks": ""
            },
            "type": "mesh3d"
           }
          ],
          "parcoords": [
           {
            "line": {
             "colorbar": {
              "outlinewidth": 0,
              "ticks": ""
             }
            },
            "type": "parcoords"
           }
          ],
          "pie": [
           {
            "automargin": true,
            "type": "pie"
           }
          ],
          "scatter": [
           {
            "fillpattern": {
             "fillmode": "overlay",
             "size": 10,
             "solidity": 0.2
            },
            "type": "scatter"
           }
          ],
          "scatter3d": [
           {
            "line": {
             "colorbar": {
              "outlinewidth": 0,
              "ticks": ""
             }
            },
            "marker": {
             "colorbar": {
              "outlinewidth": 0,
              "ticks": ""
             }
            },
            "type": "scatter3d"
           }
          ],
          "scattercarpet": [
           {
            "marker": {
             "colorbar": {
              "outlinewidth": 0,
              "ticks": ""
             }
            },
            "type": "scattercarpet"
           }
          ],
          "scattergeo": [
           {
            "marker": {
             "colorbar": {
              "outlinewidth": 0,
              "ticks": ""
             }
            },
            "type": "scattergeo"
           }
          ],
          "scattergl": [
           {
            "marker": {
             "colorbar": {
              "outlinewidth": 0,
              "ticks": ""
             }
            },
            "type": "scattergl"
           }
          ],
          "scattermap": [
           {
            "marker": {
             "colorbar": {
              "outlinewidth": 0,
              "ticks": ""
             }
            },
            "type": "scattermap"
           }
          ],
          "scattermapbox": [
           {
            "marker": {
             "colorbar": {
              "outlinewidth": 0,
              "ticks": ""
             }
            },
            "type": "scattermapbox"
           }
          ],
          "scatterpolar": [
           {
            "marker": {
             "colorbar": {
              "outlinewidth": 0,
              "ticks": ""
             }
            },
            "type": "scatterpolar"
           }
          ],
          "scatterpolargl": [
           {
            "marker": {
             "colorbar": {
              "outlinewidth": 0,
              "ticks": ""
             }
            },
            "type": "scatterpolargl"
           }
          ],
          "scatterternary": [
           {
            "marker": {
             "colorbar": {
              "outlinewidth": 0,
              "ticks": ""
             }
            },
            "type": "scatterternary"
           }
          ],
          "surface": [
           {
            "colorbar": {
             "outlinewidth": 0,
             "ticks": ""
            },
            "colorscale": [
             [
              0,
              "#0d0887"
             ],
             [
              0.1111111111111111,
              "#46039f"
             ],
             [
              0.2222222222222222,
              "#7201a8"
             ],
             [
              0.3333333333333333,
              "#9c179e"
             ],
             [
              0.4444444444444444,
              "#bd3786"
             ],
             [
              0.5555555555555556,
              "#d8576b"
             ],
             [
              0.6666666666666666,
              "#ed7953"
             ],
             [
              0.7777777777777778,
              "#fb9f3a"
             ],
             [
              0.8888888888888888,
              "#fdca26"
             ],
             [
              1,
              "#f0f921"
             ]
            ],
            "type": "surface"
           }
          ],
          "table": [
           {
            "cells": {
             "fill": {
              "color": "#EBF0F8"
             },
             "line": {
              "color": "white"
             }
            },
            "header": {
             "fill": {
              "color": "#C8D4E3"
             },
             "line": {
              "color": "white"
             }
            },
            "type": "table"
           }
          ]
         },
         "layout": {
          "annotationdefaults": {
           "arrowcolor": "#2a3f5f",
           "arrowhead": 0,
           "arrowwidth": 1
          },
          "autotypenumbers": "strict",
          "coloraxis": {
           "colorbar": {
            "outlinewidth": 0,
            "ticks": ""
           }
          },
          "colorscale": {
           "diverging": [
            [
             0,
             "#8e0152"
            ],
            [
             0.1,
             "#c51b7d"
            ],
            [
             0.2,
             "#de77ae"
            ],
            [
             0.3,
             "#f1b6da"
            ],
            [
             0.4,
             "#fde0ef"
            ],
            [
             0.5,
             "#f7f7f7"
            ],
            [
             0.6,
             "#e6f5d0"
            ],
            [
             0.7,
             "#b8e186"
            ],
            [
             0.8,
             "#7fbc41"
            ],
            [
             0.9,
             "#4d9221"
            ],
            [
             1,
             "#276419"
            ]
           ],
           "sequential": [
            [
             0,
             "#0d0887"
            ],
            [
             0.1111111111111111,
             "#46039f"
            ],
            [
             0.2222222222222222,
             "#7201a8"
            ],
            [
             0.3333333333333333,
             "#9c179e"
            ],
            [
             0.4444444444444444,
             "#bd3786"
            ],
            [
             0.5555555555555556,
             "#d8576b"
            ],
            [
             0.6666666666666666,
             "#ed7953"
            ],
            [
             0.7777777777777778,
             "#fb9f3a"
            ],
            [
             0.8888888888888888,
             "#fdca26"
            ],
            [
             1,
             "#f0f921"
            ]
           ],
           "sequentialminus": [
            [
             0,
             "#0d0887"
            ],
            [
             0.1111111111111111,
             "#46039f"
            ],
            [
             0.2222222222222222,
             "#7201a8"
            ],
            [
             0.3333333333333333,
             "#9c179e"
            ],
            [
             0.4444444444444444,
             "#bd3786"
            ],
            [
             0.5555555555555556,
             "#d8576b"
            ],
            [
             0.6666666666666666,
             "#ed7953"
            ],
            [
             0.7777777777777778,
             "#fb9f3a"
            ],
            [
             0.8888888888888888,
             "#fdca26"
            ],
            [
             1,
             "#f0f921"
            ]
           ]
          },
          "colorway": [
           "#636efa",
           "#EF553B",
           "#00cc96",
           "#ab63fa",
           "#FFA15A",
           "#19d3f3",
           "#FF6692",
           "#B6E880",
           "#FF97FF",
           "#FECB52"
          ],
          "font": {
           "color": "#2a3f5f"
          },
          "geo": {
           "bgcolor": "white",
           "lakecolor": "white",
           "landcolor": "#E5ECF6",
           "showlakes": true,
           "showland": true,
           "subunitcolor": "white"
          },
          "hoverlabel": {
           "align": "left"
          },
          "hovermode": "closest",
          "mapbox": {
           "style": "light"
          },
          "paper_bgcolor": "white",
          "plot_bgcolor": "#E5ECF6",
          "polar": {
           "angularaxis": {
            "gridcolor": "white",
            "linecolor": "white",
            "ticks": ""
           },
           "bgcolor": "#E5ECF6",
           "radialaxis": {
            "gridcolor": "white",
            "linecolor": "white",
            "ticks": ""
           }
          },
          "scene": {
           "xaxis": {
            "backgroundcolor": "#E5ECF6",
            "gridcolor": "white",
            "gridwidth": 2,
            "linecolor": "white",
            "showbackground": true,
            "ticks": "",
            "zerolinecolor": "white"
           },
           "yaxis": {
            "backgroundcolor": "#E5ECF6",
            "gridcolor": "white",
            "gridwidth": 2,
            "linecolor": "white",
            "showbackground": true,
            "ticks": "",
            "zerolinecolor": "white"
           },
           "zaxis": {
            "backgroundcolor": "#E5ECF6",
            "gridcolor": "white",
            "gridwidth": 2,
            "linecolor": "white",
            "showbackground": true,
            "ticks": "",
            "zerolinecolor": "white"
           }
          },
          "shapedefaults": {
           "line": {
            "color": "#2a3f5f"
           }
          },
          "ternary": {
           "aaxis": {
            "gridcolor": "white",
            "linecolor": "white",
            "ticks": ""
           },
           "baxis": {
            "gridcolor": "white",
            "linecolor": "white",
            "ticks": ""
           },
           "bgcolor": "#E5ECF6",
           "caxis": {
            "gridcolor": "white",
            "linecolor": "white",
            "ticks": ""
           }
          },
          "title": {
           "x": 0.05
          },
          "xaxis": {
           "automargin": true,
           "gridcolor": "white",
           "linecolor": "white",
           "ticks": "",
           "title": {
            "standoff": 15
           },
           "zerolinecolor": "white",
           "zerolinewidth": 2
          },
          "yaxis": {
           "automargin": true,
           "gridcolor": "white",
           "linecolor": "white",
           "ticks": "",
           "title": {
            "standoff": 15
           },
           "zerolinecolor": "white",
           "zerolinewidth": 2
          }
         }
        },
        "title": {
         "text": "Monthly Sales Trend"
        },
        "xaxis": {
         "anchor": "y",
         "domain": [
          0,
          1
         ],
         "title": {
          "text": "Month"
         }
        },
        "yaxis": {
         "anchor": "x",
         "domain": [
          0,
          1
         ],
         "title": {
          "text": "Total Monthly Sales"
         }
        }
       }
      }
     },
     "metadata": {},
     "output_type": "display_data"
    }
   ],
   "source": [
    "# Monthly Sales across all stores\n",
    "\n",
    "df['month'] = df['date'].dt.to_period('M').astype(str)\n",
    "\n",
    "monthly_sales = df.groupby('month')['weekly_sales'].sum().reset_index()\n",
    "monthly_sales.rename(columns={'weekly_sales': 'monthly_sales'}, inplace=True)\n",
    "\n",
    "fig = px.line(monthly_sales, x='month', y='monthly_sales', title='Monthly Sales Trend')\n",
    "fig.update_layout(xaxis_title='Month', yaxis_title='Total Monthly Sales')\n",
    "fig.show()\n"
   ]
  },
  {
   "cell_type": "code",
   "execution_count": 10,
   "id": "fda48dfa",
   "metadata": {},
   "outputs": [
    {
     "data": {
      "application/vnd.plotly.v1+json": {
       "config": {
        "plotlyServerURL": "https://plot.ly"
       },
       "data": [
        {
         "hovertemplate": "Day=%{x}<br>Sales=%{y}<extra></extra>",
         "legendgroup": "",
         "marker": {
          "color": "#636efa",
          "pattern": {
           "shape": ""
          }
         },
         "name": "",
         "orientation": "v",
         "showlegend": false,
         "textposition": "auto",
         "type": "bar",
         "x": [
          "Monday",
          "Tuesday",
          "Wednesday",
          "Thursday",
          "Friday",
          "Saturday",
          "Sunday"
         ],
         "xaxis": "x",
         "y": {
          "bdata": "E5evqJOdMEG+jQLHNFUwQWwuJM38by9BETY8PV0pMEE8KmA3OrYvQadJ21sJ7i9Bbb9hvqsSMEE=",
          "dtype": "f8"
         },
         "yaxis": "y"
        }
       ],
       "layout": {
        "barmode": "relative",
        "legend": {
         "tracegroupgap": 0
        },
        "template": {
         "data": {
          "bar": [
           {
            "error_x": {
             "color": "#2a3f5f"
            },
            "error_y": {
             "color": "#2a3f5f"
            },
            "marker": {
             "line": {
              "color": "#E5ECF6",
              "width": 0.5
             },
             "pattern": {
              "fillmode": "overlay",
              "size": 10,
              "solidity": 0.2
             }
            },
            "type": "bar"
           }
          ],
          "barpolar": [
           {
            "marker": {
             "line": {
              "color": "#E5ECF6",
              "width": 0.5
             },
             "pattern": {
              "fillmode": "overlay",
              "size": 10,
              "solidity": 0.2
             }
            },
            "type": "barpolar"
           }
          ],
          "carpet": [
           {
            "aaxis": {
             "endlinecolor": "#2a3f5f",
             "gridcolor": "white",
             "linecolor": "white",
             "minorgridcolor": "white",
             "startlinecolor": "#2a3f5f"
            },
            "baxis": {
             "endlinecolor": "#2a3f5f",
             "gridcolor": "white",
             "linecolor": "white",
             "minorgridcolor": "white",
             "startlinecolor": "#2a3f5f"
            },
            "type": "carpet"
           }
          ],
          "choropleth": [
           {
            "colorbar": {
             "outlinewidth": 0,
             "ticks": ""
            },
            "type": "choropleth"
           }
          ],
          "contour": [
           {
            "colorbar": {
             "outlinewidth": 0,
             "ticks": ""
            },
            "colorscale": [
             [
              0,
              "#0d0887"
             ],
             [
              0.1111111111111111,
              "#46039f"
             ],
             [
              0.2222222222222222,
              "#7201a8"
             ],
             [
              0.3333333333333333,
              "#9c179e"
             ],
             [
              0.4444444444444444,
              "#bd3786"
             ],
             [
              0.5555555555555556,
              "#d8576b"
             ],
             [
              0.6666666666666666,
              "#ed7953"
             ],
             [
              0.7777777777777778,
              "#fb9f3a"
             ],
             [
              0.8888888888888888,
              "#fdca26"
             ],
             [
              1,
              "#f0f921"
             ]
            ],
            "type": "contour"
           }
          ],
          "contourcarpet": [
           {
            "colorbar": {
             "outlinewidth": 0,
             "ticks": ""
            },
            "type": "contourcarpet"
           }
          ],
          "heatmap": [
           {
            "colorbar": {
             "outlinewidth": 0,
             "ticks": ""
            },
            "colorscale": [
             [
              0,
              "#0d0887"
             ],
             [
              0.1111111111111111,
              "#46039f"
             ],
             [
              0.2222222222222222,
              "#7201a8"
             ],
             [
              0.3333333333333333,
              "#9c179e"
             ],
             [
              0.4444444444444444,
              "#bd3786"
             ],
             [
              0.5555555555555556,
              "#d8576b"
             ],
             [
              0.6666666666666666,
              "#ed7953"
             ],
             [
              0.7777777777777778,
              "#fb9f3a"
             ],
             [
              0.8888888888888888,
              "#fdca26"
             ],
             [
              1,
              "#f0f921"
             ]
            ],
            "type": "heatmap"
           }
          ],
          "histogram": [
           {
            "marker": {
             "pattern": {
              "fillmode": "overlay",
              "size": 10,
              "solidity": 0.2
             }
            },
            "type": "histogram"
           }
          ],
          "histogram2d": [
           {
            "colorbar": {
             "outlinewidth": 0,
             "ticks": ""
            },
            "colorscale": [
             [
              0,
              "#0d0887"
             ],
             [
              0.1111111111111111,
              "#46039f"
             ],
             [
              0.2222222222222222,
              "#7201a8"
             ],
             [
              0.3333333333333333,
              "#9c179e"
             ],
             [
              0.4444444444444444,
              "#bd3786"
             ],
             [
              0.5555555555555556,
              "#d8576b"
             ],
             [
              0.6666666666666666,
              "#ed7953"
             ],
             [
              0.7777777777777778,
              "#fb9f3a"
             ],
             [
              0.8888888888888888,
              "#fdca26"
             ],
             [
              1,
              "#f0f921"
             ]
            ],
            "type": "histogram2d"
           }
          ],
          "histogram2dcontour": [
           {
            "colorbar": {
             "outlinewidth": 0,
             "ticks": ""
            },
            "colorscale": [
             [
              0,
              "#0d0887"
             ],
             [
              0.1111111111111111,
              "#46039f"
             ],
             [
              0.2222222222222222,
              "#7201a8"
             ],
             [
              0.3333333333333333,
              "#9c179e"
             ],
             [
              0.4444444444444444,
              "#bd3786"
             ],
             [
              0.5555555555555556,
              "#d8576b"
             ],
             [
              0.6666666666666666,
              "#ed7953"
             ],
             [
              0.7777777777777778,
              "#fb9f3a"
             ],
             [
              0.8888888888888888,
              "#fdca26"
             ],
             [
              1,
              "#f0f921"
             ]
            ],
            "type": "histogram2dcontour"
           }
          ],
          "mesh3d": [
           {
            "colorbar": {
             "outlinewidth": 0,
             "ticks": ""
            },
            "type": "mesh3d"
           }
          ],
          "parcoords": [
           {
            "line": {
             "colorbar": {
              "outlinewidth": 0,
              "ticks": ""
             }
            },
            "type": "parcoords"
           }
          ],
          "pie": [
           {
            "automargin": true,
            "type": "pie"
           }
          ],
          "scatter": [
           {
            "fillpattern": {
             "fillmode": "overlay",
             "size": 10,
             "solidity": 0.2
            },
            "type": "scatter"
           }
          ],
          "scatter3d": [
           {
            "line": {
             "colorbar": {
              "outlinewidth": 0,
              "ticks": ""
             }
            },
            "marker": {
             "colorbar": {
              "outlinewidth": 0,
              "ticks": ""
             }
            },
            "type": "scatter3d"
           }
          ],
          "scattercarpet": [
           {
            "marker": {
             "colorbar": {
              "outlinewidth": 0,
              "ticks": ""
             }
            },
            "type": "scattercarpet"
           }
          ],
          "scattergeo": [
           {
            "marker": {
             "colorbar": {
              "outlinewidth": 0,
              "ticks": ""
             }
            },
            "type": "scattergeo"
           }
          ],
          "scattergl": [
           {
            "marker": {
             "colorbar": {
              "outlinewidth": 0,
              "ticks": ""
             }
            },
            "type": "scattergl"
           }
          ],
          "scattermap": [
           {
            "marker": {
             "colorbar": {
              "outlinewidth": 0,
              "ticks": ""
             }
            },
            "type": "scattermap"
           }
          ],
          "scattermapbox": [
           {
            "marker": {
             "colorbar": {
              "outlinewidth": 0,
              "ticks": ""
             }
            },
            "type": "scattermapbox"
           }
          ],
          "scatterpolar": [
           {
            "marker": {
             "colorbar": {
              "outlinewidth": 0,
              "ticks": ""
             }
            },
            "type": "scatterpolar"
           }
          ],
          "scatterpolargl": [
           {
            "marker": {
             "colorbar": {
              "outlinewidth": 0,
              "ticks": ""
             }
            },
            "type": "scatterpolargl"
           }
          ],
          "scatterternary": [
           {
            "marker": {
             "colorbar": {
              "outlinewidth": 0,
              "ticks": ""
             }
            },
            "type": "scatterternary"
           }
          ],
          "surface": [
           {
            "colorbar": {
             "outlinewidth": 0,
             "ticks": ""
            },
            "colorscale": [
             [
              0,
              "#0d0887"
             ],
             [
              0.1111111111111111,
              "#46039f"
             ],
             [
              0.2222222222222222,
              "#7201a8"
             ],
             [
              0.3333333333333333,
              "#9c179e"
             ],
             [
              0.4444444444444444,
              "#bd3786"
             ],
             [
              0.5555555555555556,
              "#d8576b"
             ],
             [
              0.6666666666666666,
              "#ed7953"
             ],
             [
              0.7777777777777778,
              "#fb9f3a"
             ],
             [
              0.8888888888888888,
              "#fdca26"
             ],
             [
              1,
              "#f0f921"
             ]
            ],
            "type": "surface"
           }
          ],
          "table": [
           {
            "cells": {
             "fill": {
              "color": "#EBF0F8"
             },
             "line": {
              "color": "white"
             }
            },
            "header": {
             "fill": {
              "color": "#C8D4E3"
             },
             "line": {
              "color": "white"
             }
            },
            "type": "table"
           }
          ]
         },
         "layout": {
          "annotationdefaults": {
           "arrowcolor": "#2a3f5f",
           "arrowhead": 0,
           "arrowwidth": 1
          },
          "autotypenumbers": "strict",
          "coloraxis": {
           "colorbar": {
            "outlinewidth": 0,
            "ticks": ""
           }
          },
          "colorscale": {
           "diverging": [
            [
             0,
             "#8e0152"
            ],
            [
             0.1,
             "#c51b7d"
            ],
            [
             0.2,
             "#de77ae"
            ],
            [
             0.3,
             "#f1b6da"
            ],
            [
             0.4,
             "#fde0ef"
            ],
            [
             0.5,
             "#f7f7f7"
            ],
            [
             0.6,
             "#e6f5d0"
            ],
            [
             0.7,
             "#b8e186"
            ],
            [
             0.8,
             "#7fbc41"
            ],
            [
             0.9,
             "#4d9221"
            ],
            [
             1,
             "#276419"
            ]
           ],
           "sequential": [
            [
             0,
             "#0d0887"
            ],
            [
             0.1111111111111111,
             "#46039f"
            ],
            [
             0.2222222222222222,
             "#7201a8"
            ],
            [
             0.3333333333333333,
             "#9c179e"
            ],
            [
             0.4444444444444444,
             "#bd3786"
            ],
            [
             0.5555555555555556,
             "#d8576b"
            ],
            [
             0.6666666666666666,
             "#ed7953"
            ],
            [
             0.7777777777777778,
             "#fb9f3a"
            ],
            [
             0.8888888888888888,
             "#fdca26"
            ],
            [
             1,
             "#f0f921"
            ]
           ],
           "sequentialminus": [
            [
             0,
             "#0d0887"
            ],
            [
             0.1111111111111111,
             "#46039f"
            ],
            [
             0.2222222222222222,
             "#7201a8"
            ],
            [
             0.3333333333333333,
             "#9c179e"
            ],
            [
             0.4444444444444444,
             "#bd3786"
            ],
            [
             0.5555555555555556,
             "#d8576b"
            ],
            [
             0.6666666666666666,
             "#ed7953"
            ],
            [
             0.7777777777777778,
             "#fb9f3a"
            ],
            [
             0.8888888888888888,
             "#fdca26"
            ],
            [
             1,
             "#f0f921"
            ]
           ]
          },
          "colorway": [
           "#636efa",
           "#EF553B",
           "#00cc96",
           "#ab63fa",
           "#FFA15A",
           "#19d3f3",
           "#FF6692",
           "#B6E880",
           "#FF97FF",
           "#FECB52"
          ],
          "font": {
           "color": "#2a3f5f"
          },
          "geo": {
           "bgcolor": "white",
           "lakecolor": "white",
           "landcolor": "#E5ECF6",
           "showlakes": true,
           "showland": true,
           "subunitcolor": "white"
          },
          "hoverlabel": {
           "align": "left"
          },
          "hovermode": "closest",
          "mapbox": {
           "style": "light"
          },
          "paper_bgcolor": "white",
          "plot_bgcolor": "#E5ECF6",
          "polar": {
           "angularaxis": {
            "gridcolor": "white",
            "linecolor": "white",
            "ticks": ""
           },
           "bgcolor": "#E5ECF6",
           "radialaxis": {
            "gridcolor": "white",
            "linecolor": "white",
            "ticks": ""
           }
          },
          "scene": {
           "xaxis": {
            "backgroundcolor": "#E5ECF6",
            "gridcolor": "white",
            "gridwidth": 2,
            "linecolor": "white",
            "showbackground": true,
            "ticks": "",
            "zerolinecolor": "white"
           },
           "yaxis": {
            "backgroundcolor": "#E5ECF6",
            "gridcolor": "white",
            "gridwidth": 2,
            "linecolor": "white",
            "showbackground": true,
            "ticks": "",
            "zerolinecolor": "white"
           },
           "zaxis": {
            "backgroundcolor": "#E5ECF6",
            "gridcolor": "white",
            "gridwidth": 2,
            "linecolor": "white",
            "showbackground": true,
            "ticks": "",
            "zerolinecolor": "white"
           }
          },
          "shapedefaults": {
           "line": {
            "color": "#2a3f5f"
           }
          },
          "ternary": {
           "aaxis": {
            "gridcolor": "white",
            "linecolor": "white",
            "ticks": ""
           },
           "baxis": {
            "gridcolor": "white",
            "linecolor": "white",
            "ticks": ""
           },
           "bgcolor": "#E5ECF6",
           "caxis": {
            "gridcolor": "white",
            "linecolor": "white",
            "ticks": ""
           }
          },
          "title": {
           "x": 0.05
          },
          "xaxis": {
           "automargin": true,
           "gridcolor": "white",
           "linecolor": "white",
           "ticks": "",
           "title": {
            "standoff": 15
           },
           "zerolinecolor": "white",
           "zerolinewidth": 2
          },
          "yaxis": {
           "automargin": true,
           "gridcolor": "white",
           "linecolor": "white",
           "ticks": "",
           "title": {
            "standoff": 15
           },
           "zerolinecolor": "white",
           "zerolinewidth": 2
          }
         }
        },
        "title": {
         "text": "Average Sales by Weekday"
        },
        "xaxis": {
         "anchor": "y",
         "domain": [
          0,
          1
         ],
         "title": {
          "text": "Day"
         }
        },
        "yaxis": {
         "anchor": "x",
         "domain": [
          0,
          1
         ],
         "title": {
          "text": "Sales"
         }
        }
       }
      }
     },
     "metadata": {},
     "output_type": "display_data"
    }
   ],
   "source": [
    "# Sales by day of weeek\n",
    "\n",
    "df['weekday'] = df['date'].dt.day_name()\n",
    "weekday_sales = df.groupby('weekday')['weekly_sales'].mean().reindex([\n",
    "    'Monday', 'Tuesday', 'Wednesday', 'Thursday', 'Friday', 'Saturday', 'Sunday'])\n",
    "\n",
    "fig = px.bar(weekday_sales, x=weekday_sales.index, y='weekly_sales',\n",
    "             title='Average Sales by Weekday', labels={'weekday': 'Day', 'weekly_sales': 'Sales'})\n",
    "fig.show()\n"
   ]
  },
  {
   "cell_type": "code",
   "execution_count": 12,
   "id": "307c8644",
   "metadata": {},
   "outputs": [
    {
     "data": {
      "application/vnd.plotly.v1+json": {
       "config": {
        "plotlyServerURL": "https://plot.ly"
       },
       "data": [
        {
         "hovertemplate": "<b>%{hovertext}</b><br><br>Total Sales (Millions)=%{x}<br>Store Name=%{y}<extra></extra>",
         "hovertext": [
          "Denver North",
          "Minneapolis North",
          "Sacramento North",
          "Albuquerque South",
          "Houston West",
          "Milwaukee Suburb",
          "Oakland South",
          "San Jose North",
          "Charlotte East",
          "Omaha Metro",
          "Indianapolis Downtown",
          "Miami East",
          "Indianapolis Suburb",
          "Long Beach Uptown",
          "Los Angeles North",
          "San Francisco Downtown",
          "Virginia Beach Downtown",
          "Miami Metro",
          "Indianapolis West",
          "Austin East",
          "Milwaukee West",
          "Charlotte Metro",
          "Nashville Uptown",
          "Dallas Downtown",
          "Portland Industrial",
          "Las Vegas West",
          "Tucson East",
          "San Jose Central",
          "Raleigh Uptown",
          "Long Beach East",
          "Memphis Industrial",
          "Louisville Central",
          "Oakland North",
          "Omaha Suburb",
          "Kansas City Uptown",
          "Baltimore Central",
          "Atlanta Downtown",
          "Mesa West",
          "Tulsa East",
          "Los Angeles West",
          "New York Industrial",
          "Columbus Uptown",
          "Charlotte South",
          "Las Vegas Metro",
          "Detroit West"
         ],
         "legendgroup": "",
         "marker": {
          "color": "#636efa",
          "pattern": {
           "shape": ""
          }
         },
         "name": "",
         "orientation": "h",
         "showlegend": false,
         "textposition": "auto",
         "type": "bar",
         "x": {
          "bdata": "qn18OgV6LkBunLksyz4xQJzwGg1DfjJAiUxUysalNUAl+sYhLA03QDBI+rSKjDdA7OCaGuwmOUDhAnVv6l89QIM21lEX3T1AKfmmI1/OPkBKjiII43w/QJlYS8e9K0BAvZNHHqWpQEDq9BfVfcBBQBh1lCAvV0JAJaA2aLcIREB078CE+u1EQP2JoQeEZUZAsBt0EXisSUD2/YrrTk9KQAVndDCwXkpAVSkkNquHS0CSIDvzm6BMQE/b8ewTA01A1/efBM+JTUClNHJIMJBNQLSa6NLDPU9AuE2GHSVtUEB/1C6/9g1SQNqG9lbJjlNA1COytPjYU0B6w+AOEuFTQFgnBP7y8FNAgS3I+U9xVEBHZ+yN0nNUQEtWRbjJ7VRAG65hyGKkVkAp3nX0h9NWQHrezyGXZ1lAJEBVnmMmW0ACHdbputBbQHrhzoVReVxArVYei0qSXUA+EPZ5DsNdQC+NVwfd6V5A",
          "dtype": "f8"
         },
         "xaxis": "x",
         "y": [
          "Denver North",
          "Minneapolis North",
          "Sacramento North",
          "Albuquerque South",
          "Houston West",
          "Milwaukee Suburb",
          "Oakland South",
          "San Jose North",
          "Charlotte East",
          "Omaha Metro",
          "Indianapolis Downtown",
          "Miami East",
          "Indianapolis Suburb",
          "Long Beach Uptown",
          "Los Angeles North",
          "San Francisco Downtown",
          "Virginia Beach Downtown",
          "Miami Metro",
          "Indianapolis West",
          "Austin East",
          "Milwaukee West",
          "Charlotte Metro",
          "Nashville Uptown",
          "Dallas Downtown",
          "Portland Industrial",
          "Las Vegas West",
          "Tucson East",
          "San Jose Central",
          "Raleigh Uptown",
          "Long Beach East",
          "Memphis Industrial",
          "Louisville Central",
          "Oakland North",
          "Omaha Suburb",
          "Kansas City Uptown",
          "Baltimore Central",
          "Atlanta Downtown",
          "Mesa West",
          "Tulsa East",
          "Los Angeles West",
          "New York Industrial",
          "Columbus Uptown",
          "Charlotte South",
          "Las Vegas Metro",
          "Detroit West"
         ],
         "yaxis": "y"
        }
       ],
       "layout": {
        "barmode": "relative",
        "height": 900,
        "legend": {
         "tracegroupgap": 0
        },
        "margin": {
         "b": 40,
         "l": 150,
         "r": 40,
         "t": 60
        },
        "template": {
         "data": {
          "bar": [
           {
            "error_x": {
             "color": "#2a3f5f"
            },
            "error_y": {
             "color": "#2a3f5f"
            },
            "marker": {
             "line": {
              "color": "#E5ECF6",
              "width": 0.5
             },
             "pattern": {
              "fillmode": "overlay",
              "size": 10,
              "solidity": 0.2
             }
            },
            "type": "bar"
           }
          ],
          "barpolar": [
           {
            "marker": {
             "line": {
              "color": "#E5ECF6",
              "width": 0.5
             },
             "pattern": {
              "fillmode": "overlay",
              "size": 10,
              "solidity": 0.2
             }
            },
            "type": "barpolar"
           }
          ],
          "carpet": [
           {
            "aaxis": {
             "endlinecolor": "#2a3f5f",
             "gridcolor": "white",
             "linecolor": "white",
             "minorgridcolor": "white",
             "startlinecolor": "#2a3f5f"
            },
            "baxis": {
             "endlinecolor": "#2a3f5f",
             "gridcolor": "white",
             "linecolor": "white",
             "minorgridcolor": "white",
             "startlinecolor": "#2a3f5f"
            },
            "type": "carpet"
           }
          ],
          "choropleth": [
           {
            "colorbar": {
             "outlinewidth": 0,
             "ticks": ""
            },
            "type": "choropleth"
           }
          ],
          "contour": [
           {
            "colorbar": {
             "outlinewidth": 0,
             "ticks": ""
            },
            "colorscale": [
             [
              0,
              "#0d0887"
             ],
             [
              0.1111111111111111,
              "#46039f"
             ],
             [
              0.2222222222222222,
              "#7201a8"
             ],
             [
              0.3333333333333333,
              "#9c179e"
             ],
             [
              0.4444444444444444,
              "#bd3786"
             ],
             [
              0.5555555555555556,
              "#d8576b"
             ],
             [
              0.6666666666666666,
              "#ed7953"
             ],
             [
              0.7777777777777778,
              "#fb9f3a"
             ],
             [
              0.8888888888888888,
              "#fdca26"
             ],
             [
              1,
              "#f0f921"
             ]
            ],
            "type": "contour"
           }
          ],
          "contourcarpet": [
           {
            "colorbar": {
             "outlinewidth": 0,
             "ticks": ""
            },
            "type": "contourcarpet"
           }
          ],
          "heatmap": [
           {
            "colorbar": {
             "outlinewidth": 0,
             "ticks": ""
            },
            "colorscale": [
             [
              0,
              "#0d0887"
             ],
             [
              0.1111111111111111,
              "#46039f"
             ],
             [
              0.2222222222222222,
              "#7201a8"
             ],
             [
              0.3333333333333333,
              "#9c179e"
             ],
             [
              0.4444444444444444,
              "#bd3786"
             ],
             [
              0.5555555555555556,
              "#d8576b"
             ],
             [
              0.6666666666666666,
              "#ed7953"
             ],
             [
              0.7777777777777778,
              "#fb9f3a"
             ],
             [
              0.8888888888888888,
              "#fdca26"
             ],
             [
              1,
              "#f0f921"
             ]
            ],
            "type": "heatmap"
           }
          ],
          "histogram": [
           {
            "marker": {
             "pattern": {
              "fillmode": "overlay",
              "size": 10,
              "solidity": 0.2
             }
            },
            "type": "histogram"
           }
          ],
          "histogram2d": [
           {
            "colorbar": {
             "outlinewidth": 0,
             "ticks": ""
            },
            "colorscale": [
             [
              0,
              "#0d0887"
             ],
             [
              0.1111111111111111,
              "#46039f"
             ],
             [
              0.2222222222222222,
              "#7201a8"
             ],
             [
              0.3333333333333333,
              "#9c179e"
             ],
             [
              0.4444444444444444,
              "#bd3786"
             ],
             [
              0.5555555555555556,
              "#d8576b"
             ],
             [
              0.6666666666666666,
              "#ed7953"
             ],
             [
              0.7777777777777778,
              "#fb9f3a"
             ],
             [
              0.8888888888888888,
              "#fdca26"
             ],
             [
              1,
              "#f0f921"
             ]
            ],
            "type": "histogram2d"
           }
          ],
          "histogram2dcontour": [
           {
            "colorbar": {
             "outlinewidth": 0,
             "ticks": ""
            },
            "colorscale": [
             [
              0,
              "#0d0887"
             ],
             [
              0.1111111111111111,
              "#46039f"
             ],
             [
              0.2222222222222222,
              "#7201a8"
             ],
             [
              0.3333333333333333,
              "#9c179e"
             ],
             [
              0.4444444444444444,
              "#bd3786"
             ],
             [
              0.5555555555555556,
              "#d8576b"
             ],
             [
              0.6666666666666666,
              "#ed7953"
             ],
             [
              0.7777777777777778,
              "#fb9f3a"
             ],
             [
              0.8888888888888888,
              "#fdca26"
             ],
             [
              1,
              "#f0f921"
             ]
            ],
            "type": "histogram2dcontour"
           }
          ],
          "mesh3d": [
           {
            "colorbar": {
             "outlinewidth": 0,
             "ticks": ""
            },
            "type": "mesh3d"
           }
          ],
          "parcoords": [
           {
            "line": {
             "colorbar": {
              "outlinewidth": 0,
              "ticks": ""
             }
            },
            "type": "parcoords"
           }
          ],
          "pie": [
           {
            "automargin": true,
            "type": "pie"
           }
          ],
          "scatter": [
           {
            "fillpattern": {
             "fillmode": "overlay",
             "size": 10,
             "solidity": 0.2
            },
            "type": "scatter"
           }
          ],
          "scatter3d": [
           {
            "line": {
             "colorbar": {
              "outlinewidth": 0,
              "ticks": ""
             }
            },
            "marker": {
             "colorbar": {
              "outlinewidth": 0,
              "ticks": ""
             }
            },
            "type": "scatter3d"
           }
          ],
          "scattercarpet": [
           {
            "marker": {
             "colorbar": {
              "outlinewidth": 0,
              "ticks": ""
             }
            },
            "type": "scattercarpet"
           }
          ],
          "scattergeo": [
           {
            "marker": {
             "colorbar": {
              "outlinewidth": 0,
              "ticks": ""
             }
            },
            "type": "scattergeo"
           }
          ],
          "scattergl": [
           {
            "marker": {
             "colorbar": {
              "outlinewidth": 0,
              "ticks": ""
             }
            },
            "type": "scattergl"
           }
          ],
          "scattermap": [
           {
            "marker": {
             "colorbar": {
              "outlinewidth": 0,
              "ticks": ""
             }
            },
            "type": "scattermap"
           }
          ],
          "scattermapbox": [
           {
            "marker": {
             "colorbar": {
              "outlinewidth": 0,
              "ticks": ""
             }
            },
            "type": "scattermapbox"
           }
          ],
          "scatterpolar": [
           {
            "marker": {
             "colorbar": {
              "outlinewidth": 0,
              "ticks": ""
             }
            },
            "type": "scatterpolar"
           }
          ],
          "scatterpolargl": [
           {
            "marker": {
             "colorbar": {
              "outlinewidth": 0,
              "ticks": ""
             }
            },
            "type": "scatterpolargl"
           }
          ],
          "scatterternary": [
           {
            "marker": {
             "colorbar": {
              "outlinewidth": 0,
              "ticks": ""
             }
            },
            "type": "scatterternary"
           }
          ],
          "surface": [
           {
            "colorbar": {
             "outlinewidth": 0,
             "ticks": ""
            },
            "colorscale": [
             [
              0,
              "#0d0887"
             ],
             [
              0.1111111111111111,
              "#46039f"
             ],
             [
              0.2222222222222222,
              "#7201a8"
             ],
             [
              0.3333333333333333,
              "#9c179e"
             ],
             [
              0.4444444444444444,
              "#bd3786"
             ],
             [
              0.5555555555555556,
              "#d8576b"
             ],
             [
              0.6666666666666666,
              "#ed7953"
             ],
             [
              0.7777777777777778,
              "#fb9f3a"
             ],
             [
              0.8888888888888888,
              "#fdca26"
             ],
             [
              1,
              "#f0f921"
             ]
            ],
            "type": "surface"
           }
          ],
          "table": [
           {
            "cells": {
             "fill": {
              "color": "#EBF0F8"
             },
             "line": {
              "color": "white"
             }
            },
            "header": {
             "fill": {
              "color": "#C8D4E3"
             },
             "line": {
              "color": "white"
             }
            },
            "type": "table"
           }
          ]
         },
         "layout": {
          "annotationdefaults": {
           "arrowcolor": "#2a3f5f",
           "arrowhead": 0,
           "arrowwidth": 1
          },
          "autotypenumbers": "strict",
          "coloraxis": {
           "colorbar": {
            "outlinewidth": 0,
            "ticks": ""
           }
          },
          "colorscale": {
           "diverging": [
            [
             0,
             "#8e0152"
            ],
            [
             0.1,
             "#c51b7d"
            ],
            [
             0.2,
             "#de77ae"
            ],
            [
             0.3,
             "#f1b6da"
            ],
            [
             0.4,
             "#fde0ef"
            ],
            [
             0.5,
             "#f7f7f7"
            ],
            [
             0.6,
             "#e6f5d0"
            ],
            [
             0.7,
             "#b8e186"
            ],
            [
             0.8,
             "#7fbc41"
            ],
            [
             0.9,
             "#4d9221"
            ],
            [
             1,
             "#276419"
            ]
           ],
           "sequential": [
            [
             0,
             "#0d0887"
            ],
            [
             0.1111111111111111,
             "#46039f"
            ],
            [
             0.2222222222222222,
             "#7201a8"
            ],
            [
             0.3333333333333333,
             "#9c179e"
            ],
            [
             0.4444444444444444,
             "#bd3786"
            ],
            [
             0.5555555555555556,
             "#d8576b"
            ],
            [
             0.6666666666666666,
             "#ed7953"
            ],
            [
             0.7777777777777778,
             "#fb9f3a"
            ],
            [
             0.8888888888888888,
             "#fdca26"
            ],
            [
             1,
             "#f0f921"
            ]
           ],
           "sequentialminus": [
            [
             0,
             "#0d0887"
            ],
            [
             0.1111111111111111,
             "#46039f"
            ],
            [
             0.2222222222222222,
             "#7201a8"
            ],
            [
             0.3333333333333333,
             "#9c179e"
            ],
            [
             0.4444444444444444,
             "#bd3786"
            ],
            [
             0.5555555555555556,
             "#d8576b"
            ],
            [
             0.6666666666666666,
             "#ed7953"
            ],
            [
             0.7777777777777778,
             "#fb9f3a"
            ],
            [
             0.8888888888888888,
             "#fdca26"
            ],
            [
             1,
             "#f0f921"
            ]
           ]
          },
          "colorway": [
           "#636efa",
           "#EF553B",
           "#00cc96",
           "#ab63fa",
           "#FFA15A",
           "#19d3f3",
           "#FF6692",
           "#B6E880",
           "#FF97FF",
           "#FECB52"
          ],
          "font": {
           "color": "#2a3f5f"
          },
          "geo": {
           "bgcolor": "white",
           "lakecolor": "white",
           "landcolor": "#E5ECF6",
           "showlakes": true,
           "showland": true,
           "subunitcolor": "white"
          },
          "hoverlabel": {
           "align": "left"
          },
          "hovermode": "closest",
          "mapbox": {
           "style": "light"
          },
          "paper_bgcolor": "white",
          "plot_bgcolor": "#E5ECF6",
          "polar": {
           "angularaxis": {
            "gridcolor": "white",
            "linecolor": "white",
            "ticks": ""
           },
           "bgcolor": "#E5ECF6",
           "radialaxis": {
            "gridcolor": "white",
            "linecolor": "white",
            "ticks": ""
           }
          },
          "scene": {
           "xaxis": {
            "backgroundcolor": "#E5ECF6",
            "gridcolor": "white",
            "gridwidth": 2,
            "linecolor": "white",
            "showbackground": true,
            "ticks": "",
            "zerolinecolor": "white"
           },
           "yaxis": {
            "backgroundcolor": "#E5ECF6",
            "gridcolor": "white",
            "gridwidth": 2,
            "linecolor": "white",
            "showbackground": true,
            "ticks": "",
            "zerolinecolor": "white"
           },
           "zaxis": {
            "backgroundcolor": "#E5ECF6",
            "gridcolor": "white",
            "gridwidth": 2,
            "linecolor": "white",
            "showbackground": true,
            "ticks": "",
            "zerolinecolor": "white"
           }
          },
          "shapedefaults": {
           "line": {
            "color": "#2a3f5f"
           }
          },
          "ternary": {
           "aaxis": {
            "gridcolor": "white",
            "linecolor": "white",
            "ticks": ""
           },
           "baxis": {
            "gridcolor": "white",
            "linecolor": "white",
            "ticks": ""
           },
           "bgcolor": "#E5ECF6",
           "caxis": {
            "gridcolor": "white",
            "linecolor": "white",
            "ticks": ""
           }
          },
          "title": {
           "x": 0.05
          },
          "xaxis": {
           "automargin": true,
           "gridcolor": "white",
           "linecolor": "white",
           "ticks": "",
           "title": {
            "standoff": 15
           },
           "zerolinecolor": "white",
           "zerolinewidth": 2
          },
          "yaxis": {
           "automargin": true,
           "gridcolor": "white",
           "linecolor": "white",
           "ticks": "",
           "title": {
            "standoff": 15
           },
           "zerolinecolor": "white",
           "zerolinewidth": 2
          }
         }
        },
        "title": {
         "text": "Total Sales by Store (in Millions)"
        },
        "xaxis": {
         "anchor": "y",
         "domain": [
          0,
          1
         ],
         "tickformat": ".1f",
         "title": {
          "text": "Total Sales (Millions)"
         }
        },
        "yaxis": {
         "anchor": "x",
         "domain": [
          0,
          1
         ],
         "tickfont": {
          "size": 10
         },
         "title": {
          "text": "Store Name"
         }
        }
       }
      }
     },
     "metadata": {},
     "output_type": "display_data"
    }
   ],
   "source": [
    "# Total Sales by Store\n",
    "\n",
    "import plotly.express as px\n",
    "\n",
    "store_sales = df.groupby('store_name')['weekly_sales'].sum().sort_values(ascending=True)\n",
    "store_sales_millions = store_sales / 1e6  # Convert to millions\n",
    "\n",
    "fig = px.bar(\n",
    "    x=store_sales_millions.values,\n",
    "    y=store_sales_millions.index,\n",
    "    orientation='h',\n",
    "    title='Total Sales by Store (in Millions)',\n",
    "    labels={'x': 'Total Sales (Millions)', 'y': 'Store Name'},\n",
    "    hover_name=store_sales_millions.index  # This ensures store name shows on hover\n",
    ")\n",
    "\n",
    "fig.update_layout(\n",
    "    yaxis=dict(tickfont=dict(size=10)),\n",
    "    xaxis_tickformat=\".1f\",\n",
    "    height=900,\n",
    "    margin=dict(l=150, r=40, t=60, b=40)\n",
    ")\n",
    "\n",
    "fig.show()\n"
   ]
  },
  {
   "cell_type": "code",
   "execution_count": 13,
   "id": "ce486969",
   "metadata": {},
   "outputs": [
    {
     "data": {
      "application/vnd.plotly.v1+json": {
       "config": {
        "plotlyServerURL": "https://plot.ly"
       },
       "data": [
        {
         "hovertemplate": "Week Type=Non-Holiday<br>date=%{x}<br>Total Weekly Sales=%{y}<extra></extra>",
         "legendgroup": "Non-Holiday",
         "line": {
          "color": "#636efa",
          "dash": "solid"
         },
         "marker": {
          "symbol": "circle"
         },
         "mode": "lines",
         "name": "Non-Holiday",
         "orientation": "v",
         "showlegend": true,
         "type": "scatter",
         "x": [
          "2010-01-10T00:00:00",
          "2010-02-04T00:00:00",
          "2010-02-07T00:00:00",
          "2010-03-09T00:00:00",
          "2010-03-12T00:00:00",
          "2010-04-06T00:00:00",
          "2010-05-02T00:00:00",
          "2010-05-03T00:00:00",
          "2010-05-11T00:00:00",
          "2010-06-08T00:00:00",
          "2010-07-05T00:00:00",
          "2010-08-10T00:00:00",
          "2010-09-04T00:00:00",
          "2010-09-07T00:00:00",
          "2010-10-12T00:00:00",
          "2010-11-06T00:00:00",
          "2010-12-03T00:00:00",
          "2010-12-11T00:00:00",
          "2011-01-04T00:00:00",
          "2011-01-07T00:00:00",
          "2011-02-09T00:00:00",
          "2011-02-12T00:00:00",
          "2011-03-06T00:00:00",
          "2011-04-02T00:00:00",
          "2011-04-03T00:00:00",
          "2011-04-11T00:00:00",
          "2011-05-08T00:00:00",
          "2011-06-05T00:00:00",
          "2011-07-01T00:00:00",
          "2011-07-10T00:00:00",
          "2011-08-04T00:00:00",
          "2011-08-07T00:00:00",
          "2011-09-12T00:00:00",
          "2011-10-06T00:00:00",
          "2011-11-03T00:00:00",
          "2011-11-11T00:00:00",
          "2011-12-08T00:00:00",
          "2012-01-06T00:00:00",
          "2012-02-03T00:00:00",
          "2012-03-02T00:00:00",
          "2012-03-08T00:00:00",
          "2012-04-05T00:00:00",
          "2012-05-10T00:00:00",
          "2012-06-01T00:00:00",
          "2012-06-04T00:00:00",
          "2012-06-07T00:00:00",
          "2012-08-06T00:00:00",
          "2012-09-03T00:00:00",
          "2012-10-08T00:00:00",
          "2012-11-05T00:00:00",
          "2012-12-10T00:00:00"
         ],
         "xaxis": "x",
         "y": {
          "bdata": "j8L1HjwkhEHhehS6QAuIQQAAAGRfU4dBrkfhjASBhkFxPQofacyHQY/C9fiH7odBAAAApBa5h0FmZmZynVmGQVK4Hu+e1IVBj8L1OGb8hkHD9ShcziCHQT0K1/G7gYVBuB6FU+WVhkGPwvVKHNeGQVK4HpNCi4pBXI/ClTPOhkHhehSkIOaFQQrXowZ4/oVBuB6FeQ25hEEAAAC87K+GQcP1KHojo4VBH4Xr4x6Nh0HXo3DRnEGHQY/C9bjsAYZBH4Xr3e9mhkFmZmbCZTOHQVyPwldD5YZBhetRMnRYhkHC9Shep2WEQa5H4UIlg4ZBZmZmVn/hhUGkcD3+MdKGQZqZmd1dfopBFK5HNQ+7hkEzMzO7q0eFQQAAAIZDHYdBexSuCbMNhkFcj8KNwQWHQVyPwldXWIZB7FG4QK/5hUFI4XpcnqSGQdejcC93eIZBSOF6enmuhkGamZnvuG+FQY/C9V4Lg4lBcT0K73hwiEGkcD0e76yHQa5H4TD0o4ZBhetR2I2ahkEfheu3QWCGQQAAABLs/oVB",
          "dtype": "f8"
         },
         "yaxis": "y"
        },
        {
         "hovertemplate": "Week Type=Holiday<br>date=%{x}<br>Total Weekly Sales=%{y}<extra></extra>",
         "legendgroup": "Holiday",
         "line": {
          "color": "#EF553B",
          "dash": "solid"
         },
         "marker": {
          "symbol": "circle"
         },
         "mode": "lines",
         "name": "Holiday",
         "orientation": "v",
         "showlegend": true,
         "type": "scatter",
         "x": [
          "2010-10-09T00:00:00",
          "2010-12-02T00:00:00",
          "2011-09-09T00:00:00",
          "2011-11-02T00:00:00",
          "2012-07-09T00:00:00",
          "2012-10-02T00:00:00"
         ],
         "xaxis": "x",
         "y": {
          "bdata": "61G47prChUFxPQoteQyHQaRwPdxmTIZBhetRBliShkFI4XpaqguHQfYoXP+p2IdB",
          "dtype": "f8"
         },
         "yaxis": "y"
        }
       ],
       "layout": {
        "legend": {
         "title": {
          "text": "Week Type"
         },
         "tracegroupgap": 0
        },
        "template": {
         "data": {
          "bar": [
           {
            "error_x": {
             "color": "#2a3f5f"
            },
            "error_y": {
             "color": "#2a3f5f"
            },
            "marker": {
             "line": {
              "color": "#E5ECF6",
              "width": 0.5
             },
             "pattern": {
              "fillmode": "overlay",
              "size": 10,
              "solidity": 0.2
             }
            },
            "type": "bar"
           }
          ],
          "barpolar": [
           {
            "marker": {
             "line": {
              "color": "#E5ECF6",
              "width": 0.5
             },
             "pattern": {
              "fillmode": "overlay",
              "size": 10,
              "solidity": 0.2
             }
            },
            "type": "barpolar"
           }
          ],
          "carpet": [
           {
            "aaxis": {
             "endlinecolor": "#2a3f5f",
             "gridcolor": "white",
             "linecolor": "white",
             "minorgridcolor": "white",
             "startlinecolor": "#2a3f5f"
            },
            "baxis": {
             "endlinecolor": "#2a3f5f",
             "gridcolor": "white",
             "linecolor": "white",
             "minorgridcolor": "white",
             "startlinecolor": "#2a3f5f"
            },
            "type": "carpet"
           }
          ],
          "choropleth": [
           {
            "colorbar": {
             "outlinewidth": 0,
             "ticks": ""
            },
            "type": "choropleth"
           }
          ],
          "contour": [
           {
            "colorbar": {
             "outlinewidth": 0,
             "ticks": ""
            },
            "colorscale": [
             [
              0,
              "#0d0887"
             ],
             [
              0.1111111111111111,
              "#46039f"
             ],
             [
              0.2222222222222222,
              "#7201a8"
             ],
             [
              0.3333333333333333,
              "#9c179e"
             ],
             [
              0.4444444444444444,
              "#bd3786"
             ],
             [
              0.5555555555555556,
              "#d8576b"
             ],
             [
              0.6666666666666666,
              "#ed7953"
             ],
             [
              0.7777777777777778,
              "#fb9f3a"
             ],
             [
              0.8888888888888888,
              "#fdca26"
             ],
             [
              1,
              "#f0f921"
             ]
            ],
            "type": "contour"
           }
          ],
          "contourcarpet": [
           {
            "colorbar": {
             "outlinewidth": 0,
             "ticks": ""
            },
            "type": "contourcarpet"
           }
          ],
          "heatmap": [
           {
            "colorbar": {
             "outlinewidth": 0,
             "ticks": ""
            },
            "colorscale": [
             [
              0,
              "#0d0887"
             ],
             [
              0.1111111111111111,
              "#46039f"
             ],
             [
              0.2222222222222222,
              "#7201a8"
             ],
             [
              0.3333333333333333,
              "#9c179e"
             ],
             [
              0.4444444444444444,
              "#bd3786"
             ],
             [
              0.5555555555555556,
              "#d8576b"
             ],
             [
              0.6666666666666666,
              "#ed7953"
             ],
             [
              0.7777777777777778,
              "#fb9f3a"
             ],
             [
              0.8888888888888888,
              "#fdca26"
             ],
             [
              1,
              "#f0f921"
             ]
            ],
            "type": "heatmap"
           }
          ],
          "histogram": [
           {
            "marker": {
             "pattern": {
              "fillmode": "overlay",
              "size": 10,
              "solidity": 0.2
             }
            },
            "type": "histogram"
           }
          ],
          "histogram2d": [
           {
            "colorbar": {
             "outlinewidth": 0,
             "ticks": ""
            },
            "colorscale": [
             [
              0,
              "#0d0887"
             ],
             [
              0.1111111111111111,
              "#46039f"
             ],
             [
              0.2222222222222222,
              "#7201a8"
             ],
             [
              0.3333333333333333,
              "#9c179e"
             ],
             [
              0.4444444444444444,
              "#bd3786"
             ],
             [
              0.5555555555555556,
              "#d8576b"
             ],
             [
              0.6666666666666666,
              "#ed7953"
             ],
             [
              0.7777777777777778,
              "#fb9f3a"
             ],
             [
              0.8888888888888888,
              "#fdca26"
             ],
             [
              1,
              "#f0f921"
             ]
            ],
            "type": "histogram2d"
           }
          ],
          "histogram2dcontour": [
           {
            "colorbar": {
             "outlinewidth": 0,
             "ticks": ""
            },
            "colorscale": [
             [
              0,
              "#0d0887"
             ],
             [
              0.1111111111111111,
              "#46039f"
             ],
             [
              0.2222222222222222,
              "#7201a8"
             ],
             [
              0.3333333333333333,
              "#9c179e"
             ],
             [
              0.4444444444444444,
              "#bd3786"
             ],
             [
              0.5555555555555556,
              "#d8576b"
             ],
             [
              0.6666666666666666,
              "#ed7953"
             ],
             [
              0.7777777777777778,
              "#fb9f3a"
             ],
             [
              0.8888888888888888,
              "#fdca26"
             ],
             [
              1,
              "#f0f921"
             ]
            ],
            "type": "histogram2dcontour"
           }
          ],
          "mesh3d": [
           {
            "colorbar": {
             "outlinewidth": 0,
             "ticks": ""
            },
            "type": "mesh3d"
           }
          ],
          "parcoords": [
           {
            "line": {
             "colorbar": {
              "outlinewidth": 0,
              "ticks": ""
             }
            },
            "type": "parcoords"
           }
          ],
          "pie": [
           {
            "automargin": true,
            "type": "pie"
           }
          ],
          "scatter": [
           {
            "fillpattern": {
             "fillmode": "overlay",
             "size": 10,
             "solidity": 0.2
            },
            "type": "scatter"
           }
          ],
          "scatter3d": [
           {
            "line": {
             "colorbar": {
              "outlinewidth": 0,
              "ticks": ""
             }
            },
            "marker": {
             "colorbar": {
              "outlinewidth": 0,
              "ticks": ""
             }
            },
            "type": "scatter3d"
           }
          ],
          "scattercarpet": [
           {
            "marker": {
             "colorbar": {
              "outlinewidth": 0,
              "ticks": ""
             }
            },
            "type": "scattercarpet"
           }
          ],
          "scattergeo": [
           {
            "marker": {
             "colorbar": {
              "outlinewidth": 0,
              "ticks": ""
             }
            },
            "type": "scattergeo"
           }
          ],
          "scattergl": [
           {
            "marker": {
             "colorbar": {
              "outlinewidth": 0,
              "ticks": ""
             }
            },
            "type": "scattergl"
           }
          ],
          "scattermap": [
           {
            "marker": {
             "colorbar": {
              "outlinewidth": 0,
              "ticks": ""
             }
            },
            "type": "scattermap"
           }
          ],
          "scattermapbox": [
           {
            "marker": {
             "colorbar": {
              "outlinewidth": 0,
              "ticks": ""
             }
            },
            "type": "scattermapbox"
           }
          ],
          "scatterpolar": [
           {
            "marker": {
             "colorbar": {
              "outlinewidth": 0,
              "ticks": ""
             }
            },
            "type": "scatterpolar"
           }
          ],
          "scatterpolargl": [
           {
            "marker": {
             "colorbar": {
              "outlinewidth": 0,
              "ticks": ""
             }
            },
            "type": "scatterpolargl"
           }
          ],
          "scatterternary": [
           {
            "marker": {
             "colorbar": {
              "outlinewidth": 0,
              "ticks": ""
             }
            },
            "type": "scatterternary"
           }
          ],
          "surface": [
           {
            "colorbar": {
             "outlinewidth": 0,
             "ticks": ""
            },
            "colorscale": [
             [
              0,
              "#0d0887"
             ],
             [
              0.1111111111111111,
              "#46039f"
             ],
             [
              0.2222222222222222,
              "#7201a8"
             ],
             [
              0.3333333333333333,
              "#9c179e"
             ],
             [
              0.4444444444444444,
              "#bd3786"
             ],
             [
              0.5555555555555556,
              "#d8576b"
             ],
             [
              0.6666666666666666,
              "#ed7953"
             ],
             [
              0.7777777777777778,
              "#fb9f3a"
             ],
             [
              0.8888888888888888,
              "#fdca26"
             ],
             [
              1,
              "#f0f921"
             ]
            ],
            "type": "surface"
           }
          ],
          "table": [
           {
            "cells": {
             "fill": {
              "color": "#EBF0F8"
             },
             "line": {
              "color": "white"
             }
            },
            "header": {
             "fill": {
              "color": "#C8D4E3"
             },
             "line": {
              "color": "white"
             }
            },
            "type": "table"
           }
          ]
         },
         "layout": {
          "annotationdefaults": {
           "arrowcolor": "#2a3f5f",
           "arrowhead": 0,
           "arrowwidth": 1
          },
          "autotypenumbers": "strict",
          "coloraxis": {
           "colorbar": {
            "outlinewidth": 0,
            "ticks": ""
           }
          },
          "colorscale": {
           "diverging": [
            [
             0,
             "#8e0152"
            ],
            [
             0.1,
             "#c51b7d"
            ],
            [
             0.2,
             "#de77ae"
            ],
            [
             0.3,
             "#f1b6da"
            ],
            [
             0.4,
             "#fde0ef"
            ],
            [
             0.5,
             "#f7f7f7"
            ],
            [
             0.6,
             "#e6f5d0"
            ],
            [
             0.7,
             "#b8e186"
            ],
            [
             0.8,
             "#7fbc41"
            ],
            [
             0.9,
             "#4d9221"
            ],
            [
             1,
             "#276419"
            ]
           ],
           "sequential": [
            [
             0,
             "#0d0887"
            ],
            [
             0.1111111111111111,
             "#46039f"
            ],
            [
             0.2222222222222222,
             "#7201a8"
            ],
            [
             0.3333333333333333,
             "#9c179e"
            ],
            [
             0.4444444444444444,
             "#bd3786"
            ],
            [
             0.5555555555555556,
             "#d8576b"
            ],
            [
             0.6666666666666666,
             "#ed7953"
            ],
            [
             0.7777777777777778,
             "#fb9f3a"
            ],
            [
             0.8888888888888888,
             "#fdca26"
            ],
            [
             1,
             "#f0f921"
            ]
           ],
           "sequentialminus": [
            [
             0,
             "#0d0887"
            ],
            [
             0.1111111111111111,
             "#46039f"
            ],
            [
             0.2222222222222222,
             "#7201a8"
            ],
            [
             0.3333333333333333,
             "#9c179e"
            ],
            [
             0.4444444444444444,
             "#bd3786"
            ],
            [
             0.5555555555555556,
             "#d8576b"
            ],
            [
             0.6666666666666666,
             "#ed7953"
            ],
            [
             0.7777777777777778,
             "#fb9f3a"
            ],
            [
             0.8888888888888888,
             "#fdca26"
            ],
            [
             1,
             "#f0f921"
            ]
           ]
          },
          "colorway": [
           "#636efa",
           "#EF553B",
           "#00cc96",
           "#ab63fa",
           "#FFA15A",
           "#19d3f3",
           "#FF6692",
           "#B6E880",
           "#FF97FF",
           "#FECB52"
          ],
          "font": {
           "color": "#2a3f5f"
          },
          "geo": {
           "bgcolor": "white",
           "lakecolor": "white",
           "landcolor": "#E5ECF6",
           "showlakes": true,
           "showland": true,
           "subunitcolor": "white"
          },
          "hoverlabel": {
           "align": "left"
          },
          "hovermode": "closest",
          "mapbox": {
           "style": "light"
          },
          "paper_bgcolor": "white",
          "plot_bgcolor": "#E5ECF6",
          "polar": {
           "angularaxis": {
            "gridcolor": "white",
            "linecolor": "white",
            "ticks": ""
           },
           "bgcolor": "#E5ECF6",
           "radialaxis": {
            "gridcolor": "white",
            "linecolor": "white",
            "ticks": ""
           }
          },
          "scene": {
           "xaxis": {
            "backgroundcolor": "#E5ECF6",
            "gridcolor": "white",
            "gridwidth": 2,
            "linecolor": "white",
            "showbackground": true,
            "ticks": "",
            "zerolinecolor": "white"
           },
           "yaxis": {
            "backgroundcolor": "#E5ECF6",
            "gridcolor": "white",
            "gridwidth": 2,
            "linecolor": "white",
            "showbackground": true,
            "ticks": "",
            "zerolinecolor": "white"
           },
           "zaxis": {
            "backgroundcolor": "#E5ECF6",
            "gridcolor": "white",
            "gridwidth": 2,
            "linecolor": "white",
            "showbackground": true,
            "ticks": "",
            "zerolinecolor": "white"
           }
          },
          "shapedefaults": {
           "line": {
            "color": "#2a3f5f"
           }
          },
          "ternary": {
           "aaxis": {
            "gridcolor": "white",
            "linecolor": "white",
            "ticks": ""
           },
           "baxis": {
            "gridcolor": "white",
            "linecolor": "white",
            "ticks": ""
           },
           "bgcolor": "#E5ECF6",
           "caxis": {
            "gridcolor": "white",
            "linecolor": "white",
            "ticks": ""
           }
          },
          "title": {
           "x": 0.05
          },
          "xaxis": {
           "automargin": true,
           "gridcolor": "white",
           "linecolor": "white",
           "ticks": "",
           "title": {
            "standoff": 15
           },
           "zerolinecolor": "white",
           "zerolinewidth": 2
          },
          "yaxis": {
           "automargin": true,
           "gridcolor": "white",
           "linecolor": "white",
           "ticks": "",
           "title": {
            "standoff": 15
           },
           "zerolinecolor": "white",
           "zerolinewidth": 2
          }
         }
        },
        "title": {
         "text": "Holiday vs Non-Holiday Sales Over Time"
        },
        "xaxis": {
         "anchor": "y",
         "domain": [
          0,
          1
         ],
         "title": {
          "text": "date"
         }
        },
        "yaxis": {
         "anchor": "x",
         "domain": [
          0,
          1
         ],
         "title": {
          "text": "Total Weekly Sales"
         }
        }
       }
      }
     },
     "metadata": {},
     "output_type": "display_data"
    }
   ],
   "source": [
    "# Holiday Vs Non Holiday Sales\n",
    "\n",
    "df['holiday_label'] = df['holiday_flag'].map({1: 'Holiday', 0: 'Non-Holiday'})\n",
    "\n",
    "grouped = df.groupby(['date', 'holiday_label'])['weekly_sales'].sum().reset_index()\n",
    "\n",
    "fig = px.line(\n",
    "    grouped, \n",
    "    x='date', \n",
    "    y='weekly_sales', \n",
    "    color='holiday_label',\n",
    "    title='Holiday vs Non-Holiday Sales Over Time',\n",
    "    labels={'weekly_sales': 'Total Weekly Sales', 'holiday_label': 'Week Type'}\n",
    ")\n",
    "fig.show()\n",
    "\n"
   ]
  },
  {
   "cell_type": "code",
   "execution_count": 14,
   "id": "02374baa",
   "metadata": {},
   "outputs": [
    {
     "data": {
      "application/vnd.plotly.v1+json": {
       "config": {
        "plotlyServerURL": "https://plot.ly"
       },
       "data": [
        {
         "hovertemplate": "fuel_price=%{x}<br>weekly_sales=%{y}<extra></extra>",
         "legendgroup": "",
         "marker": {
          "color": "#636efa",
          "symbol": "circle"
         },
         "mode": "markers",
         "name": "",
         "showlegend": false,
         "type": "scattergl",
         "x": {
          "bdata": "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",
          "dtype": "f8"
         },
         "xaxis": "x",
         "y": {
          "bdata": "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",
          "dtype": "f8"
         },
         "yaxis": "y"
        },
        {
         "hovertemplate": "<b>OLS trendline</b><br>weekly_sales = 33360.6 * fuel_price + 948795<br>R<sup>2</sup>=0.000765<br><br>fuel_price=%{x}<br>weekly_sales=%{y} <b>(trend)</b><extra></extra>",
         "legendgroup": "",
         "marker": {
          "color": "#636efa",
          "symbol": "circle"
         },
         "mode": "lines",
         "name": "",
         "showlegend": false,
         "type": "scattergl",
         "x": {
          "bdata": "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",
          "dtype": "f8"
         },
         "xaxis": "x",
         "y": {
          "bdata": "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",
          "dtype": "f8"
         },
         "yaxis": "y"
        }
       ],
       "layout": {
        "legend": {
         "tracegroupgap": 0
        },
        "template": {
         "data": {
          "bar": [
           {
            "error_x": {
             "color": "#2a3f5f"
            },
            "error_y": {
             "color": "#2a3f5f"
            },
            "marker": {
             "line": {
              "color": "#E5ECF6",
              "width": 0.5
             },
             "pattern": {
              "fillmode": "overlay",
              "size": 10,
              "solidity": 0.2
             }
            },
            "type": "bar"
           }
          ],
          "barpolar": [
           {
            "marker": {
             "line": {
              "color": "#E5ECF6",
              "width": 0.5
             },
             "pattern": {
              "fillmode": "overlay",
              "size": 10,
              "solidity": 0.2
             }
            },
            "type": "barpolar"
           }
          ],
          "carpet": [
           {
            "aaxis": {
             "endlinecolor": "#2a3f5f",
             "gridcolor": "white",
             "linecolor": "white",
             "minorgridcolor": "white",
             "startlinecolor": "#2a3f5f"
            },
            "baxis": {
             "endlinecolor": "#2a3f5f",
             "gridcolor": "white",
             "linecolor": "white",
             "minorgridcolor": "white",
             "startlinecolor": "#2a3f5f"
            },
            "type": "carpet"
           }
          ],
          "choropleth": [
           {
            "colorbar": {
             "outlinewidth": 0,
             "ticks": ""
            },
            "type": "choropleth"
           }
          ],
          "contour": [
           {
            "colorbar": {
             "outlinewidth": 0,
             "ticks": ""
            },
            "colorscale": [
             [
              0,
              "#0d0887"
             ],
             [
              0.1111111111111111,
              "#46039f"
             ],
             [
              0.2222222222222222,
              "#7201a8"
             ],
             [
              0.3333333333333333,
              "#9c179e"
             ],
             [
              0.4444444444444444,
              "#bd3786"
             ],
             [
              0.5555555555555556,
              "#d8576b"
             ],
             [
              0.6666666666666666,
              "#ed7953"
             ],
             [
              0.7777777777777778,
              "#fb9f3a"
             ],
             [
              0.8888888888888888,
              "#fdca26"
             ],
             [
              1,
              "#f0f921"
             ]
            ],
            "type": "contour"
           }
          ],
          "contourcarpet": [
           {
            "colorbar": {
             "outlinewidth": 0,
             "ticks": ""
            },
            "type": "contourcarpet"
           }
          ],
          "heatmap": [
           {
            "colorbar": {
             "outlinewidth": 0,
             "ticks": ""
            },
            "colorscale": [
             [
              0,
              "#0d0887"
             ],
             [
              0.1111111111111111,
              "#46039f"
             ],
             [
              0.2222222222222222,
              "#7201a8"
             ],
             [
              0.3333333333333333,
              "#9c179e"
             ],
             [
              0.4444444444444444,
              "#bd3786"
             ],
             [
              0.5555555555555556,
              "#d8576b"
             ],
             [
              0.6666666666666666,
              "#ed7953"
             ],
             [
              0.7777777777777778,
              "#fb9f3a"
             ],
             [
              0.8888888888888888,
              "#fdca26"
             ],
             [
              1,
              "#f0f921"
             ]
            ],
            "type": "heatmap"
           }
          ],
          "histogram": [
           {
            "marker": {
             "pattern": {
              "fillmode": "overlay",
              "size": 10,
              "solidity": 0.2
             }
            },
            "type": "histogram"
           }
          ],
          "histogram2d": [
           {
            "colorbar": {
             "outlinewidth": 0,
             "ticks": ""
            },
            "colorscale": [
             [
              0,
              "#0d0887"
             ],
             [
              0.1111111111111111,
              "#46039f"
             ],
             [
              0.2222222222222222,
              "#7201a8"
             ],
             [
              0.3333333333333333,
              "#9c179e"
             ],
             [
              0.4444444444444444,
              "#bd3786"
             ],
             [
              0.5555555555555556,
              "#d8576b"
             ],
             [
              0.6666666666666666,
              "#ed7953"
             ],
             [
              0.7777777777777778,
              "#fb9f3a"
             ],
             [
              0.8888888888888888,
              "#fdca26"
             ],
             [
              1,
              "#f0f921"
             ]
            ],
            "type": "histogram2d"
           }
          ],
          "histogram2dcontour": [
           {
            "colorbar": {
             "outlinewidth": 0,
             "ticks": ""
            },
            "colorscale": [
             [
              0,
              "#0d0887"
             ],
             [
              0.1111111111111111,
              "#46039f"
             ],
             [
              0.2222222222222222,
              "#7201a8"
             ],
             [
              0.3333333333333333,
              "#9c179e"
             ],
             [
              0.4444444444444444,
              "#bd3786"
             ],
             [
              0.5555555555555556,
              "#d8576b"
             ],
             [
              0.6666666666666666,
              "#ed7953"
             ],
             [
              0.7777777777777778,
              "#fb9f3a"
             ],
             [
              0.8888888888888888,
              "#fdca26"
             ],
             [
              1,
              "#f0f921"
             ]
            ],
            "type": "histogram2dcontour"
           }
          ],
          "mesh3d": [
           {
            "colorbar": {
             "outlinewidth": 0,
             "ticks": ""
            },
            "type": "mesh3d"
           }
          ],
          "parcoords": [
           {
            "line": {
             "colorbar": {
              "outlinewidth": 0,
              "ticks": ""
             }
            },
            "type": "parcoords"
           }
          ],
          "pie": [
           {
            "automargin": true,
            "type": "pie"
           }
          ],
          "scatter": [
           {
            "fillpattern": {
             "fillmode": "overlay",
             "size": 10,
             "solidity": 0.2
            },
            "type": "scatter"
           }
          ],
          "scatter3d": [
           {
            "line": {
             "colorbar": {
              "outlinewidth": 0,
              "ticks": ""
             }
            },
            "marker": {
             "colorbar": {
              "outlinewidth": 0,
              "ticks": ""
             }
            },
            "type": "scatter3d"
           }
          ],
          "scattercarpet": [
           {
            "marker": {
             "colorbar": {
              "outlinewidth": 0,
              "ticks": ""
             }
            },
            "type": "scattercarpet"
           }
          ],
          "scattergeo": [
           {
            "marker": {
             "colorbar": {
              "outlinewidth": 0,
              "ticks": ""
             }
            },
            "type": "scattergeo"
           }
          ],
          "scattergl": [
           {
            "marker": {
             "colorbar": {
              "outlinewidth": 0,
              "ticks": ""
             }
            },
            "type": "scattergl"
           }
          ],
          "scattermap": [
           {
            "marker": {
             "colorbar": {
              "outlinewidth": 0,
              "ticks": ""
             }
            },
            "type": "scattermap"
           }
          ],
          "scattermapbox": [
           {
            "marker": {
             "colorbar": {
              "outlinewidth": 0,
              "ticks": ""
             }
            },
            "type": "scattermapbox"
           }
          ],
          "scatterpolar": [
           {
            "marker": {
             "colorbar": {
              "outlinewidth": 0,
              "ticks": ""
             }
            },
            "type": "scatterpolar"
           }
          ],
          "scatterpolargl": [
           {
            "marker": {
             "colorbar": {
              "outlinewidth": 0,
              "ticks": ""
             }
            },
            "type": "scatterpolargl"
           }
          ],
          "scatterternary": [
           {
            "marker": {
             "colorbar": {
              "outlinewidth": 0,
              "ticks": ""
             }
            },
            "type": "scatterternary"
           }
          ],
          "surface": [
           {
            "colorbar": {
             "outlinewidth": 0,
             "ticks": ""
            },
            "colorscale": [
             [
              0,
              "#0d0887"
             ],
             [
              0.1111111111111111,
              "#46039f"
             ],
             [
              0.2222222222222222,
              "#7201a8"
             ],
             [
              0.3333333333333333,
              "#9c179e"
             ],
             [
              0.4444444444444444,
              "#bd3786"
             ],
             [
              0.5555555555555556,
              "#d8576b"
             ],
             [
              0.6666666666666666,
              "#ed7953"
             ],
             [
              0.7777777777777778,
              "#fb9f3a"
             ],
             [
              0.8888888888888888,
              "#fdca26"
             ],
             [
              1,
              "#f0f921"
             ]
            ],
            "type": "surface"
           }
          ],
          "table": [
           {
            "cells": {
             "fill": {
              "color": "#EBF0F8"
             },
             "line": {
              "color": "white"
             }
            },
            "header": {
             "fill": {
              "color": "#C8D4E3"
             },
             "line": {
              "color": "white"
             }
            },
            "type": "table"
           }
          ]
         },
         "layout": {
          "annotationdefaults": {
           "arrowcolor": "#2a3f5f",
           "arrowhead": 0,
           "arrowwidth": 1
          },
          "autotypenumbers": "strict",
          "coloraxis": {
           "colorbar": {
            "outlinewidth": 0,
            "ticks": ""
           }
          },
          "colorscale": {
           "diverging": [
            [
             0,
             "#8e0152"
            ],
            [
             0.1,
             "#c51b7d"
            ],
            [
             0.2,
             "#de77ae"
            ],
            [
             0.3,
             "#f1b6da"
            ],
            [
             0.4,
             "#fde0ef"
            ],
            [
             0.5,
             "#f7f7f7"
            ],
            [
             0.6,
             "#e6f5d0"
            ],
            [
             0.7,
             "#b8e186"
            ],
            [
             0.8,
             "#7fbc41"
            ],
            [
             0.9,
             "#4d9221"
            ],
            [
             1,
             "#276419"
            ]
           ],
           "sequential": [
            [
             0,
             "#0d0887"
            ],
            [
             0.1111111111111111,
             "#46039f"
            ],
            [
             0.2222222222222222,
             "#7201a8"
            ],
            [
             0.3333333333333333,
             "#9c179e"
            ],
            [
             0.4444444444444444,
             "#bd3786"
            ],
            [
             0.5555555555555556,
             "#d8576b"
            ],
            [
             0.6666666666666666,
             "#ed7953"
            ],
            [
             0.7777777777777778,
             "#fb9f3a"
            ],
            [
             0.8888888888888888,
             "#fdca26"
            ],
            [
             1,
             "#f0f921"
            ]
           ],
           "sequentialminus": [
            [
             0,
             "#0d0887"
            ],
            [
             0.1111111111111111,
             "#46039f"
            ],
            [
             0.2222222222222222,
             "#7201a8"
            ],
            [
             0.3333333333333333,
             "#9c179e"
            ],
            [
             0.4444444444444444,
             "#bd3786"
            ],
            [
             0.5555555555555556,
             "#d8576b"
            ],
            [
             0.6666666666666666,
             "#ed7953"
            ],
            [
             0.7777777777777778,
             "#fb9f3a"
            ],
            [
             0.8888888888888888,
             "#fdca26"
            ],
            [
             1,
             "#f0f921"
            ]
           ]
          },
          "colorway": [
           "#636efa",
           "#EF553B",
           "#00cc96",
           "#ab63fa",
           "#FFA15A",
           "#19d3f3",
           "#FF6692",
           "#B6E880",
           "#FF97FF",
           "#FECB52"
          ],
          "font": {
           "color": "#2a3f5f"
          },
          "geo": {
           "bgcolor": "white",
           "lakecolor": "white",
           "landcolor": "#E5ECF6",
           "showlakes": true,
           "showland": true,
           "subunitcolor": "white"
          },
          "hoverlabel": {
           "align": "left"
          },
          "hovermode": "closest",
          "mapbox": {
           "style": "light"
          },
          "paper_bgcolor": "white",
          "plot_bgcolor": "#E5ECF6",
          "polar": {
           "angularaxis": {
            "gridcolor": "white",
            "linecolor": "white",
            "ticks": ""
           },
           "bgcolor": "#E5ECF6",
           "radialaxis": {
            "gridcolor": "white",
            "linecolor": "white",
            "ticks": ""
           }
          },
          "scene": {
           "xaxis": {
            "backgroundcolor": "#E5ECF6",
            "gridcolor": "white",
            "gridwidth": 2,
            "linecolor": "white",
            "showbackground": true,
            "ticks": "",
            "zerolinecolor": "white"
           },
           "yaxis": {
            "backgroundcolor": "#E5ECF6",
            "gridcolor": "white",
            "gridwidth": 2,
            "linecolor": "white",
            "showbackground": true,
            "ticks": "",
            "zerolinecolor": "white"
           },
           "zaxis": {
            "backgroundcolor": "#E5ECF6",
            "gridcolor": "white",
            "gridwidth": 2,
            "linecolor": "white",
            "showbackground": true,
            "ticks": "",
            "zerolinecolor": "white"
           }
          },
          "shapedefaults": {
           "line": {
            "color": "#2a3f5f"
           }
          },
          "ternary": {
           "aaxis": {
            "gridcolor": "white",
            "linecolor": "white",
            "ticks": ""
           },
           "baxis": {
            "gridcolor": "white",
            "linecolor": "white",
            "ticks": ""
           },
           "bgcolor": "#E5ECF6",
           "caxis": {
            "gridcolor": "white",
            "linecolor": "white",
            "ticks": ""
           }
          },
          "title": {
           "x": 0.05
          },
          "xaxis": {
           "automargin": true,
           "gridcolor": "white",
           "linecolor": "white",
           "ticks": "",
           "title": {
            "standoff": 15
           },
           "zerolinecolor": "white",
           "zerolinewidth": 2
          },
          "yaxis": {
           "automargin": true,
           "gridcolor": "white",
           "linecolor": "white",
           "ticks": "",
           "title": {
            "standoff": 15
           },
           "zerolinecolor": "white",
           "zerolinewidth": 2
          }
         }
        },
        "title": {
         "text": "Fuel Price vs Weekly Sales"
        },
        "xaxis": {
         "anchor": "y",
         "domain": [
          0,
          1
         ],
         "title": {
          "text": "fuel_price"
         }
        },
        "yaxis": {
         "anchor": "x",
         "domain": [
          0,
          1
         ],
         "title": {
          "text": "weekly_sales"
         }
        }
       }
      }
     },
     "metadata": {},
     "output_type": "display_data"
    }
   ],
   "source": [
    "# Fules Rpice Vs Weekly Sales\n",
    "fig = px.scatter(df, x='fuel_price', y='weekly_sales',\n",
    "                 title='Fuel Price vs Weekly Sales', trendline='ols')\n",
    "fig.show()\n"
   ]
  },
  {
   "cell_type": "code",
   "execution_count": 15,
   "id": "ece881f6",
   "metadata": {},
   "outputs": [
    {
     "data": {
      "application/vnd.plotly.v1+json": {
       "config": {
        "plotlyServerURL": "https://plot.ly"
       },
       "data": [
        {
         "hovertemplate": "unemployment=%{x}<br>weekly_sales=%{y}<extra></extra>",
         "legendgroup": "",
         "marker": {
          "color": "#636efa",
          "symbol": "circle"
         },
         "mode": "markers",
         "name": "",
         "showlegend": false,
         "type": "scattergl",
         "x": {
          "bdata": "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",
          "dtype": "f8"
         },
         "xaxis": "x",
         "y": {
          "bdata": "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",
          "dtype": "f8"
         },
         "yaxis": "y"
        },
        {
         "hovertemplate": "<b>OLS trendline</b><br>weekly_sales = -29442.2 * unemployment + 1.29607e+06<br>R<sup>2</sup>=0.009842<br><br>unemployment=%{x}<br>weekly_sales=%{y} <b>(trend)</b><extra></extra>",
         "legendgroup": "",
         "marker": {
          "color": "#636efa",
          "symbol": "circle"
         },
         "mode": "lines",
         "name": "",
         "showlegend": false,
         "type": "scattergl",
         "x": {
          "bdata": "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",
          "dtype": "f8"
         },
         "xaxis": "x",
         "y": {
          "bdata": "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",
          "dtype": "f8"
         },
         "yaxis": "y"
        }
       ],
       "layout": {
        "legend": {
         "tracegroupgap": 0
        },
        "template": {
         "data": {
          "bar": [
           {
            "error_x": {
             "color": "#2a3f5f"
            },
            "error_y": {
             "color": "#2a3f5f"
            },
            "marker": {
             "line": {
              "color": "#E5ECF6",
              "width": 0.5
             },
             "pattern": {
              "fillmode": "overlay",
              "size": 10,
              "solidity": 0.2
             }
            },
            "type": "bar"
           }
          ],
          "barpolar": [
           {
            "marker": {
             "line": {
              "color": "#E5ECF6",
              "width": 0.5
             },
             "pattern": {
              "fillmode": "overlay",
              "size": 10,
              "solidity": 0.2
             }
            },
            "type": "barpolar"
           }
          ],
          "carpet": [
           {
            "aaxis": {
             "endlinecolor": "#2a3f5f",
             "gridcolor": "white",
             "linecolor": "white",
             "minorgridcolor": "white",
             "startlinecolor": "#2a3f5f"
            },
            "baxis": {
             "endlinecolor": "#2a3f5f",
             "gridcolor": "white",
             "linecolor": "white",
             "minorgridcolor": "white",
             "startlinecolor": "#2a3f5f"
            },
            "type": "carpet"
           }
          ],
          "choropleth": [
           {
            "colorbar": {
             "outlinewidth": 0,
             "ticks": ""
            },
            "type": "choropleth"
           }
          ],
          "contour": [
           {
            "colorbar": {
             "outlinewidth": 0,
             "ticks": ""
            },
            "colorscale": [
             [
              0,
              "#0d0887"
             ],
             [
              0.1111111111111111,
              "#46039f"
             ],
             [
              0.2222222222222222,
              "#7201a8"
             ],
             [
              0.3333333333333333,
              "#9c179e"
             ],
             [
              0.4444444444444444,
              "#bd3786"
             ],
             [
              0.5555555555555556,
              "#d8576b"
             ],
             [
              0.6666666666666666,
              "#ed7953"
             ],
             [
              0.7777777777777778,
              "#fb9f3a"
             ],
             [
              0.8888888888888888,
              "#fdca26"
             ],
             [
              1,
              "#f0f921"
             ]
            ],
            "type": "contour"
           }
          ],
          "contourcarpet": [
           {
            "colorbar": {
             "outlinewidth": 0,
             "ticks": ""
            },
            "type": "contourcarpet"
           }
          ],
          "heatmap": [
           {
            "colorbar": {
             "outlinewidth": 0,
             "ticks": ""
            },
            "colorscale": [
             [
              0,
              "#0d0887"
             ],
             [
              0.1111111111111111,
              "#46039f"
             ],
             [
              0.2222222222222222,
              "#7201a8"
             ],
             [
              0.3333333333333333,
              "#9c179e"
             ],
             [
              0.4444444444444444,
              "#bd3786"
             ],
             [
              0.5555555555555556,
              "#d8576b"
             ],
             [
              0.6666666666666666,
              "#ed7953"
             ],
             [
              0.7777777777777778,
              "#fb9f3a"
             ],
             [
              0.8888888888888888,
              "#fdca26"
             ],
             [
              1,
              "#f0f921"
             ]
            ],
            "type": "heatmap"
           }
          ],
          "histogram": [
           {
            "marker": {
             "pattern": {
              "fillmode": "overlay",
              "size": 10,
              "solidity": 0.2
             }
            },
            "type": "histogram"
           }
          ],
          "histogram2d": [
           {
            "colorbar": {
             "outlinewidth": 0,
             "ticks": ""
            },
            "colorscale": [
             [
              0,
              "#0d0887"
             ],
             [
              0.1111111111111111,
              "#46039f"
             ],
             [
              0.2222222222222222,
              "#7201a8"
             ],
             [
              0.3333333333333333,
              "#9c179e"
             ],
             [
              0.4444444444444444,
              "#bd3786"
             ],
             [
              0.5555555555555556,
              "#d8576b"
             ],
             [
              0.6666666666666666,
              "#ed7953"
             ],
             [
              0.7777777777777778,
              "#fb9f3a"
             ],
             [
              0.8888888888888888,
              "#fdca26"
             ],
             [
              1,
              "#f0f921"
             ]
            ],
            "type": "histogram2d"
           }
          ],
          "histogram2dcontour": [
           {
            "colorbar": {
             "outlinewidth": 0,
             "ticks": ""
            },
            "colorscale": [
             [
              0,
              "#0d0887"
             ],
             [
              0.1111111111111111,
              "#46039f"
             ],
             [
              0.2222222222222222,
              "#7201a8"
             ],
             [
              0.3333333333333333,
              "#9c179e"
             ],
             [
              0.4444444444444444,
              "#bd3786"
             ],
             [
              0.5555555555555556,
              "#d8576b"
             ],
             [
              0.6666666666666666,
              "#ed7953"
             ],
             [
              0.7777777777777778,
              "#fb9f3a"
             ],
             [
              0.8888888888888888,
              "#fdca26"
             ],
             [
              1,
              "#f0f921"
             ]
            ],
            "type": "histogram2dcontour"
           }
          ],
          "mesh3d": [
           {
            "colorbar": {
             "outlinewidth": 0,
             "ticks": ""
            },
            "type": "mesh3d"
           }
          ],
          "parcoords": [
           {
            "line": {
             "colorbar": {
              "outlinewidth": 0,
              "ticks": ""
             }
            },
            "type": "parcoords"
           }
          ],
          "pie": [
           {
            "automargin": true,
            "type": "pie"
           }
          ],
          "scatter": [
           {
            "fillpattern": {
             "fillmode": "overlay",
             "size": 10,
             "solidity": 0.2
            },
            "type": "scatter"
           }
          ],
          "scatter3d": [
           {
            "line": {
             "colorbar": {
              "outlinewidth": 0,
              "ticks": ""
             }
            },
            "marker": {
             "colorbar": {
              "outlinewidth": 0,
              "ticks": ""
             }
            },
            "type": "scatter3d"
           }
          ],
          "scattercarpet": [
           {
            "marker": {
             "colorbar": {
              "outlinewidth": 0,
              "ticks": ""
             }
            },
            "type": "scattercarpet"
           }
          ],
          "scattergeo": [
           {
            "marker": {
             "colorbar": {
              "outlinewidth": 0,
              "ticks": ""
             }
            },
            "type": "scattergeo"
           }
          ],
          "scattergl": [
           {
            "marker": {
             "colorbar": {
              "outlinewidth": 0,
              "ticks": ""
             }
            },
            "type": "scattergl"
           }
          ],
          "scattermap": [
           {
            "marker": {
             "colorbar": {
              "outlinewidth": 0,
              "ticks": ""
             }
            },
            "type": "scattermap"
           }
          ],
          "scattermapbox": [
           {
            "marker": {
             "colorbar": {
              "outlinewidth": 0,
              "ticks": ""
             }
            },
            "type": "scattermapbox"
           }
          ],
          "scatterpolar": [
           {
            "marker": {
             "colorbar": {
              "outlinewidth": 0,
              "ticks": ""
             }
            },
            "type": "scatterpolar"
           }
          ],
          "scatterpolargl": [
           {
            "marker": {
             "colorbar": {
              "outlinewidth": 0,
              "ticks": ""
             }
            },
            "type": "scatterpolargl"
           }
          ],
          "scatterternary": [
           {
            "marker": {
             "colorbar": {
              "outlinewidth": 0,
              "ticks": ""
             }
            },
            "type": "scatterternary"
           }
          ],
          "surface": [
           {
            "colorbar": {
             "outlinewidth": 0,
             "ticks": ""
            },
            "colorscale": [
             [
              0,
              "#0d0887"
             ],
             [
              0.1111111111111111,
              "#46039f"
             ],
             [
              0.2222222222222222,
              "#7201a8"
             ],
             [
              0.3333333333333333,
              "#9c179e"
             ],
             [
              0.4444444444444444,
              "#bd3786"
             ],
             [
              0.5555555555555556,
              "#d8576b"
             ],
             [
              0.6666666666666666,
              "#ed7953"
             ],
             [
              0.7777777777777778,
              "#fb9f3a"
             ],
             [
              0.8888888888888888,
              "#fdca26"
             ],
             [
              1,
              "#f0f921"
             ]
            ],
            "type": "surface"
           }
          ],
          "table": [
           {
            "cells": {
             "fill": {
              "color": "#EBF0F8"
             },
             "line": {
              "color": "white"
             }
            },
            "header": {
             "fill": {
              "color": "#C8D4E3"
             },
             "line": {
              "color": "white"
             }
            },
            "type": "table"
           }
          ]
         },
         "layout": {
          "annotationdefaults": {
           "arrowcolor": "#2a3f5f",
           "arrowhead": 0,
           "arrowwidth": 1
          },
          "autotypenumbers": "strict",
          "coloraxis": {
           "colorbar": {
            "outlinewidth": 0,
            "ticks": ""
           }
          },
          "colorscale": {
           "diverging": [
            [
             0,
             "#8e0152"
            ],
            [
             0.1,
             "#c51b7d"
            ],
            [
             0.2,
             "#de77ae"
            ],
            [
             0.3,
             "#f1b6da"
            ],
            [
             0.4,
             "#fde0ef"
            ],
            [
             0.5,
             "#f7f7f7"
            ],
            [
             0.6,
             "#e6f5d0"
            ],
            [
             0.7,
             "#b8e186"
            ],
            [
             0.8,
             "#7fbc41"
            ],
            [
             0.9,
             "#4d9221"
            ],
            [
             1,
             "#276419"
            ]
           ],
           "sequential": [
            [
             0,
             "#0d0887"
            ],
            [
             0.1111111111111111,
             "#46039f"
            ],
            [
             0.2222222222222222,
             "#7201a8"
            ],
            [
             0.3333333333333333,
             "#9c179e"
            ],
            [
             0.4444444444444444,
             "#bd3786"
            ],
            [
             0.5555555555555556,
             "#d8576b"
            ],
            [
             0.6666666666666666,
             "#ed7953"
            ],
            [
             0.7777777777777778,
             "#fb9f3a"
            ],
            [
             0.8888888888888888,
             "#fdca26"
            ],
            [
             1,
             "#f0f921"
            ]
           ],
           "sequentialminus": [
            [
             0,
             "#0d0887"
            ],
            [
             0.1111111111111111,
             "#46039f"
            ],
            [
             0.2222222222222222,
             "#7201a8"
            ],
            [
             0.3333333333333333,
             "#9c179e"
            ],
            [
             0.4444444444444444,
             "#bd3786"
            ],
            [
             0.5555555555555556,
             "#d8576b"
            ],
            [
             0.6666666666666666,
             "#ed7953"
            ],
            [
             0.7777777777777778,
             "#fb9f3a"
            ],
            [
             0.8888888888888888,
             "#fdca26"
            ],
            [
             1,
             "#f0f921"
            ]
           ]
          },
          "colorway": [
           "#636efa",
           "#EF553B",
           "#00cc96",
           "#ab63fa",
           "#FFA15A",
           "#19d3f3",
           "#FF6692",
           "#B6E880",
           "#FF97FF",
           "#FECB52"
          ],
          "font": {
           "color": "#2a3f5f"
          },
          "geo": {
           "bgcolor": "white",
           "lakecolor": "white",
           "landcolor": "#E5ECF6",
           "showlakes": true,
           "showland": true,
           "subunitcolor": "white"
          },
          "hoverlabel": {
           "align": "left"
          },
          "hovermode": "closest",
          "mapbox": {
           "style": "light"
          },
          "paper_bgcolor": "white",
          "plot_bgcolor": "#E5ECF6",
          "polar": {
           "angularaxis": {
            "gridcolor": "white",
            "linecolor": "white",
            "ticks": ""
           },
           "bgcolor": "#E5ECF6",
           "radialaxis": {
            "gridcolor": "white",
            "linecolor": "white",
            "ticks": ""
           }
          },
          "scene": {
           "xaxis": {
            "backgroundcolor": "#E5ECF6",
            "gridcolor": "white",
            "gridwidth": 2,
            "linecolor": "white",
            "showbackground": true,
            "ticks": "",
            "zerolinecolor": "white"
           },
           "yaxis": {
            "backgroundcolor": "#E5ECF6",
            "gridcolor": "white",
            "gridwidth": 2,
            "linecolor": "white",
            "showbackground": true,
            "ticks": "",
            "zerolinecolor": "white"
           },
           "zaxis": {
            "backgroundcolor": "#E5ECF6",
            "gridcolor": "white",
            "gridwidth": 2,
            "linecolor": "white",
            "showbackground": true,
            "ticks": "",
            "zerolinecolor": "white"
           }
          },
          "shapedefaults": {
           "line": {
            "color": "#2a3f5f"
           }
          },
          "ternary": {
           "aaxis": {
            "gridcolor": "white",
            "linecolor": "white",
            "ticks": ""
           },
           "baxis": {
            "gridcolor": "white",
            "linecolor": "white",
            "ticks": ""
           },
           "bgcolor": "#E5ECF6",
           "caxis": {
            "gridcolor": "white",
            "linecolor": "white",
            "ticks": ""
           }
          },
          "title": {
           "x": 0.05
          },
          "xaxis": {
           "automargin": true,
           "gridcolor": "white",
           "linecolor": "white",
           "ticks": "",
           "title": {
            "standoff": 15
           },
           "zerolinecolor": "white",
           "zerolinewidth": 2
          },
          "yaxis": {
           "automargin": true,
           "gridcolor": "white",
           "linecolor": "white",
           "ticks": "",
           "title": {
            "standoff": 15
           },
           "zerolinecolor": "white",
           "zerolinewidth": 2
          }
         }
        },
        "title": {
         "text": "Unemployment Rate vs Weekly Sales"
        },
        "xaxis": {
         "anchor": "y",
         "domain": [
          0,
          1
         ],
         "title": {
          "text": "unemployment"
         }
        },
        "yaxis": {
         "anchor": "x",
         "domain": [
          0,
          1
         ],
         "title": {
          "text": "weekly_sales"
         }
        }
       }
      }
     },
     "metadata": {},
     "output_type": "display_data"
    }
   ],
   "source": [
    "# Unemployment vs Weekly Sales\n",
    "\n",
    "fig = px.scatter(df, x='unemployment', y='weekly_sales',\n",
    "                 title='Unemployment Rate vs Weekly Sales', trendline='ols')\n",
    "fig.show()\n"
   ]
  },
  {
   "cell_type": "code",
   "execution_count": null,
   "id": "67cd3d16",
   "metadata": {},
   "outputs": [
    {
     "data": {
      "application/vnd.plotly.v1+json": {
       "config": {
        "plotlyServerURL": "https://plot.ly"
       },
       "data": [
        {
         "hovertemplate": "temperature=%{x}<br>weekly_sales=%{y}<extra></extra>",
         "legendgroup": "",
         "marker": {
          "color": "#636efa",
          "symbol": "circle"
         },
         "mode": "markers",
         "name": "",
         "showlegend": false,
         "type": "scattergl",
         "x": {
          "bdata": "KVyPwvX4UUDD9ShcjyJPQArXo3A9OlRAPQrXo3BNVEDD9Shcj6JIQFyPwvUoLFRASOF6FK4nRUAAAAAAAEBHQB+F61G4Xk1ACtejcD3KVUAzMzMzMyNSQNejcD0K909A16NwPQp3UEAfhetRuB5UQFyPwvUorFNACtejcD0qR0DsUbgehRtUQOF6FK5HQUNAhetRuB7lTECuR+F6FM5NQPYoXI/ClU1AMzMzMzNjVUCF61G4HvVVQBSuR+F6dEhAAAAAAADAVEDD9ShcjyJFQArXo3A9yk1APQrXo3B9S0CamZmZmelWQNejcD0KJ1BAw/UoXI8iSECkcD0K11NRQPYoXI/C9VBAhetRuB51VUAAAAAAAABTQNejcD0K90VAuB6F61HIVEBSuB6F6zFCQEjhehSux0pArkfhehSOTUBxPQrXo7BWQM3MzMzMfFNAexSuR+F6TkBmZmZmZkZMQNejcD0Kh1VAMzMzMzPjUkAzMzMzMyNRQOF6FK5HgUhA7FG4HoWbUUAUrkfhemRUQD0K16Nw/VRAMzMzMzOTU0DhehSuR2FNQMP1KFyPAkhAMzMzMzNDVUDhehSuR3FSQB+F61G4fk9Aj8L1KFxPUUDD9Shcj6JPQI/C9Shcr1RAhetRuB51VEAK16NwPapIQKRwPQrXc1RAuB6F61EYRED2KFyPwpVHQM3MzMzM7ExAUrgehethVkBSuB6F69FRQLgehetRmE9ACtejcD1aUED2KFyPwqVUQPYoXI/CxVNAAAAAAADARkCamZmZmdlUQB+F61G4PkNASOF6FK7HTEC4HoXrUdhNQNejcD0Kt0tAXI/C9ShsVUApXI/C9WhWQB+F61G4XkhAFK5H4XrEVEAAAAAAACBDQMP1KFyP4kxApHA9CtfDS0D2KFyPwlVXQD0K16NwvU5AuB6F61FYRkB7FK5H4XpRQAAAAAAAwFBAzczMzMzsVUCuR+F6FH5TQOF6FK5H4URAmpmZmZnZVEC4HoXrUZhAQJqZmZmZWUpACtejcD2qTUCF61G4HuVWQLgehetRmFNAhetRuB5lTUB7FK5H4ZpLQK5H4XoUjlZAH4XrUbguU0DhehSuR5FRQAAAAAAAYEdA7FG4HoUbUUDNzMzMzAxVQJqZmZmZ6VVAXI/C9SisU0CuR+F6FI5MQD0K16NwfUdAMzMzMzMjVkBI4XoUrndSQFyPwvUofE5AZmZmZmZmUkCkcD0K12NQQM3MzMzMjFRACtejcD0KVUDhehSuR+FKQFK4HoXroVNAexSuR+HaRkCF61G4HoVKQLgehetReE9AuB6F61FIVUCuR+F6FF5SQI/C9Shcv1BAAAAAAAAAUUAAAAAAAHBUQPYoXI/CNVRAcT0K16OQSUBmZmZmZoZUQNejcD0K90dACtejcD2KT0CF61G4HmVPQHE9CtejMFFAZmZmZmZGVUBI4XoUrkdWQFyPwvUofEtAw/UoXI8SVUCamZmZmflGQNejcD0KR1BASOF6FK6nTUDNzMzMzBxWQM3MzMzMXFFAzczMzMysSkDD9Shcj+JSQDMzMzMzI1JAuB6F61FYVUCuR+F6FG5UQOF6FK5HoUhA9ihcj8I1VUApXI/C9chFQIXrUbgepU5AmpmZmZnZTkC4HoXrUThWQDMzMzMzY1RAMzMzMzPTTkAK16NwPapNQDMzMzMzo1VAcT0K16PgU0CPwvUoXC9SQPYoXI/CNUpAcT0K16NAUkApXI/C9chUQI/C9ShcP1VAmpmZmZlpVEB7FK5H4VpOQDMzMzMz00lAZmZmZmZ2VUBcj8L1KMxSQKRwPQrXk1FAexSuR+H6T0DD9Shcj2JIQArXo3A9alJAMzMzMzMzU0AzMzMzMzNHQIXrUbgetVFA4XoUrkfhRUAfhetRuL5FQM3MzMzMzElAUrgeheshU0DD9Shcj2JMQB+F61G47lBAFK5H4XoUS0BmZmZmZhZUQMP1KFyPYlJAMzMzMzMzRUDNzMzMzJxTQNejcD0K1zxAcT0K16PQSEAzMzMzM1NKQB+F61G4fkxAw/UoXI8iVUCPwvUoXH9TQHsUrkfhWkNAcT0K16OQU0CuR+F6FE5BQEjhehSuR0dArkfhehTuSED2KFyPwoVVQBSuR+F6tE9A7FG4HoWrQ0DD9Shcj3JQQK5H4XoUTk9A9ihcj8IlVUD2KFyPwlVSQKRwPQrXoz9AMzMzMzMDVECF61G4HqVAQNejcD0Kd0lAj8L1KFyPR0AfhetRuL5UQArXo3A9WlNAcT0K16MwSUBI4XoUrudEQNejcD0K91RAKVyPwvUIVEApXI/C9YhPQFK4HoXrUUNAXI/C9SjsUEBI4XoUrhdUQPYoXI/ChVRA16NwPQqHU0BxPQrXo9BKQAAAAAAAgEBAPQrXo3DNVEApXI/C9ehQQK5H4XoUjkxAZmZmZmbGUUDXo3A9CpdPQAAAAAAAUFRApHA9CtcDVUBI4XoUrqdJQMP1KFyP4lNAmpmZmZnZQ0BSuB6F63FIQHE9CtejcE1AZmZmZmaGVUBSuB6F6+FRQI/C9ShcP1BAXI/C9ShMUEApXI/C9UhUQNejcD0K91NAw/UoXI8iSEDNzMzMzCxUQEjhehSu50NAAAAAAABATUCPwvUoXC9PQAAAAAAAwE5ApHA9CtdzVUC4HoXrUZhWQFK4HoXrkUlApHA9CtfzVED2KFyPwtVEQM3MzMzMLE5AexSuR+FaTEAUrkfhesRWQOF6FK5HkVBAZmZmZmYmSEApXI/C9ehRQClcj8L1aFFAKVyPwvWoVUDD9Shcj8JTQI/C9ShcD0ZA16NwPQrnVEAAAAAAACBDQB+F61G43ktAexSuR+FaTkAK16NwPYpWQK5H4XoU7lNAFK5H4XpUTkDNzMzMzKxMQArXo3A9ulVAZmZmZmZGU0B7FK5H4cpRQHsUrkfhGklAmpmZmZmZUUBmZmZmZpZUQDMzMzMzk1VA4XoUrkdBVEC4HoXrUdhMQClcj8L1SEhAPQrXo3C9VUDNzMzMzFxSQI/C9Shcj1BAXI/C9SisUUBcj8L1KDxQQPYoXI/CFVRAmpmZmZmJVEBmZmZmZiZKQFyPwvUo3FNA16NwPQo3REBxPQrXo9BIQDMzMzMz801A16NwPQqnVUDsUbgehWtSQD0K16NwTVBAmpmZmZmJUEDsUbgehTtUQFK4HoXrsVNAexSuR+E6SECkcD0K13NUQClcj8L1SERAKVyPwvVoTUCuR+F6FA5PQAAAAAAAIE9AAAAAAADAVUCuR+F6FM5WQNejcD0Kl0lAcT0K16MAVUDsUbgehUtEQJqZmZmZOU5AhetRuB5FTUA9CtejcN1WQHsUrkfhWlBApHA9CtfjR0BmZmZmZoZSQGZmZmZmllFA16NwPQoXVkA9CtejcA1UQFK4HoXr0UVAj8L1KFwfVUBxPQrXo7BDQHsUrkfh2kxACtejcD2qTkCPwvUoXJ9WQClcj8L1GFRAKVyPwvUoTkCamZmZmblMQDMzMzMz41VACtejcD1qU0D2KFyPwrVRQClcj8L1aElAZmZmZmbmUUDNzMzMzLxUQIXrUbgelVVAAAAAAAAgVEBSuB6F6/FMQArXo3A9SkhAw/UoXI/CVUAK16NwPSpSQOxRuB6FW1BAH4XrUbj+SEDhehSuRyFDQEjhehSup05A7FG4HoXrSEDhehSuR+E1QHE9Ctej0EpAj8L1KFwPJUCuR+F6FO5BQLgehetRuEhAmpmZmZnZTkApXI/C9QhEQHE9CtejEEZAhetRuB7lQEAAAAAAAABNQAAAAAAAQEhAPQrXo3A9OEDsUbgehctPQGZmZmZm5jlAAAAAAABAO0AfhetRuB42QBSuR+F61DhAhetRuB5FTUAzMzMzM7NKQOF6FK5HYTRAw/UoXI/iRkB7FK5H4XoAwNejcD0K1zVAKVyPwvVoN0AUrkfhevRLQArXo3A9ijpArkfhehQuJEAzMzMzM1NEQKRwPQrXoz5ACtejcD2KTUCuR+F6FM5GQNejcD0KVyZAZmZmZmamSkB7FK5H4XokQDMzMzMzszRASOF6FK6HM0BI4XoUrkdLQEjhehSuh0tApHA9CtejNUAzMzMzMzM2QArXo3A96k5AcT0K16OwRkDXo3A9CjdIQOxRuB6FqzJAhetRuB4lRkB7FK5H4SpQQOxRuB6F60xAKVyPwvWIT0CamZmZmRk+QArXo3A9yjJAFK5H4Xq0T0CF61G4HkVIQNejcD0Kt0RAzczMzMwsUUDXo3A9ChdOQFK4HoXrsVJAKVyPwvUIU0DNzMzMzGxFQD0K16Nw7VJAUrgehesRQUBSuB6F69FGQOF6FK5H4UtASOF6FK4XVEDXo3A9CldPQLgehetReE9AAAAAAACgTUCPwvUoXB9SQPYoXI/ClVJAXI/C9Sg8RUA9CtejcI1UQOxRuB6Fq0BA4XoUrkfhSEBSuB6F63FLQK5H4XoU7khAcT0K16PQVUDhehSuRzFVQClcj8L1aERAMzMzMzODVEB7FK5H4Xo4QNejcD0Kl0pA16NwPQrXSECamZmZmUlVQPYoXI/CdU1Aw/UoXI/iQUDXo3A9CudQQEjhehSuZ1BAFK5H4XrkVEBxPQrXo0BRQMP1KFyPgj5APQrXo3CNVEDD9Shcj0I8QFK4HoXrkUhASOF6FK5HSUAzMzMzM4NVQKRwPQrXk1NAmpmZmZl5SUBI4XoUrsdGQKRwPQrXQ1VAPQrXo3B9UkAUrkfherROQFyPwvUovEVA16NwPQoXT0CPwvUoXE9UQEjhehSuN1RAUrgeheuRUkDsUbgehctIQHsUrkfh2kFAj8L1KFzvVEA9CtejcD1QQKRwPQrXg0tAhetRuB5FUUA9CtejcE1QQDMzMzMzo1NArkfhehSeVEBSuB6F6/FIQJqZmZmZ6VNA4XoUrkcBQ0DXo3A9CjdIQLgehetRWE1A9ihcj8LFVUCF61G4HiVRQGZmZmZmVlBAzczMzMw8UEBxPQrXo6BTQM3MzMzMbFNAzczMzMwMR0AAAAAAAPBUQArXo3A9ikJA4XoUrkfhS0DsUbgehctOQI/C9ShcD0xAKVyPwvVIVkCF61G4HlVWQOxRuB6Fa0dAMzMzMzNzVUBSuB6F69E/QPYoXI/CVU5AexSuR+E6S0DhehSuR+FWQJqZmZmZGU9AKVyPwvXoREBI4XoUridSQJqZmZmZ2VFAw/UoXI9CVkCamZmZmelSQDMzMzMz00JApHA9CtdzVUBxPQrXoxBBQAAAAAAAYEtApHA9CtcjTUC4HoXrUehWQHE9CtejEFRAmpmZmZmZTEDXo3A9CjdLQB+F61G4jlZAH4XrUbi+U0DXo3A9CqdQQIXrUbgexUdAhetRuB41UUCamZmZmQlVQOxRuB6F+1VACtejcD26U0CkcD0K1wNLQKRwPQrXA0ZACtejcD0qVkBcj8L1KLxRQOxRuB6FC05AcT0K16OAVUAUrkfhetRPQClcj8L1OFdAMzMzMzPzVED2KFyPwpVJQBSuR+F6tFRA7FG4HoUrS0D2KFyPwvVLQMP1KFyPwlFAuB6F61GIVUCkcD0K18NRQMP1KFyPQlNAw/UoXI9SUEBSuB6F68FWQMP1KFyPAlVA4XoUrkdBTkB7FK5H4WpWQHsUrkfh+khACtejcD0qSkAfhetRuJ5OQClcj8L16FBA16NwPQrXV0DXo3A9CudWQIXrUbgepUxASOF6FK53VEBxPQrXo3BGQHsUrkfhekxAFK5H4XokUUAzMzMzM3NWQKRwPQrXY1JA16NwPQq3RUBxPQrXo8BSQFK4HoXrQVJAFK5H4XokVkCkcD0K10NWQArXo3A9SkVAFK5H4XokVUDhehSuR8FJQK5H4XoUDlBApHA9CtejS0DXo3A9CmdVQKRwPQrXA1RAj8L1KFzPTEDNzMzMzGxMQHE9CtejMFVA4XoUrkdBU0C4HoXrUThUQM3MzMzM7E1Aj8L1KFx/UEBI4XoUrrdVQBSuR+F6xFRASOF6FK63VUAzMzMzM9NMQD0K16Nw3UtAUrgeheuxVkBSuB6F6wFTQFK4HoXrAVNA16NwPQrHUkAK16NwPYpQQPYoXI/CxVRAXI/C9Sg8VUAzMzMzM/NLQArXo3A96lNAhetRuB4FR0B7FK5H4fpKQArXo3A9GlBAw/UoXI+iVUAUrkfheuRSQD0K16NwLVFAFK5H4XpkUUBxPQrXo8BUQOxRuB6Fe1RACtejcD2qSkCkcD0K17NUQOF6FK5HAUhAZmZmZmYGUEAfhetRuN5PQGZmZmZmRlFA7FG4HoWbVUBcj8L1KNxWQFK4HoXrcUxAKVyPwvWIVUD2KFyPwpVHQAAAAAAAoFBAcT0K16OQTkDD9Shcj4JWQClcj8L12FFA16NwPQo3S0CuR+F6FD5TQBSuR+F6ZFJAexSuR+HKVUAK16NwPTpVQHE9CtejUElAw/UoXI9yVUCuR+F6FE5GQIXrUbgepU9AzczMzMwMUEAzMzMzM5NWQHsUrkfhalRArkfhehROT0AfhetRuB5OQFyPwvUovFVAFK5H4XrEU0BI4XoUrldSQLgehetROEtAXI/C9SiMUkBcj8L1KNxUQHsUrkfhSlVAZmZmZmaGVEC4HoXrUbhOQD0K16NwHUpAPQrXo3CNVUC4HoXrUchSQFyPwvUofFFAzczMzMxMVUDsUbgehetNQB+F61G4/lZASOF6FK7HVEAK16NwPapFQClcj8L1WFRAXI/C9Si8SEDD9Shcj+JKQI/C9ShcX1BAzczMzMw8V0CamZmZmYlRQBSuR+F69FFAAAAAAACgTUBI4XoUrpdWQLgehetR6FRA4XoUrkcBSUD2KFyPwrVWQI/C9Shc70dArkfhehQOSUCF61G4HuVMQHE9Ctej0E9AZmZmZmZ2VkAK16NwPWpXQAAAAAAAQEpApHA9CtfzUUBSuB6F65FGQFyPwvUo3ElAw/UoXI/iTUDXo3A9CqdWQJqZmZmZGVFAUrgehevRQkBcj8L1KJxRQK5H4XoUHlBAmpmZmZl5VkAAAAAAAABWQPYoXI/CFUVArkfhehSuU0BmZmZmZqZJQAAAAAAA4ExA4XoUrkdhSEDD9Shcj8JWQNejcD0Kh1NAw/UoXI8iSkAK16NwPUpJQArXo3A9ClZAUrgehesBU0DXo3A9CmdUQNejcD0KN0lAMzMzMzMDUEC4HoXrUUhWQOF6FK5HIVZAhetRuB41VUCF61G4HkVLQMP1KFyPIkpACtejcD36V0DhehSuR1FTQI/C9Shc71FAj8L1KFwvUUAzMzMzMxNFQBSuR+F6tFNAPQrXo3BtUEDNzMzMzMw5QM3MzMzM7E1ASOF6FK6HP0AzMzMzM1NEQHsUrkfh+khAj8L1KFxPVED2KFyPwjVGQKRwPQrXg09AXI/C9Sh8Q0CF61G4HtVRQI/C9Shcb1BApHA9CtdjQkCPwvUoXE9QQBSuR+F6lEBAj8L1KFzPQkBmZmZmZkZFQB+F61G4PkVAw/UoXI+SUkAAAAAAAEBTQLgehetR+EBA4XoUrkdhSkCamZmZmVk3QD0K16NwHUFA4XoUrkfBRUCkcD0K1+NSQAAAAAAA4EdAcT0K16PwMECPwvUoXE9OQAAAAAAAYEVAMzMzMzNTU0Bcj8L1KIxRQFK4HoXr0ThAUrgeheuxTkAUrkfhetQ+QKRwPQrXo0RAZmZmZmbmQEDNzMzMzPxSQK5H4XoUjk5ArkfhehQuQECkcD0K12M/QI/C9Shcf1RAFK5H4Xo0S0CF61G4HuVOQGZmZmZm5kBAzczMzMxsSEAfhetRuM5TQJqZmZmZqVFAmpmZmZkZUUAfhetRuB5DQD0K16Nw3UBAXI/C9ShsVEBcj8L1KDxMQM3MzMzMjEtAhetRuB6lUUAfhetRuN5HQNejcD0KJ1NASOF6FK6XU0DXo3A9CndEQOxRuB6F+1JAj8L1KFxPO0BxPQrXo5BCQDMzMzMz00ZAexSuR+FKU0AAAAAAALBRQB+F61G4PkxAzczMzMxcUEDNzMzMzJxUQEjhehSut1FACtejcD2KPkA9CtejcG1RQHsUrkfhujtAZmZmZmbmRkBSuB6F6xFHQMP1KFyPokJAw/UoXI+CUkC4HoXrUahRQLgehetRGElAuB6F61EYU0B7FK5H4bo8QDMzMzMzU0NA9ihcj8L1RUCuR+F6FI5TQHsUrkfhGk1AKVyPwvUoQUApXI/C9ehLQHsUrkfhWkhAj8L1KFxfU0AfhetRuN5RQClcj8L1SEdAuB6F61F4UkDNzMzMzEw+QOF6FK5HgUZAMzMzMzPTR0AAAAAAAEBTQB+F61G4nlJAZmZmZmbGREB7FK5H4XpFQIXrUbgeJVNAexSuR+GaS0ApXI/C9ThQQHE9Ctej8EFAPQrXo3DdSECPwvUoXL9UQM3MzMzM7FJAMzMzMzMTUEDD9Shcj8JGQAAAAAAAgEJAmpmZmZmpU0AfhetRuJ5OQFyPwvUoPEtAuB6F61HYTUDD9Shcj6JGQLgehetRiFBAexSuR+FKUkAAAAAAAABCQI/C9Shcf1FAFK5H4XrUM0AK16NwPco/QIXrUbgeJURAzczMzMwsUkAUrkfhepRPQLgehetRGEpAw/UoXI/iTECF61G4HlVTQK5H4XoULk9AuB6F61H4N0CF61G4HoVOQAAAAAAAADZAUrgeheuxREBxPQrXo9BDQNejcD0KVz5A7FG4HoXbUEC4HoXrUehQQPYoXI/C1UZAMzMzMzNzUUBxPQrXo7A0QClcj8L1KDxAUrgeheuxRUC4HoXrUWhSQI/C9Shc70hASOF6FK6HPkAfhetRuJ5JQLgehetReERArkfhehReUkD2KFyPwuVQQKRwPQrXQ0NA16NwPQp3UUCkcD0K16M1QMP1KFyPIkFAcT0K16OQR0C4HoXrUahRQNejcD0K51BAH4XrUbieQEBmZmZmZqZBQLgehetRSFJAhetRuB6FSUApXI/C9chNQD0K16NwPT5A4XoUrkcBREApXI/C9ahSQNejcD0K51FAzczMzMysTUBcj8L1KHxCQClcj8L16D9Aj8L1KFx/UkA9CtejcB1LQI/C9Shcj0hAUrgeheuxTUC4HoXrURhCQFyPwvUoHFBAw/UoXI8CTUCuR+F6FK43QOF6FK5H4UpACtejcD3KM0DsUbgehes7QLgehetR+ENAexSuR+HaUEDXo3A9CrdCQIXrUbgeJUtAexSuR+EaQUCF61G4HuVOQB+F61G4nkxAw/UoXI8CQEBxPQrXo1BPQB+F61G43jRApHA9CtejPECF61G4HgVBQAAAAAAA4EFA7FG4HoXLT0C4HoXrUbhPQBSuR+F61DtACtejcD0KS0BI4XoUrkcrQIXrUbgexT9A16NwPQq3QEB7FK5H4fpPQFK4HoXrUUNASOF6FK7HKEAUrkfhenRIQIXrUbgeBUNAAAAAAABAUEAfhetRuH5MQOF6FK5H4SxApHA9CtfjS0AK16NwPQouQFyPwvUoXD1Aj8L1KFyPPUD2KFyPwsVQQFyPwvUofE1AZmZmZmZmN0BI4XoUroc5QPYoXI/CJVFA7FG4HoWrSUB7FK5H4TpJQD0K16NwfTpA16NwPQp3SECPwvUoXJ9RQOxRuB6FC05A7FG4HoVbUEApXI/C9Sg8QHE9CtejsDdAj8L1KFyPUUApXI/C9chKQOF6FK5HoUVAKVyPwvUITkC4HoXrUXhCQB+F61G4PlFArkfhehTuTEC4HoXrUXg2QIXrUbge5UpAXI/C9SgcN0AUrkfhepQ/QIXrUbgeRUVAUrgeheuhUUDhehSuRyFEQEjhehSuB01AZmZmZmYGQUAUrkfhejRPQKRwPQrXI0xApHA9CtejP0BSuB6F65FMQFyPwvUoXDJA9ihcj8K1PUApXI/C9ShCQHE9CtejsENAKVyPwvXYUECkcD0K11NRQLgehetReDpArkfhehTOSEAUrkfhepQmQPYoXI/CNThAw/UoXI/CQkA9CtejcG1QQBSuR+F61EZA7FG4HoXrGEAzMzMzMzNLQBSuR+F6lENAZmZmZmamUUC4HoXrUfhOQI/C9ShcjzFAKVyPwvVIS0DhehSuR2EsQPYoXI/CNUBAXI/C9SicO0DD9ShcjzJQQHE9CtejEEtASOF6FK5HOkDD9Shcj0I6QFyPwvUoPFJArkfhehRuSEBI4XoUrmdKQKRwPQrXoztA9ihcj8L1RUAK16NwPTpRQB+F61G4/k5A4XoUrkdBTkDD9ShcjwJAQOF6FK5HoTdAw/UoXI9SUkB7FK5H4fpIQClcj8L1aEZAcT0K16PwUEBxPQrXo9BGQK5H4XoUzlFAexSuR+HaUkDsUbgehYtCQFK4HoXrkVFAFK5H4XpUNUD2KFyPwpVCQGZmZmZmBkVAexSuR+FqUkApXI/C9WhQQD0K16NwXUtAFK5H4Xr0TUAAAAAAAPBTQPYoXI/CxVBApHA9CtejOUCF61G4HgVQQClcj8L1aDpAUrgehesxRUD2KFyPwpVFQEjhehSuh0FAAAAAAABwUUAfhetRuA5RQAAAAAAAIEdAmpmZmZm5UUAK16NwPco0QD0K16NwfTxAhetRuB4lQ0CF61G4HqVSQPYoXI/CFUtAmpmZmZkZPkAzMzMzM1NLQClcj8L1qEVASOF6FK5HUkDXo3A9CgdRQK5H4XoULkVAj8L1KFxfUUDNzMzMzEw4QDMzMzMzM0NAuB6F61HYRkAUrkfhemRSQHsUrkfh2lFA7FG4HoXLQECPwvUoXM9CQHsUrkfhKlJAFK5H4XrUSEDXo3A9CtdNQIXrUbgeRT9AZmZmZmbmRUCF61G4HgVTQGZmZmZm9lFAzczMzMyMTUDNzMzMzAxDQArXo3A9akBAzczMzMzsUkC4HoXrUbhMQFyPwvUofElAFK5H4Xr0TUDhehSuR6FGQAAAAAAAkFBAXI/C9SisUkBSuB6F61FCQLgehetROFFA9ihcj8L1NED2KFyPwnVAQKRwPQrX40RAzczMzMyMUkCF61G4HkVPQB+F61G43kpAFK5H4XrUS0CuR+F6FI5TQK5H4XoUrk9AH4XrUbgeOUBSuB6F69FOQLgehetRODdASOF6FK6HQ0BmZmZmZiZEQK5H4XoUrj5AKVyPwvXoUEDhehSuR1FRQPYoXI/C1UZAcT0K16OAUECF61G4HgU1QEjhehSuRz1AXI/C9Sh8RkD2KFyPwnVSQNejcD0KN0lA16NwPQpXP0DNzMzMzIxKQOF6FK5HoURAzczMzMxMUkBSuB6F6xFRQNejcD0KF0RAcT0K16MQUUAK16NwPco1QOxRuB6Fy0FAXI/C9SgcSEB7FK5H4bpRQOxRuB6FC1FACtejcD1qQUBcj8L1KBxCQArXo3A9WlJA4XoUrkdhSUCuR+F6FO5NQNejcD0K1z9APQrXo3AdREAUrkfhegRTQM3MzMzMDFJAuB6F61EYTkAzMzMzMxNDQK5H4XoUTkBAzczMzMycUkAK16NwPapLQIXrUbgeJUhACtejcD2KTkAAAAAAAIBJQGZmZmZmhlFAAAAAAADgUkBcj8L1KLxBQOF6FK5HIVJA7FG4HoXrOUAAAAAAAMA/QKRwPQrXY0VAFK5H4XqkUkCPwvUoXK9QQAAAAAAAwElAZmZmZmZGUED2KFyPwoVTQOF6FK5HQVBAhetRuB5FOEAUrkfhetRQQB+F61G4HjZAKVyPwvXoRUBxPQrXozBFQNejcD0KN0BACtejcD1qUUAUrkfherRRQClcj8L1KEdAcT0K16NgUkAUrkfhepQ8QArXo3A9qkJAcT0K16PwRUAzMzMzM3NTQBSuR+F6tEpArkfhehRuP0D2KFyPwjVKQOxRuB6Fi0dAXI/C9SisUkCPwvUoXC9RQFK4HoXr0URAKVyPwvVoUkDhehSuR2E5QKRwPQrXw0NAw/UoXI+iR0DhehSuR2FSQHsUrkfhalJAPQrXo3D9Q0DXo3A9CvdDQB+F61G4rlJAH4XrUbheT0DD9Shcj2JOQPYoXI/CtUBASOF6FK4HSUDNzMzMzMxTQNejcD0KF1NA4XoUrkcBT0BSuB6F65FEQFyPwvUovEBAmpmZmZnZUkC4HoXrUZhPQJqZmZmZmUdAUrgeheuRUUBI4XoUrgdQQMP1KFyPklRAFK5H4XqkVEDXo3A9CjdJQOxRuB6Fq1RAZmZmZmaGQ0CuR+F6FE5IQHsUrkfhWk1AMzMzMzOTVkBI4XoUrrdRQHE9CtejcFBAj8L1KFxvUEB7FK5H4WpUQDMzMzMz01NAzczMzMwsR0BxPQrXo+BUQMP1KFyP4kJAzczMzMyMTECamZmZmXlOQK5H4XoULkxAFK5H4XrkVUBcj8L1KPxWQFyPwvUoXEhAFK5H4Xr0VEAK16NwPSpCQMP1KFyPwk1A4XoUrkcBTECuR+F6FI5XQI/C9Shc705AH4XrUbgeRkApXI/C9ehRQEjhehSuJ1FACtejcD1KVkBI4XoUrrdTQLgehetRuERAPQrXo3AtVUCuR+F6FE5BQLgehetRWEtAZmZmZmbmTUAUrkfhehRXQI/C9Shcz1NAZmZmZmamTUAK16NwPepLQBSuR+F65FZAUrgehethU0BSuB6F65FRQM3MzMzMDEhA4XoUrkdBUUBxPQrXo1BVQJqZmZmZGVZArkfhehTeU0AUrkfhepRMQMP1KFyPQkdAFK5H4XpkVkApXI/C9YhSQKRwPQrXw05ApHA9CtdTUUB7FK5H4XpGQLgehetROFJAZmZmZmb2UkD2KFyPwrVDQI/C9ShcX1FAXI/C9ShcOEApXI/C9WhCQOxRuB6FK0ZASOF6FK6XUkBI4XoUrudPQClcj8L1KExASOF6FK6HTECuR+F6FM5TQGZmZmZmJlFArkfhehRuPEBxPQrXo0BQQKRwPQrXIzxA16NwPQq3RUD2KFyPwjVGQIXrUbgeBUJAMzMzMzOzUUAK16NwPUpRQK5H4XoUjkhA9ihcj8KFUUCkcD0K12M6QMP1KFyPwkBASOF6FK5nRUCF61G4HtVSQHE9Ctej0EpASOF6FK5HQEC4HoXrUThMQPYoXI/CNUZArkfhehSOUkApXI/C9UhRQM3MzMzMrEZAUrgehethUUCkcD0K1+M8QPYoXI/CtURAZmZmZmbmR0Bcj8L1KKxSQHE9CtejgFFAXI/C9Si8QkAK16NwPUpEQI/C9ShcP1JAAAAAAABgSUDsUbgehQtPQK5H4XoUTkFAcT0K16MwR0AK16NwPVpTQDMzMzMzU1JAexSuR+HaTkBcj8L1KNxEQNejcD0K10FAj8L1KFwvU0Bcj8L1KFxMQNejcD0KF0tAKVyPwvUIT0AAAAAAAEBEQHE9CtejMFBACtejcD06UkBmZmZmZiZBQFyPwvUoPFBAAAAAAACALkAzMzMzM5NAQM3MzMzMTEJAUrgeheuBUUCF61G4HoVOQAAAAAAAYElAKVyPwvVoTEAK16NwPUpTQHsUrkfhmk9AH4XrUbgeNEDNzMzMzCxNQAAAAAAAwDJAKVyPwvUIQkDsUbgehctBQHE9CtejcD1AmpmZmZlpUECF61G4HlVQQM3MzMzMzEVAPQrXo3DNUEAAAAAAAAAtQOxRuB6FqzRA16NwPQqXQ0BSuB6F62FRQClcj8L1CElAj8L1KFzPO0AAAAAAAIBIQB+F61G4XkJAexSuR+F6UUDD9Shcj4JQQDMzMzMzM0JAH4XrUbhOUECF61G4HoU1QFyPwvUoXD1AhetRuB4FRkDXo3A9CndRQK5H4XoUjlBAKVyPwvXoOUD2KFyPwrU9QHE9Ctej4FFAcT0K16PwRkAzMzMzM1NMQArXo3A9SjhA16NwPQq3QkDXo3A9CrdRQI/C9Shcr1BAKVyPwvVoTECuR+F6FI5AQJqZmZmZmTpASOF6FK7HUUAzMzMzM3NKQM3MzMzMDEhAuB6F61G4UEBcj8L1KJxGQEjhehSux1FA4XoUrkdhUkAK16NwPYpCQI/C9Shc/1FArkfhehRuNkA9CtejcF1CQJqZmZmZGUVAw/UoXI+iUkCamZmZmalQQClcj8L1aEtASOF6FK4HT0AzMzMzM8NTQNejcD0Kx1BAXI/C9SgcO0D2KFyPwjVQQHE9Ctej8DlASOF6FK4nRUDhehSuR+FEQD0K16Nw3UFA4XoUrkeRUUApXI/C9QhRQHsUrkfhmkdASOF6FK5HUkAUrkfhetQ3QFyPwvUoXD9Aj8L1KFzvQ0ApXI/C9ahSQAAAAAAA4EtAuB6F61G4PkCPwvUoXO9KQJqZmZmZWUZApHA9CtcjUkAUrkfhehRRQGZmZmZmJkVA4XoUrkeBUUDD9Shcj4I6QOF6FK5HwUNApHA9CtdjR0DhehSuRyFSQMP1KFyP8lFArkfhehSuQUCuR+F6FE5DQHE9CtejUFJAUrgehesRSkDNzMzMzCxOQK5H4XoUbkBAAAAAAACgRkDsUbgehUtTQKRwPQrXM1JA16NwPQr3TUAAAAAAAMBEQClcj8L16EBAUrgehevhUkCamZmZmVlNQFK4HoXr0UlASOF6FK7HTECamZmZmZlHQHsUrkfhmlBAexSuR+HKUUAUrkfhejRAQK5H4XoUTlFAmpmZmZkZNUAzMzMzM3M9QGZmZmZmZkNAw/UoXI/yUUD2KFyPwtVPQHsUrkfhOkhArkfhehSuTkCPwvUoXM9SQFK4HoXrkU5AZmZmZmamNkDXo3A9CtdPQKRwPQrXozNAZmZmZmYGREDXo3A9CldEQAAAAAAAgDxA16NwPQqnUEDNzMzMzMxQQM3MzMzMbEVAXI/C9SisUUBxPQrXo/A3QNejcD0Klz9AcT0K16NwREAAAAAAAIBSQAAAAAAAwEhAAAAAAAAAPUApXI/C9WhJQK5H4XoUDkVAKVyPwvXoUUBxPQrXo+BQQLgehetRWENAzczMzMzcUUCuR+F6FC41QD0K16NwXUJASOF6FK5nRkDsUbgehbtRQMP1KFyPYlFA4XoUrkcBQkA9CtejcH1BQIXrUbgeBVJA4XoUrkdhTUAK16NwPcpMQHsUrkfhOj5APQrXo3BdRkDhehSuR+FSQMP1KFyPMlJAPQrXo3A9TUC4HoXrUbhCQFyPwvUoPEBA7FG4HoX7UUB7FK5H4ZpNQB+F61G43kVAZmZmZmbmTECkcD0K10NCQDMzMzMzc01A7FG4HoW7UEB7FK5H4bo7QHsUrkfhOk1AmpmZmZkZI0CamZmZmZk8QMP1KFyPgj5A16NwPQp3T0Bcj8L1KFxLQEjhehSuZ0dAcT0K16MQSUCF61G4HsVRQClcj8L1aEtAmpmZmZmZMECPwvUoXM9JQKRwPQrXIzJAmpmZmZkZP0DhehSuR8FCQD0K16Nw/TZAUrgehevxTUD2KFyPwtVNQB+F61G4XkJAH4XrUbg+TkDXo3A9ClcmQB+F61G4nixAMzMzMzOzP0AUrkfhepRPQAAAAAAAgEZA4XoUrkchNUDsUbgehWtHQNejcD0KFz1A7FG4HoWrT0A9CtejcH1OQB+F61G4HkFAzczMzMzsTUA9CtejcD0uQOF6FK5HITxACtejcD0KREAfhetRuH5PQOF6FK5HQU1APQrXo3B9NkA9CtejcD05QGZmZmZmZlBAhetRuB4lREApXI/C9QhLQHE9Ctej8DZAzczMzMysQEBcj8L1KDxQQArXo3A9yk5A16NwPQq3SEBI4XoUrgc9QKRwPQrX4zdAcT0K16PAUECuR+F6FI5HQLgehetRmEZAXI/C9SiMUUAzMzMzM3NHQAAAAAAAEFNA4XoUrkehU0BI4XoUrudEQMP1KFyPklJAcT0K16MwO0ApXI/C9QhDQBSuR+F69EZAzczMzMxcU0DhehSuR0FRQKRwPQrX40xAj8L1KFxPT0Bcj8L1KKxUQLgehetRmFFAFK5H4XrUPkCamZmZmTlRQI/C9Shczz1APQrXo3D9RkAzMzMzM/NGQMP1KFyPokJAcT0K16NwUkBcj8L1KNxRQGZmZmZmRklAexSuR+GKUkAzMzMzM7M8QB+F61G4fkJAexSuR+E6RkApXI/C9YhTQD0K16NwPUxA9ihcj8I1QUAUrkfhenRMQI/C9Shcb0dASOF6FK43U0DsUbgehbtRQKRwPQrXI0dAcT0K16NQUkAzMzMzM3M+QFK4HoXr0UVAuB6F61HYSEB7FK5H4SpTQJqZmZmZWVJAKVyPwvUIREDD9Shcj0JFQK5H4XoUzlJA16NwPQrXSkAAAAAAACBQQGZmZmZm5kFAPQrXo3BdSECF61G4HoVUQAAAAAAAAFNAMzMzMzMDUEApXI/C9ShGQK5H4XoU7kJAXI/C9SicU0Bcj8L1KHxNQDMzMzMzs0tAzczMzMxMVUDsUbgehetNQB+F61G4/lZASOF6FK7HVEAK16NwPapFQClcj8L1WFRAXI/C9Si8SEDD9Shcj+JKQI/C9ShcX1BAzczMzMw8V0CamZmZmYlRQBSuR+F69FFAAAAAAACgTUBI4XoUrpdWQLgehetR6FRA4XoUrkcBSUD2KFyPwrVWQI/C9Shc70dArkfhehQOSUCF61G4HuVMQHE9Ctej0E9AZmZmZmZ2VkAK16NwPWpXQAAAAAAAQEpApHA9CtfzUUBSuB6F65FGQFyPwvUo3ElAw/UoXI/iTUDXo3A9CqdWQJqZmZmZGVFAUrgehevRQkBcj8L1KJxRQK5H4XoUHlBAmpmZmZl5VkAAAAAAAABWQPYoXI/CFUVArkfhehSuU0BmZmZmZqZJQAAAAAAA4ExA4XoUrkdhSEDD9Shcj8JWQNejcD0Kh1NAw/UoXI8iSkAK16NwPUpJQArXo3A9ClZAUrgehesBU0DXo3A9CmdUQNejcD0KN0lAMzMzMzMDUEC4HoXrUUhWQOF6FK5HIVZAhetRuB41VUCF61G4HkVLQMP1KFyPIkpACtejcD36V0DhehSuR1FTQI/C9Shc71FApHA9CtdTUUB7FK5H4XpGQLgehetROFJAZmZmZmb2UkD2KFyPwrVDQI/C9ShcX1FAXI/C9ShcOEApXI/C9WhCQOxRuB6FK0ZASOF6FK6XUkBI4XoUrudPQClcj8L1KExASOF6FK6HTECuR+F6FM5TQGZmZmZmJlFArkfhehRuPEBxPQrXo0BQQKRwPQrXIzxA16NwPQq3RUD2KFyPwjVGQIXrUbgeBUJAMzMzMzOzUUAK16NwPUpRQK5H4XoUjkhA9ihcj8KFUUCkcD0K12M6QMP1KFyPwkBASOF6FK5nRUCF61G4HtVSQHE9Ctej0EpASOF6FK5HQEC4HoXrUThMQPYoXI/CNUZArkfhehSOUkApXI/C9UhRQM3MzMzMrEZAUrgehethUUCkcD0K1+M8QPYoXI/CtURAZmZmZmbmR0Bcj8L1KKxSQHE9CtejgFFAXI/C9Si8QkAK16NwPUpEQI/C9ShcP1JAAAAAAABgSUDsUbgehQtPQK5H4XoUTkFAcT0K16MwR0AK16NwPVpTQDMzMzMzU1JAexSuR+HaTkBcj8L1KNxEQNejcD0K10FAj8L1KFwvU0Bcj8L1KFxMQNejcD0KF0tAUrgeheuRUUBI4XoUrgdQQMP1KFyPklRAFK5H4XqkVEDXo3A9CjdJQOxRuB6Fq1RAZmZmZmaGQ0CuR+F6FE5IQHsUrkfhWk1AMzMzMzOTVkBI4XoUrrdRQHE9CtejcFBAj8L1KFxvUEB7FK5H4WpUQDMzMzMz01NAzczMzMwsR0BxPQrXo+BUQMP1KFyP4kJAzczMzMyMTECamZmZmXlOQK5H4XoULkxAFK5H4XrkVUBcj8L1KPxWQFyPwvUoXEhAFK5H4Xr0VEAK16NwPSpCQMP1KFyPwk1A4XoUrkcBTECuR+F6FI5XQI/C9Shc705AH4XrUbgeRkApXI/C9ehRQEjhehSuJ1FACtejcD1KVkBI4XoUrrdTQLgehetRuERAPQrXo3AtVUCuR+F6FE5BQLgehetRWEtAZmZmZmbmTUAUrkfhehRXQI/C9Shcz1NAZmZmZmamTUAK16NwPepLQBSuR+F65FZAUrgehethU0BSuB6F65FRQM3MzMzMDEhA4XoUrkdBUUBxPQrXo1BVQJqZmZmZGVZArkfhehTeU0AUrkfhepRMQMP1KFyPQkdAFK5H4XpkVkApXI/C9YhSQKRwPQrXw05AUrgeheuRUUBI4XoUrgdQQMP1KFyPklRAFK5H4XqkVEDXo3A9CjdJQOxRuB6Fq1RAZmZmZmaGQ0CuR+F6FE5IQHsUrkfhWk1AMzMzMzOTVkBI4XoUrrdRQHE9CtejcFBAj8L1KFxvUEB7FK5H4WpUQDMzMzMz01NAzczMzMwsR0BxPQrXo+BUQMP1KFyP4kJAzczMzMyMTECamZmZmXlOQK5H4XoULkxAFK5H4XrkVUBcj8L1KPxWQFyPwvUoXEhAFK5H4Xr0VEAK16NwPSpCQMP1KFyPwk1A4XoUrkcBTECuR+F6FI5XQI/C9Shc705AH4XrUbgeRkApXI/C9ehRQEjhehSuJ1FACtejcD1KVkBI4XoUrrdTQLgehetRuERAPQrXo3AtVUCuR+F6FE5BQLgehetRWEtAZmZmZmbmTUAUrkfhehRXQI/C9Shcz1NAZmZmZmamTUAK16NwPepLQBSuR+F65FZAUrgehethU0BSuB6F65FRQM3MzMzMDEhA4XoUrkdBUUBxPQrXo1BVQJqZmZmZGVZArkfhehTeU0AUrkfhepRMQMP1KFyPQkdAFK5H4XpkVkApXI/C9YhSQKRwPQrXw05AKVyPwvWIUECkcD0K1yNIQI/C9Shcr1JAzczMzMyMUUDXo3A9CpdBQFyPwvUorFBA16NwPQo3QUBcj8L1KNxCQJqZmZmZmUhAzczMzMw8UkC4HoXrUXhIQEjhehSu505AcT0K16NwRkAzMzMzM+NQQFyPwvUoHFFAj8L1KFxPQkDXo3A9CrdRQNejcD0KFzxAcT0K16PwQ0BmZmZmZiZFQArXo3A9akZA16NwPQo3UkBmZmZmZqZSQGZmZmZm5kBAAAAAAACgTkBxPQrXo/AuQPYoXI/ClUNAmpmZmZn5QkCF61G4HrVSQDMzMzMzU0dASOF6FK7HN0CPwvUoXE9PQEjhehSuZ0hApHA9CtcjUkAfhetRuJ5OQHE9Ctej8DFAj8L1KFxfUEDD9Shcj4IyQOF6FK5HQUJAzczMzMwMQ0DNzMzMzIxSQOxRuB6Fa09AMzMzMzOzQEBSuB6F6/FBQPYoXI/CxVJAhetRuB4lTUDsUbgehatLQAAAAAAAYEJAH4XrUbi+SUDsUbgehatTQKRwPQrXI1JAKVyPwvXIUUAzMzMzM/NDQNejcD0KVzdA7FG4HoX7UkAzMzMzM7NLQB+F61G4vkVAzczMzMzcVkDD9Shcj7JQQArXo3A9alhAFK5H4Xq0VkApXI/C9WhKQKRwPQrXg1VAMzMzMzMzTUD2KFyPwpVNQB+F61G4jlJAcT0K16MgV0CamZmZmdlSQOF6FK5HwVNA7FG4HoUbUUC4HoXrUfhXQOF6FK5H8VZAXI/C9ShcTkDhehSuR2FXQFyPwvUovEtArkfhehTOS0A9CtejcE1QQArXo3A92lFA7FG4HoWbWEDNzMzMzMxYQI/C9Shcj01A7FG4HoW7VEDhehSuR6FIQOF6FK5HwU1ACtejcD36UUDsUbgehTtYQHsUrkfhelNAAAAAAAAgR0AK16NwPUpUQNejcD0Kx1JAXI/C9SgcWECuR+F6FA5YQJqZmZmZ2UdA4XoUrkfBVUDNzMzMzKxKQHE9CtejoFBAAAAAAABgTUAAAAAAAABYQBSuR+F65FRAFK5H4Xp0TkCkcD0K18NNQLgehetRCFdA7FG4HoWbVEDsUbgehUtVQPYoXI/CdU5AAAAAAACwUUA9CtejcE1XQOF6FK5HAVdAXI/C9Si8VkCamZmZmRlPQLgehetR+E1AFK5H4XoEWUDhehSuR0FUQClcj8L16FNAuB6F61GIUUApXI/C9QhJQArXo3A9alJA9ihcj8IlUkCamZmZmVlBQHsUrkfhClJAuB6F61G4QUAzMzMzM1NFQNejcD0KN0pAMzMzMzNzUkBSuB6F67FMQD0K16NwTVBA4XoUrkehSUAAAAAAAMBSQNejcD0KJ1JA16NwPQr3RED2KFyPwjVUQHE9CtejEEJA4XoUrkchRUCamZmZmZlHQHsUrkfhuktAPQrXo3B9VECPwvUoXI9TQAAAAAAA4ENAKVyPwvWoUkBSuB6F69E3QHsUrkfhGkdAhetRuB4FSEA9CtejcC1TQDMzMzMzM0tAAAAAAACAOED2KFyPwjVOQOxRuB6FS01A9ihcj8I1VEAzMzMzM4NRQHE9CtejsDhAFK5H4XqkUkApXI/C9ag8QI/C9Shc70ZAhetRuB6FREAfhetRuA5UQArXo3A9mlFAH4XrUbheRUBSuB6F61FDQOxRuB6Fu1NAw/UoXI9CUEAK16NwPVpQQFK4HoXrMUJA9ihcj8I1S0DNzMzMzHxTQHE9CtejkFNAZmZmZmbWUkCamZmZmVlFQJqZmZmZWUJAcT0K16OQU0D2KFyPwvVOQLgehetR+E1AXI/C9SiMUUAzMzMzM3NHQAAAAAAAEFNA4XoUrkehU0BI4XoUrudEQMP1KFyPklJAcT0K16MwO0ApXI/C9QhDQBSuR+F69EZAzczMzMxcU0DhehSuR0FRQKRwPQrX40xAj8L1KFxPT0Bcj8L1KKxUQLgehetRmFFAFK5H4XrUPkCamZmZmTlRQI/C9Shczz1APQrXo3D9RkAzMzMzM/NGQMP1KFyPokJAcT0K16NwUkBcj8L1KNxRQGZmZmZmRklAexSuR+GKUkAzMzMzM7M8QB+F61G4fkJAexSuR+E6RkApXI/C9YhTQD0K16NwPUxA9ihcj8I1QUAUrkfhenRMQI/C9Shcb0dASOF6FK43U0DsUbgehbtRQKRwPQrXI0dAcT0K16NQUkAzMzMzM3M+QFK4HoXr0UVAuB6F61HYSEB7FK5H4SpTQJqZmZmZWVJAKVyPwvUIREDD9Shcj0JFQK5H4XoUzlJA16NwPQrXSkAAAAAAACBQQGZmZmZm5kFAPQrXo3BdSECF61G4HoVUQAAAAAAAAFNAMzMzMzMDUEApXI/C9ShGQK5H4XoU7kJAXI/C9SicU0Bcj8L1KHxNQDMzMzMzs0tACtejcD2qUkDXo3A9CrdPQGZmZmZmdlRAw/UoXI+SVEC4HoXrUThLQOxRuB6F+1NAXI/C9Sj8RkAK16NwPapJQFyPwvUoXE9Aj8L1KFxfVUCkcD0K1+NSQPYoXI/ClVBAw/UoXI8iUUCPwvUoXG9UQIXrUbgeJVRACtejcD3qSUAzMzMzM5NUQK5H4XoUDkdAexSuR+H6TkBcj8L1KPxOQKRwPQrX01BAhetRuB5VVUAAAAAAAOBVQClcj8L1yEpAPQrXo3C9VEDXo3A9CldHQDMzMzMzI1BAXI/C9Sh8TUA9CtejcK1VQKRwPQrXY1FArkfhehQOS0DNzMzMzMxRQClcj8L1WFFAPQrXo3AtVUBcj8L1KHxTQFK4HoXrUUlACtejcD2aVEAUrkfhepREQDMzMzMzk01AAAAAAADAT0ApXI/C9ehVQI/C9ShcL1RAw/UoXI8iUEAK16NwPapOQKRwPQrXY1VAexSuR+FKU0AUrkfhemRSQNejcD0Kl0xAzczMzMx8UkDhehSuR2FUQFyPwvUoDFVAAAAAAABgVEC4HoXrUZhPQB+F61G4PktACtejcD0aVUAzMzMzMyNTQFK4HoXr0VFACtejcD2qUkDXo3A9CrdPQGZmZmZmdlRAw/UoXI+SVEC4HoXrUThLQOxRuB6F+1NAXI/C9Sj8RkAK16NwPapJQFyPwvUoXE9Aj8L1KFxfVUCkcD0K1+NSQPYoXI/ClVBAw/UoXI8iUUCPwvUoXG9UQIXrUbgeJVRACtejcD3qSUAzMzMzM5NUQK5H4XoUDkdAexSuR+H6TkBcj8L1KPxOQKRwPQrX01BAhetRuB5VVUAAAAAAAOBVQClcj8L1yEpAPQrXo3C9VEDXo3A9CldHQDMzMzMzI1BAXI/C9Sh8TUA9CtejcK1VQKRwPQrXY1FArkfhehQOS0DNzMzMzMxRQClcj8L1WFFAPQrXo3AtVUBcj8L1KHxTQFK4HoXrUUlACtejcD2aVEAUrkfhepREQDMzMzMzk01AAAAAAADAT0ApXI/C9ehVQI/C9ShcL1RAw/UoXI8iUEAK16NwPapOQKRwPQrXY1VAexSuR+FKU0AUrkfhemRSQNejcD0Kl0xAzczMzMx8UkDhehSuR2FUQFyPwvUoDFVAAAAAAABgVEC4HoXrUZhPQB+F61G4PktACtejcD0aVUAzMzMzMyNTQFK4HoXr0VFAzczMzMxMVUDsUbgehetNQB+F61G4/lZASOF6FK7HVEAK16NwPapFQClcj8L1WFRAXI/C9Si8SEDD9Shcj+JKQI/C9ShcX1BAzczMzMw8V0CamZmZmYlRQBSuR+F69FFAAAAAAACgTUBI4XoUrpdWQLgehetR6FRA4XoUrkcBSUD2KFyPwrVWQI/C9Shc70dArkfhehQOSUCF61G4HuVMQHE9Ctej0E9AZmZmZmZ2VkAK16NwPWpXQAAAAAAAQEpApHA9CtfzUUBSuB6F65FGQFyPwvUo3ElAw/UoXI/iTUDXo3A9CqdWQJqZmZmZGVFAUrgehevRQkBcj8L1KJxRQK5H4XoUHlBAmpmZmZl5VkAAAAAAAABWQPYoXI/CFUVArkfhehSuU0BmZmZmZqZJQAAAAAAA4ExA4XoUrkdhSEDD9Shcj8JWQNejcD0Kh1NAw/UoXI8iSkAK16NwPUpJQArXo3A9ClZAUrgehesBU0DXo3A9CmdUQNejcD0KN0lAMzMzMzMDUEC4HoXrUUhWQOF6FK5HIVZAhetRuB41VUCF61G4HkVLQMP1KFyPIkpACtejcD36V0DhehSuR1FTQI/C9Shc71FAj8L1KFwvUkBI4XoUrqdPQGZmZmZmVlRAuB6F61GIVEBmZmZmZsZKQIXrUbge9VNAZmZmZmYmRkDXo3A9CndJQI/C9Shcz05AexSuR+E6VUDXo3A9CrdSQDMzMzMzM1BAmpmZmZkJUUBmZmZmZkZUQFyPwvUo/FNASOF6FK5nSUBSuB6F63FUQArXo3A9SkZAcT0K16PwTkB7FK5H4RpPQBSuR+F6pFBA7FG4HoU7VUCamZmZmSlWQFK4HoXrkUpA9ihcj8LlVEB7FK5H4fpGQEjhehSux09AhetRuB4FTUAfhetRuO5VQAAAAAAAMFFAH4XrUbheSkDsUbgehetRQM3MzMzMXFFAhetRuB4VVUCamZmZmclTQK5H4XoUrkhAAAAAAACwVEDsUbgehStEQM3MzMzMLE1ArkfhehSOT0DhehSuRxFWQIXrUbgeFVRAMzMzMzMDUEC4HoXrUVhOQDMzMzMzA1VAmpmZmZlJU0AzMzMzMwNSQArXo3A96ktAj8L1KFxfUkAzMzMzM0NUQD0K16Nw7VRASOF6FK5HVEBSuB6F69FOQFK4HoXrcUpArkfhehTeVEDhehSuR+FSQLgehetReFFA4XoUrkcBT0BSuB6F67FEQK5H4XoUXlBACtejcD2qUUDNzMzMzMxAQM3MzMzMbFBA9ihcj8L1LECkcD0K12NBQJqZmZmZOUJACtejcD1KUUBmZmZmZgZOQMP1KFyPAkpASOF6FK4nS0B7FK5H4SpTQAAAAAAAYE9ApHA9CtejNUD2KFyPwrVNQNejcD0K1zRAzczMzMyMQUAAAAAAAEBDQJqZmZmZmTxAAAAAAABQUECF61G4HuVPQOF6FK5HQUNACtejcD2KUEAUrkfhepQqQD0K16NwfTJAMzMzMzOzQUBmZmZmZgZRQEjhehSuZ0lAzczMzMwMOEB7FK5H4RpJQMP1KFyPYkFA16NwPQr3UECF61G4HjVQQD0K16NwPUFAXI/C9SgMUEAfhetRuN4wQEjhehSuhz5AAAAAAABgREAzMzMzMxNRQAAAAAAAMFBACtejcD3KN0Bcj8L1KNw7QJqZmZmZiVFAXI/C9Sg8RkB7FK5H4ZpMQArXo3A9SjdAhetRuB5FQkCF61G4HkVRQKRwPQrXQ1BApHA9CtfjS0AUrkfhepQ+QOxRuB6F6zdA9ihcj8KFUUBI4XoUrgdKQM3MzMzMrEdA9ihcj8JVT0BI4XoUrqdEQClcj8L1WFFAuB6F61EIUEAAAAAAAIBAQHE9CtejEE5AhetRuB5FPkAfhetRuD5AQB+F61G4XkdAPQrXo3BNUUAAAAAAAMBEQM3MzMzMjExAZmZmZmamQkDXo3A9CndOQGZmZmZmpk9AMzMzMzPzQECuR+F6FK5PQArXo3A9CjdAMzMzMzOzQEAfhetRuH5DQBSuR+F6FENAcT0K16PAUEBI4XoUrpdRQKRwPQrXQ0FASOF6FK5nS0AfhetRuB4tQB+F61G4fkFAhetRuB6FQUBcj8L1KAxSQJqZmZmZmURAw/UoXI/CN0AfhetRuF5NQI/C9Shcb0VAj8L1KFwfUUBI4XoUridNQM3MzMzMDDFAzczMzMyMTkCPwvUoXM8wQJqZmZmZmT9Aj8L1KFxvQECamZmZmelQQIXrUbgepUxApHA9CtdjO0BmZmZmZqY/QArXo3A9SlJArkfhehRuSkBSuB6F6xFJQHsUrkfhmkJAPQrXo3A9SECuR+F6FJ5SQArXo3A92lBA16NwPQpHUEBmZmZmZqZBQAAAAAAAADZAH4XrUbjuUUBcj8L1KBxJQHE9CtejsENAcT0K16OAVUAUrkfhetRPQClcj8L1OFdAMzMzMzPzVED2KFyPwpVJQBSuR+F6tFRA7FG4HoUrS0D2KFyPwvVLQMP1KFyPwlFAuB6F61GIVUCkcD0K18NRQMP1KFyPQlNAw/UoXI9SUEBSuB6F68FWQMP1KFyPAlVA4XoUrkdBTkB7FK5H4WpWQHsUrkfh+khACtejcD0qSkAfhetRuJ5OQClcj8L16FBA16NwPQrXV0DXo3A9CudWQIXrUbgepUxASOF6FK53VEBxPQrXo3BGQHsUrkfhekxAFK5H4XokUUAzMzMzM3NWQKRwPQrXY1JA16NwPQq3RUBxPQrXo8BSQFK4HoXrQVJAFK5H4XokVkCkcD0K10NWQArXo3A9SkVAFK5H4XokVUDhehSuR8FJQK5H4XoUDlBApHA9CtejS0DXo3A9CmdVQKRwPQrXA1RAj8L1KFzPTEDNzMzMzGxMQHE9CtejMFVA4XoUrkdBU0C4HoXrUThUQM3MzMzM7E1Aj8L1KFx/UEBI4XoUrrdVQBSuR+F6xFRASOF6FK63VUAzMzMzM9NMQD0K16Nw3UtAUrgeheuxVkBSuB6F6wFTQFK4HoXrAVNA7FG4HoV7U0C4HoXrURhPQHsUrkfhClRA7FG4HoUbVEBI4XoUrkdGQHE9CtejsFRASOF6FK6nR0BSuB6F63FKQMP1KFyPQk9ACtejcD0qVUAK16NwPcpQQKRwPQrXM1JASOF6FK4XUEDhehSuR2FUQBSuR+F6VFRAw/UoXI9CSkBI4XoUrgdWQB+F61G4/kdA9ihcj8LVSkA9CtejcP1NQMP1KFyP8lBA16NwPQrXVkD2KFyPwvVVQB+F61G4vkdAj8L1KFzfVEB7FK5H4ZpAQOF6FK5HIU5ACtejcD2KTUCuR+F6FN5VQOF6FK5HsVBAXI/C9Sg8REB7FK5H4YpSQGZmZmZmllFA4XoUrkfBVUDD9Shcj9JTQD0K16NwHUFApHA9CtdzVUAzMzMzM1NEQB+F61G4Hk5A4XoUrkehSUApXI/C9ahVQClcj8L1OFRA16NwPQo3TED2KFyPwvVJQKRwPQrXQ1VArkfhehReU0D2KFyPwoVSQOxRuB6Fy0dAzczMzMwsUEDsUbgehatUQI/C9ShcP1VAH4XrUbhuVUDD9Shcj0JLQIXrUbgeRUdA16NwPQqXVUD2KFyPwuVQQClcj8L1yFFAj8L1KFwvUUAzMzMzMxNFQBSuR+F6tFNAPQrXo3BtUEDNzMzMzMw5QM3MzMzM7E1ASOF6FK6HP0AzMzMzM1NEQHsUrkfh+khAj8L1KFxPVED2KFyPwjVGQKRwPQrXg09AXI/C9Sh8Q0CF61G4HtVRQI/C9Shcb1BApHA9CtdjQkCPwvUoXE9QQBSuR+F6lEBAj8L1KFzPQkBmZmZmZkZFQB+F61G4PkVAw/UoXI+SUkAAAAAAAEBTQLgehetR+EBA4XoUrkdhSkCamZmZmVk3QD0K16NwHUFA4XoUrkfBRUCkcD0K1+NSQAAAAAAA4EdAcT0K16PwMECPwvUoXE9OQAAAAAAAYEVAMzMzMzNTU0Bcj8L1KIxRQFK4HoXr0ThAUrgeheuxTkAUrkfhetQ+QKRwPQrXo0RAZmZmZmbmQEDNzMzMzPxSQK5H4XoUjk5ArkfhehQuQECkcD0K12M/QI/C9Shcf1RAFK5H4Xo0S0CF61G4HuVOQGZmZmZm5kBAzczMzMxsSEAfhetRuM5TQJqZmZmZqVFAmpmZmZkZUUAfhetRuB5DQD0K16Nw3UBAXI/C9ShsVEBcj8L1KDxMQM3MzMzMjEtAhetRuB6lUUAfhetRuN5HQNejcD0KJ1NASOF6FK6XU0DXo3A9CndEQOxRuB6F+1JAj8L1KFxPO0BxPQrXo5BCQDMzMzMz00ZAexSuR+FKU0AAAAAAALBRQB+F61G4PkxAzczMzMxcUEDNzMzMzJxUQEjhehSut1FACtejcD2KPkA9CtejcG1RQHsUrkfhujtAZmZmZmbmRkBSuB6F6xFHQMP1KFyPokJAw/UoXI+CUkC4HoXrUahRQLgehetRGElAuB6F61EYU0B7FK5H4bo8QDMzMzMzU0NA9ihcj8L1RUCuR+F6FI5TQHsUrkfhGk1AKVyPwvUoQUApXI/C9ehLQHsUrkfhWkhAj8L1KFxfU0AfhetRuN5RQClcj8L1SEdAuB6F61F4UkDNzMzMzEw+QOF6FK5HgUZAMzMzMzPTR0AAAAAAAEBTQB+F61G4nlJAZmZmZmbGREB7FK5H4XpFQIXrUbgeJVNAexSuR+GaS0ApXI/C9ThQQHE9Ctej8EFAPQrXo3DdSECPwvUoXL9UQM3MzMzM7FJAMzMzMzMTUEDD9Shcj8JGQAAAAAAAgEJAmpmZmZmpU0AfhetRuJ5OQFyPwvUoPEtA",
          "dtype": "f8"
         },
         "xaxis": "x",
         "y": {
          "bdata": "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",
          "dtype": "f8"
         },
         "yaxis": "y"
        },
        {
         "hovertemplate": "<b>OLS trendline</b><br>weekly_sales = -1011.92 * temperature + 1.12017e+06<br>R<sup>2</sup>=0.001199<br><br>temperature=%{x}<br>weekly_sales=%{y} <b>(trend)</b><extra></extra>",
         "legendgroup": "",
         "marker": {
          "color": "#636efa",
          "symbol": "circle"
         },
         "mode": "lines",
         "name": "",
         "showlegend": false,
         "type": "scattergl",
         "x": {
          "bdata": "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",
          "dtype": "f8"
         },
         "xaxis": "x",
         "y": {
          "bdata": "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",
          "dtype": "f8"
         },
         "yaxis": "y"
        }
       ],
       "layout": {
        "legend": {
         "tracegroupgap": 0
        },
        "template": {
         "data": {
          "bar": [
           {
            "error_x": {
             "color": "#2a3f5f"
            },
            "error_y": {
             "color": "#2a3f5f"
            },
            "marker": {
             "line": {
              "color": "#E5ECF6",
              "width": 0.5
             },
             "pattern": {
              "fillmode": "overlay",
              "size": 10,
              "solidity": 0.2
             }
            },
            "type": "bar"
           }
          ],
          "barpolar": [
           {
            "marker": {
             "line": {
              "color": "#E5ECF6",
              "width": 0.5
             },
             "pattern": {
              "fillmode": "overlay",
              "size": 10,
              "solidity": 0.2
             }
            },
            "type": "barpolar"
           }
          ],
          "carpet": [
           {
            "aaxis": {
             "endlinecolor": "#2a3f5f",
             "gridcolor": "white",
             "linecolor": "white",
             "minorgridcolor": "white",
             "startlinecolor": "#2a3f5f"
            },
            "baxis": {
             "endlinecolor": "#2a3f5f",
             "gridcolor": "white",
             "linecolor": "white",
             "minorgridcolor": "white",
             "startlinecolor": "#2a3f5f"
            },
            "type": "carpet"
           }
          ],
          "choropleth": [
           {
            "colorbar": {
             "outlinewidth": 0,
             "ticks": ""
            },
            "type": "choropleth"
           }
          ],
          "contour": [
           {
            "colorbar": {
             "outlinewidth": 0,
             "ticks": ""
            },
            "colorscale": [
             [
              0,
              "#0d0887"
             ],
             [
              0.1111111111111111,
              "#46039f"
             ],
             [
              0.2222222222222222,
              "#7201a8"
             ],
             [
              0.3333333333333333,
              "#9c179e"
             ],
             [
              0.4444444444444444,
              "#bd3786"
             ],
             [
              0.5555555555555556,
              "#d8576b"
             ],
             [
              0.6666666666666666,
              "#ed7953"
             ],
             [
              0.7777777777777778,
              "#fb9f3a"
             ],
             [
              0.8888888888888888,
              "#fdca26"
             ],
             [
              1,
              "#f0f921"
             ]
            ],
            "type": "contour"
           }
          ],
          "contourcarpet": [
           {
            "colorbar": {
             "outlinewidth": 0,
             "ticks": ""
            },
            "type": "contourcarpet"
           }
          ],
          "heatmap": [
           {
            "colorbar": {
             "outlinewidth": 0,
             "ticks": ""
            },
            "colorscale": [
             [
              0,
              "#0d0887"
             ],
             [
              0.1111111111111111,
              "#46039f"
             ],
             [
              0.2222222222222222,
              "#7201a8"
             ],
             [
              0.3333333333333333,
              "#9c179e"
             ],
             [
              0.4444444444444444,
              "#bd3786"
             ],
             [
              0.5555555555555556,
              "#d8576b"
             ],
             [
              0.6666666666666666,
              "#ed7953"
             ],
             [
              0.7777777777777778,
              "#fb9f3a"
             ],
             [
              0.8888888888888888,
              "#fdca26"
             ],
             [
              1,
              "#f0f921"
             ]
            ],
            "type": "heatmap"
           }
          ],
          "histogram": [
           {
            "marker": {
             "pattern": {
              "fillmode": "overlay",
              "size": 10,
              "solidity": 0.2
             }
            },
            "type": "histogram"
           }
          ],
          "histogram2d": [
           {
            "colorbar": {
             "outlinewidth": 0,
             "ticks": ""
            },
            "colorscale": [
             [
              0,
              "#0d0887"
             ],
             [
              0.1111111111111111,
              "#46039f"
             ],
             [
              0.2222222222222222,
              "#7201a8"
             ],
             [
              0.3333333333333333,
              "#9c179e"
             ],
             [
              0.4444444444444444,
              "#bd3786"
             ],
             [
              0.5555555555555556,
              "#d8576b"
             ],
             [
              0.6666666666666666,
              "#ed7953"
             ],
             [
              0.7777777777777778,
              "#fb9f3a"
             ],
             [
              0.8888888888888888,
              "#fdca26"
             ],
             [
              1,
              "#f0f921"
             ]
            ],
            "type": "histogram2d"
           }
          ],
          "histogram2dcontour": [
           {
            "colorbar": {
             "outlinewidth": 0,
             "ticks": ""
            },
            "colorscale": [
             [
              0,
              "#0d0887"
             ],
             [
              0.1111111111111111,
              "#46039f"
             ],
             [
              0.2222222222222222,
              "#7201a8"
             ],
             [
              0.3333333333333333,
              "#9c179e"
             ],
             [
              0.4444444444444444,
              "#bd3786"
             ],
             [
              0.5555555555555556,
              "#d8576b"
             ],
             [
              0.6666666666666666,
              "#ed7953"
             ],
             [
              0.7777777777777778,
              "#fb9f3a"
             ],
             [
              0.8888888888888888,
              "#fdca26"
             ],
             [
              1,
              "#f0f921"
             ]
            ],
            "type": "histogram2dcontour"
           }
          ],
          "mesh3d": [
           {
            "colorbar": {
             "outlinewidth": 0,
             "ticks": ""
            },
            "type": "mesh3d"
           }
          ],
          "parcoords": [
           {
            "line": {
             "colorbar": {
              "outlinewidth": 0,
              "ticks": ""
             }
            },
            "type": "parcoords"
           }
          ],
          "pie": [
           {
            "automargin": true,
            "type": "pie"
           }
          ],
          "scatter": [
           {
            "fillpattern": {
             "fillmode": "overlay",
             "size": 10,
             "solidity": 0.2
            },
            "type": "scatter"
           }
          ],
          "scatter3d": [
           {
            "line": {
             "colorbar": {
              "outlinewidth": 0,
              "ticks": ""
             }
            },
            "marker": {
             "colorbar": {
              "outlinewidth": 0,
              "ticks": ""
             }
            },
            "type": "scatter3d"
           }
          ],
          "scattercarpet": [
           {
            "marker": {
             "colorbar": {
              "outlinewidth": 0,
              "ticks": ""
             }
            },
            "type": "scattercarpet"
           }
          ],
          "scattergeo": [
           {
            "marker": {
             "colorbar": {
              "outlinewidth": 0,
              "ticks": ""
             }
            },
            "type": "scattergeo"
           }
          ],
          "scattergl": [
           {
            "marker": {
             "colorbar": {
              "outlinewidth": 0,
              "ticks": ""
             }
            },
            "type": "scattergl"
           }
          ],
          "scattermap": [
           {
            "marker": {
             "colorbar": {
              "outlinewidth": 0,
              "ticks": ""
             }
            },
            "type": "scattermap"
           }
          ],
          "scattermapbox": [
           {
            "marker": {
             "colorbar": {
              "outlinewidth": 0,
              "ticks": ""
             }
            },
            "type": "scattermapbox"
           }
          ],
          "scatterpolar": [
           {
            "marker": {
             "colorbar": {
              "outlinewidth": 0,
              "ticks": ""
             }
            },
            "type": "scatterpolar"
           }
          ],
          "scatterpolargl": [
           {
            "marker": {
             "colorbar": {
              "outlinewidth": 0,
              "ticks": ""
             }
            },
            "type": "scatterpolargl"
           }
          ],
          "scatterternary": [
           {
            "marker": {
             "colorbar": {
              "outlinewidth": 0,
              "ticks": ""
             }
            },
            "type": "scatterternary"
           }
          ],
          "surface": [
           {
            "colorbar": {
             "outlinewidth": 0,
             "ticks": ""
            },
            "colorscale": [
             [
              0,
              "#0d0887"
             ],
             [
              0.1111111111111111,
              "#46039f"
             ],
             [
              0.2222222222222222,
              "#7201a8"
             ],
             [
              0.3333333333333333,
              "#9c179e"
             ],
             [
              0.4444444444444444,
              "#bd3786"
             ],
             [
              0.5555555555555556,
              "#d8576b"
             ],
             [
              0.6666666666666666,
              "#ed7953"
             ],
             [
              0.7777777777777778,
              "#fb9f3a"
             ],
             [
              0.8888888888888888,
              "#fdca26"
             ],
             [
              1,
              "#f0f921"
             ]
            ],
            "type": "surface"
           }
          ],
          "table": [
           {
            "cells": {
             "fill": {
              "color": "#EBF0F8"
             },
             "line": {
              "color": "white"
             }
            },
            "header": {
             "fill": {
              "color": "#C8D4E3"
             },
             "line": {
              "color": "white"
             }
            },
            "type": "table"
           }
          ]
         },
         "layout": {
          "annotationdefaults": {
           "arrowcolor": "#2a3f5f",
           "arrowhead": 0,
           "arrowwidth": 1
          },
          "autotypenumbers": "strict",
          "coloraxis": {
           "colorbar": {
            "outlinewidth": 0,
            "ticks": ""
           }
          },
          "colorscale": {
           "diverging": [
            [
             0,
             "#8e0152"
            ],
            [
             0.1,
             "#c51b7d"
            ],
            [
             0.2,
             "#de77ae"
            ],
            [
             0.3,
             "#f1b6da"
            ],
            [
             0.4,
             "#fde0ef"
            ],
            [
             0.5,
             "#f7f7f7"
            ],
            [
             0.6,
             "#e6f5d0"
            ],
            [
             0.7,
             "#b8e186"
            ],
            [
             0.8,
             "#7fbc41"
            ],
            [
             0.9,
             "#4d9221"
            ],
            [
             1,
             "#276419"
            ]
           ],
           "sequential": [
            [
             0,
             "#0d0887"
            ],
            [
             0.1111111111111111,
             "#46039f"
            ],
            [
             0.2222222222222222,
             "#7201a8"
            ],
            [
             0.3333333333333333,
             "#9c179e"
            ],
            [
             0.4444444444444444,
             "#bd3786"
            ],
            [
             0.5555555555555556,
             "#d8576b"
            ],
            [
             0.6666666666666666,
             "#ed7953"
            ],
            [
             0.7777777777777778,
             "#fb9f3a"
            ],
            [
             0.8888888888888888,
             "#fdca26"
            ],
            [
             1,
             "#f0f921"
            ]
           ],
           "sequentialminus": [
            [
             0,
             "#0d0887"
            ],
            [
             0.1111111111111111,
             "#46039f"
            ],
            [
             0.2222222222222222,
             "#7201a8"
            ],
            [
             0.3333333333333333,
             "#9c179e"
            ],
            [
             0.4444444444444444,
             "#bd3786"
            ],
            [
             0.5555555555555556,
             "#d8576b"
            ],
            [
             0.6666666666666666,
             "#ed7953"
            ],
            [
             0.7777777777777778,
             "#fb9f3a"
            ],
            [
             0.8888888888888888,
             "#fdca26"
            ],
            [
             1,
             "#f0f921"
            ]
           ]
          },
          "colorway": [
           "#636efa",
           "#EF553B",
           "#00cc96",
           "#ab63fa",
           "#FFA15A",
           "#19d3f3",
           "#FF6692",
           "#B6E880",
           "#FF97FF",
           "#FECB52"
          ],
          "font": {
           "color": "#2a3f5f"
          },
          "geo": {
           "bgcolor": "white",
           "lakecolor": "white",
           "landcolor": "#E5ECF6",
           "showlakes": true,
           "showland": true,
           "subunitcolor": "white"
          },
          "hoverlabel": {
           "align": "left"
          },
          "hovermode": "closest",
          "mapbox": {
           "style": "light"
          },
          "paper_bgcolor": "white",
          "plot_bgcolor": "#E5ECF6",
          "polar": {
           "angularaxis": {
            "gridcolor": "white",
            "linecolor": "white",
            "ticks": ""
           },
           "bgcolor": "#E5ECF6",
           "radialaxis": {
            "gridcolor": "white",
            "linecolor": "white",
            "ticks": ""
           }
          },
          "scene": {
           "xaxis": {
            "backgroundcolor": "#E5ECF6",
            "gridcolor": "white",
            "gridwidth": 2,
            "linecolor": "white",
            "showbackground": true,
            "ticks": "",
            "zerolinecolor": "white"
           },
           "yaxis": {
            "backgroundcolor": "#E5ECF6",
            "gridcolor": "white",
            "gridwidth": 2,
            "linecolor": "white",
            "showbackground": true,
            "ticks": "",
            "zerolinecolor": "white"
           },
           "zaxis": {
            "backgroundcolor": "#E5ECF6",
            "gridcolor": "white",
            "gridwidth": 2,
            "linecolor": "white",
            "showbackground": true,
            "ticks": "",
            "zerolinecolor": "white"
           }
          },
          "shapedefaults": {
           "line": {
            "color": "#2a3f5f"
           }
          },
          "ternary": {
           "aaxis": {
            "gridcolor": "white",
            "linecolor": "white",
            "ticks": ""
           },
           "baxis": {
            "gridcolor": "white",
            "linecolor": "white",
            "ticks": ""
           },
           "bgcolor": "#E5ECF6",
           "caxis": {
            "gridcolor": "white",
            "linecolor": "white",
            "ticks": ""
           }
          },
          "title": {
           "x": 0.05
          },
          "xaxis": {
           "automargin": true,
           "gridcolor": "white",
           "linecolor": "white",
           "ticks": "",
           "title": {
            "standoff": 15
           },
           "zerolinecolor": "white",
           "zerolinewidth": 2
          },
          "yaxis": {
           "automargin": true,
           "gridcolor": "white",
           "linecolor": "white",
           "ticks": "",
           "title": {
            "standoff": 15
           },
           "zerolinecolor": "white",
           "zerolinewidth": 2
          }
         }
        },
        "title": {
         "text": "Temperature vs Weekly Sales"
        },
        "xaxis": {
         "anchor": "y",
         "domain": [
          0,
          1
         ],
         "title": {
          "text": "temperature"
         }
        },
        "yaxis": {
         "anchor": "x",
         "domain": [
          0,
          1
         ],
         "title": {
          "text": "weekly_sales"
         }
        }
       }
      }
     },
     "metadata": {},
     "output_type": "display_data"
    }
   ],
   "source": [
    "# Temparature vs Weekly Sales\n",
    "\n",
    "fig = px.scatter(df, x='temperature', y='weekly_sales',\n",
    "                 title='Temperature vs Weekly Sales', trendline='ols')\n",
    "fig.show()\n"
   ]
  },
  {
   "cell_type": "code",
   "execution_count": null,
   "id": "0cf9facc",
   "metadata": {},
   "outputs": [
    {
     "data": {
      "application/vnd.plotly.v1+json": {
       "config": {
        "plotlyServerURL": "https://plot.ly"
       },
       "data": [
        {
         "coloraxis": "coloraxis",
         "hovertemplate": "x: %{x}<br>y: %{y}<br>color: %{z}<extra></extra>",
         "name": "0",
         "texttemplate": "%{z}",
         "type": "heatmap",
         "x": [
          "weekly_sales",
          "holiday_flag",
          "temperature",
          "fuel_price",
          "cpi",
          "unemployment",
          "is_weekend",
          "is_holiday"
         ],
         "xaxis": "x",
         "y": [
          "weekly_sales",
          "holiday_flag",
          "temperature",
          "fuel_price",
          "cpi",
          "unemployment",
          "is_weekend",
          "is_holiday"
         ],
         "yaxis": "y",
         "z": {
          "bdata": "AAAAAAAA8D8AAAAAAAAAALgehetRuJ6/uB6F61G4nj97FK5H4Xq0v5qZmZmZmbm/exSuR+F6hL8AAAAAAAAAAAAAAAAAAAAAAAAAAAAA8D97FK5H4Xq0v5qZmZmZmam/AAAAAAAAAIAAAAAAAAAAAHsUrkfherS/CtejcD0Kt7+4HoXrUbiev3sUrkfherS/AAAAAAAA8D97FK5H4XrEP3sUrkfhesQ/mpmZmZmZuT97FK5H4XqkP3sUrkfheoQ/uB6F61G4nj+amZmZmZmpv3sUrkfhesQ/AAAAAAAA8D/D9Shcj8LFv3sUrkfheqS/exSuR+F6xL/sUbgeheuxP3sUrkfherS/AAAAAAAAAIB7FK5H4XrEP8P1KFyPwsW/AAAAAAAA8D8zMzMzMzPTv3sUrkfhepS/exSuR+F6hD+amZmZmZm5vwAAAAAAAAAAmpmZmZmZuT97FK5H4XqkvzMzMzMzM9O/AAAAAAAA8D97FK5H4Xq0P3sUrkfheqS/exSuR+F6hL97FK5H4Xq0v3sUrkfheqQ/exSuR+F6xL97FK5H4XqUv3sUrkfherQ/AAAAAAAA8D97FK5H4XrEvwAAAAAAAAAACtejcD0Kt797FK5H4XqEP+xRuB6F67E/exSuR+F6hD97FK5H4Xqkv3sUrkfhesS/AAAAAAAA8D8=",
          "dtype": "f8",
          "shape": "8, 8"
         }
        }
       ],
       "layout": {
        "coloraxis": {
         "cmax": 1,
         "cmin": -1,
         "colorscale": [
          [
           0,
           "rgb(5,48,97)"
          ],
          [
           0.1,
           "rgb(33,102,172)"
          ],
          [
           0.2,
           "rgb(67,147,195)"
          ],
          [
           0.3,
           "rgb(146,197,222)"
          ],
          [
           0.4,
           "rgb(209,229,240)"
          ],
          [
           0.5,
           "rgb(247,247,247)"
          ],
          [
           0.6,
           "rgb(253,219,199)"
          ],
          [
           0.7,
           "rgb(244,165,130)"
          ],
          [
           0.8,
           "rgb(214,96,77)"
          ],
          [
           0.9,
           "rgb(178,24,43)"
          ],
          [
           1,
           "rgb(103,0,31)"
          ]
         ]
        },
        "height": 600,
        "margin": {
         "b": 40,
         "l": 80,
         "r": 40,
         "t": 60
        },
        "template": {
         "data": {
          "bar": [
           {
            "error_x": {
             "color": "#2a3f5f"
            },
            "error_y": {
             "color": "#2a3f5f"
            },
            "marker": {
             "line": {
              "color": "#E5ECF6",
              "width": 0.5
             },
             "pattern": {
              "fillmode": "overlay",
              "size": 10,
              "solidity": 0.2
             }
            },
            "type": "bar"
           }
          ],
          "barpolar": [
           {
            "marker": {
             "line": {
              "color": "#E5ECF6",
              "width": 0.5
             },
             "pattern": {
              "fillmode": "overlay",
              "size": 10,
              "solidity": 0.2
             }
            },
            "type": "barpolar"
           }
          ],
          "carpet": [
           {
            "aaxis": {
             "endlinecolor": "#2a3f5f",
             "gridcolor": "white",
             "linecolor": "white",
             "minorgridcolor": "white",
             "startlinecolor": "#2a3f5f"
            },
            "baxis": {
             "endlinecolor": "#2a3f5f",
             "gridcolor": "white",
             "linecolor": "white",
             "minorgridcolor": "white",
             "startlinecolor": "#2a3f5f"
            },
            "type": "carpet"
           }
          ],
          "choropleth": [
           {
            "colorbar": {
             "outlinewidth": 0,
             "ticks": ""
            },
            "type": "choropleth"
           }
          ],
          "contour": [
           {
            "colorbar": {
             "outlinewidth": 0,
             "ticks": ""
            },
            "colorscale": [
             [
              0,
              "#0d0887"
             ],
             [
              0.1111111111111111,
              "#46039f"
             ],
             [
              0.2222222222222222,
              "#7201a8"
             ],
             [
              0.3333333333333333,
              "#9c179e"
             ],
             [
              0.4444444444444444,
              "#bd3786"
             ],
             [
              0.5555555555555556,
              "#d8576b"
             ],
             [
              0.6666666666666666,
              "#ed7953"
             ],
             [
              0.7777777777777778,
              "#fb9f3a"
             ],
             [
              0.8888888888888888,
              "#fdca26"
             ],
             [
              1,
              "#f0f921"
             ]
            ],
            "type": "contour"
           }
          ],
          "contourcarpet": [
           {
            "colorbar": {
             "outlinewidth": 0,
             "ticks": ""
            },
            "type": "contourcarpet"
           }
          ],
          "heatmap": [
           {
            "colorbar": {
             "outlinewidth": 0,
             "ticks": ""
            },
            "colorscale": [
             [
              0,
              "#0d0887"
             ],
             [
              0.1111111111111111,
              "#46039f"
             ],
             [
              0.2222222222222222,
              "#7201a8"
             ],
             [
              0.3333333333333333,
              "#9c179e"
             ],
             [
              0.4444444444444444,
              "#bd3786"
             ],
             [
              0.5555555555555556,
              "#d8576b"
             ],
             [
              0.6666666666666666,
              "#ed7953"
             ],
             [
              0.7777777777777778,
              "#fb9f3a"
             ],
             [
              0.8888888888888888,
              "#fdca26"
             ],
             [
              1,
              "#f0f921"
             ]
            ],
            "type": "heatmap"
           }
          ],
          "histogram": [
           {
            "marker": {
             "pattern": {
              "fillmode": "overlay",
              "size": 10,
              "solidity": 0.2
             }
            },
            "type": "histogram"
           }
          ],
          "histogram2d": [
           {
            "colorbar": {
             "outlinewidth": 0,
             "ticks": ""
            },
            "colorscale": [
             [
              0,
              "#0d0887"
             ],
             [
              0.1111111111111111,
              "#46039f"
             ],
             [
              0.2222222222222222,
              "#7201a8"
             ],
             [
              0.3333333333333333,
              "#9c179e"
             ],
             [
              0.4444444444444444,
              "#bd3786"
             ],
             [
              0.5555555555555556,
              "#d8576b"
             ],
             [
              0.6666666666666666,
              "#ed7953"
             ],
             [
              0.7777777777777778,
              "#fb9f3a"
             ],
             [
              0.8888888888888888,
              "#fdca26"
             ],
             [
              1,
              "#f0f921"
             ]
            ],
            "type": "histogram2d"
           }
          ],
          "histogram2dcontour": [
           {
            "colorbar": {
             "outlinewidth": 0,
             "ticks": ""
            },
            "colorscale": [
             [
              0,
              "#0d0887"
             ],
             [
              0.1111111111111111,
              "#46039f"
             ],
             [
              0.2222222222222222,
              "#7201a8"
             ],
             [
              0.3333333333333333,
              "#9c179e"
             ],
             [
              0.4444444444444444,
              "#bd3786"
             ],
             [
              0.5555555555555556,
              "#d8576b"
             ],
             [
              0.6666666666666666,
              "#ed7953"
             ],
             [
              0.7777777777777778,
              "#fb9f3a"
             ],
             [
              0.8888888888888888,
              "#fdca26"
             ],
             [
              1,
              "#f0f921"
             ]
            ],
            "type": "histogram2dcontour"
           }
          ],
          "mesh3d": [
           {
            "colorbar": {
             "outlinewidth": 0,
             "ticks": ""
            },
            "type": "mesh3d"
           }
          ],
          "parcoords": [
           {
            "line": {
             "colorbar": {
              "outlinewidth": 0,
              "ticks": ""
             }
            },
            "type": "parcoords"
           }
          ],
          "pie": [
           {
            "automargin": true,
            "type": "pie"
           }
          ],
          "scatter": [
           {
            "fillpattern": {
             "fillmode": "overlay",
             "size": 10,
             "solidity": 0.2
            },
            "type": "scatter"
           }
          ],
          "scatter3d": [
           {
            "line": {
             "colorbar": {
              "outlinewidth": 0,
              "ticks": ""
             }
            },
            "marker": {
             "colorbar": {
              "outlinewidth": 0,
              "ticks": ""
             }
            },
            "type": "scatter3d"
           }
          ],
          "scattercarpet": [
           {
            "marker": {
             "colorbar": {
              "outlinewidth": 0,
              "ticks": ""
             }
            },
            "type": "scattercarpet"
           }
          ],
          "scattergeo": [
           {
            "marker": {
             "colorbar": {
              "outlinewidth": 0,
              "ticks": ""
             }
            },
            "type": "scattergeo"
           }
          ],
          "scattergl": [
           {
            "marker": {
             "colorbar": {
              "outlinewidth": 0,
              "ticks": ""
             }
            },
            "type": "scattergl"
           }
          ],
          "scattermap": [
           {
            "marker": {
             "colorbar": {
              "outlinewidth": 0,
              "ticks": ""
             }
            },
            "type": "scattermap"
           }
          ],
          "scattermapbox": [
           {
            "marker": {
             "colorbar": {
              "outlinewidth": 0,
              "ticks": ""
             }
            },
            "type": "scattermapbox"
           }
          ],
          "scatterpolar": [
           {
            "marker": {
             "colorbar": {
              "outlinewidth": 0,
              "ticks": ""
             }
            },
            "type": "scatterpolar"
           }
          ],
          "scatterpolargl": [
           {
            "marker": {
             "colorbar": {
              "outlinewidth": 0,
              "ticks": ""
             }
            },
            "type": "scatterpolargl"
           }
          ],
          "scatterternary": [
           {
            "marker": {
             "colorbar": {
              "outlinewidth": 0,
              "ticks": ""
             }
            },
            "type": "scatterternary"
           }
          ],
          "surface": [
           {
            "colorbar": {
             "outlinewidth": 0,
             "ticks": ""
            },
            "colorscale": [
             [
              0,
              "#0d0887"
             ],
             [
              0.1111111111111111,
              "#46039f"
             ],
             [
              0.2222222222222222,
              "#7201a8"
             ],
             [
              0.3333333333333333,
              "#9c179e"
             ],
             [
              0.4444444444444444,
              "#bd3786"
             ],
             [
              0.5555555555555556,
              "#d8576b"
             ],
             [
              0.6666666666666666,
              "#ed7953"
             ],
             [
              0.7777777777777778,
              "#fb9f3a"
             ],
             [
              0.8888888888888888,
              "#fdca26"
             ],
             [
              1,
              "#f0f921"
             ]
            ],
            "type": "surface"
           }
          ],
          "table": [
           {
            "cells": {
             "fill": {
              "color": "#EBF0F8"
             },
             "line": {
              "color": "white"
             }
            },
            "header": {
             "fill": {
              "color": "#C8D4E3"
             },
             "line": {
              "color": "white"
             }
            },
            "type": "table"
           }
          ]
         },
         "layout": {
          "annotationdefaults": {
           "arrowcolor": "#2a3f5f",
           "arrowhead": 0,
           "arrowwidth": 1
          },
          "autotypenumbers": "strict",
          "coloraxis": {
           "colorbar": {
            "outlinewidth": 0,
            "ticks": ""
           }
          },
          "colorscale": {
           "diverging": [
            [
             0,
             "#8e0152"
            ],
            [
             0.1,
             "#c51b7d"
            ],
            [
             0.2,
             "#de77ae"
            ],
            [
             0.3,
             "#f1b6da"
            ],
            [
             0.4,
             "#fde0ef"
            ],
            [
             0.5,
             "#f7f7f7"
            ],
            [
             0.6,
             "#e6f5d0"
            ],
            [
             0.7,
             "#b8e186"
            ],
            [
             0.8,
             "#7fbc41"
            ],
            [
             0.9,
             "#4d9221"
            ],
            [
             1,
             "#276419"
            ]
           ],
           "sequential": [
            [
             0,
             "#0d0887"
            ],
            [
             0.1111111111111111,
             "#46039f"
            ],
            [
             0.2222222222222222,
             "#7201a8"
            ],
            [
             0.3333333333333333,
             "#9c179e"
            ],
            [
             0.4444444444444444,
             "#bd3786"
            ],
            [
             0.5555555555555556,
             "#d8576b"
            ],
            [
             0.6666666666666666,
             "#ed7953"
            ],
            [
             0.7777777777777778,
             "#fb9f3a"
            ],
            [
             0.8888888888888888,
             "#fdca26"
            ],
            [
             1,
             "#f0f921"
            ]
           ],
           "sequentialminus": [
            [
             0,
             "#0d0887"
            ],
            [
             0.1111111111111111,
             "#46039f"
            ],
            [
             0.2222222222222222,
             "#7201a8"
            ],
            [
             0.3333333333333333,
             "#9c179e"
            ],
            [
             0.4444444444444444,
             "#bd3786"
            ],
            [
             0.5555555555555556,
             "#d8576b"
            ],
            [
             0.6666666666666666,
             "#ed7953"
            ],
            [
             0.7777777777777778,
             "#fb9f3a"
            ],
            [
             0.8888888888888888,
             "#fdca26"
            ],
            [
             1,
             "#f0f921"
            ]
           ]
          },
          "colorway": [
           "#636efa",
           "#EF553B",
           "#00cc96",
           "#ab63fa",
           "#FFA15A",
           "#19d3f3",
           "#FF6692",
           "#B6E880",
           "#FF97FF",
           "#FECB52"
          ],
          "font": {
           "color": "#2a3f5f"
          },
          "geo": {
           "bgcolor": "white",
           "lakecolor": "white",
           "landcolor": "#E5ECF6",
           "showlakes": true,
           "showland": true,
           "subunitcolor": "white"
          },
          "hoverlabel": {
           "align": "left"
          },
          "hovermode": "closest",
          "mapbox": {
           "style": "light"
          },
          "paper_bgcolor": "white",
          "plot_bgcolor": "#E5ECF6",
          "polar": {
           "angularaxis": {
            "gridcolor": "white",
            "linecolor": "white",
            "ticks": ""
           },
           "bgcolor": "#E5ECF6",
           "radialaxis": {
            "gridcolor": "white",
            "linecolor": "white",
            "ticks": ""
           }
          },
          "scene": {
           "xaxis": {
            "backgroundcolor": "#E5ECF6",
            "gridcolor": "white",
            "gridwidth": 2,
            "linecolor": "white",
            "showbackground": true,
            "ticks": "",
            "zerolinecolor": "white"
           },
           "yaxis": {
            "backgroundcolor": "#E5ECF6",
            "gridcolor": "white",
            "gridwidth": 2,
            "linecolor": "white",
            "showbackground": true,
            "ticks": "",
            "zerolinecolor": "white"
           },
           "zaxis": {
            "backgroundcolor": "#E5ECF6",
            "gridcolor": "white",
            "gridwidth": 2,
            "linecolor": "white",
            "showbackground": true,
            "ticks": "",
            "zerolinecolor": "white"
           }
          },
          "shapedefaults": {
           "line": {
            "color": "#2a3f5f"
           }
          },
          "ternary": {
           "aaxis": {
            "gridcolor": "white",
            "linecolor": "white",
            "ticks": ""
           },
           "baxis": {
            "gridcolor": "white",
            "linecolor": "white",
            "ticks": ""
           },
           "bgcolor": "#E5ECF6",
           "caxis": {
            "gridcolor": "white",
            "linecolor": "white",
            "ticks": ""
           }
          },
          "title": {
           "x": 0.05
          },
          "xaxis": {
           "automargin": true,
           "gridcolor": "white",
           "linecolor": "white",
           "ticks": "",
           "title": {
            "standoff": 15
           },
           "zerolinecolor": "white",
           "zerolinewidth": 2
          },
          "yaxis": {
           "automargin": true,
           "gridcolor": "white",
           "linecolor": "white",
           "ticks": "",
           "title": {
            "standoff": 15
           },
           "zerolinecolor": "white",
           "zerolinewidth": 2
          }
         }
        },
        "title": {
         "text": "🔍 Interactive Correlation Heatmap of Key Features",
         "x": 0.5
        },
        "xaxis": {
         "anchor": "y",
         "constrain": "domain",
         "domain": [
          0,
          1
         ],
         "scaleanchor": "y",
         "title": {
          "text": "Features"
         }
        },
        "yaxis": {
         "anchor": "x",
         "autorange": "reversed",
         "constrain": "domain",
         "domain": [
          0,
          1
         ],
         "title": {
          "text": "Features"
         }
        }
       }
      }
     },
     "metadata": {},
     "output_type": "display_data"
    }
   ],
   "source": [
    "# Corelation HeatMap\n",
    "\n",
    "\n",
    "\n",
    "selected_cols = [\n",
    "    'weekly_sales',\n",
    "    'holiday_flag',\n",
    "    'temperature',\n",
    "    'fuel_price',\n",
    "    'cpi',\n",
    "    'unemployment',\n",
    "    'is_weekend',\n",
    "    'is_holiday'\n",
    "]\n",
    "\n",
    "\n",
    "filtered_df = df[selected_cols].dropna()\n",
    "\n",
    "\n",
    "corr_matrix = filtered_df.corr().round(2)\n",
    "\n",
    "\n",
    "fig = px.imshow(\n",
    "    corr_matrix,\n",
    "    text_auto=True,\n",
    "    color_continuous_scale='RdBu_r',\n",
    "    zmin=-1, zmax=1,\n",
    "    title=\"🔍 Interactive Correlation Heatmap of Key Features\"\n",
    ")\n",
    "\n",
    "fig.update_layout(\n",
    "    xaxis_title=\"Features\",\n",
    "    yaxis_title=\"Features\",\n",
    "    title_x=0.5,\n",
    "    height=600,\n",
    "    margin=dict(l=80, r=40, t=60, b=40)\n",
    ")\n",
    "\n",
    "fig.show()\n"
   ]
  },
  {
   "cell_type": "code",
   "execution_count": 102,
   "id": "5d999bb3",
   "metadata": {},
   "outputs": [
    {
     "data": {
      "image/png": "[encoded data removed]",
      "text/plain": [
       "<Figure size 1500x1000 with 5 Axes>"
      ]
     },
     "metadata": {},
     "output_type": "display_data"
    }
   ],
   "source": [
    "import seaborn as sns\n",
    "import matplotlib.pyplot as plt\n",
    "\n",
    "num_cols = ['weekly_sales', 'temperature', 'fuel_price', 'cpi', 'unemployment']\n",
    "plt.figure(figsize=(15, 10))\n",
    "for i, col in enumerate(num_cols):\n",
    "    plt.subplot(2, 3, i + 1)\n",
    "    sns.histplot(df[col], kde=True)\n",
    "    plt.title(f'{col} Distribution')\n",
    "plt.tight_layout()\n",
    "plt.show()\n"
   ]
  },
  {
   "cell_type": "code",
   "execution_count": 20,
   "id": "e8f1c6b8",
   "metadata": {},
   "outputs": [
    {
     "data": {
      "image/png": "[encoded data removed]",
      "text/plain": [
       "<Figure size 640x480 with 4 Axes>"
      ]
     },
     "metadata": {},
     "output_type": "display_data"
    }
   ],
   "source": [
    "from statsmodels.tsa.seasonal import seasonal_decompose\n",
    "import matplotlib.pyplot as plt\n",
    "\n",
    "# Decompose overall sales\n",
    "weekly_sales = df['weekly_sales'].resample('W').sum()\n",
    "result = seasonal_decompose(weekly_sales, model='additive', period=52)\n",
    "\n",
    "# Plot\n",
    "\n",
    "result.plot()\n",
    "plt.suptitle('Time Series Decomposition of Weekly Sales', fontsize=16)\n",
    "plt.tight_layout()\n",
    "plt.show()\n"
   ]
  }
 ],
 "metadata": {
  "kernelspec": {
   "display_name": "venv",
   "language": "python",
   "name": "python3"
  },
  "language_info": {
   "codemirror_mode": {
    "name": "ipython",
    "version": 3
   },
   "file_extension": ".py",
   "mimetype": "text/x-python",
   "name": "python",
   "nbconvert_exporter": "python",
   "pygments_lexer": "ipython3",
   "version": "3.13.5"
  }
 },
 "nbformat": 4,
 "nbformat_minor": 5
}
