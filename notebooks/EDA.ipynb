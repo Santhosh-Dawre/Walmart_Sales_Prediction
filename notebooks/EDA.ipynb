{
 "cells": [
  {
   "cell_type": "markdown",
   "id": "c7b90ba6",
   "metadata": {},
   "source": [
    "# Exploratory Data Analysis (EDA) for Walmart Sales Data"
   ]
  },
  {
   "cell_type": "code",
   "execution_count": 3,
   "id": "a447dd34",
   "metadata": {},
   "outputs": [],
   "source": [
    "import pandas as pd\n",
    "import numpy as np\n",
    "import matplotlib.pyplot as plt\n",
    "import seaborn as sns\n",
    "import plotly.express as px\n",
    "import plotly.graph_objects as go\n",
    "\n",
    "\n",
    "# Set display options for better visibility\n",
    "pd.set_option('display.max_columns', None)\n",
    "\n",
    "# Load dataset\n",
    "df = pd.read_csv('../data/processed/feature_engineered_sales.csv', parse_dates=['date'])\n",
    "\n",
    "\n"
   ]
  },
  {
   "cell_type": "markdown",
   "id": "05ff6c69",
   "metadata": {},
   "source": [
    "# Numerical Analysis\n"
   ]
  },
  {
   "cell_type": "code",
   "execution_count": 27,
   "id": "8dab627c",
   "metadata": {},
   "outputs": [
    {
     "data": {
      "text/html": [
       "<div>\n",
       "<style scoped>\n",
       "    .dataframe tbody tr th:only-of-type {\n",
       "        vertical-align: middle;\n",
       "    }\n",
       "\n",
       "    .dataframe tbody tr th {\n",
       "        vertical-align: top;\n",
       "    }\n",
       "\n",
       "    .dataframe thead th {\n",
       "        text-align: right;\n",
       "    }\n",
       "</style>\n",
       "<table border=\"1\" class=\"dataframe\">\n",
       "  <thead>\n",
       "    <tr style=\"text-align: right;\">\n",
       "      <th></th>\n",
       "      <th>store</th>\n",
       "      <th>date</th>\n",
       "      <th>weekly_sales</th>\n",
       "      <th>holiday_flag</th>\n",
       "      <th>temperature</th>\n",
       "      <th>fuel_price</th>\n",
       "      <th>cpi</th>\n",
       "      <th>unemployment</th>\n",
       "      <th>year</th>\n",
       "      <th>month</th>\n",
       "      <th>day</th>\n",
       "      <th>weekday</th>\n",
       "      <th>is_weekend</th>\n",
       "      <th>is_holiday</th>\n",
       "      <th>holiday_name</th>\n",
       "      <th>store_name</th>\n",
       "      <th>lag_1</th>\n",
       "      <th>lag_2</th>\n",
       "      <th>lag_4</th>\n",
       "      <th>lag_13</th>\n",
       "      <th>lag_26</th>\n",
       "      <th>lag_52</th>\n",
       "      <th>sales_roll_4</th>\n",
       "      <th>sales_roll_13</th>\n",
       "      <th>sales_roll_26</th>\n",
       "      <th>sales_roll_52</th>\n",
       "      <th>cumulative_sales</th>\n",
       "      <th>sales_diff_1</th>\n",
       "      <th>sales_diff_4</th>\n",
       "      <th>avg_sales_per_store</th>\n",
       "      <th>promo_last_week</th>\n",
       "      <th>promo_next_week</th>\n",
       "      <th>store_encoded</th>\n",
       "    </tr>\n",
       "  </thead>\n",
       "  <tbody>\n",
       "    <tr>\n",
       "      <th>0</th>\n",
       "      <td>1</td>\n",
       "      <td>2010-05-02</td>\n",
       "      <td>1643690.90</td>\n",
       "      <td>0</td>\n",
       "      <td>42.31</td>\n",
       "      <td>2.572</td>\n",
       "      <td>211.096358</td>\n",
       "      <td>8.106</td>\n",
       "      <td>2010</td>\n",
       "      <td>5</td>\n",
       "      <td>2</td>\n",
       "      <td>6</td>\n",
       "      <td>True</td>\n",
       "      <td>0</td>\n",
       "      <td>No Holiday</td>\n",
       "      <td>Mesa West</td>\n",
       "      <td>0.00</td>\n",
       "      <td>0.00</td>\n",
       "      <td>0.0</td>\n",
       "      <td>0.0</td>\n",
       "      <td>0.0</td>\n",
       "      <td>0.0</td>\n",
       "      <td>0.000000e+00</td>\n",
       "      <td>0.0</td>\n",
       "      <td>0.0</td>\n",
       "      <td>0.0</td>\n",
       "      <td>1643690.90</td>\n",
       "      <td>0.00</td>\n",
       "      <td>0.00</td>\n",
       "      <td>1.601845e+06</td>\n",
       "      <td>0.0</td>\n",
       "      <td>0.0</td>\n",
       "      <td>0</td>\n",
       "    </tr>\n",
       "    <tr>\n",
       "      <th>1</th>\n",
       "      <td>1</td>\n",
       "      <td>2010-12-02</td>\n",
       "      <td>1641957.44</td>\n",
       "      <td>1</td>\n",
       "      <td>38.51</td>\n",
       "      <td>2.548</td>\n",
       "      <td>211.242170</td>\n",
       "      <td>8.106</td>\n",
       "      <td>2010</td>\n",
       "      <td>12</td>\n",
       "      <td>2</td>\n",
       "      <td>3</td>\n",
       "      <td>False</td>\n",
       "      <td>0</td>\n",
       "      <td>No Holiday</td>\n",
       "      <td>Mesa West</td>\n",
       "      <td>1643690.90</td>\n",
       "      <td>0.00</td>\n",
       "      <td>0.0</td>\n",
       "      <td>0.0</td>\n",
       "      <td>0.0</td>\n",
       "      <td>0.0</td>\n",
       "      <td>0.000000e+00</td>\n",
       "      <td>0.0</td>\n",
       "      <td>0.0</td>\n",
       "      <td>0.0</td>\n",
       "      <td>3285648.34</td>\n",
       "      <td>-1733.46</td>\n",
       "      <td>0.00</td>\n",
       "      <td>1.601845e+06</td>\n",
       "      <td>0.0</td>\n",
       "      <td>0.0</td>\n",
       "      <td>0</td>\n",
       "    </tr>\n",
       "    <tr>\n",
       "      <th>2</th>\n",
       "      <td>1</td>\n",
       "      <td>2010-05-03</td>\n",
       "      <td>1554806.68</td>\n",
       "      <td>0</td>\n",
       "      <td>46.50</td>\n",
       "      <td>2.625</td>\n",
       "      <td>211.350143</td>\n",
       "      <td>8.106</td>\n",
       "      <td>2010</td>\n",
       "      <td>5</td>\n",
       "      <td>3</td>\n",
       "      <td>0</td>\n",
       "      <td>False</td>\n",
       "      <td>0</td>\n",
       "      <td>No Holiday</td>\n",
       "      <td>Mesa West</td>\n",
       "      <td>1641957.44</td>\n",
       "      <td>1643690.90</td>\n",
       "      <td>0.0</td>\n",
       "      <td>0.0</td>\n",
       "      <td>0.0</td>\n",
       "      <td>0.0</td>\n",
       "      <td>0.000000e+00</td>\n",
       "      <td>0.0</td>\n",
       "      <td>0.0</td>\n",
       "      <td>0.0</td>\n",
       "      <td>4840455.02</td>\n",
       "      <td>-87150.76</td>\n",
       "      <td>0.00</td>\n",
       "      <td>1.601845e+06</td>\n",
       "      <td>0.0</td>\n",
       "      <td>0.0</td>\n",
       "      <td>0</td>\n",
       "    </tr>\n",
       "    <tr>\n",
       "      <th>3</th>\n",
       "      <td>1</td>\n",
       "      <td>2010-12-03</td>\n",
       "      <td>1439541.59</td>\n",
       "      <td>0</td>\n",
       "      <td>57.79</td>\n",
       "      <td>2.667</td>\n",
       "      <td>211.380643</td>\n",
       "      <td>8.106</td>\n",
       "      <td>2010</td>\n",
       "      <td>12</td>\n",
       "      <td>3</td>\n",
       "      <td>4</td>\n",
       "      <td>False</td>\n",
       "      <td>0</td>\n",
       "      <td>No Holiday</td>\n",
       "      <td>Mesa West</td>\n",
       "      <td>1554806.68</td>\n",
       "      <td>1641957.44</td>\n",
       "      <td>0.0</td>\n",
       "      <td>0.0</td>\n",
       "      <td>0.0</td>\n",
       "      <td>0.0</td>\n",
       "      <td>0.000000e+00</td>\n",
       "      <td>0.0</td>\n",
       "      <td>0.0</td>\n",
       "      <td>0.0</td>\n",
       "      <td>6279996.61</td>\n",
       "      <td>-115265.09</td>\n",
       "      <td>0.00</td>\n",
       "      <td>1.601845e+06</td>\n",
       "      <td>0.0</td>\n",
       "      <td>0.0</td>\n",
       "      <td>0</td>\n",
       "    </tr>\n",
       "    <tr>\n",
       "      <th>4</th>\n",
       "      <td>1</td>\n",
       "      <td>2010-02-04</td>\n",
       "      <td>1594968.28</td>\n",
       "      <td>0</td>\n",
       "      <td>62.27</td>\n",
       "      <td>2.719</td>\n",
       "      <td>210.820450</td>\n",
       "      <td>7.808</td>\n",
       "      <td>2010</td>\n",
       "      <td>2</td>\n",
       "      <td>4</td>\n",
       "      <td>3</td>\n",
       "      <td>False</td>\n",
       "      <td>0</td>\n",
       "      <td>No Holiday</td>\n",
       "      <td>Mesa West</td>\n",
       "      <td>1439541.59</td>\n",
       "      <td>1554806.68</td>\n",
       "      <td>1643690.9</td>\n",
       "      <td>0.0</td>\n",
       "      <td>0.0</td>\n",
       "      <td>0.0</td>\n",
       "      <td>1.569999e+06</td>\n",
       "      <td>0.0</td>\n",
       "      <td>0.0</td>\n",
       "      <td>0.0</td>\n",
       "      <td>7874964.89</td>\n",
       "      <td>155426.69</td>\n",
       "      <td>-48722.62</td>\n",
       "      <td>1.601845e+06</td>\n",
       "      <td>0.0</td>\n",
       "      <td>0.0</td>\n",
       "      <td>0</td>\n",
       "    </tr>\n",
       "  </tbody>\n",
       "</table>\n",
       "</div>"
      ],
      "text/plain": [
       "   store       date  weekly_sales  holiday_flag  temperature  fuel_price  \\\n",
       "0      1 2010-05-02    1643690.90             0        42.31       2.572   \n",
       "1      1 2010-12-02    1641957.44             1        38.51       2.548   \n",
       "2      1 2010-05-03    1554806.68             0        46.50       2.625   \n",
       "3      1 2010-12-03    1439541.59             0        57.79       2.667   \n",
       "4      1 2010-02-04    1594968.28             0        62.27       2.719   \n",
       "\n",
       "          cpi  unemployment  year  month  day  weekday  is_weekend  \\\n",
       "0  211.096358         8.106  2010      5    2        6        True   \n",
       "1  211.242170         8.106  2010     12    2        3       False   \n",
       "2  211.350143         8.106  2010      5    3        0       False   \n",
       "3  211.380643         8.106  2010     12    3        4       False   \n",
       "4  210.820450         7.808  2010      2    4        3       False   \n",
       "\n",
       "   is_holiday holiday_name store_name       lag_1       lag_2      lag_4  \\\n",
       "0           0   No Holiday  Mesa West        0.00        0.00        0.0   \n",
       "1           0   No Holiday  Mesa West  1643690.90        0.00        0.0   \n",
       "2           0   No Holiday  Mesa West  1641957.44  1643690.90        0.0   \n",
       "3           0   No Holiday  Mesa West  1554806.68  1641957.44        0.0   \n",
       "4           0   No Holiday  Mesa West  1439541.59  1554806.68  1643690.9   \n",
       "\n",
       "   lag_13  lag_26  lag_52  sales_roll_4  sales_roll_13  sales_roll_26  \\\n",
       "0     0.0     0.0     0.0  0.000000e+00            0.0            0.0   \n",
       "1     0.0     0.0     0.0  0.000000e+00            0.0            0.0   \n",
       "2     0.0     0.0     0.0  0.000000e+00            0.0            0.0   \n",
       "3     0.0     0.0     0.0  0.000000e+00            0.0            0.0   \n",
       "4     0.0     0.0     0.0  1.569999e+06            0.0            0.0   \n",
       "\n",
       "   sales_roll_52  cumulative_sales  sales_diff_1  sales_diff_4  \\\n",
       "0            0.0        1643690.90          0.00          0.00   \n",
       "1            0.0        3285648.34      -1733.46          0.00   \n",
       "2            0.0        4840455.02     -87150.76          0.00   \n",
       "3            0.0        6279996.61    -115265.09          0.00   \n",
       "4            0.0        7874964.89     155426.69     -48722.62   \n",
       "\n",
       "   avg_sales_per_store  promo_last_week  promo_next_week  store_encoded  \n",
       "0         1.601845e+06              0.0              0.0              0  \n",
       "1         1.601845e+06              0.0              0.0              0  \n",
       "2         1.601845e+06              0.0              0.0              0  \n",
       "3         1.601845e+06              0.0              0.0              0  \n",
       "4         1.601845e+06              0.0              0.0              0  "
      ]
     },
     "execution_count": 27,
     "metadata": {},
     "output_type": "execute_result"
    }
   ],
   "source": [
    "# Preview top 5 rows\n",
    "df.head()\n"
   ]
  },
  {
   "cell_type": "code",
   "execution_count": 37,
   "id": "c396d495",
   "metadata": {},
   "outputs": [
    {
     "data": {
      "text/html": [
       "<div>\n",
       "<style scoped>\n",
       "    .dataframe tbody tr th:only-of-type {\n",
       "        vertical-align: middle;\n",
       "    }\n",
       "\n",
       "    .dataframe tbody tr th {\n",
       "        vertical-align: top;\n",
       "    }\n",
       "\n",
       "    .dataframe thead th {\n",
       "        text-align: right;\n",
       "    }\n",
       "</style>\n",
       "<table border=\"1\" class=\"dataframe\">\n",
       "  <thead>\n",
       "    <tr style=\"text-align: right;\">\n",
       "      <th></th>\n",
       "      <th>Column</th>\n",
       "      <th>Unique Values</th>\n",
       "    </tr>\n",
       "  </thead>\n",
       "  <tbody>\n",
       "    <tr>\n",
       "      <th>0</th>\n",
       "      <td>store</td>\n",
       "      <td>45</td>\n",
       "    </tr>\n",
       "    <tr>\n",
       "      <th>1</th>\n",
       "      <td>is_holiday</td>\n",
       "      <td>2</td>\n",
       "    </tr>\n",
       "    <tr>\n",
       "      <th>2</th>\n",
       "      <td>month</td>\n",
       "      <td>12</td>\n",
       "    </tr>\n",
       "    <tr>\n",
       "      <th>3</th>\n",
       "      <td>weekday</td>\n",
       "      <td>7</td>\n",
       "    </tr>\n",
       "  </tbody>\n",
       "</table>\n",
       "</div>"
      ],
      "text/plain": [
       "       Column  Unique Values\n",
       "0       store             45\n",
       "1  is_holiday              2\n",
       "2       month             12\n",
       "3     weekday              7"
      ]
     },
     "metadata": {},
     "output_type": "display_data"
    }
   ],
   "source": [
    "# Check unique values for categorical/ID columns safely\n",
    "categorical_cols = ['store', 'is_holiday', 'month', 'weekday']\n",
    "\n",
    "unique_values = {}\n",
    "for col in categorical_cols:\n",
    "    if col in df.columns:\n",
    "        unique_values[col] = df[col].nunique()\n",
    "    else:\n",
    "        unique_values[col] = \"❌ Column not found\"\n",
    "\n",
    "# Display results in a table\n",
    "import pandas as pd\n",
    "unique_df = pd.DataFrame(list(unique_values.items()), columns=[\"Column\", \"Unique Values\"])\n",
    "display(unique_df)\n"
   ]
  },
  {
   "cell_type": "code",
   "execution_count": 53,
   "id": "1461c4bc",
   "metadata": {},
   "outputs": [
    {
     "name": "stdout",
     "output_type": "stream",
     "text": [
      "📌 Duplicate Rows: 0\n"
     ]
    },
    {
     "data": {
      "text/html": [
       "<div>\n",
       "<style scoped>\n",
       "    .dataframe tbody tr th:only-of-type {\n",
       "        vertical-align: middle;\n",
       "    }\n",
       "\n",
       "    .dataframe tbody tr th {\n",
       "        vertical-align: top;\n",
       "    }\n",
       "\n",
       "    .dataframe thead th {\n",
       "        text-align: right;\n",
       "    }\n",
       "</style>\n",
       "<table border=\"1\" class=\"dataframe\">\n",
       "  <thead>\n",
       "    <tr style=\"text-align: right;\">\n",
       "      <th></th>\n",
       "      <th>Column</th>\n",
       "      <th>Data Type</th>\n",
       "      <th>Non-Null Count</th>\n",
       "      <th>Missing Values</th>\n",
       "      <th>Mean</th>\n",
       "      <th>Median</th>\n",
       "      <th>Std Dev</th>\n",
       "      <th>Skewness</th>\n",
       "      <th>Kurtosis</th>\n",
       "    </tr>\n",
       "  </thead>\n",
       "  <tbody>\n",
       "    <tr>\n",
       "      <th>store</th>\n",
       "      <td>store</td>\n",
       "      <td>int64</td>\n",
       "      <td>2565</td>\n",
       "      <td>0</td>\n",
       "      <td>23.00</td>\n",
       "      <td>23.00</td>\n",
       "      <td>12.99</td>\n",
       "      <td>0.000000</td>\n",
       "      <td>-1.201188</td>\n",
       "    </tr>\n",
       "    <tr>\n",
       "      <th>weekly_sales</th>\n",
       "      <td>weekly_sales</td>\n",
       "      <td>float64</td>\n",
       "      <td>2565</td>\n",
       "      <td>0</td>\n",
       "      <td>1059871.95</td>\n",
       "      <td>981345.20</td>\n",
       "      <td>557383.10</td>\n",
       "      <td>0.487995</td>\n",
       "      <td>-0.742206</td>\n",
       "    </tr>\n",
       "    <tr>\n",
       "      <th>holiday_flag</th>\n",
       "      <td>holiday_flag</td>\n",
       "      <td>int64</td>\n",
       "      <td>2565</td>\n",
       "      <td>0</td>\n",
       "      <td>0.11</td>\n",
       "      <td>0.00</td>\n",
       "      <td>0.31</td>\n",
       "      <td>2.573984</td>\n",
       "      <td>4.629004</td>\n",
       "    </tr>\n",
       "    <tr>\n",
       "      <th>temperature</th>\n",
       "      <td>temperature</td>\n",
       "      <td>float64</td>\n",
       "      <td>2565</td>\n",
       "      <td>0</td>\n",
       "      <td>59.59</td>\n",
       "      <td>61.10</td>\n",
       "      <td>19.07</td>\n",
       "      <td>-0.260733</td>\n",
       "      <td>-0.732725</td>\n",
       "    </tr>\n",
       "    <tr>\n",
       "      <th>fuel_price</th>\n",
       "      <td>fuel_price</td>\n",
       "      <td>float64</td>\n",
       "      <td>2565</td>\n",
       "      <td>0</td>\n",
       "      <td>3.33</td>\n",
       "      <td>3.42</td>\n",
       "      <td>0.46</td>\n",
       "      <td>-0.071055</td>\n",
       "      <td>-1.204003</td>\n",
       "    </tr>\n",
       "    <tr>\n",
       "      <th>cpi</th>\n",
       "      <td>cpi</td>\n",
       "      <td>float64</td>\n",
       "      <td>2565</td>\n",
       "      <td>0</td>\n",
       "      <td>171.39</td>\n",
       "      <td>182.60</td>\n",
       "      <td>39.29</td>\n",
       "      <td>0.063058</td>\n",
       "      <td>-1.841544</td>\n",
       "    </tr>\n",
       "    <tr>\n",
       "      <th>unemployment</th>\n",
       "      <td>unemployment</td>\n",
       "      <td>float64</td>\n",
       "      <td>2565</td>\n",
       "      <td>0</td>\n",
       "      <td>8.02</td>\n",
       "      <td>7.91</td>\n",
       "      <td>1.88</td>\n",
       "      <td>1.202300</td>\n",
       "      <td>2.667348</td>\n",
       "    </tr>\n",
       "    <tr>\n",
       "      <th>year</th>\n",
       "      <td>year</td>\n",
       "      <td>int64</td>\n",
       "      <td>2565</td>\n",
       "      <td>0</td>\n",
       "      <td>2010.93</td>\n",
       "      <td>2011.00</td>\n",
       "      <td>0.79</td>\n",
       "      <td>0.125252</td>\n",
       "      <td>-1.394888</td>\n",
       "    </tr>\n",
       "    <tr>\n",
       "      <th>month</th>\n",
       "      <td>month</td>\n",
       "      <td>int64</td>\n",
       "      <td>2565</td>\n",
       "      <td>0</td>\n",
       "      <td>6.56</td>\n",
       "      <td>6.00</td>\n",
       "      <td>3.46</td>\n",
       "      <td>0.015787</td>\n",
       "      <td>-1.254100</td>\n",
       "    </tr>\n",
       "    <tr>\n",
       "      <th>day</th>\n",
       "      <td>day</td>\n",
       "      <td>int64</td>\n",
       "      <td>2565</td>\n",
       "      <td>0</td>\n",
       "      <td>6.49</td>\n",
       "      <td>6.00</td>\n",
       "      <td>3.26</td>\n",
       "      <td>0.064478</td>\n",
       "      <td>-1.176090</td>\n",
       "    </tr>\n",
       "    <tr>\n",
       "      <th>weekday</th>\n",
       "      <td>weekday</td>\n",
       "      <td>int64</td>\n",
       "      <td>2565</td>\n",
       "      <td>0</td>\n",
       "      <td>2.93</td>\n",
       "      <td>3.00</td>\n",
       "      <td>2.10</td>\n",
       "      <td>-0.032131</td>\n",
       "      <td>-1.327207</td>\n",
       "    </tr>\n",
       "    <tr>\n",
       "      <th>is_holiday</th>\n",
       "      <td>is_holiday</td>\n",
       "      <td>int64</td>\n",
       "      <td>2565</td>\n",
       "      <td>0</td>\n",
       "      <td>0.07</td>\n",
       "      <td>0.00</td>\n",
       "      <td>0.26</td>\n",
       "      <td>3.367303</td>\n",
       "      <td>9.346018</td>\n",
       "    </tr>\n",
       "    <tr>\n",
       "      <th>lag_1</th>\n",
       "      <td>lag_1</td>\n",
       "      <td>float64</td>\n",
       "      <td>2565</td>\n",
       "      <td>0</td>\n",
       "      <td>1041888.13</td>\n",
       "      <td>970328.68</td>\n",
       "      <td>570279.69</td>\n",
       "      <td>0.434440</td>\n",
       "      <td>-0.707295</td>\n",
       "    </tr>\n",
       "    <tr>\n",
       "      <th>lag_2</th>\n",
       "      <td>lag_2</td>\n",
       "      <td>float64</td>\n",
       "      <td>2565</td>\n",
       "      <td>0</td>\n",
       "      <td>1023343.63</td>\n",
       "      <td>957155.31</td>\n",
       "      <td>581962.58</td>\n",
       "      <td>0.396562</td>\n",
       "      <td>-0.691124</td>\n",
       "    </tr>\n",
       "    <tr>\n",
       "      <th>lag_4</th>\n",
       "      <td>lag_4</td>\n",
       "      <td>float64</td>\n",
       "      <td>2565</td>\n",
       "      <td>0</td>\n",
       "      <td>986020.62</td>\n",
       "      <td>938914.28</td>\n",
       "      <td>602975.09</td>\n",
       "      <td>0.355740</td>\n",
       "      <td>-0.690018</td>\n",
       "    </tr>\n",
       "    <tr>\n",
       "      <th>lag_13</th>\n",
       "      <td>lag_13</td>\n",
       "      <td>float64</td>\n",
       "      <td>2565</td>\n",
       "      <td>0</td>\n",
       "      <td>815039.87</td>\n",
       "      <td>712425.76</td>\n",
       "      <td>660198.83</td>\n",
       "      <td>0.441819</td>\n",
       "      <td>-0.782694</td>\n",
       "    </tr>\n",
       "    <tr>\n",
       "      <th>lag_26</th>\n",
       "      <td>lag_26</td>\n",
       "      <td>float64</td>\n",
       "      <td>2565</td>\n",
       "      <td>0</td>\n",
       "      <td>571528.08</td>\n",
       "      <td>361181.48</td>\n",
       "      <td>664046.76</td>\n",
       "      <td>0.892828</td>\n",
       "      <td>-0.353052</td>\n",
       "    </tr>\n",
       "    <tr>\n",
       "      <th>lag_52</th>\n",
       "      <td>lag_52</td>\n",
       "      <td>float64</td>\n",
       "      <td>2565</td>\n",
       "      <td>0</td>\n",
       "      <td>94077.24</td>\n",
       "      <td>0.00</td>\n",
       "      <td>348134.25</td>\n",
       "      <td>4.175292</td>\n",
       "      <td>17.887136</td>\n",
       "    </tr>\n",
       "    <tr>\n",
       "      <th>sales_roll_4</th>\n",
       "      <td>sales_roll_4</td>\n",
       "      <td>float64</td>\n",
       "      <td>2565</td>\n",
       "      <td>0</td>\n",
       "      <td>985400.74</td>\n",
       "      <td>943347.31</td>\n",
       "      <td>597426.54</td>\n",
       "      <td>0.314213</td>\n",
       "      <td>-0.783067</td>\n",
       "    </tr>\n",
       "    <tr>\n",
       "      <th>sales_roll_13</th>\n",
       "      <td>sales_roll_13</td>\n",
       "      <td>float64</td>\n",
       "      <td>2565</td>\n",
       "      <td>0</td>\n",
       "      <td>815578.53</td>\n",
       "      <td>716260.87</td>\n",
       "      <td>654878.76</td>\n",
       "      <td>0.396422</td>\n",
       "      <td>-0.893264</td>\n",
       "    </tr>\n",
       "    <tr>\n",
       "      <th>sales_roll_26</th>\n",
       "      <td>sales_roll_26</td>\n",
       "      <td>float64</td>\n",
       "      <td>2565</td>\n",
       "      <td>0</td>\n",
       "      <td>572836.96</td>\n",
       "      <td>372509.70</td>\n",
       "      <td>661333.76</td>\n",
       "      <td>0.853635</td>\n",
       "      <td>-0.496740</td>\n",
       "    </tr>\n",
       "    <tr>\n",
       "      <th>sales_roll_52</th>\n",
       "      <td>sales_roll_52</td>\n",
       "      <td>float64</td>\n",
       "      <td>2565</td>\n",
       "      <td>0</td>\n",
       "      <td>92974.84</td>\n",
       "      <td>0.00</td>\n",
       "      <td>341032.31</td>\n",
       "      <td>4.068930</td>\n",
       "      <td>16.639400</td>\n",
       "    </tr>\n",
       "    <tr>\n",
       "      <th>cumulative_sales</th>\n",
       "      <td>cumulative_sales</td>\n",
       "      <td>float64</td>\n",
       "      <td>2565</td>\n",
       "      <td>0</td>\n",
       "      <td>30644062.78</td>\n",
       "      <td>23406251.40</td>\n",
       "      <td>25206139.80</td>\n",
       "      <td>1.152616</td>\n",
       "      <td>0.862153</td>\n",
       "    </tr>\n",
       "    <tr>\n",
       "      <th>sales_diff_1</th>\n",
       "      <td>sales_diff_1</td>\n",
       "      <td>float64</td>\n",
       "      <td>2565</td>\n",
       "      <td>0</td>\n",
       "      <td>-1412.17</td>\n",
       "      <td>772.37</td>\n",
       "      <td>116460.80</td>\n",
       "      <td>-1.370188</td>\n",
       "      <td>10.025826</td>\n",
       "    </tr>\n",
       "    <tr>\n",
       "      <th>sales_diff_4</th>\n",
       "      <td>sales_diff_4</td>\n",
       "      <td>float64</td>\n",
       "      <td>2565</td>\n",
       "      <td>0</td>\n",
       "      <td>-567.49</td>\n",
       "      <td>0.00</td>\n",
       "      <td>129175.70</td>\n",
       "      <td>0.233120</td>\n",
       "      <td>4.335384</td>\n",
       "    </tr>\n",
       "    <tr>\n",
       "      <th>avg_sales_per_store</th>\n",
       "      <td>avg_sales_per_store</td>\n",
       "      <td>float64</td>\n",
       "      <td>2565</td>\n",
       "      <td>0</td>\n",
       "      <td>1059871.95</td>\n",
       "      <td>1004469.46</td>\n",
       "      <td>548015.57</td>\n",
       "      <td>0.424673</td>\n",
       "      <td>-0.921266</td>\n",
       "    </tr>\n",
       "    <tr>\n",
       "      <th>promo_last_week</th>\n",
       "      <td>promo_last_week</td>\n",
       "      <td>float64</td>\n",
       "      <td>2565</td>\n",
       "      <td>0</td>\n",
       "      <td>0.07</td>\n",
       "      <td>0.00</td>\n",
       "      <td>0.26</td>\n",
       "      <td>3.367303</td>\n",
       "      <td>9.346018</td>\n",
       "    </tr>\n",
       "    <tr>\n",
       "      <th>promo_next_week</th>\n",
       "      <td>promo_next_week</td>\n",
       "      <td>float64</td>\n",
       "      <td>2565</td>\n",
       "      <td>0</td>\n",
       "      <td>0.07</td>\n",
       "      <td>0.00</td>\n",
       "      <td>0.26</td>\n",
       "      <td>3.367303</td>\n",
       "      <td>9.346018</td>\n",
       "    </tr>\n",
       "    <tr>\n",
       "      <th>store_encoded</th>\n",
       "      <td>store_encoded</td>\n",
       "      <td>int64</td>\n",
       "      <td>2565</td>\n",
       "      <td>0</td>\n",
       "      <td>22.00</td>\n",
       "      <td>22.00</td>\n",
       "      <td>12.99</td>\n",
       "      <td>0.000000</td>\n",
       "      <td>-1.201188</td>\n",
       "    </tr>\n",
       "  </tbody>\n",
       "</table>\n",
       "</div>"
      ],
      "text/plain": [
       "                                  Column Data Type  Non-Null Count  \\\n",
       "store                              store     int64            2565   \n",
       "weekly_sales                weekly_sales   float64            2565   \n",
       "holiday_flag                holiday_flag     int64            2565   \n",
       "temperature                  temperature   float64            2565   \n",
       "fuel_price                    fuel_price   float64            2565   \n",
       "cpi                                  cpi   float64            2565   \n",
       "unemployment                unemployment   float64            2565   \n",
       "year                                year     int64            2565   \n",
       "month                              month     int64            2565   \n",
       "day                                  day     int64            2565   \n",
       "weekday                          weekday     int64            2565   \n",
       "is_holiday                    is_holiday     int64            2565   \n",
       "lag_1                              lag_1   float64            2565   \n",
       "lag_2                              lag_2   float64            2565   \n",
       "lag_4                              lag_4   float64            2565   \n",
       "lag_13                            lag_13   float64            2565   \n",
       "lag_26                            lag_26   float64            2565   \n",
       "lag_52                            lag_52   float64            2565   \n",
       "sales_roll_4                sales_roll_4   float64            2565   \n",
       "sales_roll_13              sales_roll_13   float64            2565   \n",
       "sales_roll_26              sales_roll_26   float64            2565   \n",
       "sales_roll_52              sales_roll_52   float64            2565   \n",
       "cumulative_sales        cumulative_sales   float64            2565   \n",
       "sales_diff_1                sales_diff_1   float64            2565   \n",
       "sales_diff_4                sales_diff_4   float64            2565   \n",
       "avg_sales_per_store  avg_sales_per_store   float64            2565   \n",
       "promo_last_week          promo_last_week   float64            2565   \n",
       "promo_next_week          promo_next_week   float64            2565   \n",
       "store_encoded              store_encoded     int64            2565   \n",
       "\n",
       "                     Missing Values         Mean       Median      Std Dev  \\\n",
       "store                             0        23.00        23.00        12.99   \n",
       "weekly_sales                      0   1059871.95    981345.20    557383.10   \n",
       "holiday_flag                      0         0.11         0.00         0.31   \n",
       "temperature                       0        59.59        61.10        19.07   \n",
       "fuel_price                        0         3.33         3.42         0.46   \n",
       "cpi                               0       171.39       182.60        39.29   \n",
       "unemployment                      0         8.02         7.91         1.88   \n",
       "year                              0      2010.93      2011.00         0.79   \n",
       "month                             0         6.56         6.00         3.46   \n",
       "day                               0         6.49         6.00         3.26   \n",
       "weekday                           0         2.93         3.00         2.10   \n",
       "is_holiday                        0         0.07         0.00         0.26   \n",
       "lag_1                             0   1041888.13    970328.68    570279.69   \n",
       "lag_2                             0   1023343.63    957155.31    581962.58   \n",
       "lag_4                             0    986020.62    938914.28    602975.09   \n",
       "lag_13                            0    815039.87    712425.76    660198.83   \n",
       "lag_26                            0    571528.08    361181.48    664046.76   \n",
       "lag_52                            0     94077.24         0.00    348134.25   \n",
       "sales_roll_4                      0    985400.74    943347.31    597426.54   \n",
       "sales_roll_13                     0    815578.53    716260.87    654878.76   \n",
       "sales_roll_26                     0    572836.96    372509.70    661333.76   \n",
       "sales_roll_52                     0     92974.84         0.00    341032.31   \n",
       "cumulative_sales                  0  30644062.78  23406251.40  25206139.80   \n",
       "sales_diff_1                      0     -1412.17       772.37    116460.80   \n",
       "sales_diff_4                      0      -567.49         0.00    129175.70   \n",
       "avg_sales_per_store               0   1059871.95   1004469.46    548015.57   \n",
       "promo_last_week                   0         0.07         0.00         0.26   \n",
       "promo_next_week                   0         0.07         0.00         0.26   \n",
       "store_encoded                     0        22.00        22.00        12.99   \n",
       "\n",
       "                     Skewness   Kurtosis  \n",
       "store                0.000000  -1.201188  \n",
       "weekly_sales         0.487995  -0.742206  \n",
       "holiday_flag         2.573984   4.629004  \n",
       "temperature         -0.260733  -0.732725  \n",
       "fuel_price          -0.071055  -1.204003  \n",
       "cpi                  0.063058  -1.841544  \n",
       "unemployment         1.202300   2.667348  \n",
       "year                 0.125252  -1.394888  \n",
       "month                0.015787  -1.254100  \n",
       "day                  0.064478  -1.176090  \n",
       "weekday             -0.032131  -1.327207  \n",
       "is_holiday           3.367303   9.346018  \n",
       "lag_1                0.434440  -0.707295  \n",
       "lag_2                0.396562  -0.691124  \n",
       "lag_4                0.355740  -0.690018  \n",
       "lag_13               0.441819  -0.782694  \n",
       "lag_26               0.892828  -0.353052  \n",
       "lag_52               4.175292  17.887136  \n",
       "sales_roll_4         0.314213  -0.783067  \n",
       "sales_roll_13        0.396422  -0.893264  \n",
       "sales_roll_26        0.853635  -0.496740  \n",
       "sales_roll_52        4.068930  16.639400  \n",
       "cumulative_sales     1.152616   0.862153  \n",
       "sales_diff_1        -1.370188  10.025826  \n",
       "sales_diff_4         0.233120   4.335384  \n",
       "avg_sales_per_store  0.424673  -0.921266  \n",
       "promo_last_week      3.367303   9.346018  \n",
       "promo_next_week      3.367303   9.346018  \n",
       "store_encoded        0.000000  -1.201188  "
      ]
     },
     "metadata": {},
     "output_type": "display_data"
    },
    {
     "name": "stdout",
     "output_type": "stream",
     "text": [
      "📊 Dataset Shape\n"
     ]
    },
    {
     "data": {
      "text/html": [
       "<div>\n",
       "<style scoped>\n",
       "    .dataframe tbody tr th:only-of-type {\n",
       "        vertical-align: middle;\n",
       "    }\n",
       "\n",
       "    .dataframe tbody tr th {\n",
       "        vertical-align: top;\n",
       "    }\n",
       "\n",
       "    .dataframe thead th {\n",
       "        text-align: right;\n",
       "    }\n",
       "</style>\n",
       "<table border=\"1\" class=\"dataframe\">\n",
       "  <thead>\n",
       "    <tr style=\"text-align: right;\">\n",
       "      <th></th>\n",
       "      <th>Rows</th>\n",
       "      <th>Columns</th>\n",
       "    </tr>\n",
       "  </thead>\n",
       "  <tbody>\n",
       "    <tr>\n",
       "      <th>Dataset Shape</th>\n",
       "      <td>2565</td>\n",
       "      <td>33</td>\n",
       "    </tr>\n",
       "  </tbody>\n",
       "</table>\n",
       "</div>"
      ],
      "text/plain": [
       "               Rows  Columns\n",
       "Dataset Shape  2565       33"
      ]
     },
     "metadata": {},
     "output_type": "display_data"
    }
   ],
   "source": [
    "# Summary\n",
    "\n",
    "\n",
    "# Count \n",
    "non_nulls = df.count()\n",
    "\n",
    "# Missing Values\n",
    "missing_counts = df.isnull().sum()\n",
    "\n",
    "# Duplicate Rows\n",
    "duplicate_rows = df.duplicated().sum()\n",
    "\n",
    "# Stats\n",
    "num_cols = df.select_dtypes(include='number').columns\n",
    "means = df[num_cols].mean()\n",
    "medians = df[num_cols].median()\n",
    "stds = df[num_cols].std()\n",
    "dtypes = df[num_cols].dtypes\n",
    "\n",
    "# Table\n",
    "summary_df = pd.DataFrame({\n",
    "    'Column': num_cols,\n",
    "    'Data Type': dtypes.values,\n",
    "    'Non-Null Count': non_nulls[num_cols].values,\n",
    "    'Missing Values': missing_counts[num_cols].values,\n",
    "    'Mean': means.round(2).values,\n",
    "    'Median': medians.round(2).values,\n",
    "    'Std Dev': stds.round(2).values,\n",
    "     'Skewness': df[num_cols].skew(),\n",
    "    'Kurtosis': df[num_cols].kurtosis()\n",
    "})\n",
    "\n",
    "\n",
    "# Display\n",
    "print(f\"📌 Duplicate Rows: {duplicate_rows}\")\n",
    "display(summary_df)\n",
    "\n",
    "# Dataset Shape\n",
    "shape_data = {\n",
    "    \"Rows\": [df.shape[0]],\n",
    "    \"Columns\": [df.shape[1]]\n",
    "}\n",
    "shape_df = pd.DataFrame(shape_data, index=[\"Dataset Shape\"])\n",
    "print(\"📊 Dataset Shape\")\n",
    "display(shape_df)"
   ]
  },
  {
   "cell_type": "code",
   "execution_count": null,
   "id": "fd8ef4ad",
   "metadata": {},
   "outputs": [
    {
     "data": {
      "text/html": [
       "<div>\n",
       "<style scoped>\n",
       "    .dataframe tbody tr th:only-of-type {\n",
       "        vertical-align: middle;\n",
       "    }\n",
       "\n",
       "    .dataframe tbody tr th {\n",
       "        vertical-align: top;\n",
       "    }\n",
       "\n",
       "    .dataframe thead th {\n",
       "        text-align: right;\n",
       "    }\n",
       "</style>\n",
       "<table border=\"1\" class=\"dataframe\">\n",
       "  <thead>\n",
       "    <tr style=\"text-align: right;\">\n",
       "      <th></th>\n",
       "      <th>store_name</th>\n",
       "      <th>Mean</th>\n",
       "      <th>Median</th>\n",
       "      <th>Std_Dev</th>\n",
       "      <th>Min</th>\n",
       "      <th>Max</th>\n",
       "    </tr>\n",
       "  </thead>\n",
       "  <tbody>\n",
       "    <tr>\n",
       "      <th>0</th>\n",
       "      <td>Albuquerque South</td>\n",
       "      <td>379781.83</td>\n",
       "      <td>380188.69</td>\n",
       "      <td>60419.48</td>\n",
       "      <td>277137.86</td>\n",
       "      <td>489372.02</td>\n",
       "    </tr>\n",
       "    <tr>\n",
       "      <th>1</th>\n",
       "      <td>Atlanta Downtown</td>\n",
       "      <td>1588921.57</td>\n",
       "      <td>1569304.40</td>\n",
       "      <td>131430.55</td>\n",
       "      <td>1328468.89</td>\n",
       "      <td>1903385.14</td>\n",
       "    </tr>\n",
       "    <tr>\n",
       "      <th>2</th>\n",
       "      <td>Austin East</td>\n",
       "      <td>923150.81</td>\n",
       "      <td>921161.20</td>\n",
       "      <td>54147.02</td>\n",
       "      <td>804105.49</td>\n",
       "      <td>1069061.63</td>\n",
       "    </tr>\n",
       "    <tr>\n",
       "      <th>3</th>\n",
       "      <td>Baltimore Central</td>\n",
       "      <td>1468691.88</td>\n",
       "      <td>1462731.93</td>\n",
       "      <td>107915.82</td>\n",
       "      <td>1224175.99</td>\n",
       "      <td>1799070.98</td>\n",
       "    </tr>\n",
       "    <tr>\n",
       "      <th>4</th>\n",
       "      <td>Charlotte East</td>\n",
       "      <td>523923.46</td>\n",
       "      <td>524483.65</td>\n",
       "      <td>20118.58</td>\n",
       "      <td>479195.02</td>\n",
       "      <td>583835.18</td>\n",
       "    </tr>\n",
       "    <tr>\n",
       "      <th>5</th>\n",
       "      <td>Charlotte Metro</td>\n",
       "      <td>965963.38</td>\n",
       "      <td>964356.74</td>\n",
       "      <td>44032.12</td>\n",
       "      <td>865709.11</td>\n",
       "      <td>1091020.37</td>\n",
       "    </tr>\n",
       "    <tr>\n",
       "      <th>6</th>\n",
       "      <td>Charlotte South</td>\n",
       "      <td>2075189.47</td>\n",
       "      <td>2078417.47</td>\n",
       "      <td>224425.65</td>\n",
       "      <td>1639585.61</td>\n",
       "      <td>2623469.95</td>\n",
       "    </tr>\n",
       "    <tr>\n",
       "      <th>7</th>\n",
       "      <td>Columbus Uptown</td>\n",
       "      <td>1998168.43</td>\n",
       "      <td>1995994.51</td>\n",
       "      <td>139551.51</td>\n",
       "      <td>1744544.39</td>\n",
       "      <td>2462779.06</td>\n",
       "    </tr>\n",
       "    <tr>\n",
       "      <th>8</th>\n",
       "      <td>Dallas Downtown</td>\n",
       "      <td>1017965.71</td>\n",
       "      <td>1011822.30</td>\n",
       "      <td>74937.88</td>\n",
       "      <td>850936.26</td>\n",
       "      <td>1199330.85</td>\n",
       "    </tr>\n",
       "    <tr>\n",
       "      <th>9</th>\n",
       "      <td>Denver North</td>\n",
       "      <td>267338.97</td>\n",
       "      <td>270373.05</td>\n",
       "      <td>25277.79</td>\n",
       "      <td>209986.25</td>\n",
       "      <td>326870.13</td>\n",
       "    </tr>\n",
       "    <tr>\n",
       "      <th>10</th>\n",
       "      <td>Detroit West</td>\n",
       "      <td>2169370.45</td>\n",
       "      <td>2143126.59</td>\n",
       "      <td>167719.24</td>\n",
       "      <td>1843030.95</td>\n",
       "      <td>2752122.08</td>\n",
       "    </tr>\n",
       "    <tr>\n",
       "      <th>11</th>\n",
       "      <td>Houston West</td>\n",
       "      <td>404411.49</td>\n",
       "      <td>396826.06</td>\n",
       "      <td>45779.31</td>\n",
       "      <td>336227.69</td>\n",
       "      <td>499267.66</td>\n",
       "    </tr>\n",
       "    <tr>\n",
       "      <th>12</th>\n",
       "      <td>Indianapolis Downtown</td>\n",
       "      <td>552418.23</td>\n",
       "      <td>545251.10</td>\n",
       "      <td>40301.90</td>\n",
       "      <td>484835.20</td>\n",
       "      <td>677885.99</td>\n",
       "    </tr>\n",
       "    <tr>\n",
       "      <th>13</th>\n",
       "      <td>Indianapolis Suburb</td>\n",
       "      <td>584655.29</td>\n",
       "      <td>588448.21</td>\n",
       "      <td>44519.81</td>\n",
       "      <td>481523.93</td>\n",
       "      <td>674919.45</td>\n",
       "    </tr>\n",
       "    <tr>\n",
       "      <th>14</th>\n",
       "      <td>Indianapolis West</td>\n",
       "      <td>900831.83</td>\n",
       "      <td>876902.87</td>\n",
       "      <td>108633.44</td>\n",
       "      <td>763961.82</td>\n",
       "      <td>1255633.29</td>\n",
       "    </tr>\n",
       "    <tr>\n",
       "      <th>15</th>\n",
       "      <td>Kansas City Uptown</td>\n",
       "      <td>1435258.35</td>\n",
       "      <td>1431910.98</td>\n",
       "      <td>139820.50</td>\n",
       "      <td>1219583.91</td>\n",
       "      <td>1781528.77</td>\n",
       "    </tr>\n",
       "    <tr>\n",
       "      <th>16</th>\n",
       "      <td>Las Vegas Metro</td>\n",
       "      <td>2088557.17</td>\n",
       "      <td>2102530.17</td>\n",
       "      <td>153324.59</td>\n",
       "      <td>1812208.22</td>\n",
       "      <td>2508955.24</td>\n",
       "    </tr>\n",
       "    <tr>\n",
       "      <th>17</th>\n",
       "      <td>Las Vegas West</td>\n",
       "      <td>1037306.55</td>\n",
       "      <td>1037549.71</td>\n",
       "      <td>69717.79</td>\n",
       "      <td>849231.61</td>\n",
       "      <td>1180470.80</td>\n",
       "    </tr>\n",
       "    <tr>\n",
       "      <th>18</th>\n",
       "      <td>Long Beach East</td>\n",
       "      <td>1372474.36</td>\n",
       "      <td>1361595.33</td>\n",
       "      <td>97161.33</td>\n",
       "      <td>1178905.44</td>\n",
       "      <td>1646655.94</td>\n",
       "    </tr>\n",
       "    <tr>\n",
       "      <th>19</th>\n",
       "      <td>Long Beach Uptown</td>\n",
       "      <td>622874.39</td>\n",
       "      <td>615121.78</td>\n",
       "      <td>64852.27</td>\n",
       "      <td>509640.77</td>\n",
       "      <td>847294.04</td>\n",
       "    </tr>\n",
       "    <tr>\n",
       "      <th>20</th>\n",
       "      <td>Los Angeles North</td>\n",
       "      <td>643528.52</td>\n",
       "      <td>643041.71</td>\n",
       "      <td>35475.33</td>\n",
       "      <td>557543.62</td>\n",
       "      <td>722120.04</td>\n",
       "    </tr>\n",
       "    <tr>\n",
       "      <th>21</th>\n",
       "      <td>Los Angeles West</td>\n",
       "      <td>1905260.18</td>\n",
       "      <td>1870720.73</td>\n",
       "      <td>178732.21</td>\n",
       "      <td>1645892.97</td>\n",
       "      <td>2429310.90</td>\n",
       "    </tr>\n",
       "    <tr>\n",
       "      <th>22</th>\n",
       "      <td>Louisville Central</td>\n",
       "      <td>1395030.30</td>\n",
       "      <td>1403460.87</td>\n",
       "      <td>115916.47</td>\n",
       "      <td>1163803.30</td>\n",
       "      <td>1665502.55</td>\n",
       "    </tr>\n",
       "    <tr>\n",
       "      <th>23</th>\n",
       "      <td>Memphis Industrial</td>\n",
       "      <td>1392810.17</td>\n",
       "      <td>1408082.96</td>\n",
       "      <td>157337.34</td>\n",
       "      <td>1042043.55</td>\n",
       "      <td>1872365.99</td>\n",
       "    </tr>\n",
       "    <tr>\n",
       "      <th>24</th>\n",
       "      <td>Mesa West</td>\n",
       "      <td>1601845.14</td>\n",
       "      <td>1603955.12</td>\n",
       "      <td>89168.47</td>\n",
       "      <td>1439541.59</td>\n",
       "      <td>1899676.88</td>\n",
       "    </tr>\n",
       "    <tr>\n",
       "      <th>25</th>\n",
       "      <td>Miami East</td>\n",
       "      <td>567398.76</td>\n",
       "      <td>558963.83</td>\n",
       "      <td>83806.43</td>\n",
       "      <td>395453.83</td>\n",
       "      <td>805642.61</td>\n",
       "    </tr>\n",
       "    <tr>\n",
       "      <th>26</th>\n",
       "      <td>Miami Metro</td>\n",
       "      <td>785843.71</td>\n",
       "      <td>770487.37</td>\n",
       "      <td>65241.38</td>\n",
       "      <td>656988.64</td>\n",
       "      <td>1002364.34</td>\n",
       "    </tr>\n",
       "    <tr>\n",
       "      <th>27</th>\n",
       "      <td>Milwaukee Suburb</td>\n",
       "      <td>413140.20</td>\n",
       "      <td>409981.25</td>\n",
       "      <td>35491.94</td>\n",
       "      <td>349214.18</td>\n",
       "      <td>503232.13</td>\n",
       "    </tr>\n",
       "    <tr>\n",
       "      <th>28</th>\n",
       "      <td>Milwaukee West</td>\n",
       "      <td>925258.80</td>\n",
       "      <td>873415.01</td>\n",
       "      <td>165835.46</td>\n",
       "      <td>649289.75</td>\n",
       "      <td>1282378.71</td>\n",
       "    </tr>\n",
       "    <tr>\n",
       "      <th>29</th>\n",
       "      <td>Minneapolis North</td>\n",
       "      <td>302548.91</td>\n",
       "      <td>298080.45</td>\n",
       "      <td>22276.67</td>\n",
       "      <td>257361.30</td>\n",
       "      <td>358461.58</td>\n",
       "    </tr>\n",
       "    <tr>\n",
       "      <th>30</th>\n",
       "      <td>Nashville Uptown</td>\n",
       "      <td>1004469.46</td>\n",
       "      <td>1000582.06</td>\n",
       "      <td>72189.19</td>\n",
       "      <td>841889.08</td>\n",
       "      <td>1182901.56</td>\n",
       "    </tr>\n",
       "    <tr>\n",
       "      <th>31</th>\n",
       "      <td>New York Industrial</td>\n",
       "      <td>1951954.53</td>\n",
       "      <td>1933756.21</td>\n",
       "      <td>122384.04</td>\n",
       "      <td>1748000.65</td>\n",
       "      <td>2378726.55</td>\n",
       "    </tr>\n",
       "    <tr>\n",
       "      <th>32</th>\n",
       "      <td>Oakland North</td>\n",
       "      <td>1399383.00</td>\n",
       "      <td>1392938.06</td>\n",
       "      <td>64287.15</td>\n",
       "      <td>1213981.64</td>\n",
       "      <td>1556798.94</td>\n",
       "    </tr>\n",
       "    <tr>\n",
       "      <th>33</th>\n",
       "      <td>Oakland South</td>\n",
       "      <td>441263.86</td>\n",
       "      <td>438789.52</td>\n",
       "      <td>23396.84</td>\n",
       "      <td>369722.32</td>\n",
       "      <td>497374.57</td>\n",
       "    </tr>\n",
       "    <tr>\n",
       "      <th>34</th>\n",
       "      <td>Omaha Metro</td>\n",
       "      <td>540458.58</td>\n",
       "      <td>531600.62</td>\n",
       "      <td>48816.20</td>\n",
       "      <td>455952.18</td>\n",
       "      <td>713834.74</td>\n",
       "    </tr>\n",
       "    <tr>\n",
       "      <th>35</th>\n",
       "      <td>Omaha Suburb</td>\n",
       "      <td>1434570.29</td>\n",
       "      <td>1447916.29</td>\n",
       "      <td>121327.39</td>\n",
       "      <td>1203080.41</td>\n",
       "      <td>1723736.91</td>\n",
       "    </tr>\n",
       "    <tr>\n",
       "      <th>36</th>\n",
       "      <td>Portland Industrial</td>\n",
       "      <td>1036432.11</td>\n",
       "      <td>1010326.14</td>\n",
       "      <td>93035.00</td>\n",
       "      <td>873954.70</td>\n",
       "      <td>1367202.84</td>\n",
       "    </tr>\n",
       "    <tr>\n",
       "      <th>37</th>\n",
       "      <td>Raleigh Uptown</td>\n",
       "      <td>1266985.71</td>\n",
       "      <td>1244956.91</td>\n",
       "      <td>119210.16</td>\n",
       "      <td>1023997.71</td>\n",
       "      <td>1548661.45</td>\n",
       "    </tr>\n",
       "    <tr>\n",
       "      <th>38</th>\n",
       "      <td>Sacramento North</td>\n",
       "      <td>324442.29</td>\n",
       "      <td>323798.00</td>\n",
       "      <td>24701.81</td>\n",
       "      <td>283178.12</td>\n",
       "      <td>402985.70</td>\n",
       "    </tr>\n",
       "    <tr>\n",
       "      <th>39</th>\n",
       "      <td>San Francisco Downtown</td>\n",
       "      <td>702949.07</td>\n",
       "      <td>696421.72</td>\n",
       "      <td>75771.50</td>\n",
       "      <td>558794.63</td>\n",
       "      <td>964729.18</td>\n",
       "    </tr>\n",
       "    <tr>\n",
       "      <th>40</th>\n",
       "      <td>San Jose Central</td>\n",
       "      <td>1152726.15</td>\n",
       "      <td>1149234.96</td>\n",
       "      <td>72321.85</td>\n",
       "      <td>1028635.39</td>\n",
       "      <td>1415746.91</td>\n",
       "    </tr>\n",
       "    <tr>\n",
       "      <th>41</th>\n",
       "      <td>San Jose North</td>\n",
       "      <td>515345.10</td>\n",
       "      <td>511059.95</td>\n",
       "      <td>61395.11</td>\n",
       "      <td>403217.22</td>\n",
       "      <td>641763.53</td>\n",
       "    </tr>\n",
       "    <tr>\n",
       "      <th>42</th>\n",
       "      <td>Tucson East</td>\n",
       "      <td>1096184.89</td>\n",
       "      <td>1087051.26</td>\n",
       "      <td>126826.93</td>\n",
       "      <td>540922.94</td>\n",
       "      <td>1416168.98</td>\n",
       "    </tr>\n",
       "    <tr>\n",
       "      <th>43</th>\n",
       "      <td>Tulsa East</td>\n",
       "      <td>1782782.45</td>\n",
       "      <td>1758437.96</td>\n",
       "      <td>180950.06</td>\n",
       "      <td>1313729.72</td>\n",
       "      <td>2139733.68</td>\n",
       "    </tr>\n",
       "    <tr>\n",
       "      <th>44</th>\n",
       "      <td>Virginia Beach Downtown</td>\n",
       "      <td>734372.07</td>\n",
       "      <td>735796.38</td>\n",
       "      <td>63735.72</td>\n",
       "      <td>596218.24</td>\n",
       "      <td>943891.64</td>\n",
       "    </tr>\n",
       "  </tbody>\n",
       "</table>\n",
       "</div>"
      ],
      "text/plain": [
       "                 store_name        Mean      Median    Std_Dev         Min  \\\n",
       "0         Albuquerque South   379781.83   380188.69   60419.48   277137.86   \n",
       "1          Atlanta Downtown  1588921.57  1569304.40  131430.55  1328468.89   \n",
       "2               Austin East   923150.81   921161.20   54147.02   804105.49   \n",
       "3         Baltimore Central  1468691.88  1462731.93  107915.82  1224175.99   \n",
       "4            Charlotte East   523923.46   524483.65   20118.58   479195.02   \n",
       "5           Charlotte Metro   965963.38   964356.74   44032.12   865709.11   \n",
       "6           Charlotte South  2075189.47  2078417.47  224425.65  1639585.61   \n",
       "7           Columbus Uptown  1998168.43  1995994.51  139551.51  1744544.39   \n",
       "8           Dallas Downtown  1017965.71  1011822.30   74937.88   850936.26   \n",
       "9              Denver North   267338.97   270373.05   25277.79   209986.25   \n",
       "10             Detroit West  2169370.45  2143126.59  167719.24  1843030.95   \n",
       "11             Houston West   404411.49   396826.06   45779.31   336227.69   \n",
       "12    Indianapolis Downtown   552418.23   545251.10   40301.90   484835.20   \n",
       "13      Indianapolis Suburb   584655.29   588448.21   44519.81   481523.93   \n",
       "14        Indianapolis West   900831.83   876902.87  108633.44   763961.82   \n",
       "15       Kansas City Uptown  1435258.35  1431910.98  139820.50  1219583.91   \n",
       "16          Las Vegas Metro  2088557.17  2102530.17  153324.59  1812208.22   \n",
       "17           Las Vegas West  1037306.55  1037549.71   69717.79   849231.61   \n",
       "18          Long Beach East  1372474.36  1361595.33   97161.33  1178905.44   \n",
       "19        Long Beach Uptown   622874.39   615121.78   64852.27   509640.77   \n",
       "20        Los Angeles North   643528.52   643041.71   35475.33   557543.62   \n",
       "21         Los Angeles West  1905260.18  1870720.73  178732.21  1645892.97   \n",
       "22       Louisville Central  1395030.30  1403460.87  115916.47  1163803.30   \n",
       "23       Memphis Industrial  1392810.17  1408082.96  157337.34  1042043.55   \n",
       "24                Mesa West  1601845.14  1603955.12   89168.47  1439541.59   \n",
       "25               Miami East   567398.76   558963.83   83806.43   395453.83   \n",
       "26              Miami Metro   785843.71   770487.37   65241.38   656988.64   \n",
       "27         Milwaukee Suburb   413140.20   409981.25   35491.94   349214.18   \n",
       "28           Milwaukee West   925258.80   873415.01  165835.46   649289.75   \n",
       "29        Minneapolis North   302548.91   298080.45   22276.67   257361.30   \n",
       "30         Nashville Uptown  1004469.46  1000582.06   72189.19   841889.08   \n",
       "31      New York Industrial  1951954.53  1933756.21  122384.04  1748000.65   \n",
       "32            Oakland North  1399383.00  1392938.06   64287.15  1213981.64   \n",
       "33            Oakland South   441263.86   438789.52   23396.84   369722.32   \n",
       "34              Omaha Metro   540458.58   531600.62   48816.20   455952.18   \n",
       "35             Omaha Suburb  1434570.29  1447916.29  121327.39  1203080.41   \n",
       "36      Portland Industrial  1036432.11  1010326.14   93035.00   873954.70   \n",
       "37           Raleigh Uptown  1266985.71  1244956.91  119210.16  1023997.71   \n",
       "38         Sacramento North   324442.29   323798.00   24701.81   283178.12   \n",
       "39   San Francisco Downtown   702949.07   696421.72   75771.50   558794.63   \n",
       "40         San Jose Central  1152726.15  1149234.96   72321.85  1028635.39   \n",
       "41           San Jose North   515345.10   511059.95   61395.11   403217.22   \n",
       "42              Tucson East  1096184.89  1087051.26  126826.93   540922.94   \n",
       "43               Tulsa East  1782782.45  1758437.96  180950.06  1313729.72   \n",
       "44  Virginia Beach Downtown   734372.07   735796.38   63735.72   596218.24   \n",
       "\n",
       "           Max  \n",
       "0    489372.02  \n",
       "1   1903385.14  \n",
       "2   1069061.63  \n",
       "3   1799070.98  \n",
       "4    583835.18  \n",
       "5   1091020.37  \n",
       "6   2623469.95  \n",
       "7   2462779.06  \n",
       "8   1199330.85  \n",
       "9    326870.13  \n",
       "10  2752122.08  \n",
       "11   499267.66  \n",
       "12   677885.99  \n",
       "13   674919.45  \n",
       "14  1255633.29  \n",
       "15  1781528.77  \n",
       "16  2508955.24  \n",
       "17  1180470.80  \n",
       "18  1646655.94  \n",
       "19   847294.04  \n",
       "20   722120.04  \n",
       "21  2429310.90  \n",
       "22  1665502.55  \n",
       "23  1872365.99  \n",
       "24  1899676.88  \n",
       "25   805642.61  \n",
       "26  1002364.34  \n",
       "27   503232.13  \n",
       "28  1282378.71  \n",
       "29   358461.58  \n",
       "30  1182901.56  \n",
       "31  2378726.55  \n",
       "32  1556798.94  \n",
       "33   497374.57  \n",
       "34   713834.74  \n",
       "35  1723736.91  \n",
       "36  1367202.84  \n",
       "37  1548661.45  \n",
       "38   402985.70  \n",
       "39   964729.18  \n",
       "40  1415746.91  \n",
       "41   641763.53  \n",
       "42  1416168.98  \n",
       "43  2139733.68  \n",
       "44   943891.64  "
      ]
     },
     "execution_count": 59,
     "metadata": {},
     "output_type": "execute_result"
    }
   ],
   "source": [
    "# Weekly Sales Summary by Store\n",
    "store_weekly_summary = df.groupby('store_name')['weekly_sales'].agg(\n",
    "    Mean='mean',\n",
    "    Median='median',\n",
    "    Std_Dev='std',\n",
    "    Min='min',\n",
    "    Max='max'\n",
    ").round(2).reset_index()\n",
    "\n",
    "store_weekly_summary\n"
   ]
  },
  {
   "cell_type": "code",
   "execution_count": 63,
   "id": "17512951",
   "metadata": {},
   "outputs": [
    {
     "data": {
      "text/html": [
       "<div>\n",
       "<style scoped>\n",
       "    .dataframe tbody tr th:only-of-type {\n",
       "        vertical-align: middle;\n",
       "    }\n",
       "\n",
       "    .dataframe tbody tr th {\n",
       "        vertical-align: top;\n",
       "    }\n",
       "\n",
       "    .dataframe thead th {\n",
       "        text-align: right;\n",
       "    }\n",
       "</style>\n",
       "<table border=\"1\" class=\"dataframe\">\n",
       "  <thead>\n",
       "    <tr style=\"text-align: right;\">\n",
       "      <th></th>\n",
       "      <th>store_name</th>\n",
       "      <th>Mean</th>\n",
       "      <th>Median</th>\n",
       "      <th>Std_Dev</th>\n",
       "      <th>Min</th>\n",
       "      <th>Max</th>\n",
       "    </tr>\n",
       "  </thead>\n",
       "  <tbody>\n",
       "    <tr>\n",
       "      <th>0</th>\n",
       "      <td>Albuquerque South</td>\n",
       "      <td>601321.24</td>\n",
       "      <td>469400.03</td>\n",
       "      <td>306936.06</td>\n",
       "      <td>277137.86</td>\n",
       "      <td>1353610.54</td>\n",
       "    </tr>\n",
       "    <tr>\n",
       "      <th>1</th>\n",
       "      <td>Atlanta Downtown</td>\n",
       "      <td>2515792.48</td>\n",
       "      <td>1701062.90</td>\n",
       "      <td>1173987.20</td>\n",
       "      <td>1328468.89</td>\n",
       "      <td>5111830.29</td>\n",
       "    </tr>\n",
       "    <tr>\n",
       "      <th>2</th>\n",
       "      <td>Austin East</td>\n",
       "      <td>1461655.44</td>\n",
       "      <td>959170.49</td>\n",
       "      <td>691441.24</td>\n",
       "      <td>804105.49</td>\n",
       "      <td>2855135.32</td>\n",
       "    </tr>\n",
       "    <tr>\n",
       "      <th>3</th>\n",
       "      <td>Baltimore Central</td>\n",
       "      <td>2325428.81</td>\n",
       "      <td>1508043.66</td>\n",
       "      <td>1114277.70</td>\n",
       "      <td>1308977.05</td>\n",
       "      <td>4494675.01</td>\n",
       "    </tr>\n",
       "    <tr>\n",
       "      <th>4</th>\n",
       "      <td>Charlotte East</td>\n",
       "      <td>829545.47</td>\n",
       "      <td>544678.57</td>\n",
       "      <td>392085.53</td>\n",
       "      <td>479195.02</td>\n",
       "      <td>1667333.03</td>\n",
       "    </tr>\n",
       "    <tr>\n",
       "      <th>5</th>\n",
       "      <td>Charlotte Metro</td>\n",
       "      <td>1529442.01</td>\n",
       "      <td>990684.05</td>\n",
       "      <td>721257.03</td>\n",
       "      <td>865709.11</td>\n",
       "      <td>3052732.90</td>\n",
       "    </tr>\n",
       "    <tr>\n",
       "      <th>6</th>\n",
       "      <td>Charlotte South</td>\n",
       "      <td>3285716.66</td>\n",
       "      <td>2306585.76</td>\n",
       "      <td>1583066.78</td>\n",
       "      <td>1639585.61</td>\n",
       "      <td>6939432.17</td>\n",
       "    </tr>\n",
       "    <tr>\n",
       "      <th>7</th>\n",
       "      <td>Columbus Uptown</td>\n",
       "      <td>3163766.69</td>\n",
       "      <td>2123280.24</td>\n",
       "      <td>1449094.82</td>\n",
       "      <td>1765584.48</td>\n",
       "      <td>6322347.89</td>\n",
       "    </tr>\n",
       "    <tr>\n",
       "      <th>8</th>\n",
       "      <td>Dallas Downtown</td>\n",
       "      <td>1611779.04</td>\n",
       "      <td>1099720.02</td>\n",
       "      <td>772551.31</td>\n",
       "      <td>850936.26</td>\n",
       "      <td>3183261.17</td>\n",
       "    </tr>\n",
       "    <tr>\n",
       "      <th>9</th>\n",
       "      <td>Denver North</td>\n",
       "      <td>423286.70</td>\n",
       "      <td>303321.32</td>\n",
       "      <td>197330.84</td>\n",
       "      <td>224294.39</td>\n",
       "      <td>879847.77</td>\n",
       "    </tr>\n",
       "    <tr>\n",
       "      <th>10</th>\n",
       "      <td>Detroit West</td>\n",
       "      <td>3434836.54</td>\n",
       "      <td>2217790.74</td>\n",
       "      <td>1656766.09</td>\n",
       "      <td>1910177.38</td>\n",
       "      <td>6888017.16</td>\n",
       "    </tr>\n",
       "    <tr>\n",
       "      <th>11</th>\n",
       "      <td>Houston West</td>\n",
       "      <td>640318.18</td>\n",
       "      <td>480695.10</td>\n",
       "      <td>292823.38</td>\n",
       "      <td>351271.36</td>\n",
       "      <td>1448837.08</td>\n",
       "    </tr>\n",
       "    <tr>\n",
       "      <th>12</th>\n",
       "      <td>Indianapolis Downtown</td>\n",
       "      <td>874662.20</td>\n",
       "      <td>599663.80</td>\n",
       "      <td>401045.58</td>\n",
       "      <td>495692.19</td>\n",
       "      <td>1776262.02</td>\n",
       "    </tr>\n",
       "    <tr>\n",
       "      <th>13</th>\n",
       "      <td>Indianapolis Suburb</td>\n",
       "      <td>925704.21</td>\n",
       "      <td>643137.58</td>\n",
       "      <td>435468.05</td>\n",
       "      <td>481523.93</td>\n",
       "      <td>1907386.57</td>\n",
       "    </tr>\n",
       "    <tr>\n",
       "      <th>14</th>\n",
       "      <td>Indianapolis West</td>\n",
       "      <td>1426317.06</td>\n",
       "      <td>970299.70</td>\n",
       "      <td>668388.85</td>\n",
       "      <td>795301.17</td>\n",
       "      <td>3231809.36</td>\n",
       "    </tr>\n",
       "    <tr>\n",
       "      <th>15</th>\n",
       "      <td>Kansas City Uptown</td>\n",
       "      <td>2272492.40</td>\n",
       "      <td>1616627.00</td>\n",
       "      <td>1011597.35</td>\n",
       "      <td>1219583.91</td>\n",
       "      <td>4902607.86</td>\n",
       "    </tr>\n",
       "    <tr>\n",
       "      <th>16</th>\n",
       "      <td>Las Vegas Metro</td>\n",
       "      <td>3306882.18</td>\n",
       "      <td>2208077.66</td>\n",
       "      <td>1571618.91</td>\n",
       "      <td>1842821.02</td>\n",
       "      <td>6742471.48</td>\n",
       "    </tr>\n",
       "    <tr>\n",
       "      <th>17</th>\n",
       "      <td>Las Vegas West</td>\n",
       "      <td>1642402.04</td>\n",
       "      <td>1106864.63</td>\n",
       "      <td>740586.64</td>\n",
       "      <td>923221.52</td>\n",
       "      <td>3268857.65</td>\n",
       "    </tr>\n",
       "    <tr>\n",
       "      <th>18</th>\n",
       "      <td>Long Beach East</td>\n",
       "      <td>2173084.41</td>\n",
       "      <td>1418568.90</td>\n",
       "      <td>1050811.31</td>\n",
       "      <td>1182490.46</td>\n",
       "      <td>4341340.50</td>\n",
       "    </tr>\n",
       "    <tr>\n",
       "      <th>19</th>\n",
       "      <td>Long Beach Uptown</td>\n",
       "      <td>986217.78</td>\n",
       "      <td>678581.88</td>\n",
       "      <td>466481.07</td>\n",
       "      <td>541292.64</td>\n",
       "      <td>1906260.43</td>\n",
       "    </tr>\n",
       "    <tr>\n",
       "      <th>20</th>\n",
       "      <td>Los Angeles North</td>\n",
       "      <td>1018920.16</td>\n",
       "      <td>695893.02</td>\n",
       "      <td>464724.22</td>\n",
       "      <td>595626.56</td>\n",
       "      <td>1975079.87</td>\n",
       "    </tr>\n",
       "    <tr>\n",
       "      <th>21</th>\n",
       "      <td>Los Angeles West</td>\n",
       "      <td>3016661.95</td>\n",
       "      <td>1940321.18</td>\n",
       "      <td>1504872.17</td>\n",
       "      <td>1645892.97</td>\n",
       "      <td>6125448.30</td>\n",
       "    </tr>\n",
       "    <tr>\n",
       "      <th>22</th>\n",
       "      <td>Louisville Central</td>\n",
       "      <td>2208797.98</td>\n",
       "      <td>1515986.18</td>\n",
       "      <td>1018110.83</td>\n",
       "      <td>1213994.39</td>\n",
       "      <td>4421413.93</td>\n",
       "    </tr>\n",
       "    <tr>\n",
       "      <th>23</th>\n",
       "      <td>Memphis Industrial</td>\n",
       "      <td>2205282.77</td>\n",
       "      <td>1538298.74</td>\n",
       "      <td>1003202.19</td>\n",
       "      <td>1129909.44</td>\n",
       "      <td>4300638.40</td>\n",
       "    </tr>\n",
       "    <tr>\n",
       "      <th>24</th>\n",
       "      <td>Mesa West</td>\n",
       "      <td>2536254.81</td>\n",
       "      <td>1686470.38</td>\n",
       "      <td>1181372.46</td>\n",
       "      <td>1453329.50</td>\n",
       "      <td>5219900.96</td>\n",
       "    </tr>\n",
       "    <tr>\n",
       "      <th>25</th>\n",
       "      <td>Miami East</td>\n",
       "      <td>898381.36</td>\n",
       "      <td>657262.31</td>\n",
       "      <td>450830.22</td>\n",
       "      <td>395453.83</td>\n",
       "      <td>2140186.25</td>\n",
       "    </tr>\n",
       "    <tr>\n",
       "      <th>26</th>\n",
       "      <td>Miami Metro</td>\n",
       "      <td>1244252.55</td>\n",
       "      <td>837346.62</td>\n",
       "      <td>581857.28</td>\n",
       "      <td>690007.76</td>\n",
       "      <td>2456921.58</td>\n",
       "    </tr>\n",
       "    <tr>\n",
       "      <th>27</th>\n",
       "      <td>Milwaukee Suburb</td>\n",
       "      <td>654138.65</td>\n",
       "      <td>445749.42</td>\n",
       "      <td>313501.31</td>\n",
       "      <td>355017.09</td>\n",
       "      <td>1335044.26</td>\n",
       "    </tr>\n",
       "    <tr>\n",
       "      <th>28</th>\n",
       "      <td>Milwaukee West</td>\n",
       "      <td>1464993.11</td>\n",
       "      <td>1181141.63</td>\n",
       "      <td>724578.66</td>\n",
       "      <td>766571.10</td>\n",
       "      <td>3236978.89</td>\n",
       "    </tr>\n",
       "    <tr>\n",
       "      <th>29</th>\n",
       "      <td>Minneapolis North</td>\n",
       "      <td>479035.77</td>\n",
       "      <td>339487.86</td>\n",
       "      <td>215710.14</td>\n",
       "      <td>279524.44</td>\n",
       "      <td>1003810.61</td>\n",
       "    </tr>\n",
       "    <tr>\n",
       "      <th>30</th>\n",
       "      <td>Nashville Uptown</td>\n",
       "      <td>1590409.98</td>\n",
       "      <td>1077537.31</td>\n",
       "      <td>724402.97</td>\n",
       "      <td>891152.33</td>\n",
       "      <td>3269542.65</td>\n",
       "    </tr>\n",
       "    <tr>\n",
       "      <th>31</th>\n",
       "      <td>New York Industrial</td>\n",
       "      <td>3090594.67</td>\n",
       "      <td>2034060.24</td>\n",
       "      <td>1472963.26</td>\n",
       "      <td>1812768.26</td>\n",
       "      <td>6067064.00</td>\n",
       "    </tr>\n",
       "    <tr>\n",
       "      <th>32</th>\n",
       "      <td>Oakland North</td>\n",
       "      <td>2215689.75</td>\n",
       "      <td>1441160.33</td>\n",
       "      <td>1053329.42</td>\n",
       "      <td>1213981.64</td>\n",
       "      <td>4389586.89</td>\n",
       "    </tr>\n",
       "    <tr>\n",
       "      <th>33</th>\n",
       "      <td>Oakland South</td>\n",
       "      <td>698667.78</td>\n",
       "      <td>458113.82</td>\n",
       "      <td>334803.40</td>\n",
       "      <td>412224.67</td>\n",
       "      <td>1422361.46</td>\n",
       "    </tr>\n",
       "    <tr>\n",
       "      <th>34</th>\n",
       "      <td>Omaha Metro</td>\n",
       "      <td>855726.09</td>\n",
       "      <td>582135.00</td>\n",
       "      <td>405422.91</td>\n",
       "      <td>471311.50</td>\n",
       "      <td>1682432.81</td>\n",
       "    </tr>\n",
       "    <tr>\n",
       "      <th>35</th>\n",
       "      <td>Omaha Suburb</td>\n",
       "      <td>2271402.95</td>\n",
       "      <td>1538285.62</td>\n",
       "      <td>1121910.73</td>\n",
       "      <td>1203080.41</td>\n",
       "      <td>4865288.90</td>\n",
       "    </tr>\n",
       "    <tr>\n",
       "      <th>36</th>\n",
       "      <td>Portland Industrial</td>\n",
       "      <td>1641017.51</td>\n",
       "      <td>1099198.25</td>\n",
       "      <td>766678.93</td>\n",
       "      <td>905987.17</td>\n",
       "      <td>3190634.00</td>\n",
       "    </tr>\n",
       "    <tr>\n",
       "      <th>37</th>\n",
       "      <td>Raleigh Uptown</td>\n",
       "      <td>2006060.70</td>\n",
       "      <td>1405889.33</td>\n",
       "      <td>874801.85</td>\n",
       "      <td>1109216.35</td>\n",
       "      <td>4124726.81</td>\n",
       "    </tr>\n",
       "    <tr>\n",
       "      <th>38</th>\n",
       "      <td>Sacramento North</td>\n",
       "      <td>513700.30</td>\n",
       "      <td>359537.00</td>\n",
       "      <td>236556.80</td>\n",
       "      <td>283178.12</td>\n",
       "      <td>1056278.84</td>\n",
       "    </tr>\n",
       "    <tr>\n",
       "      <th>39</th>\n",
       "      <td>San Francisco Downtown</td>\n",
       "      <td>1113002.70</td>\n",
       "      <td>740062.90</td>\n",
       "      <td>510222.95</td>\n",
       "      <td>643155.89</td>\n",
       "      <td>2181161.57</td>\n",
       "    </tr>\n",
       "    <tr>\n",
       "      <th>40</th>\n",
       "      <td>San Jose Central</td>\n",
       "      <td>1825149.73</td>\n",
       "      <td>1223268.54</td>\n",
       "      <td>823804.48</td>\n",
       "      <td>1061089.56</td>\n",
       "      <td>3584698.23</td>\n",
       "    </tr>\n",
       "    <tr>\n",
       "      <th>41</th>\n",
       "      <td>San Jose North</td>\n",
       "      <td>815963.08</td>\n",
       "      <td>596966.70</td>\n",
       "      <td>376513.83</td>\n",
       "      <td>403217.22</td>\n",
       "      <td>1708963.67</td>\n",
       "    </tr>\n",
       "    <tr>\n",
       "      <th>42</th>\n",
       "      <td>Tucson East</td>\n",
       "      <td>1735626.07</td>\n",
       "      <td>1200147.23</td>\n",
       "      <td>827051.47</td>\n",
       "      <td>928470.83</td>\n",
       "      <td>3474576.94</td>\n",
       "    </tr>\n",
       "    <tr>\n",
       "      <th>43</th>\n",
       "      <td>Tulsa East</td>\n",
       "      <td>2822738.87</td>\n",
       "      <td>1996583.42</td>\n",
       "      <td>1304009.54</td>\n",
       "      <td>1509323.09</td>\n",
       "      <td>5498486.09</td>\n",
       "    </tr>\n",
       "    <tr>\n",
       "      <th>44</th>\n",
       "      <td>Virginia Beach Downtown</td>\n",
       "      <td>1162755.77</td>\n",
       "      <td>789351.72</td>\n",
       "      <td>551301.83</td>\n",
       "      <td>642827.29</td>\n",
       "      <td>2292758.28</td>\n",
       "    </tr>\n",
       "  </tbody>\n",
       "</table>\n",
       "</div>"
      ],
      "text/plain": [
       "                 store_name        Mean      Median     Std_Dev         Min  \\\n",
       "0         Albuquerque South   601321.24   469400.03   306936.06   277137.86   \n",
       "1          Atlanta Downtown  2515792.48  1701062.90  1173987.20  1328468.89   \n",
       "2               Austin East  1461655.44   959170.49   691441.24   804105.49   \n",
       "3         Baltimore Central  2325428.81  1508043.66  1114277.70  1308977.05   \n",
       "4            Charlotte East   829545.47   544678.57   392085.53   479195.02   \n",
       "5           Charlotte Metro  1529442.01   990684.05   721257.03   865709.11   \n",
       "6           Charlotte South  3285716.66  2306585.76  1583066.78  1639585.61   \n",
       "7           Columbus Uptown  3163766.69  2123280.24  1449094.82  1765584.48   \n",
       "8           Dallas Downtown  1611779.04  1099720.02   772551.31   850936.26   \n",
       "9              Denver North   423286.70   303321.32   197330.84   224294.39   \n",
       "10             Detroit West  3434836.54  2217790.74  1656766.09  1910177.38   \n",
       "11             Houston West   640318.18   480695.10   292823.38   351271.36   \n",
       "12    Indianapolis Downtown   874662.20   599663.80   401045.58   495692.19   \n",
       "13      Indianapolis Suburb   925704.21   643137.58   435468.05   481523.93   \n",
       "14        Indianapolis West  1426317.06   970299.70   668388.85   795301.17   \n",
       "15       Kansas City Uptown  2272492.40  1616627.00  1011597.35  1219583.91   \n",
       "16          Las Vegas Metro  3306882.18  2208077.66  1571618.91  1842821.02   \n",
       "17           Las Vegas West  1642402.04  1106864.63   740586.64   923221.52   \n",
       "18          Long Beach East  2173084.41  1418568.90  1050811.31  1182490.46   \n",
       "19        Long Beach Uptown   986217.78   678581.88   466481.07   541292.64   \n",
       "20        Los Angeles North  1018920.16   695893.02   464724.22   595626.56   \n",
       "21         Los Angeles West  3016661.95  1940321.18  1504872.17  1645892.97   \n",
       "22       Louisville Central  2208797.98  1515986.18  1018110.83  1213994.39   \n",
       "23       Memphis Industrial  2205282.77  1538298.74  1003202.19  1129909.44   \n",
       "24                Mesa West  2536254.81  1686470.38  1181372.46  1453329.50   \n",
       "25               Miami East   898381.36   657262.31   450830.22   395453.83   \n",
       "26              Miami Metro  1244252.55   837346.62   581857.28   690007.76   \n",
       "27         Milwaukee Suburb   654138.65   445749.42   313501.31   355017.09   \n",
       "28           Milwaukee West  1464993.11  1181141.63   724578.66   766571.10   \n",
       "29        Minneapolis North   479035.77   339487.86   215710.14   279524.44   \n",
       "30         Nashville Uptown  1590409.98  1077537.31   724402.97   891152.33   \n",
       "31      New York Industrial  3090594.67  2034060.24  1472963.26  1812768.26   \n",
       "32            Oakland North  2215689.75  1441160.33  1053329.42  1213981.64   \n",
       "33            Oakland South   698667.78   458113.82   334803.40   412224.67   \n",
       "34              Omaha Metro   855726.09   582135.00   405422.91   471311.50   \n",
       "35             Omaha Suburb  2271402.95  1538285.62  1121910.73  1203080.41   \n",
       "36      Portland Industrial  1641017.51  1099198.25   766678.93   905987.17   \n",
       "37           Raleigh Uptown  2006060.70  1405889.33   874801.85  1109216.35   \n",
       "38         Sacramento North   513700.30   359537.00   236556.80   283178.12   \n",
       "39   San Francisco Downtown  1113002.70   740062.90   510222.95   643155.89   \n",
       "40         San Jose Central  1825149.73  1223268.54   823804.48  1061089.56   \n",
       "41           San Jose North   815963.08   596966.70   376513.83   403217.22   \n",
       "42              Tucson East  1735626.07  1200147.23   827051.47   928470.83   \n",
       "43               Tulsa East  2822738.87  1996583.42  1304009.54  1509323.09   \n",
       "44  Virginia Beach Downtown  1162755.77   789351.72   551301.83   642827.29   \n",
       "\n",
       "           Max  \n",
       "0   1353610.54  \n",
       "1   5111830.29  \n",
       "2   2855135.32  \n",
       "3   4494675.01  \n",
       "4   1667333.03  \n",
       "5   3052732.90  \n",
       "6   6939432.17  \n",
       "7   6322347.89  \n",
       "8   3183261.17  \n",
       "9    879847.77  \n",
       "10  6888017.16  \n",
       "11  1448837.08  \n",
       "12  1776262.02  \n",
       "13  1907386.57  \n",
       "14  3231809.36  \n",
       "15  4902607.86  \n",
       "16  6742471.48  \n",
       "17  3268857.65  \n",
       "18  4341340.50  \n",
       "19  1906260.43  \n",
       "20  1975079.87  \n",
       "21  6125448.30  \n",
       "22  4421413.93  \n",
       "23  4300638.40  \n",
       "24  5219900.96  \n",
       "25  2140186.25  \n",
       "26  2456921.58  \n",
       "27  1335044.26  \n",
       "28  3236978.89  \n",
       "29  1003810.61  \n",
       "30  3269542.65  \n",
       "31  6067064.00  \n",
       "32  4389586.89  \n",
       "33  1422361.46  \n",
       "34  1682432.81  \n",
       "35  4865288.90  \n",
       "36  3190634.00  \n",
       "37  4124726.81  \n",
       "38  1056278.84  \n",
       "39  2181161.57  \n",
       "40  3584698.23  \n",
       "41  1708963.67  \n",
       "42  3474576.94  \n",
       "43  5498486.09  \n",
       "44  2292758.28  "
      ]
     },
     "execution_count": 63,
     "metadata": {},
     "output_type": "execute_result"
    }
   ],
   "source": [
    "# Monthly Sales Summary by Store\n",
    "\n",
    "# Step 1: Create a 'month' column if not already present\n",
    "df['month'] = df['date'].dt.to_period('M')  # e.g., '2025-07'\n",
    "\n",
    "# Step 2: Aggregate sales per store per month\n",
    "monthly_sales = df.groupby(['store_name', 'month'])['weekly_sales'].sum().reset_index()\n",
    "\n",
    "# Step 3: Compute stats for each store across all months\n",
    "store_monthly_summary = monthly_sales.groupby('store_name')['weekly_sales'].agg(\n",
    "    Mean='mean',\n",
    "    Median='median',\n",
    "    Std_Dev='std',\n",
    "    Min='min',\n",
    "    Max='max'\n",
    "    ).round(2).reset_index()\n",
    "\n",
    "# Step 4: Display full summary\n",
    "store_monthly_summary\n"
   ]
  },
  {
   "cell_type": "code",
   "execution_count": null,
   "id": "01bad4d3",
   "metadata": {},
   "outputs": [],
   "source": []
  },
  {
   "cell_type": "markdown",
   "id": "2ce12189",
   "metadata": {},
   "source": [
    "# Graphical Analysis"
   ]
  },
  {
   "cell_type": "code",
   "execution_count": 73,
   "id": "3303f727",
   "metadata": {},
   "outputs": [
    {
     "data": {
      "application/vnd.plotly.v1+json": {
       "config": {
        "plotlyServerURL": "https://plot.ly"
       },
       "data": [
        {
         "hovertemplate": "store_name=Atlanta Downtown<br>date=%{x}<br>weekly_sales=%{y}<extra></extra>",
         "legendgroup": "Atlanta Downtown",
         "line": {
          "color": "#000001",
          "dash": "solid"
         },
         "marker": {
          "symbol": "circle"
         },
         "mode": "lines",
         "name": "Atlanta Downtown",
         "orientation": "v",
         "showlegend": true,
         "type": "scatter",
         "x": [
          "2010-01-10T00:00:00",
          "2010-02-04T00:00:00",
          "2010-02-07T00:00:00",
          "2010-03-09T00:00:00",
          "2010-03-12T00:00:00",
          "2010-04-06T00:00:00",
          "2010-05-02T00:00:00",
          "2010-05-03T00:00:00",
          "2010-05-11T00:00:00",
          "2010-06-08T00:00:00",
          "2010-07-05T00:00:00",
          "2010-08-10T00:00:00",
          "2010-09-04T00:00:00",
          "2010-09-07T00:00:00",
          "2010-10-09T00:00:00",
          "2010-10-12T00:00:00",
          "2010-11-06T00:00:00",
          "2010-12-02T00:00:00",
          "2010-12-03T00:00:00",
          "2010-12-11T00:00:00",
          "2011-01-04T00:00:00",
          "2011-01-07T00:00:00",
          "2011-02-09T00:00:00",
          "2011-02-12T00:00:00",
          "2011-03-06T00:00:00",
          "2011-04-02T00:00:00",
          "2011-04-03T00:00:00",
          "2011-04-11T00:00:00",
          "2011-05-08T00:00:00",
          "2011-06-05T00:00:00",
          "2011-07-01T00:00:00",
          "2011-07-10T00:00:00",
          "2011-08-04T00:00:00",
          "2011-08-07T00:00:00",
          "2011-09-09T00:00:00",
          "2011-09-12T00:00:00",
          "2011-10-06T00:00:00",
          "2011-11-02T00:00:00",
          "2011-11-03T00:00:00",
          "2011-11-11T00:00:00",
          "2011-12-08T00:00:00",
          "2012-01-06T00:00:00",
          "2012-02-03T00:00:00",
          "2012-03-02T00:00:00",
          "2012-03-08T00:00:00",
          "2012-04-05T00:00:00",
          "2012-05-10T00:00:00",
          "2012-06-01T00:00:00",
          "2012-06-04T00:00:00",
          "2012-06-07T00:00:00",
          "2012-07-09T00:00:00",
          "2012-08-06T00:00:00",
          "2012-09-03T00:00:00",
          "2012-10-02T00:00:00",
          "2012-10-08T00:00:00",
          "2012-11-05T00:00:00",
          "2012-12-10T00:00:00"
         ],
         "xaxis": "x9",
         "y": {
          "bdata": "PQrX41RFNEFmZmbmXQM7QQAAAEAh2jpBH4XrUQ0ON0HXo3A9C5c5QXE9ChdkVzxBmpmZGZs3OUEfhevRRG84QWZmZiai+DZBcT0Kl9nrOEGkcD0K0Lc4QWZmZua9wTRBH4Xr0W1wOUHXo3D9zco5QQrXo3BhuzVBSOF6lPH+O0GamZlZlLg5QcP1KNyLgjhBw/UoXF3IN0Fcj8J18NE2QVK4HsVMRDZBZmZmJlfbOUHXo3C9kps2QXE9ClfTwzlBpHA9SiIGOkG4HoUr9x03QdejcP2Z7TZBFK5HYdw+N0EfheuRMHA4QR+F65GL9TZB4XoUrimbNEEzMzMzC5w2QQAAAACCajdB7FG4nj0VOkEUrkdhNqM2QT0K1yMZCz1BZmZmprNkOEG4HoUrSLA2QT0K12PhzTZBpHA9irBwN0EUrkdhw6g2QRSuR2HhpjlBZmZmpjGoN0F7FK7H8dQ2QeF6FO6K1DhB7FG4HiWNN0Fcj8K1YSo3QVyPwrWLSjVBCtejMAMUPEE9Ctdjh6E8QSlcjwKNiThBUrgehWvjOUFmZmZmGPI3Qbgehet7ujhBrkfhupw8OEG4HoWrEyY3QXE9CtfERDZB",
          "dtype": "f8"
         },
         "yaxis": "y9"
        },
        {
         "hovertemplate": "store_name=Austin East<br>date=%{x}<br>weekly_sales=%{y}<extra></extra>",
         "legendgroup": "Austin East",
         "line": {
          "color": "#000002",
          "dash": "solid"
         },
         "marker": {
          "symbol": "circle"
         },
         "mode": "lines",
         "name": "Austin East",
         "orientation": "v",
         "showlegend": true,
         "type": "scatter",
         "x": [
          "2010-01-10T00:00:00",
          "2010-02-04T00:00:00",
          "2010-02-07T00:00:00",
          "2010-03-09T00:00:00",
          "2010-03-12T00:00:00",
          "2010-04-06T00:00:00",
          "2010-05-02T00:00:00",
          "2010-05-03T00:00:00",
          "2010-05-11T00:00:00",
          "2010-06-08T00:00:00",
          "2010-07-05T00:00:00",
          "2010-08-10T00:00:00",
          "2010-09-04T00:00:00",
          "2010-09-07T00:00:00",
          "2010-10-09T00:00:00",
          "2010-10-12T00:00:00",
          "2010-11-06T00:00:00",
          "2010-12-02T00:00:00",
          "2010-12-03T00:00:00",
          "2010-12-11T00:00:00",
          "2011-01-04T00:00:00",
          "2011-01-07T00:00:00",
          "2011-02-09T00:00:00",
          "2011-02-12T00:00:00",
          "2011-03-06T00:00:00",
          "2011-04-02T00:00:00",
          "2011-04-03T00:00:00",
          "2011-04-11T00:00:00",
          "2011-05-08T00:00:00",
          "2011-06-05T00:00:00",
          "2011-07-01T00:00:00",
          "2011-07-10T00:00:00",
          "2011-08-04T00:00:00",
          "2011-08-07T00:00:00",
          "2011-09-09T00:00:00",
          "2011-09-12T00:00:00",
          "2011-10-06T00:00:00",
          "2011-11-02T00:00:00",
          "2011-11-03T00:00:00",
          "2011-11-11T00:00:00",
          "2011-12-08T00:00:00",
          "2012-01-06T00:00:00",
          "2012-02-03T00:00:00",
          "2012-03-02T00:00:00",
          "2012-03-08T00:00:00",
          "2012-04-05T00:00:00",
          "2012-05-10T00:00:00",
          "2012-06-01T00:00:00",
          "2012-06-04T00:00:00",
          "2012-06-07T00:00:00",
          "2012-07-09T00:00:00",
          "2012-08-06T00:00:00",
          "2012-09-03T00:00:00",
          "2012-10-02T00:00:00",
          "2012-10-08T00:00:00",
          "2012-11-05T00:00:00",
          "2012-12-10T00:00:00"
         ],
         "xaxis": "x10",
         "y": {
          "bdata": "rkfh+hKKKEEfhevRiegrQQAAAIDbAipBCtej8LhvK0HD9SjcfRMtQR+F69EiPi1B4XoULtKkLkFmZmbmv+YqQeF6FK5ETCxBpHA9iq9DK0G4HoXrqforQYXrUbibjypBcT0K14P0K0GkcD2K08spQWZmZmaCXylBFK5HoQVQMEGF61G4J+srQc3MzMziWy5BH4XrUWBBKkFcj8L1ZdErQZqZmZlU0SpBMzMzs8b3KkF7FK5H9jMrQbgehevSGy5BH4XrUYxbLEH2KFyPpdMsQcP1KNzEiixBmpmZGc7sLEGkcD2K0zsrQeF6FK4iuyxBXI/CddKkKkGamZkZcWEsQY/C9aiD/CxB16NwPRpOKkHhehQuzOMpQTMzM/MSDTBBH4Xr0TpiK0F7FK7HZmYuQUjhepRGeitBXI/C9cD8K0EzMzMzuCUqQWZmZmaSHCxBH4Xr0ZEPLUEUrkdh9U4sQVyPwnVpYCtB4XoULiCaLEGkcD0KaMwtQVyPwnVinSpB4XoULkHyL0EAAAAAG5IsQdejcL2AcixBAAAAAGhYLEHsUbge50wtQXE9CtewKy9BFK5HYXNnLEF7FK7HgRQsQa5H4fovTixB",
          "dtype": "f8"
         },
         "yaxis": "y10"
        },
        {
         "hovertemplate": "store_name=Indianapolis Downtown<br>date=%{x}<br>weekly_sales=%{y}<extra></extra>",
         "legendgroup": "Indianapolis Downtown",
         "line": {
          "color": "#000003",
          "dash": "solid"
         },
         "marker": {
          "symbol": "circle"
         },
         "mode": "lines",
         "name": "Indianapolis Downtown",
         "orientation": "v",
         "showlegend": true,
         "type": "scatter",
         "x": [
          "2010-01-10T00:00:00",
          "2010-02-04T00:00:00",
          "2010-02-07T00:00:00",
          "2010-03-09T00:00:00",
          "2010-03-12T00:00:00",
          "2010-04-06T00:00:00",
          "2010-05-02T00:00:00",
          "2010-05-03T00:00:00",
          "2010-05-11T00:00:00",
          "2010-06-08T00:00:00",
          "2010-07-05T00:00:00",
          "2010-08-10T00:00:00",
          "2010-09-04T00:00:00",
          "2010-09-07T00:00:00",
          "2010-10-09T00:00:00",
          "2010-10-12T00:00:00",
          "2010-11-06T00:00:00",
          "2010-12-02T00:00:00",
          "2010-12-03T00:00:00",
          "2010-12-11T00:00:00",
          "2011-01-04T00:00:00",
          "2011-01-07T00:00:00",
          "2011-02-09T00:00:00",
          "2011-02-12T00:00:00",
          "2011-03-06T00:00:00",
          "2011-04-02T00:00:00",
          "2011-04-03T00:00:00",
          "2011-04-11T00:00:00",
          "2011-05-08T00:00:00",
          "2011-06-05T00:00:00",
          "2011-07-01T00:00:00",
          "2011-07-10T00:00:00",
          "2011-08-04T00:00:00",
          "2011-08-07T00:00:00",
          "2011-09-09T00:00:00",
          "2011-09-12T00:00:00",
          "2011-10-06T00:00:00",
          "2011-11-02T00:00:00",
          "2011-11-03T00:00:00",
          "2011-11-11T00:00:00",
          "2011-12-08T00:00:00",
          "2012-01-06T00:00:00",
          "2012-02-03T00:00:00",
          "2012-03-02T00:00:00",
          "2012-03-08T00:00:00",
          "2012-04-05T00:00:00",
          "2012-05-10T00:00:00",
          "2012-06-01T00:00:00",
          "2012-06-04T00:00:00",
          "2012-06-07T00:00:00",
          "2012-07-09T00:00:00",
          "2012-08-06T00:00:00",
          "2012-09-03T00:00:00",
          "2012-10-02T00:00:00",
          "2012-10-08T00:00:00",
          "2012-11-05T00:00:00",
          "2012-12-10T00:00:00"
         ],
         "xaxis": "x7",
         "y": {
          "bdata": "KVyPwjBBHkE9CtejbKMgQUjhehSBIyBB16NwPSQxH0E9Ctej6aQhQbgeheua4iFBmpmZGQPFIEFSuB6Fh/YeQRSuR+G3mx9BzczMzP3oH0GF61E4YQ4gQXE9Cte00x5B7FG4ntAnIEGamZmZNKAdQc3MzMyMlx1BPQrXoxPdIkGF61G4bucfQVyPwvXK3SBBMzMzMwcpHkGF61G4OsofQfYoXI8IzB9B9ihcD9BjIEGPwvWoBp8gQbgehWv2tSJBSOF6lPjpIUH2KFyPyJ4gQcP1KFyAiiBBPQrXI74+IkFxPQpX/+4gQTMzMzPGoyBB7FG4Hpf3HUFcj8L12eYgQXE9CtezIyFBKVyPQl5bIEGF61G4ISMgQfYoXI9uPCNBPQrXo3jJIEGkcD0KHvIgQQAAAABemh9B16NwPRwlIkGPwvUoc8EfQeF6FC7BzyFB9ihcj9TnIkF7FK7Hn8ggQUjhehT/SiBBj8L1KGLkIUGamZmZRoQiQeF6FK6Gth9Brkfh+vuvJEGF61G4zKkhQUjhepRoRCFBcT0K1/rGIUFmZmbm14shQdejcD2QmyJBCtej8LJwIEGamZmZeBUiQZqZmZkBCyFB",
          "dtype": "f8"
         },
         "yaxis": "y7"
        },
        {
         "hovertemplate": "store_name=Las Vegas Metro<br>date=%{x}<br>weekly_sales=%{y}<extra></extra>",
         "legendgroup": "Las Vegas Metro",
         "line": {
          "color": "#000004",
          "dash": "solid"
         },
         "marker": {
          "symbol": "circle"
         },
         "mode": "lines",
         "name": "Las Vegas Metro",
         "orientation": "v",
         "showlegend": true,
         "type": "scatter",
         "x": [
          "2010-01-10T00:00:00",
          "2010-02-04T00:00:00",
          "2010-02-07T00:00:00",
          "2010-03-09T00:00:00",
          "2010-03-12T00:00:00",
          "2010-04-06T00:00:00",
          "2010-05-02T00:00:00",
          "2010-05-03T00:00:00",
          "2010-05-11T00:00:00",
          "2010-06-08T00:00:00",
          "2010-07-05T00:00:00",
          "2010-08-10T00:00:00",
          "2010-09-04T00:00:00",
          "2010-09-07T00:00:00",
          "2010-10-09T00:00:00",
          "2010-10-12T00:00:00",
          "2010-11-06T00:00:00",
          "2010-12-02T00:00:00",
          "2010-12-03T00:00:00",
          "2010-12-11T00:00:00",
          "2011-01-04T00:00:00",
          "2011-01-07T00:00:00",
          "2011-02-09T00:00:00",
          "2011-02-12T00:00:00",
          "2011-03-06T00:00:00",
          "2011-04-02T00:00:00",
          "2011-04-03T00:00:00",
          "2011-04-11T00:00:00",
          "2011-05-08T00:00:00",
          "2011-06-05T00:00:00",
          "2011-07-01T00:00:00",
          "2011-07-10T00:00:00",
          "2011-08-04T00:00:00",
          "2011-08-07T00:00:00",
          "2011-09-09T00:00:00",
          "2011-09-12T00:00:00",
          "2011-10-06T00:00:00",
          "2011-11-02T00:00:00",
          "2011-11-03T00:00:00",
          "2011-11-11T00:00:00",
          "2011-12-08T00:00:00",
          "2012-01-06T00:00:00",
          "2012-02-03T00:00:00",
          "2012-03-02T00:00:00",
          "2012-03-08T00:00:00",
          "2012-04-05T00:00:00",
          "2012-05-10T00:00:00",
          "2012-06-01T00:00:00",
          "2012-06-04T00:00:00",
          "2012-06-07T00:00:00",
          "2012-07-09T00:00:00",
          "2012-08-06T00:00:00",
          "2012-09-03T00:00:00",
          "2012-10-02T00:00:00",
          "2012-10-08T00:00:00",
          "2012-11-05T00:00:00",
          "2012-12-10T00:00:00"
         ],
         "xaxis": "x8",
         "y": {
          "bdata": "UrgeBYUePEHsUbgebzM+QVyPwjX5tDxBSOF6lPGJPUFcj8IVgQpAQUjhepS6Cj1B9ihc7zNKQEEK16NwcRM+QaRwPcq7tz5BSOF6lLYbPUE9Ctcj8oY+QZqZmdkGxz1BhetRuFS/O0GF61E48KY7QfYoXM9ceDxB4XoUbhSRQUGuR+E6G4s8QR+F67EJskBBcT0KF7TnPEEpXI9CsoM+QYXrUXjW/jxBexSuh81NP0H2KFxP1LY/QRSuR6HDo0BBZmZmJuGDP0FSuB4F1ypAQQAAAOBPDEBBexSup4BnQUEfheux3HpAQSlcj8JCfT9BUrgeRUxrPEEzMzPT6IdAQVyPwnVJqT9Bw/Uo3G2IP0EpXI8CU/A/QexRuJ5NJENBFK5HYV+lP0FSuB6lI7FAQY/C9WgKID9BrkfhesrOQEHsUbheohBAQYXrUXiQoEBBMzMz8zfVQEFI4Xr03pRAQQrXoxAZl0BBpHA9KvTCQEFxPQq3FdxAQR+F6xEWPz9BCtejEJ/YQkE9CtejufhAQcP1KFyYNkBBcT0Kl0QhQUF7FK5nqc1AQR+F61ECHkJBhetR2Ou7QEFcj8KVljtAQY/C9QgRRkBB",
          "dtype": "f8"
         },
         "yaxis": "y8"
        },
        {
         "hovertemplate": "store_name=Los Angeles West<br>date=%{x}<br>weekly_sales=%{y}<extra></extra>",
         "legendgroup": "Los Angeles West",
         "line": {
          "color": "#000005",
          "dash": "solid"
         },
         "marker": {
          "symbol": "circle"
         },
         "mode": "lines",
         "name": "Los Angeles West",
         "orientation": "v",
         "showlegend": true,
         "type": "scatter",
         "x": [
          "2010-01-10T00:00:00",
          "2010-02-04T00:00:00",
          "2010-02-07T00:00:00",
          "2010-03-09T00:00:00",
          "2010-03-12T00:00:00",
          "2010-04-06T00:00:00",
          "2010-05-02T00:00:00",
          "2010-05-03T00:00:00",
          "2010-05-11T00:00:00",
          "2010-06-08T00:00:00",
          "2010-07-05T00:00:00",
          "2010-08-10T00:00:00",
          "2010-09-04T00:00:00",
          "2010-09-07T00:00:00",
          "2010-10-09T00:00:00",
          "2010-10-12T00:00:00",
          "2010-11-06T00:00:00",
          "2010-12-02T00:00:00",
          "2010-12-03T00:00:00",
          "2010-12-11T00:00:00",
          "2011-01-04T00:00:00",
          "2011-01-07T00:00:00",
          "2011-02-09T00:00:00",
          "2011-02-12T00:00:00",
          "2011-03-06T00:00:00",
          "2011-04-02T00:00:00",
          "2011-04-03T00:00:00",
          "2011-04-11T00:00:00",
          "2011-05-08T00:00:00",
          "2011-06-05T00:00:00",
          "2011-07-01T00:00:00",
          "2011-07-10T00:00:00",
          "2011-08-04T00:00:00",
          "2011-08-07T00:00:00",
          "2011-09-09T00:00:00",
          "2011-09-12T00:00:00",
          "2011-10-06T00:00:00",
          "2011-11-02T00:00:00",
          "2011-11-03T00:00:00",
          "2011-11-11T00:00:00",
          "2011-12-08T00:00:00",
          "2012-01-06T00:00:00",
          "2012-02-03T00:00:00",
          "2012-03-02T00:00:00",
          "2012-03-08T00:00:00",
          "2012-04-05T00:00:00",
          "2012-05-10T00:00:00",
          "2012-06-01T00:00:00",
          "2012-06-04T00:00:00",
          "2012-06-07T00:00:00",
          "2012-07-09T00:00:00",
          "2012-08-06T00:00:00",
          "2012-09-03T00:00:00",
          "2012-10-02T00:00:00",
          "2012-10-08T00:00:00",
          "2012-11-05T00:00:00",
          "2012-12-10T00:00:00"
         ],
         "xaxis": "x5",
         "y": {
          "bdata": "hetR+EQdOUHD9Sj8DVFAQexRuN6FKjxBMzMzc7vzOkEfhetR4yxBQXsUrkeOeD1BAAAAYEy7QEFxPQoXElI+QVyPwvUT9TtBcT0KFzS+PUGPwvUomFE9QbgehWugCjtB7FG4Xu0kP0HsUbheQQE7Qa5H4TrSQDpBrkfhGodmQkFcj8K1weI7QSlcj0IOmkBBFK5HIWKfPUFxPQqX3e08QeF6FC6V4ztBAAAAwEm5OkGamZlZe9U6QeF6FC6Bjj9BPQrX49JYO0GPwvXorQc+QQrXozBz4D1BcT0KlzYPPUGuR+H6W8g8QdejcP3ZGDxBZmZm5oUoOkGamZmZQ0k7Qa5H4bqAizxBFK5HYXzvOUEfhevRs305QTMzM3O/iEJBmpmZGR+NOkF7FK4nqCNAQWZmZiadgD1BcT0K15qvP0EUrkeh1UE9Qa5H4Xov+DpBUrgeBeNePkEpXI8Ci348QXE9Chfwlz1BuB6Fa7TKO0EUrkdh+9Y6QXsUrsfJrzlBXI/CFVyBQEGkcD3Kr447QXsUrkf7EDpBj8L1aGsVPEGamZkZK0I9QWZmZuYx7UBBCtej8HSxPEHNzMxMWVk7QcP1KBzhJjpB",
          "dtype": "f8"
         },
         "yaxis": "y5"
        },
        {
         "hovertemplate": "store_name=Mesa West<br>date=%{x}<br>weekly_sales=%{y}<extra></extra>",
         "legendgroup": "Mesa West",
         "line": {
          "color": "#000006",
          "dash": "solid"
         },
         "marker": {
          "symbol": "circle"
         },
         "mode": "lines",
         "name": "Mesa West",
         "orientation": "v",
         "showlegend": true,
         "type": "scatter",
         "x": [
          "2010-01-10T00:00:00",
          "2010-02-04T00:00:00",
          "2010-02-07T00:00:00",
          "2010-03-09T00:00:00",
          "2010-03-12T00:00:00",
          "2010-04-06T00:00:00",
          "2010-05-02T00:00:00",
          "2010-05-03T00:00:00",
          "2010-05-11T00:00:00",
          "2010-06-08T00:00:00",
          "2010-07-05T00:00:00",
          "2010-08-10T00:00:00",
          "2010-09-04T00:00:00",
          "2010-09-07T00:00:00",
          "2010-10-09T00:00:00",
          "2010-10-12T00:00:00",
          "2010-11-06T00:00:00",
          "2010-12-02T00:00:00",
          "2010-12-03T00:00:00",
          "2010-12-11T00:00:00",
          "2011-01-04T00:00:00",
          "2011-01-07T00:00:00",
          "2011-02-09T00:00:00",
          "2011-02-12T00:00:00",
          "2011-03-06T00:00:00",
          "2011-04-02T00:00:00",
          "2011-04-03T00:00:00",
          "2011-04-11T00:00:00",
          "2011-05-08T00:00:00",
          "2011-06-05T00:00:00",
          "2011-07-01T00:00:00",
          "2011-07-10T00:00:00",
          "2011-08-04T00:00:00",
          "2011-08-07T00:00:00",
          "2011-09-09T00:00:00",
          "2011-09-12T00:00:00",
          "2011-10-06T00:00:00",
          "2011-11-02T00:00:00",
          "2011-11-03T00:00:00",
          "2011-11-11T00:00:00",
          "2011-12-08T00:00:00",
          "2012-01-06T00:00:00",
          "2012-02-03T00:00:00",
          "2012-03-02T00:00:00",
          "2012-03-08T00:00:00",
          "2012-04-05T00:00:00",
          "2012-05-10T00:00:00",
          "2012-06-01T00:00:00",
          "2012-06-04T00:00:00",
          "2012-06-07T00:00:00",
          "2012-07-09T00:00:00",
          "2012-08-06T00:00:00",
          "2012-09-03T00:00:00",
          "2012-10-02T00:00:00",
          "2012-10-08T00:00:00",
          "2012-11-05T00:00:00",
          "2012-12-10T00:00:00"
         ],
         "xaxis": "x6",
         "y": {
          "bdata": "AAAAgBEtNkF7FK5HWFY4QT0K1yPCxTZBexSuh0OAN0F7FK7HAZ83QVyPwrWkpjhBZmZm5qoUOUHhehSudrk3QXsUrkcrrTdBexSux3N/OEHsUbgec3k4QeF6FO6PAzdBexSuh8qUN0HhehQuWpc3QQrXo7CEADdBKVyPQrasOUFxPQoXoYk3QQrXo3DlDTlBcT0KlzX3NUHXo3B9z802QQAAAMAY0DZBcT0KF5q2NkGF61E4lac3QTMzM/PTKzhBj8L1aAbzOEFI4XqU5YM4QY/C9Win9zhBSOF6lM3lOUEAAADAP8k4QXsUrkfP3DhBexSuR3wLNkEzMzPzDeM4QZqZmVmzoThBPQrXo4FrN0HXo3A9d4E3QRSuR2ECdjtBH4XrUdQ+OEHhehTuzis5QRSuR6EnszdBPQrX4zpWOEFxPQoXm0U3QUjhepSdyThBKVyPwmTDOUFmZmam8/c4QaRwPcqf4zhB16Nw/Se0OUGF61H4gX45QbgeheshqDdBFK5H4Zz8PEGPwvUofgE7QUjhelRHWzlBXI/C9c7lOUGPwvUop5A5QeF6FG7tgDtBhetR+FlMOEHNzMwMWJU4QfYoXM/QADhB",
          "dtype": "f8"
         },
         "yaxis": "y6"
        },
        {
         "hovertemplate": "store_name=Miami East<br>date=%{x}<br>weekly_sales=%{y}<extra></extra>",
         "legendgroup": "Miami East",
         "line": {
          "color": "#000007",
          "dash": "solid"
         },
         "marker": {
          "symbol": "circle"
         },
         "mode": "lines",
         "name": "Miami East",
         "orientation": "v",
         "showlegend": true,
         "type": "scatter",
         "x": [
          "2010-01-10T00:00:00",
          "2010-02-04T00:00:00",
          "2010-02-07T00:00:00",
          "2010-03-09T00:00:00",
          "2010-03-12T00:00:00",
          "2010-04-06T00:00:00",
          "2010-05-02T00:00:00",
          "2010-05-03T00:00:00",
          "2010-05-11T00:00:00",
          "2010-06-08T00:00:00",
          "2010-07-05T00:00:00",
          "2010-08-10T00:00:00",
          "2010-09-04T00:00:00",
          "2010-09-07T00:00:00",
          "2010-10-09T00:00:00",
          "2010-10-12T00:00:00",
          "2010-11-06T00:00:00",
          "2010-12-02T00:00:00",
          "2010-12-03T00:00:00",
          "2010-12-11T00:00:00",
          "2011-01-04T00:00:00",
          "2011-01-07T00:00:00",
          "2011-02-09T00:00:00",
          "2011-02-12T00:00:00",
          "2011-03-06T00:00:00",
          "2011-04-02T00:00:00",
          "2011-04-03T00:00:00",
          "2011-04-11T00:00:00",
          "2011-05-08T00:00:00",
          "2011-06-05T00:00:00",
          "2011-07-01T00:00:00",
          "2011-07-10T00:00:00",
          "2011-08-04T00:00:00",
          "2011-08-07T00:00:00",
          "2011-09-09T00:00:00",
          "2011-09-12T00:00:00",
          "2011-10-06T00:00:00",
          "2011-11-02T00:00:00",
          "2011-11-03T00:00:00",
          "2011-11-11T00:00:00",
          "2011-12-08T00:00:00",
          "2012-01-06T00:00:00",
          "2012-02-03T00:00:00",
          "2012-03-02T00:00:00",
          "2012-03-08T00:00:00",
          "2012-04-05T00:00:00",
          "2012-05-10T00:00:00",
          "2012-06-01T00:00:00",
          "2012-06-04T00:00:00",
          "2012-06-07T00:00:00",
          "2012-07-09T00:00:00",
          "2012-08-06T00:00:00",
          "2012-09-03T00:00:00",
          "2012-10-02T00:00:00",
          "2012-10-08T00:00:00",
          "2012-11-05T00:00:00",
          "2012-12-10T00:00:00"
         ],
         "xaxis": "x3",
         "y": {
          "bdata": "uB6F65pnG0F7FK5H8h8hQaRwPYqlkCFBmpmZGTpCIEHXo3A9194gQRSuR+H8Ex9BKVyPwlVRHkEzMzMzbv4dQSlcj8IBVB1BcT0KVxymI0EfhetR9yIYQVK4HoW/Tx1BAAAAAJ2OHUHhehSubBwiQT0K16OyWSBBPQrXI2RNIkGuR+F6U24eQeF6FK4j/R9BZmZmZhBTHUGPwvUoAfseQeF6FK4GVh9BuB6Fa7B+JUGuR+F6xhMiQSlcj8JHECJB16Nwva6MIEGkcD2KlwchQXsUrsek0yBBUrgeBXA6IUHhehSuwTglQRSuR+GR1xhBFK5H4VctJEGF61G4VAwgQT0K16MgjR5BFK5H4YM/J0Fcj8J1HrYiQWZmZuYq9CNBZmZm5lf0IkEpXI9CPhYhQY/C9ajnDiFB4XoULt/3IEG4HoXrnHckQaRwPQq+QyJBKVyPQiTRIEE9CtejyrYhQexRuJ71xyRB9ihcj7tkHEHXo3A9mt8eQR+F61E7wyVBXI/C9eP2IkGF61E4FZYoQZqZmRnpPiJBAAAAgCefI0EAAAAAvawhQaRwPYoJMiFBmpmZmaygJEE9CtejtRkcQYXrUbifuh5B",
          "dtype": "f8"
         },
         "yaxis": "y3"
        },
        {
         "hovertemplate": "store_name=Milwaukee Suburb<br>date=%{x}<br>weekly_sales=%{y}<extra></extra>",
         "legendgroup": "Milwaukee Suburb",
         "line": {
          "color": "#000008",
          "dash": "solid"
         },
         "marker": {
          "symbol": "circle"
         },
         "mode": "lines",
         "name": "Milwaukee Suburb",
         "orientation": "v",
         "showlegend": true,
         "type": "scatter",
         "x": [
          "2010-01-10T00:00:00",
          "2010-02-04T00:00:00",
          "2010-02-07T00:00:00",
          "2010-03-09T00:00:00",
          "2010-03-12T00:00:00",
          "2010-04-06T00:00:00",
          "2010-05-02T00:00:00",
          "2010-05-03T00:00:00",
          "2010-05-11T00:00:00",
          "2010-06-08T00:00:00",
          "2010-07-05T00:00:00",
          "2010-08-10T00:00:00",
          "2010-09-04T00:00:00",
          "2010-09-07T00:00:00",
          "2010-10-09T00:00:00",
          "2010-10-12T00:00:00",
          "2010-11-06T00:00:00",
          "2010-12-02T00:00:00",
          "2010-12-03T00:00:00",
          "2010-12-11T00:00:00",
          "2011-01-04T00:00:00",
          "2011-01-07T00:00:00",
          "2011-02-09T00:00:00",
          "2011-02-12T00:00:00",
          "2011-03-06T00:00:00",
          "2011-04-02T00:00:00",
          "2011-04-03T00:00:00",
          "2011-04-11T00:00:00",
          "2011-05-08T00:00:00",
          "2011-06-05T00:00:00",
          "2011-07-01T00:00:00",
          "2011-07-10T00:00:00",
          "2011-08-04T00:00:00",
          "2011-08-07T00:00:00",
          "2011-09-09T00:00:00",
          "2011-09-12T00:00:00",
          "2011-10-06T00:00:00",
          "2011-11-02T00:00:00",
          "2011-11-03T00:00:00",
          "2011-11-11T00:00:00",
          "2011-12-08T00:00:00",
          "2012-01-06T00:00:00",
          "2012-02-03T00:00:00",
          "2012-03-02T00:00:00",
          "2012-03-08T00:00:00",
          "2012-04-05T00:00:00",
          "2012-05-10T00:00:00",
          "2012-06-01T00:00:00",
          "2012-06-04T00:00:00",
          "2012-06-07T00:00:00",
          "2012-07-09T00:00:00",
          "2012-08-06T00:00:00",
          "2012-09-03T00:00:00",
          "2012-10-02T00:00:00",
          "2012-10-08T00:00:00",
          "2012-11-05T00:00:00",
          "2012-12-10T00:00:00"
         ],
         "xaxis": "x4",
         "y": {
          "bdata": "ZmZmZgDmFUGamZmZ+dUZQRSuR+F+QxdBFK5H4SdeFkFI4XoUExQdQTMzMzOjOhhBFK5H4dgsHEGPwvUoiFcZQdejcD0e1BlBpHA9Ci+TGEEK16Nwb18YQWZmZmaNHRhB7FG4HvlhGUGF61G4eFAVQRSuR+ETgBVB7FG4HuiKHEHD9ShcJKsVQXE9CtfjrRlBKVyPwiJzF0HsUbgeLJkXQR+F61Fw3BZBFK5H4QqFFkEpXI/C0vIWQXsUrkf91hxBw/UoXC8UGEHsUbge0sMaQaRwPQpyrRpBFK5H4cwKHEEAAAAA9QUZQa5H4XrINRlBw/UoXAUWF0GamZmZOZ4YQdejcD0tcRdBXI/C9SgeGEFcj8L1DQgXQTMzMzOTnBxBAAAAAFvnF0FxPQrX+EYaQTMzMzNFtBhBAAAAAFHjGEFmZmZmYzcXQexRuB4yYhpB16NwPeKrHEE9CtejAvAZQY/C9ShZohlBexSuR6bZGkGamZmZlhIbQXE9CteITRhBUrgehQC3HkEAAAAAGhkZQbgeheuW6hhBMzMzMwM+G0EzMzMzqCsbQRSuR+Ex4xxBZmZmZg7qF0EK16NwxV0aQfYoXI/REhlB",
          "dtype": "f8"
         },
         "yaxis": "y4"
        },
        {
         "hovertemplate": "store_name=New York Industrial<br>date=%{x}<br>weekly_sales=%{y}<extra></extra>",
         "legendgroup": "New York Industrial",
         "line": {
          "color": "#000009",
          "dash": "solid"
         },
         "marker": {
          "symbol": "circle"
         },
         "mode": "lines",
         "name": "New York Industrial",
         "orientation": "v",
         "showlegend": true,
         "type": "scatter",
         "x": [
          "2010-01-10T00:00:00",
          "2010-02-04T00:00:00",
          "2010-02-07T00:00:00",
          "2010-03-09T00:00:00",
          "2010-03-12T00:00:00",
          "2010-04-06T00:00:00",
          "2010-05-02T00:00:00",
          "2010-05-03T00:00:00",
          "2010-05-11T00:00:00",
          "2010-06-08T00:00:00",
          "2010-07-05T00:00:00",
          "2010-08-10T00:00:00",
          "2010-09-04T00:00:00",
          "2010-09-07T00:00:00",
          "2010-10-09T00:00:00",
          "2010-10-12T00:00:00",
          "2010-11-06T00:00:00",
          "2010-12-02T00:00:00",
          "2010-12-03T00:00:00",
          "2010-12-11T00:00:00",
          "2011-01-04T00:00:00",
          "2011-01-07T00:00:00",
          "2011-02-09T00:00:00",
          "2011-02-12T00:00:00",
          "2011-03-06T00:00:00",
          "2011-04-02T00:00:00",
          "2011-04-03T00:00:00",
          "2011-04-11T00:00:00",
          "2011-05-08T00:00:00",
          "2011-06-05T00:00:00",
          "2011-07-01T00:00:00",
          "2011-07-10T00:00:00",
          "2011-08-04T00:00:00",
          "2011-08-07T00:00:00",
          "2011-09-09T00:00:00",
          "2011-09-12T00:00:00",
          "2011-10-06T00:00:00",
          "2011-11-02T00:00:00",
          "2011-11-03T00:00:00",
          "2011-11-11T00:00:00",
          "2011-12-08T00:00:00",
          "2012-01-06T00:00:00",
          "2012-02-03T00:00:00",
          "2012-03-02T00:00:00",
          "2012-03-08T00:00:00",
          "2012-04-05T00:00:00",
          "2012-05-10T00:00:00",
          "2012-06-01T00:00:00",
          "2012-06-04T00:00:00",
          "2012-06-07T00:00:00",
          "2012-07-09T00:00:00",
          "2012-08-06T00:00:00",
          "2012-09-03T00:00:00",
          "2012-10-02T00:00:00",
          "2012-10-08T00:00:00",
          "2012-11-05T00:00:00",
          "2012-12-10T00:00:00"
         ],
         "xaxis": "x",
         "y": {
          "bdata": "4XoUbnDiO0GF61G4C4c/QT0K16Pkkz5BcT0KF+APPUFSuB5FJcI+QXE9CveFCkBBrkfhus5NQEEUrkchZWE+QY/C9Wh1lj1Brkfh+uVkPkFcj8K11So/QQrXo3BBOjxBXI/CNYHTPUHsUbieRrM8QUjhetQYEDxBZmZmRvMlQkEpXI/CQug+QQAAAMBoT0BBexSux1NfPkHXo3C9jD89QcP1KFzrdztBAAAAAAN6PEEzMzOz35o7QQAAAACI1D1BXI/CNbyBPUGuR+E6gnA9QXsUrsenPD5BZmZm5hvnPUEpXI9C4KI8QZqZmZmvCjxBpHA9ymLTOkHhehRu8Qk8QcP1KJwAMTxB16Nw/elGPEFmZmamIKw6QY/C9ai6eUFBj8L1KMFvPUHhehTOdIpAQfYoXE9DrDxBZmZmJtVOPUEpXI9CIKk7QexRuF5MJT1Bj8L1qCvLPUEK16Pww4c9QT0K16P4sT1BcT0KF3VbPUGkcD0K8X0+QT0K1yNgdTtBSOF69EU+QEFmZmZmoyY/QR+F6xEZ+TxB16NwfWisPkEpXI9C3JA9QXE9ClcNDEBBXI/C9d97PEHXo3D9UEI9QRSuRyHJAD1B",
          "dtype": "f8"
         },
         "yaxis": "y"
        },
        {
         "hovertemplate": "store_name=Sacramento North<br>date=%{x}<br>weekly_sales=%{y}<extra></extra>",
         "legendgroup": "Sacramento North",
         "line": {
          "color": "#000010",
          "dash": "solid"
         },
         "marker": {
          "symbol": "circle"
         },
         "mode": "lines",
         "name": "Sacramento North",
         "orientation": "v",
         "showlegend": true,
         "type": "scatter",
         "x": [
          "2010-01-10T00:00:00",
          "2010-02-04T00:00:00",
          "2010-02-07T00:00:00",
          "2010-03-09T00:00:00",
          "2010-03-12T00:00:00",
          "2010-04-06T00:00:00",
          "2010-05-02T00:00:00",
          "2010-05-03T00:00:00",
          "2010-05-11T00:00:00",
          "2010-06-08T00:00:00",
          "2010-07-05T00:00:00",
          "2010-08-10T00:00:00",
          "2010-09-04T00:00:00",
          "2010-09-07T00:00:00",
          "2010-10-09T00:00:00",
          "2010-10-12T00:00:00",
          "2010-11-06T00:00:00",
          "2010-12-02T00:00:00",
          "2010-12-03T00:00:00",
          "2010-12-11T00:00:00",
          "2011-01-04T00:00:00",
          "2011-01-07T00:00:00",
          "2011-02-09T00:00:00",
          "2011-02-12T00:00:00",
          "2011-03-06T00:00:00",
          "2011-04-02T00:00:00",
          "2011-04-03T00:00:00",
          "2011-04-11T00:00:00",
          "2011-05-08T00:00:00",
          "2011-06-05T00:00:00",
          "2011-07-01T00:00:00",
          "2011-07-10T00:00:00",
          "2011-08-04T00:00:00",
          "2011-08-07T00:00:00",
          "2011-09-09T00:00:00",
          "2011-09-12T00:00:00",
          "2011-10-06T00:00:00",
          "2011-11-02T00:00:00",
          "2011-11-03T00:00:00",
          "2011-11-11T00:00:00",
          "2011-12-08T00:00:00",
          "2012-01-06T00:00:00",
          "2012-02-03T00:00:00",
          "2012-03-02T00:00:00",
          "2012-03-08T00:00:00",
          "2012-04-05T00:00:00",
          "2012-05-10T00:00:00",
          "2012-06-01T00:00:00",
          "2012-06-04T00:00:00",
          "2012-06-07T00:00:00",
          "2012-07-09T00:00:00",
          "2012-08-06T00:00:00",
          "2012-09-03T00:00:00",
          "2012-10-02T00:00:00",
          "2012-10-08T00:00:00",
          "2012-11-05T00:00:00",
          "2012-12-10T00:00:00"
         ],
         "xaxis": "x2",
         "y": {
          "bdata": "rkfheqhIEUEAAAAAODoUQUjhehQlrRJBAAAAAFjDE0FSuB6FqwYVQfYoXI+HnhRBZmZmZtRbE0FxPQrXXqERQTMzMzP52hNBSOF6FAx/EkFmZmZmSlsUQWZmZmb7uhFBXI/C9VEFFEGuR+F6g88RQR+F61GUtRJB7FG4Hq6IFUE9CtejBxsSQc3MzMxGCBNBw/UoXDYlEkEK16NwDWwSQTMzMzMyLxNB9ihcj9f2E0HsUbge9kMTQQrXo3CG9hZB4XoUrn8XFEHNzMzMNB4UQT0K16MmFRRBuB6F69CVFUHXo3A9qmQTQYXrUbhitRNBpHA9Ci16EUEUrkfh3d0SQa5H4XoWwhJBhetRuFP4EkEUrkfhWJkTQUjhehQnbRZB9ihcj2CdEkGPwvUomgQTQWZmZmao4xFBzczMzIoJE0E9CtejeLERQTMzMzPv9hVBcT0K15jsFUEAAAAA8GEUQeF6FK6MyRNBKVyPwpIHFkGPwvUoIfAUQXE9Ctc6DBNBzczMzKaYGEGF61G4edMUQT0K16PjZhVBw/UoXCLbFEFmZmZmfjIVQVK4HoXfUBVBzczMzB65EkFI4XoUumAUQT0K16OF2xNB",
          "dtype": "f8"
         },
         "yaxis": "y2"
        }
       ],
       "layout": {
        "annotations": [
         {
          "font": {},
          "showarrow": false,
          "text": "store_name=New York Industrial",
          "x": 0.245,
          "xanchor": "center",
          "xref": "paper",
          "y": 0.144,
          "yanchor": "bottom",
          "yref": "paper"
         },
         {
          "font": {},
          "showarrow": false,
          "text": "store_name=Sacramento North",
          "x": 0.755,
          "xanchor": "center",
          "xref": "paper",
          "y": 0.144,
          "yanchor": "bottom",
          "yref": "paper"
         },
         {
          "font": {},
          "showarrow": false,
          "text": "store_name=Miami East",
          "x": 0.245,
          "xanchor": "center",
          "xref": "paper",
          "y": 0.358,
          "yanchor": "bottom",
          "yref": "paper"
         },
         {
          "font": {},
          "showarrow": false,
          "text": "store_name=Milwaukee Suburb",
          "x": 0.755,
          "xanchor": "center",
          "xref": "paper",
          "y": 0.358,
          "yanchor": "bottom",
          "yref": "paper"
         },
         {
          "font": {},
          "showarrow": false,
          "text": "store_name=Los Angeles West",
          "x": 0.245,
          "xanchor": "center",
          "xref": "paper",
          "y": 0.572,
          "yanchor": "bottom",
          "yref": "paper"
         },
         {
          "font": {},
          "showarrow": false,
          "text": "store_name=Mesa West",
          "x": 0.755,
          "xanchor": "center",
          "xref": "paper",
          "y": 0.572,
          "yanchor": "bottom",
          "yref": "paper"
         },
         {
          "font": {},
          "showarrow": false,
          "text": "store_name=Indianapolis Downtown",
          "x": 0.245,
          "xanchor": "center",
          "xref": "paper",
          "y": 0.7859999999999999,
          "yanchor": "bottom",
          "yref": "paper"
         },
         {
          "font": {},
          "showarrow": false,
          "text": "store_name=Las Vegas Metro",
          "x": 0.755,
          "xanchor": "center",
          "xref": "paper",
          "y": 0.7859999999999999,
          "yanchor": "bottom",
          "yref": "paper"
         },
         {
          "font": {},
          "showarrow": false,
          "text": "store_name=Atlanta Downtown",
          "x": 0.245,
          "xanchor": "center",
          "xref": "paper",
          "y": 1,
          "yanchor": "bottom",
          "yref": "paper"
         },
         {
          "font": {},
          "showarrow": false,
          "text": "store_name=Austin East",
          "x": 0.755,
          "xanchor": "center",
          "xref": "paper",
          "y": 1,
          "yanchor": "bottom",
          "yref": "paper"
         }
        ],
        "height": 800,
        "legend": {
         "title": {
          "text": "store_name"
         },
         "tracegroupgap": 0
        },
        "template": {
         "data": {
          "candlestick": [
           {
            "decreasing": {
             "line": {
              "color": "#000033"
             }
            },
            "increasing": {
             "line": {
              "color": "#000032"
             }
            },
            "type": "candlestick"
           }
          ],
          "contour": [
           {
            "colorscale": [
             [
              0,
              "#000011"
             ],
             [
              0.1111111111111111,
              "#000012"
             ],
             [
              0.2222222222222222,
              "#000013"
             ],
             [
              0.3333333333333333,
              "#000014"
             ],
             [
              0.4444444444444444,
              "#000015"
             ],
             [
              0.5555555555555556,
              "#000016"
             ],
             [
              0.6666666666666666,
              "#000017"
             ],
             [
              0.7777777777777778,
              "#000018"
             ],
             [
              0.8888888888888888,
              "#000019"
             ],
             [
              1,
              "#000020"
             ]
            ],
            "type": "contour"
           }
          ],
          "contourcarpet": [
           {
            "colorscale": [
             [
              0,
              "#000011"
             ],
             [
              0.1111111111111111,
              "#000012"
             ],
             [
              0.2222222222222222,
              "#000013"
             ],
             [
              0.3333333333333333,
              "#000014"
             ],
             [
              0.4444444444444444,
              "#000015"
             ],
             [
              0.5555555555555556,
              "#000016"
             ],
             [
              0.6666666666666666,
              "#000017"
             ],
             [
              0.7777777777777778,
              "#000018"
             ],
             [
              0.8888888888888888,
              "#000019"
             ],
             [
              1,
              "#000020"
             ]
            ],
            "type": "contourcarpet"
           }
          ],
          "heatmap": [
           {
            "colorscale": [
             [
              0,
              "#000011"
             ],
             [
              0.1111111111111111,
              "#000012"
             ],
             [
              0.2222222222222222,
              "#000013"
             ],
             [
              0.3333333333333333,
              "#000014"
             ],
             [
              0.4444444444444444,
              "#000015"
             ],
             [
              0.5555555555555556,
              "#000016"
             ],
             [
              0.6666666666666666,
              "#000017"
             ],
             [
              0.7777777777777778,
              "#000018"
             ],
             [
              0.8888888888888888,
              "#000019"
             ],
             [
              1,
              "#000020"
             ]
            ],
            "type": "heatmap"
           }
          ],
          "histogram2d": [
           {
            "colorscale": [
             [
              0,
              "#000011"
             ],
             [
              0.1111111111111111,
              "#000012"
             ],
             [
              0.2222222222222222,
              "#000013"
             ],
             [
              0.3333333333333333,
              "#000014"
             ],
             [
              0.4444444444444444,
              "#000015"
             ],
             [
              0.5555555555555556,
              "#000016"
             ],
             [
              0.6666666666666666,
              "#000017"
             ],
             [
              0.7777777777777778,
              "#000018"
             ],
             [
              0.8888888888888888,
              "#000019"
             ],
             [
              1,
              "#000020"
             ]
            ],
            "type": "histogram2d"
           }
          ],
          "icicle": [
           {
            "textfont": {
             "color": "white"
            },
            "type": "icicle"
           }
          ],
          "sankey": [
           {
            "textfont": {
             "color": "#000036"
            },
            "type": "sankey"
           }
          ],
          "scatter": [
           {
            "marker": {
             "line": {
              "width": 0
             }
            },
            "type": "scatter"
           }
          ],
          "table": [
           {
            "cells": {
             "fill": {
              "color": "#000038"
             },
             "font": {
              "color": "#000037"
             },
             "line": {
              "color": "#000039"
             }
            },
            "header": {
             "fill": {
              "color": "#000040"
             },
             "font": {
              "color": "#000036"
             },
             "line": {
              "color": "#000039"
             }
            },
            "type": "table"
           }
          ],
          "waterfall": [
           {
            "connector": {
             "line": {
              "color": "#000036",
              "width": 2
             }
            },
            "decreasing": {
             "marker": {
              "color": "#000033"
             }
            },
            "increasing": {
             "marker": {
              "color": "#000032"
             }
            },
            "totals": {
             "marker": {
              "color": "#000034"
             }
            },
            "type": "waterfall"
           }
          ]
         },
         "layout": {
          "coloraxis": {
           "colorscale": [
            [
             0,
             "#000011"
            ],
            [
             0.1111111111111111,
             "#000012"
            ],
            [
             0.2222222222222222,
             "#000013"
            ],
            [
             0.3333333333333333,
             "#000014"
            ],
            [
             0.4444444444444444,
             "#000015"
            ],
            [
             0.5555555555555556,
             "#000016"
            ],
            [
             0.6666666666666666,
             "#000017"
            ],
            [
             0.7777777777777778,
             "#000018"
            ],
            [
             0.8888888888888888,
             "#000019"
            ],
            [
             1,
             "#000020"
            ]
           ]
          },
          "colorscale": {
           "diverging": [
            [
             0,
             "#000021"
            ],
            [
             0.1,
             "#000022"
            ],
            [
             0.2,
             "#000023"
            ],
            [
             0.3,
             "#000024"
            ],
            [
             0.4,
             "#000025"
            ],
            [
             0.5,
             "#000026"
            ],
            [
             0.6,
             "#000027"
            ],
            [
             0.7,
             "#000028"
            ],
            [
             0.8,
             "#000029"
            ],
            [
             0.9,
             "#000030"
            ],
            [
             1,
             "#000031"
            ]
           ],
           "sequential": [
            [
             0,
             "#000011"
            ],
            [
             0.1111111111111111,
             "#000012"
            ],
            [
             0.2222222222222222,
             "#000013"
            ],
            [
             0.3333333333333333,
             "#000014"
            ],
            [
             0.4444444444444444,
             "#000015"
            ],
            [
             0.5555555555555556,
             "#000016"
            ],
            [
             0.6666666666666666,
             "#000017"
            ],
            [
             0.7777777777777778,
             "#000018"
            ],
            [
             0.8888888888888888,
             "#000019"
            ],
            [
             1,
             "#000020"
            ]
           ],
           "sequentialminus": [
            [
             0,
             "#000011"
            ],
            [
             0.1111111111111111,
             "#000012"
            ],
            [
             0.2222222222222222,
             "#000013"
            ],
            [
             0.3333333333333333,
             "#000014"
            ],
            [
             0.4444444444444444,
             "#000015"
            ],
            [
             0.5555555555555556,
             "#000016"
            ],
            [
             0.6666666666666666,
             "#000017"
            ],
            [
             0.7777777777777778,
             "#000018"
            ],
            [
             0.8888888888888888,
             "#000019"
            ],
            [
             1,
             "#000020"
            ]
           ]
          },
          "colorway": [
           "#000001",
           "#000002",
           "#000003",
           "#000004",
           "#000005",
           "#000006",
           "#000007",
           "#000008",
           "#000009",
           "#000010"
          ]
         }
        },
        "title": {
         "text": "Weekly Sales Over Time by Store"
        },
        "xaxis": {
         "anchor": "y",
         "domain": [
          0,
          0.49
         ],
         "title": {
          "text": "date"
         }
        },
        "xaxis10": {
         "anchor": "y10",
         "domain": [
          0.51,
          1
         ],
         "matches": "x",
         "showticklabels": false
        },
        "xaxis2": {
         "anchor": "y2",
         "domain": [
          0.51,
          1
         ],
         "matches": "x",
         "title": {
          "text": "date"
         }
        },
        "xaxis3": {
         "anchor": "y3",
         "domain": [
          0,
          0.49
         ],
         "matches": "x",
         "showticklabels": false
        },
        "xaxis4": {
         "anchor": "y4",
         "domain": [
          0.51,
          1
         ],
         "matches": "x",
         "showticklabels": false
        },
        "xaxis5": {
         "anchor": "y5",
         "domain": [
          0,
          0.49
         ],
         "matches": "x",
         "showticklabels": false
        },
        "xaxis6": {
         "anchor": "y6",
         "domain": [
          0.51,
          1
         ],
         "matches": "x",
         "showticklabels": false
        },
        "xaxis7": {
         "anchor": "y7",
         "domain": [
          0,
          0.49
         ],
         "matches": "x",
         "showticklabels": false
        },
        "xaxis8": {
         "anchor": "y8",
         "domain": [
          0.51,
          1
         ],
         "matches": "x",
         "showticklabels": false
        },
        "xaxis9": {
         "anchor": "y9",
         "domain": [
          0,
          0.49
         ],
         "matches": "x",
         "showticklabels": false
        },
        "yaxis": {
         "anchor": "x",
         "domain": [
          0,
          0.144
         ],
         "title": {
          "text": "weekly_sales"
         }
        },
        "yaxis10": {
         "anchor": "x10",
         "domain": [
          0.856,
          1
         ],
         "matches": "y",
         "showticklabels": false
        },
        "yaxis2": {
         "anchor": "x2",
         "domain": [
          0,
          0.144
         ],
         "matches": "y",
         "showticklabels": false
        },
        "yaxis3": {
         "anchor": "x3",
         "domain": [
          0.214,
          0.358
         ],
         "matches": "y",
         "title": {
          "text": "weekly_sales"
         }
        },
        "yaxis4": {
         "anchor": "x4",
         "domain": [
          0.214,
          0.358
         ],
         "matches": "y",
         "showticklabels": false
        },
        "yaxis5": {
         "anchor": "x5",
         "domain": [
          0.428,
          0.572
         ],
         "matches": "y",
         "title": {
          "text": "weekly_sales"
         }
        },
        "yaxis6": {
         "anchor": "x6",
         "domain": [
          0.428,
          0.572
         ],
         "matches": "y",
         "showticklabels": false
        },
        "yaxis7": {
         "anchor": "x7",
         "domain": [
          0.6419999999999999,
          0.7859999999999999
         ],
         "matches": "y",
         "title": {
          "text": "weekly_sales"
         }
        },
        "yaxis8": {
         "anchor": "x8",
         "domain": [
          0.6419999999999999,
          0.7859999999999999
         ],
         "matches": "y",
         "showticklabels": false
        },
        "yaxis9": {
         "anchor": "x9",
         "domain": [
          0.856,
          1
         ],
         "matches": "y",
         "title": {
          "text": "weekly_sales"
         }
        }
       }
      }
     },
     "metadata": {},
     "output_type": "display_data"
    }
   ],
   "source": [
    "# Weekly Sales Over Time\n",
    "\n",
    "sample_stores = df['store_name'].unique()[:10]  \n",
    "\n",
    "sample_df = df[df['store_name'].isin(sample_stores)]\n",
    "sample_df = sample_df.groupby(['store_name', 'date'])['weekly_sales'].sum().reset_index()\n",
    "\n",
    "fig = px.line(sample_df, x='date', y='weekly_sales', color='store_name', facet_col='store_name',\n",
    "              facet_col_wrap=2, title='Weekly Sales Over Time by Store')\n",
    "fig.update_layout(height=800)\n",
    "fig.show()\n"
   ]
  },
  {
   "cell_type": "code",
   "execution_count": null,
   "id": "37db1800",
   "metadata": {},
   "outputs": [
    {
     "data": {
      "application/vnd.plotly.v1+json": {
       "config": {
        "plotlyServerURL": "https://plot.ly"
       },
       "data": [
        {
         "hovertemplate": "month=%{x}<br>monthly_sales=%{y}<extra></extra>",
         "legendgroup": "",
         "line": {
          "color": "#000001",
          "dash": "solid"
         },
         "marker": {
          "symbol": "circle"
         },
         "mode": "lines",
         "name": "",
         "orientation": "v",
         "showlegend": false,
         "type": "scatter",
         "x": [
          "2010-01",
          "2010-02",
          "2010-03",
          "2010-04",
          "2010-05",
          "2010-06",
          "2010-07",
          "2010-08",
          "2010-09",
          "2010-10",
          "2010-11",
          "2010-12",
          "2011-01",
          "2011-02",
          "2011-03",
          "2011-04",
          "2011-05",
          "2011-06",
          "2011-07",
          "2011-08",
          "2011-09",
          "2011-10",
          "2011-11",
          "2011-12",
          "2012-01",
          "2012-02",
          "2012-03",
          "2012-04",
          "2012-05",
          "2012-06",
          "2012-07",
          "2012-08",
          "2012-09",
          "2012-10",
          "2012-11",
          "2012-12"
         ],
         "xaxis": "x",
         "y": {
          "bdata": "j8L1HjwkhEFxPQoPUK+XQY/C9dW2JpdBj8L1+Ifuh0GuR2HB1PmgQY/C9Thm/IZBw/UoXM4gh0E9Ctfxu4GFQaRwPc+AtpZBH4XrwO4mmEFcj8KVM86GQdej8HVEvKBBXI/CGn20lUFxPQovIZiWQdejcNGcQYdBhetRlhDnoEFcj8JXQ+WGQYXrUTJ0WIZBuB6FUGZ0lUGF61Gq2FmWQR+F61xiZZhBFK5HNQ+7hkGuR+HR0b2gQXsUrgmzDYZBXI/CjcEFh0Fcj8JXV1iGQZqZmc4mT5ZB16NwL3d4hkFI4Xp6ea6GQWZmZk/P2KFBSOF6WqoLh0GkcD0e76yHQa5H4TD0o4ZBPQrX65s5l0Efheu3QWCGQQAAABLs/oVB",
          "dtype": "f8"
         },
         "yaxis": "y"
        }
       ],
       "layout": {
        "legend": {
         "tracegroupgap": 0
        },
        "template": {
         "data": {
          "candlestick": [
           {
            "decreasing": {
             "line": {
              "color": "#000033"
             }
            },
            "increasing": {
             "line": {
              "color": "#000032"
             }
            },
            "type": "candlestick"
           }
          ],
          "contour": [
           {
            "colorscale": [
             [
              0,
              "#000011"
             ],
             [
              0.1111111111111111,
              "#000012"
             ],
             [
              0.2222222222222222,
              "#000013"
             ],
             [
              0.3333333333333333,
              "#000014"
             ],
             [
              0.4444444444444444,
              "#000015"
             ],
             [
              0.5555555555555556,
              "#000016"
             ],
             [
              0.6666666666666666,
              "#000017"
             ],
             [
              0.7777777777777778,
              "#000018"
             ],
             [
              0.8888888888888888,
              "#000019"
             ],
             [
              1,
              "#000020"
             ]
            ],
            "type": "contour"
           }
          ],
          "contourcarpet": [
           {
            "colorscale": [
             [
              0,
              "#000011"
             ],
             [
              0.1111111111111111,
              "#000012"
             ],
             [
              0.2222222222222222,
              "#000013"
             ],
             [
              0.3333333333333333,
              "#000014"
             ],
             [
              0.4444444444444444,
              "#000015"
             ],
             [
              0.5555555555555556,
              "#000016"
             ],
             [
              0.6666666666666666,
              "#000017"
             ],
             [
              0.7777777777777778,
              "#000018"
             ],
             [
              0.8888888888888888,
              "#000019"
             ],
             [
              1,
              "#000020"
             ]
            ],
            "type": "contourcarpet"
           }
          ],
          "heatmap": [
           {
            "colorscale": [
             [
              0,
              "#000011"
             ],
             [
              0.1111111111111111,
              "#000012"
             ],
             [
              0.2222222222222222,
              "#000013"
             ],
             [
              0.3333333333333333,
              "#000014"
             ],
             [
              0.4444444444444444,
              "#000015"
             ],
             [
              0.5555555555555556,
              "#000016"
             ],
             [
              0.6666666666666666,
              "#000017"
             ],
             [
              0.7777777777777778,
              "#000018"
             ],
             [
              0.8888888888888888,
              "#000019"
             ],
             [
              1,
              "#000020"
             ]
            ],
            "type": "heatmap"
           }
          ],
          "histogram2d": [
           {
            "colorscale": [
             [
              0,
              "#000011"
             ],
             [
              0.1111111111111111,
              "#000012"
             ],
             [
              0.2222222222222222,
              "#000013"
             ],
             [
              0.3333333333333333,
              "#000014"
             ],
             [
              0.4444444444444444,
              "#000015"
             ],
             [
              0.5555555555555556,
              "#000016"
             ],
             [
              0.6666666666666666,
              "#000017"
             ],
             [
              0.7777777777777778,
              "#000018"
             ],
             [
              0.8888888888888888,
              "#000019"
             ],
             [
              1,
              "#000020"
             ]
            ],
            "type": "histogram2d"
           }
          ],
          "icicle": [
           {
            "textfont": {
             "color": "white"
            },
            "type": "icicle"
           }
          ],
          "sankey": [
           {
            "textfont": {
             "color": "#000036"
            },
            "type": "sankey"
           }
          ],
          "scatter": [
           {
            "marker": {
             "line": {
              "width": 0
             }
            },
            "type": "scatter"
           }
          ],
          "table": [
           {
            "cells": {
             "fill": {
              "color": "#000038"
             },
             "font": {
              "color": "#000037"
             },
             "line": {
              "color": "#000039"
             }
            },
            "header": {
             "fill": {
              "color": "#000040"
             },
             "font": {
              "color": "#000036"
             },
             "line": {
              "color": "#000039"
             }
            },
            "type": "table"
           }
          ],
          "waterfall": [
           {
            "connector": {
             "line": {
              "color": "#000036",
              "width": 2
             }
            },
            "decreasing": {
             "marker": {
              "color": "#000033"
             }
            },
            "increasing": {
             "marker": {
              "color": "#000032"
             }
            },
            "totals": {
             "marker": {
              "color": "#000034"
             }
            },
            "type": "waterfall"
           }
          ]
         },
         "layout": {
          "coloraxis": {
           "colorscale": [
            [
             0,
             "#000011"
            ],
            [
             0.1111111111111111,
             "#000012"
            ],
            [
             0.2222222222222222,
             "#000013"
            ],
            [
             0.3333333333333333,
             "#000014"
            ],
            [
             0.4444444444444444,
             "#000015"
            ],
            [
             0.5555555555555556,
             "#000016"
            ],
            [
             0.6666666666666666,
             "#000017"
            ],
            [
             0.7777777777777778,
             "#000018"
            ],
            [
             0.8888888888888888,
             "#000019"
            ],
            [
             1,
             "#000020"
            ]
           ]
          },
          "colorscale": {
           "diverging": [
            [
             0,
             "#000021"
            ],
            [
             0.1,
             "#000022"
            ],
            [
             0.2,
             "#000023"
            ],
            [
             0.3,
             "#000024"
            ],
            [
             0.4,
             "#000025"
            ],
            [
             0.5,
             "#000026"
            ],
            [
             0.6,
             "#000027"
            ],
            [
             0.7,
             "#000028"
            ],
            [
             0.8,
             "#000029"
            ],
            [
             0.9,
             "#000030"
            ],
            [
             1,
             "#000031"
            ]
           ],
           "sequential": [
            [
             0,
             "#000011"
            ],
            [
             0.1111111111111111,
             "#000012"
            ],
            [
             0.2222222222222222,
             "#000013"
            ],
            [
             0.3333333333333333,
             "#000014"
            ],
            [
             0.4444444444444444,
             "#000015"
            ],
            [
             0.5555555555555556,
             "#000016"
            ],
            [
             0.6666666666666666,
             "#000017"
            ],
            [
             0.7777777777777778,
             "#000018"
            ],
            [
             0.8888888888888888,
             "#000019"
            ],
            [
             1,
             "#000020"
            ]
           ],
           "sequentialminus": [
            [
             0,
             "#000011"
            ],
            [
             0.1111111111111111,
             "#000012"
            ],
            [
             0.2222222222222222,
             "#000013"
            ],
            [
             0.3333333333333333,
             "#000014"
            ],
            [
             0.4444444444444444,
             "#000015"
            ],
            [
             0.5555555555555556,
             "#000016"
            ],
            [
             0.6666666666666666,
             "#000017"
            ],
            [
             0.7777777777777778,
             "#000018"
            ],
            [
             0.8888888888888888,
             "#000019"
            ],
            [
             1,
             "#000020"
            ]
           ]
          },
          "colorway": [
           "#000001",
           "#000002",
           "#000003",
           "#000004",
           "#000005",
           "#000006",
           "#000007",
           "#000008",
           "#000009",
           "#000010"
          ]
         }
        },
        "title": {
         "text": "Monthly Sales Trend"
        },
        "xaxis": {
         "anchor": "y",
         "domain": [
          0,
          1
         ],
         "title": {
          "text": "Month"
         }
        },
        "yaxis": {
         "anchor": "x",
         "domain": [
          0,
          1
         ],
         "title": {
          "text": "Total Monthly Sales"
         }
        }
       }
      }
     },
     "metadata": {},
     "output_type": "display_data"
    }
   ],
   "source": [
    "# Monthly Sales across all stores\n",
    "\n",
    "df['month'] = df['date'].dt.to_period('M').astype(str)\n",
    "\n",
    "monthly_sales = df.groupby('month')['weekly_sales'].sum().reset_index()\n",
    "monthly_sales.rename(columns={'weekly_sales': 'monthly_sales'}, inplace=True)\n",
    "\n",
    "fig = px.line(monthly_sales, x='month', y='monthly_sales', title='Monthly Sales Trend')\n",
    "fig.update_layout(xaxis_title='Month', yaxis_title='Total Monthly Sales')\n",
    "fig.show()\n"
   ]
  },
  {
   "cell_type": "code",
   "execution_count": 79,
   "id": "fda48dfa",
   "metadata": {},
   "outputs": [
    {
     "data": {
      "application/vnd.plotly.v1+json": {
       "config": {
        "plotlyServerURL": "https://plot.ly"
       },
       "data": [
        {
         "hovertemplate": "Day=%{x}<br>Sales=%{y}<extra></extra>",
         "legendgroup": "",
         "marker": {
          "color": "#000001",
          "pattern": {
           "shape": ""
          }
         },
         "name": "",
         "orientation": "v",
         "showlegend": false,
         "textposition": "auto",
         "type": "bar",
         "x": [
          "Monday",
          "Tuesday",
          "Wednesday",
          "Thursday",
          "Friday",
          "Saturday",
          "Sunday"
         ],
         "xaxis": "x",
         "y": {
          "bdata": "E5evqJOdMEG+jQLHNFUwQWwuJM38by9BETY8PV0pMEE8KmA3OrYvQadJ21sJ7i9Bbb9hvqsSMEE=",
          "dtype": "f8"
         },
         "yaxis": "y"
        }
       ],
       "layout": {
        "barmode": "relative",
        "legend": {
         "tracegroupgap": 0
        },
        "template": {
         "data": {
          "candlestick": [
           {
            "decreasing": {
             "line": {
              "color": "#000033"
             }
            },
            "increasing": {
             "line": {
              "color": "#000032"
             }
            },
            "type": "candlestick"
           }
          ],
          "contour": [
           {
            "colorscale": [
             [
              0,
              "#000011"
             ],
             [
              0.1111111111111111,
              "#000012"
             ],
             [
              0.2222222222222222,
              "#000013"
             ],
             [
              0.3333333333333333,
              "#000014"
             ],
             [
              0.4444444444444444,
              "#000015"
             ],
             [
              0.5555555555555556,
              "#000016"
             ],
             [
              0.6666666666666666,
              "#000017"
             ],
             [
              0.7777777777777778,
              "#000018"
             ],
             [
              0.8888888888888888,
              "#000019"
             ],
             [
              1,
              "#000020"
             ]
            ],
            "type": "contour"
           }
          ],
          "contourcarpet": [
           {
            "colorscale": [
             [
              0,
              "#000011"
             ],
             [
              0.1111111111111111,
              "#000012"
             ],
             [
              0.2222222222222222,
              "#000013"
             ],
             [
              0.3333333333333333,
              "#000014"
             ],
             [
              0.4444444444444444,
              "#000015"
             ],
             [
              0.5555555555555556,
              "#000016"
             ],
             [
              0.6666666666666666,
              "#000017"
             ],
             [
              0.7777777777777778,
              "#000018"
             ],
             [
              0.8888888888888888,
              "#000019"
             ],
             [
              1,
              "#000020"
             ]
            ],
            "type": "contourcarpet"
           }
          ],
          "heatmap": [
           {
            "colorscale": [
             [
              0,
              "#000011"
             ],
             [
              0.1111111111111111,
              "#000012"
             ],
             [
              0.2222222222222222,
              "#000013"
             ],
             [
              0.3333333333333333,
              "#000014"
             ],
             [
              0.4444444444444444,
              "#000015"
             ],
             [
              0.5555555555555556,
              "#000016"
             ],
             [
              0.6666666666666666,
              "#000017"
             ],
             [
              0.7777777777777778,
              "#000018"
             ],
             [
              0.8888888888888888,
              "#000019"
             ],
             [
              1,
              "#000020"
             ]
            ],
            "type": "heatmap"
           }
          ],
          "histogram2d": [
           {
            "colorscale": [
             [
              0,
              "#000011"
             ],
             [
              0.1111111111111111,
              "#000012"
             ],
             [
              0.2222222222222222,
              "#000013"
             ],
             [
              0.3333333333333333,
              "#000014"
             ],
             [
              0.4444444444444444,
              "#000015"
             ],
             [
              0.5555555555555556,
              "#000016"
             ],
             [
              0.6666666666666666,
              "#000017"
             ],
             [
              0.7777777777777778,
              "#000018"
             ],
             [
              0.8888888888888888,
              "#000019"
             ],
             [
              1,
              "#000020"
             ]
            ],
            "type": "histogram2d"
           }
          ],
          "icicle": [
           {
            "textfont": {
             "color": "white"
            },
            "type": "icicle"
           }
          ],
          "sankey": [
           {
            "textfont": {
             "color": "#000036"
            },
            "type": "sankey"
           }
          ],
          "scatter": [
           {
            "marker": {
             "line": {
              "width": 0
             }
            },
            "type": "scatter"
           }
          ],
          "table": [
           {
            "cells": {
             "fill": {
              "color": "#000038"
             },
             "font": {
              "color": "#000037"
             },
             "line": {
              "color": "#000039"
             }
            },
            "header": {
             "fill": {
              "color": "#000040"
             },
             "font": {
              "color": "#000036"
             },
             "line": {
              "color": "#000039"
             }
            },
            "type": "table"
           }
          ],
          "waterfall": [
           {
            "connector": {
             "line": {
              "color": "#000036",
              "width": 2
             }
            },
            "decreasing": {
             "marker": {
              "color": "#000033"
             }
            },
            "increasing": {
             "marker": {
              "color": "#000032"
             }
            },
            "totals": {
             "marker": {
              "color": "#000034"
             }
            },
            "type": "waterfall"
           }
          ]
         },
         "layout": {
          "coloraxis": {
           "colorscale": [
            [
             0,
             "#000011"
            ],
            [
             0.1111111111111111,
             "#000012"
            ],
            [
             0.2222222222222222,
             "#000013"
            ],
            [
             0.3333333333333333,
             "#000014"
            ],
            [
             0.4444444444444444,
             "#000015"
            ],
            [
             0.5555555555555556,
             "#000016"
            ],
            [
             0.6666666666666666,
             "#000017"
            ],
            [
             0.7777777777777778,
             "#000018"
            ],
            [
             0.8888888888888888,
             "#000019"
            ],
            [
             1,
             "#000020"
            ]
           ]
          },
          "colorscale": {
           "diverging": [
            [
             0,
             "#000021"
            ],
            [
             0.1,
             "#000022"
            ],
            [
             0.2,
             "#000023"
            ],
            [
             0.3,
             "#000024"
            ],
            [
             0.4,
             "#000025"
            ],
            [
             0.5,
             "#000026"
            ],
            [
             0.6,
             "#000027"
            ],
            [
             0.7,
             "#000028"
            ],
            [
             0.8,
             "#000029"
            ],
            [
             0.9,
             "#000030"
            ],
            [
             1,
             "#000031"
            ]
           ],
           "sequential": [
            [
             0,
             "#000011"
            ],
            [
             0.1111111111111111,
             "#000012"
            ],
            [
             0.2222222222222222,
             "#000013"
            ],
            [
             0.3333333333333333,
             "#000014"
            ],
            [
             0.4444444444444444,
             "#000015"
            ],
            [
             0.5555555555555556,
             "#000016"
            ],
            [
             0.6666666666666666,
             "#000017"
            ],
            [
             0.7777777777777778,
             "#000018"
            ],
            [
             0.8888888888888888,
             "#000019"
            ],
            [
             1,
             "#000020"
            ]
           ],
           "sequentialminus": [
            [
             0,
             "#000011"
            ],
            [
             0.1111111111111111,
             "#000012"
            ],
            [
             0.2222222222222222,
             "#000013"
            ],
            [
             0.3333333333333333,
             "#000014"
            ],
            [
             0.4444444444444444,
             "#000015"
            ],
            [
             0.5555555555555556,
             "#000016"
            ],
            [
             0.6666666666666666,
             "#000017"
            ],
            [
             0.7777777777777778,
             "#000018"
            ],
            [
             0.8888888888888888,
             "#000019"
            ],
            [
             1,
             "#000020"
            ]
           ]
          },
          "colorway": [
           "#000001",
           "#000002",
           "#000003",
           "#000004",
           "#000005",
           "#000006",
           "#000007",
           "#000008",
           "#000009",
           "#000010"
          ]
         }
        },
        "title": {
         "text": "Average Sales by Weekday"
        },
        "xaxis": {
         "anchor": "y",
         "domain": [
          0,
          1
         ],
         "title": {
          "text": "Day"
         }
        },
        "yaxis": {
         "anchor": "x",
         "domain": [
          0,
          1
         ],
         "title": {
          "text": "Sales"
         }
        }
       }
      }
     },
     "metadata": {},
     "output_type": "display_data"
    }
   ],
   "source": [
    "# Sales by day of weeek\n",
    "\n",
    "df['weekday'] = df['date'].dt.day_name()\n",
    "weekday_sales = df.groupby('weekday')['weekly_sales'].mean().reindex([\n",
    "    'Monday', 'Tuesday', 'Wednesday', 'Thursday', 'Friday', 'Saturday', 'Sunday'])\n",
    "\n",
    "fig = px.bar(weekday_sales, x=weekday_sales.index, y='weekly_sales',\n",
    "             title='Average Sales by Weekday', labels={'weekday': 'Day', 'weekly_sales': 'Sales'})\n",
    "fig.show()\n"
   ]
  },
  {
   "cell_type": "code",
   "execution_count": null,
   "id": "307c8644",
   "metadata": {},
   "outputs": [
    {
     "data": {
      "application/vnd.plotly.v1+json": {
       "config": {
        "plotlyServerURL": "https://plot.ly"
       },
       "data": [
        {
         "hovertemplate": "<b>%{hovertext}</b><br><br>Total Sales (Millions)=%{x}<br>Store Name=%{y}<extra></extra>",
         "hovertext": [
          "Denver North",
          "Minneapolis North",
          "Sacramento North",
          "Albuquerque South",
          "Houston West",
          "Milwaukee Suburb",
          "Oakland South",
          "San Jose North",
          "Charlotte East",
          "Omaha Metro",
          "Indianapolis Downtown",
          "Miami East",
          "Indianapolis Suburb",
          "Long Beach Uptown",
          "Los Angeles North",
          "San Francisco Downtown",
          "Virginia Beach Downtown",
          "Miami Metro",
          "Indianapolis West",
          "Austin East",
          "Milwaukee West",
          "Charlotte Metro",
          "Nashville Uptown",
          "Dallas Downtown",
          "Portland Industrial",
          "Las Vegas West",
          "Tucson East",
          "San Jose Central",
          "Raleigh Uptown",
          "Long Beach East",
          "Memphis Industrial",
          "Louisville Central",
          "Oakland North",
          "Omaha Suburb",
          "Kansas City Uptown",
          "Baltimore Central",
          "Atlanta Downtown",
          "Mesa West",
          "Tulsa East",
          "Los Angeles West",
          "New York Industrial",
          "Columbus Uptown",
          "Charlotte South",
          "Las Vegas Metro",
          "Detroit West"
         ],
         "legendgroup": "",
         "marker": {
          "color": "#000001",
          "pattern": {
           "shape": ""
          }
         },
         "name": "",
         "orientation": "h",
         "showlegend": false,
         "textposition": "auto",
         "type": "bar",
         "x": {
          "bdata": "qn18OgV6LkBunLksyz4xQJzwGg1DfjJAiUxUysalNUAl+sYhLA03QDBI+rSKjDdA7OCaGuwmOUDhAnVv6l89QIM21lEX3T1AKfmmI1/OPkBKjiII43w/QJlYS8e9K0BAvZNHHqWpQEDq9BfVfcBBQBh1lCAvV0JAJaA2aLcIREB078CE+u1EQP2JoQeEZUZAsBt0EXisSUD2/YrrTk9KQAVndDCwXkpAVSkkNquHS0CSIDvzm6BMQE/b8ewTA01A1/efBM+JTUClNHJIMJBNQLSa6NLDPU9AuE2GHSVtUEB/1C6/9g1SQNqG9lbJjlNA1COytPjYU0B6w+AOEuFTQFgnBP7y8FNAgS3I+U9xVEBHZ+yN0nNUQEtWRbjJ7VRAG65hyGKkVkAp3nX0h9NWQHrezyGXZ1lAJEBVnmMmW0ADHdbputBbQHrhzoVReVxArVYei0qSXUA9EPZ5DsNdQC+NVwfd6V5A",
          "dtype": "f8"
         },
         "xaxis": "x",
         "y": [
          "Denver North",
          "Minneapolis North",
          "Sacramento North",
          "Albuquerque South",
          "Houston West",
          "Milwaukee Suburb",
          "Oakland South",
          "San Jose North",
          "Charlotte East",
          "Omaha Metro",
          "Indianapolis Downtown",
          "Miami East",
          "Indianapolis Suburb",
          "Long Beach Uptown",
          "Los Angeles North",
          "San Francisco Downtown",
          "Virginia Beach Downtown",
          "Miami Metro",
          "Indianapolis West",
          "Austin East",
          "Milwaukee West",
          "Charlotte Metro",
          "Nashville Uptown",
          "Dallas Downtown",
          "Portland Industrial",
          "Las Vegas West",
          "Tucson East",
          "San Jose Central",
          "Raleigh Uptown",
          "Long Beach East",
          "Memphis Industrial",
          "Louisville Central",
          "Oakland North",
          "Omaha Suburb",
          "Kansas City Uptown",
          "Baltimore Central",
          "Atlanta Downtown",
          "Mesa West",
          "Tulsa East",
          "Los Angeles West",
          "New York Industrial",
          "Columbus Uptown",
          "Charlotte South",
          "Las Vegas Metro",
          "Detroit West"
         ],
         "yaxis": "y"
        }
       ],
       "layout": {
        "barmode": "relative",
        "height": 900,
        "legend": {
         "tracegroupgap": 0
        },
        "margin": {
         "b": 40,
         "l": 150,
         "r": 40,
         "t": 60
        },
        "template": {
         "data": {
          "candlestick": [
           {
            "decreasing": {
             "line": {
              "color": "#000033"
             }
            },
            "increasing": {
             "line": {
              "color": "#000032"
             }
            },
            "type": "candlestick"
           }
          ],
          "contour": [
           {
            "colorscale": [
             [
              0,
              "#000011"
             ],
             [
              0.1111111111111111,
              "#000012"
             ],
             [
              0.2222222222222222,
              "#000013"
             ],
             [
              0.3333333333333333,
              "#000014"
             ],
             [
              0.4444444444444444,
              "#000015"
             ],
             [
              0.5555555555555556,
              "#000016"
             ],
             [
              0.6666666666666666,
              "#000017"
             ],
             [
              0.7777777777777778,
              "#000018"
             ],
             [
              0.8888888888888888,
              "#000019"
             ],
             [
              1,
              "#000020"
             ]
            ],
            "type": "contour"
           }
          ],
          "contourcarpet": [
           {
            "colorscale": [
             [
              0,
              "#000011"
             ],
             [
              0.1111111111111111,
              "#000012"
             ],
             [
              0.2222222222222222,
              "#000013"
             ],
             [
              0.3333333333333333,
              "#000014"
             ],
             [
              0.4444444444444444,
              "#000015"
             ],
             [
              0.5555555555555556,
              "#000016"
             ],
             [
              0.6666666666666666,
              "#000017"
             ],
             [
              0.7777777777777778,
              "#000018"
             ],
             [
              0.8888888888888888,
              "#000019"
             ],
             [
              1,
              "#000020"
             ]
            ],
            "type": "contourcarpet"
           }
          ],
          "heatmap": [
           {
            "colorscale": [
             [
              0,
              "#000011"
             ],
             [
              0.1111111111111111,
              "#000012"
             ],
             [
              0.2222222222222222,
              "#000013"
             ],
             [
              0.3333333333333333,
              "#000014"
             ],
             [
              0.4444444444444444,
              "#000015"
             ],
             [
              0.5555555555555556,
              "#000016"
             ],
             [
              0.6666666666666666,
              "#000017"
             ],
             [
              0.7777777777777778,
              "#000018"
             ],
             [
              0.8888888888888888,
              "#000019"
             ],
             [
              1,
              "#000020"
             ]
            ],
            "type": "heatmap"
           }
          ],
          "histogram2d": [
           {
            "colorscale": [
             [
              0,
              "#000011"
             ],
             [
              0.1111111111111111,
              "#000012"
             ],
             [
              0.2222222222222222,
              "#000013"
             ],
             [
              0.3333333333333333,
              "#000014"
             ],
             [
              0.4444444444444444,
              "#000015"
             ],
             [
              0.5555555555555556,
              "#000016"
             ],
             [
              0.6666666666666666,
              "#000017"
             ],
             [
              0.7777777777777778,
              "#000018"
             ],
             [
              0.8888888888888888,
              "#000019"
             ],
             [
              1,
              "#000020"
             ]
            ],
            "type": "histogram2d"
           }
          ],
          "icicle": [
           {
            "textfont": {
             "color": "white"
            },
            "type": "icicle"
           }
          ],
          "sankey": [
           {
            "textfont": {
             "color": "#000036"
            },
            "type": "sankey"
           }
          ],
          "scatter": [
           {
            "marker": {
             "line": {
              "width": 0
             }
            },
            "type": "scatter"
           }
          ],
          "table": [
           {
            "cells": {
             "fill": {
              "color": "#000038"
             },
             "font": {
              "color": "#000037"
             },
             "line": {
              "color": "#000039"
             }
            },
            "header": {
             "fill": {
              "color": "#000040"
             },
             "font": {
              "color": "#000036"
             },
             "line": {
              "color": "#000039"
             }
            },
            "type": "table"
           }
          ],
          "waterfall": [
           {
            "connector": {
             "line": {
              "color": "#000036",
              "width": 2
             }
            },
            "decreasing": {
             "marker": {
              "color": "#000033"
             }
            },
            "increasing": {
             "marker": {
              "color": "#000032"
             }
            },
            "totals": {
             "marker": {
              "color": "#000034"
             }
            },
            "type": "waterfall"
           }
          ]
         },
         "layout": {
          "coloraxis": {
           "colorscale": [
            [
             0,
             "#000011"
            ],
            [
             0.1111111111111111,
             "#000012"
            ],
            [
             0.2222222222222222,
             "#000013"
            ],
            [
             0.3333333333333333,
             "#000014"
            ],
            [
             0.4444444444444444,
             "#000015"
            ],
            [
             0.5555555555555556,
             "#000016"
            ],
            [
             0.6666666666666666,
             "#000017"
            ],
            [
             0.7777777777777778,
             "#000018"
            ],
            [
             0.8888888888888888,
             "#000019"
            ],
            [
             1,
             "#000020"
            ]
           ]
          },
          "colorscale": {
           "diverging": [
            [
             0,
             "#000021"
            ],
            [
             0.1,
             "#000022"
            ],
            [
             0.2,
             "#000023"
            ],
            [
             0.3,
             "#000024"
            ],
            [
             0.4,
             "#000025"
            ],
            [
             0.5,
             "#000026"
            ],
            [
             0.6,
             "#000027"
            ],
            [
             0.7,
             "#000028"
            ],
            [
             0.8,
             "#000029"
            ],
            [
             0.9,
             "#000030"
            ],
            [
             1,
             "#000031"
            ]
           ],
           "sequential": [
            [
             0,
             "#000011"
            ],
            [
             0.1111111111111111,
             "#000012"
            ],
            [
             0.2222222222222222,
             "#000013"
            ],
            [
             0.3333333333333333,
             "#000014"
            ],
            [
             0.4444444444444444,
             "#000015"
            ],
            [
             0.5555555555555556,
             "#000016"
            ],
            [
             0.6666666666666666,
             "#000017"
            ],
            [
             0.7777777777777778,
             "#000018"
            ],
            [
             0.8888888888888888,
             "#000019"
            ],
            [
             1,
             "#000020"
            ]
           ],
           "sequentialminus": [
            [
             0,
             "#000011"
            ],
            [
             0.1111111111111111,
             "#000012"
            ],
            [
             0.2222222222222222,
             "#000013"
            ],
            [
             0.3333333333333333,
             "#000014"
            ],
            [
             0.4444444444444444,
             "#000015"
            ],
            [
             0.5555555555555556,
             "#000016"
            ],
            [
             0.6666666666666666,
             "#000017"
            ],
            [
             0.7777777777777778,
             "#000018"
            ],
            [
             0.8888888888888888,
             "#000019"
            ],
            [
             1,
             "#000020"
            ]
           ]
          },
          "colorway": [
           "#000001",
           "#000002",
           "#000003",
           "#000004",
           "#000005",
           "#000006",
           "#000007",
           "#000008",
           "#000009",
           "#000010"
          ]
         }
        },
        "title": {
         "text": "Total Sales by Store (in Millions)"
        },
        "xaxis": {
         "anchor": "y",
         "domain": [
          0,
          1
         ],
         "tickformat": ".1f",
         "title": {
          "text": "Total Sales (Millions)"
         }
        },
        "yaxis": {
         "anchor": "x",
         "domain": [
          0,
          1
         ],
         "tickfont": {
          "size": 10
         },
         "title": {
          "text": "Store Name"
         }
        }
       }
      }
     },
     "metadata": {},
     "output_type": "display_data"
    }
   ],
   "source": [
    "# Total Sales by Store\n",
    "\n",
    "import plotly.express as px\n",
    "\n",
    "# Group by store name and convert sales to millions\n",
    "store_sales = df.groupby('store_name')['weekly_sales'].sum().sort_values(ascending=True)\n",
    "store_sales_millions = store_sales / 1e6  # Convert to millions\n",
    "\n",
    "# Create bar chart\n",
    "fig = px.bar(\n",
    "    x=store_sales_millions.values,\n",
    "    y=store_sales_millions.index,\n",
    "    orientation='h',\n",
    "    title='Total Sales by Store (in Millions)',\n",
    "    labels={'x': 'Total Sales (Millions)', 'y': 'Store Name'},\n",
    "    hover_name=store_sales_millions.index  # This ensures store name shows on hover\n",
    ")\n",
    "\n",
    "# Improve layout\n",
    "fig.update_layout(\n",
    "    yaxis=dict(tickfont=dict(size=10)),\n",
    "    xaxis_tickformat=\".1f\",\n",
    "    height=900,\n",
    "    margin=dict(l=150, r=40, t=60, b=40)\n",
    ")\n",
    "\n",
    "fig.show()\n"
   ]
  },
  {
   "cell_type": "code",
   "execution_count": 88,
   "id": "ce486969",
   "metadata": {},
   "outputs": [
    {
     "data": {
      "application/vnd.plotly.v1+json": {
       "config": {
        "plotlyServerURL": "https://plot.ly"
       },
       "data": [
        {
         "hovertemplate": "Week Type=Non-Holiday<br>date=%{x}<br>Total Weekly Sales=%{y}<extra></extra>",
         "legendgroup": "Non-Holiday",
         "line": {
          "color": "#000001",
          "dash": "solid"
         },
         "marker": {
          "symbol": "circle"
         },
         "mode": "lines",
         "name": "Non-Holiday",
         "orientation": "v",
         "showlegend": true,
         "type": "scatter",
         "x": [
          "2010-01-10T00:00:00",
          "2010-02-04T00:00:00",
          "2010-02-07T00:00:00",
          "2010-03-09T00:00:00",
          "2010-03-12T00:00:00",
          "2010-04-06T00:00:00",
          "2010-05-02T00:00:00",
          "2010-05-03T00:00:00",
          "2010-05-11T00:00:00",
          "2010-06-08T00:00:00",
          "2010-07-05T00:00:00",
          "2010-08-10T00:00:00",
          "2010-09-04T00:00:00",
          "2010-09-07T00:00:00",
          "2010-10-12T00:00:00",
          "2010-11-06T00:00:00",
          "2010-12-03T00:00:00",
          "2010-12-11T00:00:00",
          "2011-01-04T00:00:00",
          "2011-01-07T00:00:00",
          "2011-02-09T00:00:00",
          "2011-02-12T00:00:00",
          "2011-03-06T00:00:00",
          "2011-04-02T00:00:00",
          "2011-04-03T00:00:00",
          "2011-04-11T00:00:00",
          "2011-05-08T00:00:00",
          "2011-06-05T00:00:00",
          "2011-07-01T00:00:00",
          "2011-07-10T00:00:00",
          "2011-08-04T00:00:00",
          "2011-08-07T00:00:00",
          "2011-09-12T00:00:00",
          "2011-10-06T00:00:00",
          "2011-11-03T00:00:00",
          "2011-11-11T00:00:00",
          "2011-12-08T00:00:00",
          "2012-01-06T00:00:00",
          "2012-02-03T00:00:00",
          "2012-03-02T00:00:00",
          "2012-03-08T00:00:00",
          "2012-04-05T00:00:00",
          "2012-05-10T00:00:00",
          "2012-06-01T00:00:00",
          "2012-06-04T00:00:00",
          "2012-06-07T00:00:00",
          "2012-08-06T00:00:00",
          "2012-09-03T00:00:00",
          "2012-10-08T00:00:00",
          "2012-11-05T00:00:00",
          "2012-12-10T00:00:00"
         ],
         "xaxis": "x",
         "y": {
          "bdata": "j8L1HjwkhEHhehS6QAuIQQAAAGRfU4dBrkfhjASBhkFxPQofacyHQY/C9fiH7odBAAAApBa5h0FmZmZynVmGQVK4Hu+e1IVBj8L1OGb8hkHD9ShcziCHQT0K1/G7gYVBuB6FU+WVhkGPwvVKHNeGQVK4HpNCi4pBXI/ClTPOhkHhehSkIOaFQQrXowZ4/oVBuB6FeQ25hEEAAAC87K+GQcP1KHojo4VBH4Xr4x6Nh0HXo3DRnEGHQY/C9bjsAYZBH4Xr3e9mhkFmZmbCZTOHQVyPwldD5YZBhetRMnRYhkHC9Shep2WEQa5H4UIlg4ZBZmZmVn/hhUGkcD3+MdKGQZqZmd1dfopBFK5HNQ+7hkEzMzO7q0eFQQAAAIZDHYdBexSuCbMNhkFcj8KNwQWHQVyPwldXWIZB7FG4QK/5hUFI4XpcnqSGQdejcC93eIZBSOF6enmuhkGamZnvuG+FQY/C9V4Lg4lBcT0K73hwiEGkcD0e76yHQa5H4TD0o4ZBhetR2I2ahkEfheu3QWCGQQAAABLs/oVB",
          "dtype": "f8"
         },
         "yaxis": "y"
        },
        {
         "hovertemplate": "Week Type=Holiday<br>date=%{x}<br>Total Weekly Sales=%{y}<extra></extra>",
         "legendgroup": "Holiday",
         "line": {
          "color": "#000002",
          "dash": "solid"
         },
         "marker": {
          "symbol": "circle"
         },
         "mode": "lines",
         "name": "Holiday",
         "orientation": "v",
         "showlegend": true,
         "type": "scatter",
         "x": [
          "2010-10-09T00:00:00",
          "2010-12-02T00:00:00",
          "2011-09-09T00:00:00",
          "2011-11-02T00:00:00",
          "2012-07-09T00:00:00",
          "2012-10-02T00:00:00"
         ],
         "xaxis": "x",
         "y": {
          "bdata": "61G47prChUFxPQoteQyHQaRwPdxmTIZBhetRBliShkFI4XpaqguHQfYoXP+p2IdB",
          "dtype": "f8"
         },
         "yaxis": "y"
        }
       ],
       "layout": {
        "legend": {
         "title": {
          "text": "Week Type"
         },
         "tracegroupgap": 0
        },
        "template": {
         "data": {
          "candlestick": [
           {
            "decreasing": {
             "line": {
              "color": "#000033"
             }
            },
            "increasing": {
             "line": {
              "color": "#000032"
             }
            },
            "type": "candlestick"
           }
          ],
          "contour": [
           {
            "colorscale": [
             [
              0,
              "#000011"
             ],
             [
              0.1111111111111111,
              "#000012"
             ],
             [
              0.2222222222222222,
              "#000013"
             ],
             [
              0.3333333333333333,
              "#000014"
             ],
             [
              0.4444444444444444,
              "#000015"
             ],
             [
              0.5555555555555556,
              "#000016"
             ],
             [
              0.6666666666666666,
              "#000017"
             ],
             [
              0.7777777777777778,
              "#000018"
             ],
             [
              0.8888888888888888,
              "#000019"
             ],
             [
              1,
              "#000020"
             ]
            ],
            "type": "contour"
           }
          ],
          "contourcarpet": [
           {
            "colorscale": [
             [
              0,
              "#000011"
             ],
             [
              0.1111111111111111,
              "#000012"
             ],
             [
              0.2222222222222222,
              "#000013"
             ],
             [
              0.3333333333333333,
              "#000014"
             ],
             [
              0.4444444444444444,
              "#000015"
             ],
             [
              0.5555555555555556,
              "#000016"
             ],
             [
              0.6666666666666666,
              "#000017"
             ],
             [
              0.7777777777777778,
              "#000018"
             ],
             [
              0.8888888888888888,
              "#000019"
             ],
             [
              1,
              "#000020"
             ]
            ],
            "type": "contourcarpet"
           }
          ],
          "heatmap": [
           {
            "colorscale": [
             [
              0,
              "#000011"
             ],
             [
              0.1111111111111111,
              "#000012"
             ],
             [
              0.2222222222222222,
              "#000013"
             ],
             [
              0.3333333333333333,
              "#000014"
             ],
             [
              0.4444444444444444,
              "#000015"
             ],
             [
              0.5555555555555556,
              "#000016"
             ],
             [
              0.6666666666666666,
              "#000017"
             ],
             [
              0.7777777777777778,
              "#000018"
             ],
             [
              0.8888888888888888,
              "#000019"
             ],
             [
              1,
              "#000020"
             ]
            ],
            "type": "heatmap"
           }
          ],
          "histogram2d": [
           {
            "colorscale": [
             [
              0,
              "#000011"
             ],
             [
              0.1111111111111111,
              "#000012"
             ],
             [
              0.2222222222222222,
              "#000013"
             ],
             [
              0.3333333333333333,
              "#000014"
             ],
             [
              0.4444444444444444,
              "#000015"
             ],
             [
              0.5555555555555556,
              "#000016"
             ],
             [
              0.6666666666666666,
              "#000017"
             ],
             [
              0.7777777777777778,
              "#000018"
             ],
             [
              0.8888888888888888,
              "#000019"
             ],
             [
              1,
              "#000020"
             ]
            ],
            "type": "histogram2d"
           }
          ],
          "icicle": [
           {
            "textfont": {
             "color": "white"
            },
            "type": "icicle"
           }
          ],
          "sankey": [
           {
            "textfont": {
             "color": "#000036"
            },
            "type": "sankey"
           }
          ],
          "scatter": [
           {
            "marker": {
             "line": {
              "width": 0
             }
            },
            "type": "scatter"
           }
          ],
          "table": [
           {
            "cells": {
             "fill": {
              "color": "#000038"
             },
             "font": {
              "color": "#000037"
             },
             "line": {
              "color": "#000039"
             }
            },
            "header": {
             "fill": {
              "color": "#000040"
             },
             "font": {
              "color": "#000036"
             },
             "line": {
              "color": "#000039"
             }
            },
            "type": "table"
           }
          ],
          "waterfall": [
           {
            "connector": {
             "line": {
              "color": "#000036",
              "width": 2
             }
            },
            "decreasing": {
             "marker": {
              "color": "#000033"
             }
            },
            "increasing": {
             "marker": {
              "color": "#000032"
             }
            },
            "totals": {
             "marker": {
              "color": "#000034"
             }
            },
            "type": "waterfall"
           }
          ]
         },
         "layout": {
          "coloraxis": {
           "colorscale": [
            [
             0,
             "#000011"
            ],
            [
             0.1111111111111111,
             "#000012"
            ],
            [
             0.2222222222222222,
             "#000013"
            ],
            [
             0.3333333333333333,
             "#000014"
            ],
            [
             0.4444444444444444,
             "#000015"
            ],
            [
             0.5555555555555556,
             "#000016"
            ],
            [
             0.6666666666666666,
             "#000017"
            ],
            [
             0.7777777777777778,
             "#000018"
            ],
            [
             0.8888888888888888,
             "#000019"
            ],
            [
             1,
             "#000020"
            ]
           ]
          },
          "colorscale": {
           "diverging": [
            [
             0,
             "#000021"
            ],
            [
             0.1,
             "#000022"
            ],
            [
             0.2,
             "#000023"
            ],
            [
             0.3,
             "#000024"
            ],
            [
             0.4,
             "#000025"
            ],
            [
             0.5,
             "#000026"
            ],
            [
             0.6,
             "#000027"
            ],
            [
             0.7,
             "#000028"
            ],
            [
             0.8,
             "#000029"
            ],
            [
             0.9,
             "#000030"
            ],
            [
             1,
             "#000031"
            ]
           ],
           "sequential": [
            [
             0,
             "#000011"
            ],
            [
             0.1111111111111111,
             "#000012"
            ],
            [
             0.2222222222222222,
             "#000013"
            ],
            [
             0.3333333333333333,
             "#000014"
            ],
            [
             0.4444444444444444,
             "#000015"
            ],
            [
             0.5555555555555556,
             "#000016"
            ],
            [
             0.6666666666666666,
             "#000017"
            ],
            [
             0.7777777777777778,
             "#000018"
            ],
            [
             0.8888888888888888,
             "#000019"
            ],
            [
             1,
             "#000020"
            ]
           ],
           "sequentialminus": [
            [
             0,
             "#000011"
            ],
            [
             0.1111111111111111,
             "#000012"
            ],
            [
             0.2222222222222222,
             "#000013"
            ],
            [
             0.3333333333333333,
             "#000014"
            ],
            [
             0.4444444444444444,
             "#000015"
            ],
            [
             0.5555555555555556,
             "#000016"
            ],
            [
             0.6666666666666666,
             "#000017"
            ],
            [
             0.7777777777777778,
             "#000018"
            ],
            [
             0.8888888888888888,
             "#000019"
            ],
            [
             1,
             "#000020"
            ]
           ]
          },
          "colorway": [
           "#000001",
           "#000002",
           "#000003",
           "#000004",
           "#000005",
           "#000006",
           "#000007",
           "#000008",
           "#000009",
           "#000010"
          ]
         }
        },
        "title": {
         "text": "Holiday vs Non-Holiday Sales Over Time"
        },
        "xaxis": {
         "anchor": "y",
         "domain": [
          0,
          1
         ],
         "title": {
          "text": "date"
         }
        },
        "yaxis": {
         "anchor": "x",
         "domain": [
          0,
          1
         ],
         "title": {
          "text": "Total Weekly Sales"
         }
        }
       }
      }
     },
     "metadata": {},
     "output_type": "display_data"
    }
   ],
   "source": [
    "df['holiday_label'] = df['holiday_flag'].map({1: 'Holiday', 0: 'Non-Holiday'})\n",
    "\n",
    "# Aggregate weekly sales by date and holiday label\n",
    "grouped = df.groupby(['date', 'holiday_label'])['weekly_sales'].sum().reset_index()\n",
    "\n",
    "fig = px.line(\n",
    "    grouped, \n",
    "    x='date', \n",
    "    y='weekly_sales', \n",
    "    color='holiday_label',\n",
    "    title='Holiday vs Non-Holiday Sales Over Time',\n",
    "    labels={'weekly_sales': 'Total Weekly Sales', 'holiday_label': 'Week Type'}\n",
    ")\n",
    "fig.show()\n",
    "\n"
   ]
  },
  {
   "cell_type": "code",
   "execution_count": 91,
   "id": "02374baa",
   "metadata": {},
   "outputs": [
    {
     "data": {
      "application/vnd.plotly.v1+json": {
       "config": {
        "plotlyServerURL": "https://plot.ly"
       },
       "data": [
        {
         "hovertemplate": "fuel_price=%{x}<br>weekly_sales=%{y}<extra></extra>",
         "legendgroup": "",
         "marker": {
          "color": "#000001",
          "symbol": "circle"
         },
         "mode": "markers",
         "name": "",
         "showlegend": false,
         "type": "scattergl",
         "x": {
          "bdata": "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",
          "dtype": "f8"
         },
         "xaxis": "x",
         "y": {
          "bdata": "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",
          "dtype": "f8"
         },
         "yaxis": "y"
        },
        {
         "hovertemplate": "<b>OLS trendline</b><br>weekly_sales = 33360.6 * fuel_price + 948795<br>R<sup>2</sup>=0.000765<br><br>fuel_price=%{x}<br>weekly_sales=%{y} <b>(trend)</b><extra></extra>",
         "legendgroup": "",
         "marker": {
          "color": "#000001",
          "symbol": "circle"
         },
         "mode": "lines",
         "name": "",
         "showlegend": false,
         "type": "scattergl",
         "x": {
          "bdata": "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",
          "dtype": "f8"
         },
         "xaxis": "x",
         "y": {
          "bdata": "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",
          "dtype": "f8"
         },
         "yaxis": "y"
        }
       ],
       "layout": {
        "legend": {
         "tracegroupgap": 0
        },
        "template": {
         "data": {
          "candlestick": [
           {
            "decreasing": {
             "line": {
              "color": "#000033"
             }
            },
            "increasing": {
             "line": {
              "color": "#000032"
             }
            },
            "type": "candlestick"
           }
          ],
          "contour": [
           {
            "colorscale": [
             [
              0,
              "#000011"
             ],
             [
              0.1111111111111111,
              "#000012"
             ],
             [
              0.2222222222222222,
              "#000013"
             ],
             [
              0.3333333333333333,
              "#000014"
             ],
             [
              0.4444444444444444,
              "#000015"
             ],
             [
              0.5555555555555556,
              "#000016"
             ],
             [
              0.6666666666666666,
              "#000017"
             ],
             [
              0.7777777777777778,
              "#000018"
             ],
             [
              0.8888888888888888,
              "#000019"
             ],
             [
              1,
              "#000020"
             ]
            ],
            "type": "contour"
           }
          ],
          "contourcarpet": [
           {
            "colorscale": [
             [
              0,
              "#000011"
             ],
             [
              0.1111111111111111,
              "#000012"
             ],
             [
              0.2222222222222222,
              "#000013"
             ],
             [
              0.3333333333333333,
              "#000014"
             ],
             [
              0.4444444444444444,
              "#000015"
             ],
             [
              0.5555555555555556,
              "#000016"
             ],
             [
              0.6666666666666666,
              "#000017"
             ],
             [
              0.7777777777777778,
              "#000018"
             ],
             [
              0.8888888888888888,
              "#000019"
             ],
             [
              1,
              "#000020"
             ]
            ],
            "type": "contourcarpet"
           }
          ],
          "heatmap": [
           {
            "colorscale": [
             [
              0,
              "#000011"
             ],
             [
              0.1111111111111111,
              "#000012"
             ],
             [
              0.2222222222222222,
              "#000013"
             ],
             [
              0.3333333333333333,
              "#000014"
             ],
             [
              0.4444444444444444,
              "#000015"
             ],
             [
              0.5555555555555556,
              "#000016"
             ],
             [
              0.6666666666666666,
              "#000017"
             ],
             [
              0.7777777777777778,
              "#000018"
             ],
             [
              0.8888888888888888,
              "#000019"
             ],
             [
              1,
              "#000020"
             ]
            ],
            "type": "heatmap"
           }
          ],
          "histogram2d": [
           {
            "colorscale": [
             [
              0,
              "#000011"
             ],
             [
              0.1111111111111111,
              "#000012"
             ],
             [
              0.2222222222222222,
              "#000013"
             ],
             [
              0.3333333333333333,
              "#000014"
             ],
             [
              0.4444444444444444,
              "#000015"
             ],
             [
              0.5555555555555556,
              "#000016"
             ],
             [
              0.6666666666666666,
              "#000017"
             ],
             [
              0.7777777777777778,
              "#000018"
             ],
             [
              0.8888888888888888,
              "#000019"
             ],
             [
              1,
              "#000020"
             ]
            ],
            "type": "histogram2d"
           }
          ],
          "icicle": [
           {
            "textfont": {
             "color": "white"
            },
            "type": "icicle"
           }
          ],
          "sankey": [
           {
            "textfont": {
             "color": "#000036"
            },
            "type": "sankey"
           }
          ],
          "scatter": [
           {
            "marker": {
             "line": {
              "width": 0
             }
            },
            "type": "scatter"
           }
          ],
          "table": [
           {
            "cells": {
             "fill": {
              "color": "#000038"
             },
             "font": {
              "color": "#000037"
             },
             "line": {
              "color": "#000039"
             }
            },
            "header": {
             "fill": {
              "color": "#000040"
             },
             "font": {
              "color": "#000036"
             },
             "line": {
              "color": "#000039"
             }
            },
            "type": "table"
           }
          ],
          "waterfall": [
           {
            "connector": {
             "line": {
              "color": "#000036",
              "width": 2
             }
            },
            "decreasing": {
             "marker": {
              "color": "#000033"
             }
            },
            "increasing": {
             "marker": {
              "color": "#000032"
             }
            },
            "totals": {
             "marker": {
              "color": "#000034"
             }
            },
            "type": "waterfall"
           }
          ]
         },
         "layout": {
          "coloraxis": {
           "colorscale": [
            [
             0,
             "#000011"
            ],
            [
             0.1111111111111111,
             "#000012"
            ],
            [
             0.2222222222222222,
             "#000013"
            ],
            [
             0.3333333333333333,
             "#000014"
            ],
            [
             0.4444444444444444,
             "#000015"
            ],
            [
             0.5555555555555556,
             "#000016"
            ],
            [
             0.6666666666666666,
             "#000017"
            ],
            [
             0.7777777777777778,
             "#000018"
            ],
            [
             0.8888888888888888,
             "#000019"
            ],
            [
             1,
             "#000020"
            ]
           ]
          },
          "colorscale": {
           "diverging": [
            [
             0,
             "#000021"
            ],
            [
             0.1,
             "#000022"
            ],
            [
             0.2,
             "#000023"
            ],
            [
             0.3,
             "#000024"
            ],
            [
             0.4,
             "#000025"
            ],
            [
             0.5,
             "#000026"
            ],
            [
             0.6,
             "#000027"
            ],
            [
             0.7,
             "#000028"
            ],
            [
             0.8,
             "#000029"
            ],
            [
             0.9,
             "#000030"
            ],
            [
             1,
             "#000031"
            ]
           ],
           "sequential": [
            [
             0,
             "#000011"
            ],
            [
             0.1111111111111111,
             "#000012"
            ],
            [
             0.2222222222222222,
             "#000013"
            ],
            [
             0.3333333333333333,
             "#000014"
            ],
            [
             0.4444444444444444,
             "#000015"
            ],
            [
             0.5555555555555556,
             "#000016"
            ],
            [
             0.6666666666666666,
             "#000017"
            ],
            [
             0.7777777777777778,
             "#000018"
            ],
            [
             0.8888888888888888,
             "#000019"
            ],
            [
             1,
             "#000020"
            ]
           ],
           "sequentialminus": [
            [
             0,
             "#000011"
            ],
            [
             0.1111111111111111,
             "#000012"
            ],
            [
             0.2222222222222222,
             "#000013"
            ],
            [
             0.3333333333333333,
             "#000014"
            ],
            [
             0.4444444444444444,
             "#000015"
            ],
            [
             0.5555555555555556,
             "#000016"
            ],
            [
             0.6666666666666666,
             "#000017"
            ],
            [
             0.7777777777777778,
             "#000018"
            ],
            [
             0.8888888888888888,
             "#000019"
            ],
            [
             1,
             "#000020"
            ]
           ]
          },
          "colorway": [
           "#000001",
           "#000002",
           "#000003",
           "#000004",
           "#000005",
           "#000006",
           "#000007",
           "#000008",
           "#000009",
           "#000010"
          ]
         }
        },
        "title": {
         "text": "Fuel Price vs Weekly Sales"
        },
        "xaxis": {
         "anchor": "y",
         "domain": [
          0,
          1
         ],
         "title": {
          "text": "fuel_price"
         }
        },
        "yaxis": {
         "anchor": "x",
         "domain": [
          0,
          1
         ],
         "title": {
          "text": "weekly_sales"
         }
        }
       }
      }
     },
     "metadata": {},
     "output_type": "display_data"
    }
   ],
   "source": [
    "fig = px.scatter(df, x='fuel_price', y='weekly_sales',\n",
    "                 title='Fuel Price vs Weekly Sales', trendline='ols')\n",
    "fig.show()\n"
   ]
  },
  {
   "cell_type": "code",
   "execution_count": 92,
   "id": "ece881f6",
   "metadata": {},
   "outputs": [
    {
     "data": {
      "application/vnd.plotly.v1+json": {
       "config": {
        "plotlyServerURL": "https://plot.ly"
       },
       "data": [
        {
         "hovertemplate": "unemployment=%{x}<br>weekly_sales=%{y}<extra></extra>",
         "legendgroup": "",
         "marker": {
          "color": "#000001",
          "symbol": "circle"
         },
         "mode": "markers",
         "name": "",
         "showlegend": false,
         "type": "scattergl",
         "x": {
          "bdata": "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",
          "dtype": "f8"
         },
         "xaxis": "x",
         "y": {
          "bdata": "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",
          "dtype": "f8"
         },
         "yaxis": "y"
        },
        {
         "hovertemplate": "<b>OLS trendline</b><br>weekly_sales = -29442.2 * unemployment + 1.29607e+06<br>R<sup>2</sup>=0.009842<br><br>unemployment=%{x}<br>weekly_sales=%{y} <b>(trend)</b><extra></extra>",
         "legendgroup": "",
         "marker": {
          "color": "#000001",
          "symbol": "circle"
         },
         "mode": "lines",
         "name": "",
         "showlegend": false,
         "type": "scattergl",
         "x": {
          "bdata": "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",
          "dtype": "f8"
         },
         "xaxis": "x",
         "y": {
          "bdata": "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",
          "dtype": "f8"
         },
         "yaxis": "y"
        }
       ],
       "layout": {
        "legend": {
         "tracegroupgap": 0
        },
        "template": {
         "data": {
          "candlestick": [
           {
            "decreasing": {
             "line": {
              "color": "#000033"
             }
            },
            "increasing": {
             "line": {
              "color": "#000032"
             }
            },
            "type": "candlestick"
           }
          ],
          "contour": [
           {
            "colorscale": [
             [
              0,
              "#000011"
             ],
             [
              0.1111111111111111,
              "#000012"
             ],
             [
              0.2222222222222222,
              "#000013"
             ],
             [
              0.3333333333333333,
              "#000014"
             ],
             [
              0.4444444444444444,
              "#000015"
             ],
             [
              0.5555555555555556,
              "#000016"
             ],
             [
              0.6666666666666666,
              "#000017"
             ],
             [
              0.7777777777777778,
              "#000018"
             ],
             [
              0.8888888888888888,
              "#000019"
             ],
             [
              1,
              "#000020"
             ]
            ],
            "type": "contour"
           }
          ],
          "contourcarpet": [
           {
            "colorscale": [
             [
              0,
              "#000011"
             ],
             [
              0.1111111111111111,
              "#000012"
             ],
             [
              0.2222222222222222,
              "#000013"
             ],
             [
              0.3333333333333333,
              "#000014"
             ],
             [
              0.4444444444444444,
              "#000015"
             ],
             [
              0.5555555555555556,
              "#000016"
             ],
             [
              0.6666666666666666,
              "#000017"
             ],
             [
              0.7777777777777778,
              "#000018"
             ],
             [
              0.8888888888888888,
              "#000019"
             ],
             [
              1,
              "#000020"
             ]
            ],
            "type": "contourcarpet"
           }
          ],
          "heatmap": [
           {
            "colorscale": [
             [
              0,
              "#000011"
             ],
             [
              0.1111111111111111,
              "#000012"
             ],
             [
              0.2222222222222222,
              "#000013"
             ],
             [
              0.3333333333333333,
              "#000014"
             ],
             [
              0.4444444444444444,
              "#000015"
             ],
             [
              0.5555555555555556,
              "#000016"
             ],
             [
              0.6666666666666666,
              "#000017"
             ],
             [
              0.7777777777777778,
              "#000018"
             ],
             [
              0.8888888888888888,
              "#000019"
             ],
             [
              1,
              "#000020"
             ]
            ],
            "type": "heatmap"
           }
          ],
          "histogram2d": [
           {
            "colorscale": [
             [
              0,
              "#000011"
             ],
             [
              0.1111111111111111,
              "#000012"
             ],
             [
              0.2222222222222222,
              "#000013"
             ],
             [
              0.3333333333333333,
              "#000014"
             ],
             [
              0.4444444444444444,
              "#000015"
             ],
             [
              0.5555555555555556,
              "#000016"
             ],
             [
              0.6666666666666666,
              "#000017"
             ],
             [
              0.7777777777777778,
              "#000018"
             ],
             [
              0.8888888888888888,
              "#000019"
             ],
             [
              1,
              "#000020"
             ]
            ],
            "type": "histogram2d"
           }
          ],
          "icicle": [
           {
            "textfont": {
             "color": "white"
            },
            "type": "icicle"
           }
          ],
          "sankey": [
           {
            "textfont": {
             "color": "#000036"
            },
            "type": "sankey"
           }
          ],
          "scatter": [
           {
            "marker": {
             "line": {
              "width": 0
             }
            },
            "type": "scatter"
           }
          ],
          "table": [
           {
            "cells": {
             "fill": {
              "color": "#000038"
             },
             "font": {
              "color": "#000037"
             },
             "line": {
              "color": "#000039"
             }
            },
            "header": {
             "fill": {
              "color": "#000040"
             },
             "font": {
              "color": "#000036"
             },
             "line": {
              "color": "#000039"
             }
            },
            "type": "table"
           }
          ],
          "waterfall": [
           {
            "connector": {
             "line": {
              "color": "#000036",
              "width": 2
             }
            },
            "decreasing": {
             "marker": {
              "color": "#000033"
             }
            },
            "increasing": {
             "marker": {
              "color": "#000032"
             }
            },
            "totals": {
             "marker": {
              "color": "#000034"
             }
            },
            "type": "waterfall"
           }
          ]
         },
         "layout": {
          "coloraxis": {
           "colorscale": [
            [
             0,
             "#000011"
            ],
            [
             0.1111111111111111,
             "#000012"
            ],
            [
             0.2222222222222222,
             "#000013"
            ],
            [
             0.3333333333333333,
             "#000014"
            ],
            [
             0.4444444444444444,
             "#000015"
            ],
            [
             0.5555555555555556,
             "#000016"
            ],
            [
             0.6666666666666666,
             "#000017"
            ],
            [
             0.7777777777777778,
             "#000018"
            ],
            [
             0.8888888888888888,
             "#000019"
            ],
            [
             1,
             "#000020"
            ]
           ]
          },
          "colorscale": {
           "diverging": [
            [
             0,
             "#000021"
            ],
            [
             0.1,
             "#000022"
            ],
            [
             0.2,
             "#000023"
            ],
            [
             0.3,
             "#000024"
            ],
            [
             0.4,
             "#000025"
            ],
            [
             0.5,
             "#000026"
            ],
            [
             0.6,
             "#000027"
            ],
            [
             0.7,
             "#000028"
            ],
            [
             0.8,
             "#000029"
            ],
            [
             0.9,
             "#000030"
            ],
            [
             1,
             "#000031"
            ]
           ],
           "sequential": [
            [
             0,
             "#000011"
            ],
            [
             0.1111111111111111,
             "#000012"
            ],
            [
             0.2222222222222222,
             "#000013"
            ],
            [
             0.3333333333333333,
             "#000014"
            ],
            [
             0.4444444444444444,
             "#000015"
            ],
            [
             0.5555555555555556,
             "#000016"
            ],
            [
             0.6666666666666666,
             "#000017"
            ],
            [
             0.7777777777777778,
             "#000018"
            ],
            [
             0.8888888888888888,
             "#000019"
            ],
            [
             1,
             "#000020"
            ]
           ],
           "sequentialminus": [
            [
             0,
             "#000011"
            ],
            [
             0.1111111111111111,
             "#000012"
            ],
            [
             0.2222222222222222,
             "#000013"
            ],
            [
             0.3333333333333333,
             "#000014"
            ],
            [
             0.4444444444444444,
             "#000015"
            ],
            [
             0.5555555555555556,
             "#000016"
            ],
            [
             0.6666666666666666,
             "#000017"
            ],
            [
             0.7777777777777778,
             "#000018"
            ],
            [
             0.8888888888888888,
             "#000019"
            ],
            [
             1,
             "#000020"
            ]
           ]
          },
          "colorway": [
           "#000001",
           "#000002",
           "#000003",
           "#000004",
           "#000005",
           "#000006",
           "#000007",
           "#000008",
           "#000009",
           "#000010"
          ]
         }
        },
        "title": {
         "text": "Unemployment Rate vs Weekly Sales"
        },
        "xaxis": {
         "anchor": "y",
         "domain": [
          0,
          1
         ],
         "title": {
          "text": "unemployment"
         }
        },
        "yaxis": {
         "anchor": "x",
         "domain": [
          0,
          1
         ],
         "title": {
          "text": "weekly_sales"
         }
        }
       }
      }
     },
     "metadata": {},
     "output_type": "display_data"
    }
   ],
   "source": [
    "fig = px.scatter(df, x='unemployment', y='weekly_sales',\n",
    "                 title='Unemployment Rate vs Weekly Sales', trendline='ols')\n",
    "fig.show()\n"
   ]
  },
  {
   "cell_type": "code",
   "execution_count": 93,
   "id": "67cd3d16",
   "metadata": {},
   "outputs": [
    {
     "data": {
      "application/vnd.plotly.v1+json": {
       "config": {
        "plotlyServerURL": "https://plot.ly"
       },
       "data": [
        {
         "hovertemplate": "temperature=%{x}<br>weekly_sales=%{y}<extra></extra>",
         "legendgroup": "",
         "marker": {
          "color": "#000001",
          "symbol": "circle"
         },
         "mode": "markers",
         "name": "",
         "showlegend": false,
         "type": "scattergl",
         "x": {
          "bdata": "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",
          "dtype": "f8"
         },
         "xaxis": "x",
         "y": {
          "bdata": "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",
          "dtype": "f8"
         },
         "yaxis": "y"
        },
        {
         "hovertemplate": "<b>OLS trendline</b><br>weekly_sales = -1011.92 * temperature + 1.12017e+06<br>R<sup>2</sup>=0.001199<br><br>temperature=%{x}<br>weekly_sales=%{y} <b>(trend)</b><extra></extra>",
         "legendgroup": "",
         "marker": {
          "color": "#000001",
          "symbol": "circle"
         },
         "mode": "lines",
         "name": "",
         "showlegend": false,
         "type": "scattergl",
         "x": {
          "bdata": "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",
          "dtype": "f8"
         },
         "xaxis": "x",
         "y": {
          "bdata": "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",
          "dtype": "f8"
         },
         "yaxis": "y"
        }
       ],
       "layout": {
        "legend": {
         "tracegroupgap": 0
        },
        "template": {
         "data": {
          "candlestick": [
           {
            "decreasing": {
             "line": {
              "color": "#000033"
             }
            },
            "increasing": {
             "line": {
              "color": "#000032"
             }
            },
            "type": "candlestick"
           }
          ],
          "contour": [
           {
            "colorscale": [
             [
              0,
              "#000011"
             ],
             [
              0.1111111111111111,
              "#000012"
             ],
             [
              0.2222222222222222,
              "#000013"
             ],
             [
              0.3333333333333333,
              "#000014"
             ],
             [
              0.4444444444444444,
              "#000015"
             ],
             [
              0.5555555555555556,
              "#000016"
             ],
             [
              0.6666666666666666,
              "#000017"
             ],
             [
              0.7777777777777778,
              "#000018"
             ],
             [
              0.8888888888888888,
              "#000019"
             ],
             [
              1,
              "#000020"
             ]
            ],
            "type": "contour"
           }
          ],
          "contourcarpet": [
           {
            "colorscale": [
             [
              0,
              "#000011"
             ],
             [
              0.1111111111111111,
              "#000012"
             ],
             [
              0.2222222222222222,
              "#000013"
             ],
             [
              0.3333333333333333,
              "#000014"
             ],
             [
              0.4444444444444444,
              "#000015"
             ],
             [
              0.5555555555555556,
              "#000016"
             ],
             [
              0.6666666666666666,
              "#000017"
             ],
             [
              0.7777777777777778,
              "#000018"
             ],
             [
              0.8888888888888888,
              "#000019"
             ],
             [
              1,
              "#000020"
             ]
            ],
            "type": "contourcarpet"
           }
          ],
          "heatmap": [
           {
            "colorscale": [
             [
              0,
              "#000011"
             ],
             [
              0.1111111111111111,
              "#000012"
             ],
             [
              0.2222222222222222,
              "#000013"
             ],
             [
              0.3333333333333333,
              "#000014"
             ],
             [
              0.4444444444444444,
              "#000015"
             ],
             [
              0.5555555555555556,
              "#000016"
             ],
             [
              0.6666666666666666,
              "#000017"
             ],
             [
              0.7777777777777778,
              "#000018"
             ],
             [
              0.8888888888888888,
              "#000019"
             ],
             [
              1,
              "#000020"
             ]
            ],
            "type": "heatmap"
           }
          ],
          "histogram2d": [
           {
            "colorscale": [
             [
              0,
              "#000011"
             ],
             [
              0.1111111111111111,
              "#000012"
             ],
             [
              0.2222222222222222,
              "#000013"
             ],
             [
              0.3333333333333333,
              "#000014"
             ],
             [
              0.4444444444444444,
              "#000015"
             ],
             [
              0.5555555555555556,
              "#000016"
             ],
             [
              0.6666666666666666,
              "#000017"
             ],
             [
              0.7777777777777778,
              "#000018"
             ],
             [
              0.8888888888888888,
              "#000019"
             ],
             [
              1,
              "#000020"
             ]
            ],
            "type": "histogram2d"
           }
          ],
          "icicle": [
           {
            "textfont": {
             "color": "white"
            },
            "type": "icicle"
           }
          ],
          "sankey": [
           {
            "textfont": {
             "color": "#000036"
            },
            "type": "sankey"
           }
          ],
          "scatter": [
           {
            "marker": {
             "line": {
              "width": 0
             }
            },
            "type": "scatter"
           }
          ],
          "table": [
           {
            "cells": {
             "fill": {
              "color": "#000038"
             },
             "font": {
              "color": "#000037"
             },
             "line": {
              "color": "#000039"
             }
            },
            "header": {
             "fill": {
              "color": "#000040"
             },
             "font": {
              "color": "#000036"
             },
             "line": {
              "color": "#000039"
             }
            },
            "type": "table"
           }
          ],
          "waterfall": [
           {
            "connector": {
             "line": {
              "color": "#000036",
              "width": 2
             }
            },
            "decreasing": {
             "marker": {
              "color": "#000033"
             }
            },
            "increasing": {
             "marker": {
              "color": "#000032"
             }
            },
            "totals": {
             "marker": {
              "color": "#000034"
             }
            },
            "type": "waterfall"
           }
          ]
         },
         "layout": {
          "coloraxis": {
           "colorscale": [
            [
             0,
             "#000011"
            ],
            [
             0.1111111111111111,
             "#000012"
            ],
            [
             0.2222222222222222,
             "#000013"
            ],
            [
             0.3333333333333333,
             "#000014"
            ],
            [
             0.4444444444444444,
             "#000015"
            ],
            [
             0.5555555555555556,
             "#000016"
            ],
            [
             0.6666666666666666,
             "#000017"
            ],
            [
             0.7777777777777778,
             "#000018"
            ],
            [
             0.8888888888888888,
             "#000019"
            ],
            [
             1,
             "#000020"
            ]
           ]
          },
          "colorscale": {
           "diverging": [
            [
             0,
             "#000021"
            ],
            [
             0.1,
             "#000022"
            ],
            [
             0.2,
             "#000023"
            ],
            [
             0.3,
             "#000024"
            ],
            [
             0.4,
             "#000025"
            ],
            [
             0.5,
             "#000026"
            ],
            [
             0.6,
             "#000027"
            ],
            [
             0.7,
             "#000028"
            ],
            [
             0.8,
             "#000029"
            ],
            [
             0.9,
             "#000030"
            ],
            [
             1,
             "#000031"
            ]
           ],
           "sequential": [
            [
             0,
             "#000011"
            ],
            [
             0.1111111111111111,
             "#000012"
            ],
            [
             0.2222222222222222,
             "#000013"
            ],
            [
             0.3333333333333333,
             "#000014"
            ],
            [
             0.4444444444444444,
             "#000015"
            ],
            [
             0.5555555555555556,
             "#000016"
            ],
            [
             0.6666666666666666,
             "#000017"
            ],
            [
             0.7777777777777778,
             "#000018"
            ],
            [
             0.8888888888888888,
             "#000019"
            ],
            [
             1,
             "#000020"
            ]
           ],
           "sequentialminus": [
            [
             0,
             "#000011"
            ],
            [
             0.1111111111111111,
             "#000012"
            ],
            [
             0.2222222222222222,
             "#000013"
            ],
            [
             0.3333333333333333,
             "#000014"
            ],
            [
             0.4444444444444444,
             "#000015"
            ],
            [
             0.5555555555555556,
             "#000016"
            ],
            [
             0.6666666666666666,
             "#000017"
            ],
            [
             0.7777777777777778,
             "#000018"
            ],
            [
             0.8888888888888888,
             "#000019"
            ],
            [
             1,
             "#000020"
            ]
           ]
          },
          "colorway": [
           "#000001",
           "#000002",
           "#000003",
           "#000004",
           "#000005",
           "#000006",
           "#000007",
           "#000008",
           "#000009",
           "#000010"
          ]
         }
        },
        "title": {
         "text": "Temperature vs Weekly Sales"
        },
        "xaxis": {
         "anchor": "y",
         "domain": [
          0,
          1
         ],
         "title": {
          "text": "temperature"
         }
        },
        "yaxis": {
         "anchor": "x",
         "domain": [
          0,
          1
         ],
         "title": {
          "text": "weekly_sales"
         }
        }
       }
      }
     },
     "metadata": {},
     "output_type": "display_data"
    }
   ],
   "source": [
    "fig = px.scatter(df, x='temperature', y='weekly_sales',\n",
    "                 title='Temperature vs Weekly Sales', trendline='ols')\n",
    "fig.show()\n"
   ]
  },
  {
   "cell_type": "code",
   "execution_count": 94,
   "id": "c73b270b",
   "metadata": {},
   "outputs": [
    {
     "data": {
      "application/vnd.plotly.v1+json": {
       "config": {
        "plotlyServerURL": "https://plot.ly"
       },
       "data": [
        {
         "hovertemplate": "unemployment=%{x}<br>weekly_sales=%{y}<extra></extra>",
         "legendgroup": "",
         "marker": {
          "color": "#000001",
          "symbol": "circle"
         },
         "mode": "markers",
         "name": "",
         "showlegend": false,
         "type": "scattergl",
         "x": {
          "bdata": "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",
          "dtype": "f8"
         },
         "xaxis": "x",
         "y": {
          "bdata": "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",
          "dtype": "f8"
         },
         "yaxis": "y"
        },
        {
         "hovertemplate": "<b>OLS trendline</b><br>weekly_sales = -29442.2 * unemployment + 1.29607e+06<br>R<sup>2</sup>=0.009842<br><br>unemployment=%{x}<br>weekly_sales=%{y} <b>(trend)</b><extra></extra>",
         "legendgroup": "",
         "marker": {
          "color": "#000001",
          "symbol": "circle"
         },
         "mode": "lines",
         "name": "",
         "showlegend": false,
         "type": "scattergl",
         "x": {
          "bdata": "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",
          "dtype": "f8"
         },
         "xaxis": "x",
         "y": {
          "bdata": "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",
          "dtype": "f8"
         },
         "yaxis": "y"
        }
       ],
       "layout": {
        "legend": {
         "tracegroupgap": 0
        },
        "template": {
         "data": {
          "candlestick": [
           {
            "decreasing": {
             "line": {
              "color": "#000033"
             }
            },
            "increasing": {
             "line": {
              "color": "#000032"
             }
            },
            "type": "candlestick"
           }
          ],
          "contour": [
           {
            "colorscale": [
             [
              0,
              "#000011"
             ],
             [
              0.1111111111111111,
              "#000012"
             ],
             [
              0.2222222222222222,
              "#000013"
             ],
             [
              0.3333333333333333,
              "#000014"
             ],
             [
              0.4444444444444444,
              "#000015"
             ],
             [
              0.5555555555555556,
              "#000016"
             ],
             [
              0.6666666666666666,
              "#000017"
             ],
             [
              0.7777777777777778,
              "#000018"
             ],
             [
              0.8888888888888888,
              "#000019"
             ],
             [
              1,
              "#000020"
             ]
            ],
            "type": "contour"
           }
          ],
          "contourcarpet": [
           {
            "colorscale": [
             [
              0,
              "#000011"
             ],
             [
              0.1111111111111111,
              "#000012"
             ],
             [
              0.2222222222222222,
              "#000013"
             ],
             [
              0.3333333333333333,
              "#000014"
             ],
             [
              0.4444444444444444,
              "#000015"
             ],
             [
              0.5555555555555556,
              "#000016"
             ],
             [
              0.6666666666666666,
              "#000017"
             ],
             [
              0.7777777777777778,
              "#000018"
             ],
             [
              0.8888888888888888,
              "#000019"
             ],
             [
              1,
              "#000020"
             ]
            ],
            "type": "contourcarpet"
           }
          ],
          "heatmap": [
           {
            "colorscale": [
             [
              0,
              "#000011"
             ],
             [
              0.1111111111111111,
              "#000012"
             ],
             [
              0.2222222222222222,
              "#000013"
             ],
             [
              0.3333333333333333,
              "#000014"
             ],
             [
              0.4444444444444444,
              "#000015"
             ],
             [
              0.5555555555555556,
              "#000016"
             ],
             [
              0.6666666666666666,
              "#000017"
             ],
             [
              0.7777777777777778,
              "#000018"
             ],
             [
              0.8888888888888888,
              "#000019"
             ],
             [
              1,
              "#000020"
             ]
            ],
            "type": "heatmap"
           }
          ],
          "histogram2d": [
           {
            "colorscale": [
             [
              0,
              "#000011"
             ],
             [
              0.1111111111111111,
              "#000012"
             ],
             [
              0.2222222222222222,
              "#000013"
             ],
             [
              0.3333333333333333,
              "#000014"
             ],
             [
              0.4444444444444444,
              "#000015"
             ],
             [
              0.5555555555555556,
              "#000016"
             ],
             [
              0.6666666666666666,
              "#000017"
             ],
             [
              0.7777777777777778,
              "#000018"
             ],
             [
              0.8888888888888888,
              "#000019"
             ],
             [
              1,
              "#000020"
             ]
            ],
            "type": "histogram2d"
           }
          ],
          "icicle": [
           {
            "textfont": {
             "color": "white"
            },
            "type": "icicle"
           }
          ],
          "sankey": [
           {
            "textfont": {
             "color": "#000036"
            },
            "type": "sankey"
           }
          ],
          "scatter": [
           {
            "marker": {
             "line": {
              "width": 0
             }
            },
            "type": "scatter"
           }
          ],
          "table": [
           {
            "cells": {
             "fill": {
              "color": "#000038"
             },
             "font": {
              "color": "#000037"
             },
             "line": {
              "color": "#000039"
             }
            },
            "header": {
             "fill": {
              "color": "#000040"
             },
             "font": {
              "color": "#000036"
             },
             "line": {
              "color": "#000039"
             }
            },
            "type": "table"
           }
          ],
          "waterfall": [
           {
            "connector": {
             "line": {
              "color": "#000036",
              "width": 2
             }
            },
            "decreasing": {
             "marker": {
              "color": "#000033"
             }
            },
            "increasing": {
             "marker": {
              "color": "#000032"
             }
            },
            "totals": {
             "marker": {
              "color": "#000034"
             }
            },
            "type": "waterfall"
           }
          ]
         },
         "layout": {
          "coloraxis": {
           "colorscale": [
            [
             0,
             "#000011"
            ],
            [
             0.1111111111111111,
             "#000012"
            ],
            [
             0.2222222222222222,
             "#000013"
            ],
            [
             0.3333333333333333,
             "#000014"
            ],
            [
             0.4444444444444444,
             "#000015"
            ],
            [
             0.5555555555555556,
             "#000016"
            ],
            [
             0.6666666666666666,
             "#000017"
            ],
            [
             0.7777777777777778,
             "#000018"
            ],
            [
             0.8888888888888888,
             "#000019"
            ],
            [
             1,
             "#000020"
            ]
           ]
          },
          "colorscale": {
           "diverging": [
            [
             0,
             "#000021"
            ],
            [
             0.1,
             "#000022"
            ],
            [
             0.2,
             "#000023"
            ],
            [
             0.3,
             "#000024"
            ],
            [
             0.4,
             "#000025"
            ],
            [
             0.5,
             "#000026"
            ],
            [
             0.6,
             "#000027"
            ],
            [
             0.7,
             "#000028"
            ],
            [
             0.8,
             "#000029"
            ],
            [
             0.9,
             "#000030"
            ],
            [
             1,
             "#000031"
            ]
           ],
           "sequential": [
            [
             0,
             "#000011"
            ],
            [
             0.1111111111111111,
             "#000012"
            ],
            [
             0.2222222222222222,
             "#000013"
            ],
            [
             0.3333333333333333,
             "#000014"
            ],
            [
             0.4444444444444444,
             "#000015"
            ],
            [
             0.5555555555555556,
             "#000016"
            ],
            [
             0.6666666666666666,
             "#000017"
            ],
            [
             0.7777777777777778,
             "#000018"
            ],
            [
             0.8888888888888888,
             "#000019"
            ],
            [
             1,
             "#000020"
            ]
           ],
           "sequentialminus": [
            [
             0,
             "#000011"
            ],
            [
             0.1111111111111111,
             "#000012"
            ],
            [
             0.2222222222222222,
             "#000013"
            ],
            [
             0.3333333333333333,
             "#000014"
            ],
            [
             0.4444444444444444,
             "#000015"
            ],
            [
             0.5555555555555556,
             "#000016"
            ],
            [
             0.6666666666666666,
             "#000017"
            ],
            [
             0.7777777777777778,
             "#000018"
            ],
            [
             0.8888888888888888,
             "#000019"
            ],
            [
             1,
             "#000020"
            ]
           ]
          },
          "colorway": [
           "#000001",
           "#000002",
           "#000003",
           "#000004",
           "#000005",
           "#000006",
           "#000007",
           "#000008",
           "#000009",
           "#000010"
          ]
         }
        },
        "title": {
         "text": "Unemployment Rate vs Weekly Sales"
        },
        "xaxis": {
         "anchor": "y",
         "domain": [
          0,
          1
         ],
         "title": {
          "text": "unemployment"
         }
        },
        "yaxis": {
         "anchor": "x",
         "domain": [
          0,
          1
         ],
         "title": {
          "text": "weekly_sales"
         }
        }
       }
      }
     },
     "metadata": {},
     "output_type": "display_data"
    }
   ],
   "source": [
    "fig = px.scatter(df, x='unemployment', y='weekly_sales',\n",
    "                 title='Unemployment Rate vs Weekly Sales', trendline='ols')\n",
    "fig.show()\n"
   ]
  },
  {
   "cell_type": "code",
   "execution_count": 101,
   "id": "0cf9facc",
   "metadata": {},
   "outputs": [
    {
     "data": {
      "application/vnd.plotly.v1+json": {
       "config": {
        "plotlyServerURL": "https://plot.ly"
       },
       "data": [
        {
         "coloraxis": "coloraxis",
         "hovertemplate": "x: %{x}<br>y: %{y}<br>color: %{z}<extra></extra>",
         "name": "0",
         "texttemplate": "%{z}",
         "type": "heatmap",
         "x": [
          "weekly_sales",
          "holiday_flag",
          "temperature",
          "fuel_price",
          "cpi",
          "unemployment",
          "is_weekend",
          "is_holiday"
         ],
         "xaxis": "x",
         "y": [
          "weekly_sales",
          "holiday_flag",
          "temperature",
          "fuel_price",
          "cpi",
          "unemployment",
          "is_weekend",
          "is_holiday"
         ],
         "yaxis": "y",
         "z": {
          "bdata": "AAAAAAAA8D8AAAAAAAAAALgehetRuJ6/uB6F61G4nj97FK5H4Xq0v5qZmZmZmbm/exSuR+F6hL8AAAAAAAAAAAAAAAAAAAAAAAAAAAAA8D97FK5H4Xq0v5qZmZmZmam/AAAAAAAAAIAAAAAAAAAAAHsUrkfherS/CtejcD0Kt7+4HoXrUbiev3sUrkfherS/AAAAAAAA8D97FK5H4XrEP3sUrkfhesQ/mpmZmZmZuT97FK5H4XqkP3sUrkfheoQ/uB6F61G4nj+amZmZmZmpv3sUrkfhesQ/AAAAAAAA8D/D9Shcj8LFv3sUrkfheqS/exSuR+F6xL/sUbgeheuxP3sUrkfherS/AAAAAAAAAIB7FK5H4XrEP8P1KFyPwsW/AAAAAAAA8D8zMzMzMzPTv3sUrkfhepS/exSuR+F6hD+amZmZmZm5vwAAAAAAAAAAmpmZmZmZuT97FK5H4XqkvzMzMzMzM9O/AAAAAAAA8D97FK5H4Xq0P3sUrkfheqS/exSuR+F6hL97FK5H4Xq0v3sUrkfheqQ/exSuR+F6xL97FK5H4XqUv3sUrkfherQ/AAAAAAAA8D97FK5H4XrEvwAAAAAAAAAACtejcD0Kt797FK5H4XqEP+xRuB6F67E/exSuR+F6hD97FK5H4Xqkv3sUrkfhesS/AAAAAAAA8D8=",
          "dtype": "f8",
          "shape": "8, 8"
         }
        }
       ],
       "layout": {
        "coloraxis": {
         "cmax": 1,
         "cmin": -1,
         "colorscale": [
          [
           0,
           "rgb(5,48,97)"
          ],
          [
           0.1,
           "rgb(33,102,172)"
          ],
          [
           0.2,
           "rgb(67,147,195)"
          ],
          [
           0.3,
           "rgb(146,197,222)"
          ],
          [
           0.4,
           "rgb(209,229,240)"
          ],
          [
           0.5,
           "rgb(247,247,247)"
          ],
          [
           0.6,
           "rgb(253,219,199)"
          ],
          [
           0.7,
           "rgb(244,165,130)"
          ],
          [
           0.8,
           "rgb(214,96,77)"
          ],
          [
           0.9,
           "rgb(178,24,43)"
          ],
          [
           1,
           "rgb(103,0,31)"
          ]
         ]
        },
        "height": 600,
        "margin": {
         "b": 40,
         "l": 80,
         "r": 40,
         "t": 60
        },
        "template": {
         "data": {
          "candlestick": [
           {
            "decreasing": {
             "line": {
              "color": "#000033"
             }
            },
            "increasing": {
             "line": {
              "color": "#000032"
             }
            },
            "type": "candlestick"
           }
          ],
          "contour": [
           {
            "colorscale": [
             [
              0,
              "#000011"
             ],
             [
              0.1111111111111111,
              "#000012"
             ],
             [
              0.2222222222222222,
              "#000013"
             ],
             [
              0.3333333333333333,
              "#000014"
             ],
             [
              0.4444444444444444,
              "#000015"
             ],
             [
              0.5555555555555556,
              "#000016"
             ],
             [
              0.6666666666666666,
              "#000017"
             ],
             [
              0.7777777777777778,
              "#000018"
             ],
             [
              0.8888888888888888,
              "#000019"
             ],
             [
              1,
              "#000020"
             ]
            ],
            "type": "contour"
           }
          ],
          "contourcarpet": [
           {
            "colorscale": [
             [
              0,
              "#000011"
             ],
             [
              0.1111111111111111,
              "#000012"
             ],
             [
              0.2222222222222222,
              "#000013"
             ],
             [
              0.3333333333333333,
              "#000014"
             ],
             [
              0.4444444444444444,
              "#000015"
             ],
             [
              0.5555555555555556,
              "#000016"
             ],
             [
              0.6666666666666666,
              "#000017"
             ],
             [
              0.7777777777777778,
              "#000018"
             ],
             [
              0.8888888888888888,
              "#000019"
             ],
             [
              1,
              "#000020"
             ]
            ],
            "type": "contourcarpet"
           }
          ],
          "heatmap": [
           {
            "colorscale": [
             [
              0,
              "#000011"
             ],
             [
              0.1111111111111111,
              "#000012"
             ],
             [
              0.2222222222222222,
              "#000013"
             ],
             [
              0.3333333333333333,
              "#000014"
             ],
             [
              0.4444444444444444,
              "#000015"
             ],
             [
              0.5555555555555556,
              "#000016"
             ],
             [
              0.6666666666666666,
              "#000017"
             ],
             [
              0.7777777777777778,
              "#000018"
             ],
             [
              0.8888888888888888,
              "#000019"
             ],
             [
              1,
              "#000020"
             ]
            ],
            "type": "heatmap"
           }
          ],
          "histogram2d": [
           {
            "colorscale": [
             [
              0,
              "#000011"
             ],
             [
              0.1111111111111111,
              "#000012"
             ],
             [
              0.2222222222222222,
              "#000013"
             ],
             [
              0.3333333333333333,
              "#000014"
             ],
             [
              0.4444444444444444,
              "#000015"
             ],
             [
              0.5555555555555556,
              "#000016"
             ],
             [
              0.6666666666666666,
              "#000017"
             ],
             [
              0.7777777777777778,
              "#000018"
             ],
             [
              0.8888888888888888,
              "#000019"
             ],
             [
              1,
              "#000020"
             ]
            ],
            "type": "histogram2d"
           }
          ],
          "icicle": [
           {
            "textfont": {
             "color": "white"
            },
            "type": "icicle"
           }
          ],
          "sankey": [
           {
            "textfont": {
             "color": "#000036"
            },
            "type": "sankey"
           }
          ],
          "scatter": [
           {
            "marker": {
             "line": {
              "width": 0
             }
            },
            "type": "scatter"
           }
          ],
          "table": [
           {
            "cells": {
             "fill": {
              "color": "#000038"
             },
             "font": {
              "color": "#000037"
             },
             "line": {
              "color": "#000039"
             }
            },
            "header": {
             "fill": {
              "color": "#000040"
             },
             "font": {
              "color": "#000036"
             },
             "line": {
              "color": "#000039"
             }
            },
            "type": "table"
           }
          ],
          "waterfall": [
           {
            "connector": {
             "line": {
              "color": "#000036",
              "width": 2
             }
            },
            "decreasing": {
             "marker": {
              "color": "#000033"
             }
            },
            "increasing": {
             "marker": {
              "color": "#000032"
             }
            },
            "totals": {
             "marker": {
              "color": "#000034"
             }
            },
            "type": "waterfall"
           }
          ]
         },
         "layout": {
          "coloraxis": {
           "colorscale": [
            [
             0,
             "#000011"
            ],
            [
             0.1111111111111111,
             "#000012"
            ],
            [
             0.2222222222222222,
             "#000013"
            ],
            [
             0.3333333333333333,
             "#000014"
            ],
            [
             0.4444444444444444,
             "#000015"
            ],
            [
             0.5555555555555556,
             "#000016"
            ],
            [
             0.6666666666666666,
             "#000017"
            ],
            [
             0.7777777777777778,
             "#000018"
            ],
            [
             0.8888888888888888,
             "#000019"
            ],
            [
             1,
             "#000020"
            ]
           ]
          },
          "colorscale": {
           "diverging": [
            [
             0,
             "#000021"
            ],
            [
             0.1,
             "#000022"
            ],
            [
             0.2,
             "#000023"
            ],
            [
             0.3,
             "#000024"
            ],
            [
             0.4,
             "#000025"
            ],
            [
             0.5,
             "#000026"
            ],
            [
             0.6,
             "#000027"
            ],
            [
             0.7,
             "#000028"
            ],
            [
             0.8,
             "#000029"
            ],
            [
             0.9,
             "#000030"
            ],
            [
             1,
             "#000031"
            ]
           ],
           "sequential": [
            [
             0,
             "#000011"
            ],
            [
             0.1111111111111111,
             "#000012"
            ],
            [
             0.2222222222222222,
             "#000013"
            ],
            [
             0.3333333333333333,
             "#000014"
            ],
            [
             0.4444444444444444,
             "#000015"
            ],
            [
             0.5555555555555556,
             "#000016"
            ],
            [
             0.6666666666666666,
             "#000017"
            ],
            [
             0.7777777777777778,
             "#000018"
            ],
            [
             0.8888888888888888,
             "#000019"
            ],
            [
             1,
             "#000020"
            ]
           ],
           "sequentialminus": [
            [
             0,
             "#000011"
            ],
            [
             0.1111111111111111,
             "#000012"
            ],
            [
             0.2222222222222222,
             "#000013"
            ],
            [
             0.3333333333333333,
             "#000014"
            ],
            [
             0.4444444444444444,
             "#000015"
            ],
            [
             0.5555555555555556,
             "#000016"
            ],
            [
             0.6666666666666666,
             "#000017"
            ],
            [
             0.7777777777777778,
             "#000018"
            ],
            [
             0.8888888888888888,
             "#000019"
            ],
            [
             1,
             "#000020"
            ]
           ]
          },
          "colorway": [
           "#000001",
           "#000002",
           "#000003",
           "#000004",
           "#000005",
           "#000006",
           "#000007",
           "#000008",
           "#000009",
           "#000010"
          ]
         }
        },
        "title": {
         "text": "🔍 Interactive Correlation Heatmap of Key Features",
         "x": 0.5
        },
        "xaxis": {
         "anchor": "y",
         "constrain": "domain",
         "domain": [
          0,
          1
         ],
         "scaleanchor": "y",
         "title": {
          "text": "Features"
         }
        },
        "yaxis": {
         "anchor": "x",
         "autorange": "reversed",
         "constrain": "domain",
         "domain": [
          0,
          1
         ],
         "title": {
          "text": "Features"
         }
        }
       }
      }
     },
     "metadata": {},
     "output_type": "display_data"
    }
   ],
   "source": [
    "\n",
    "\n",
    "\n",
    "\n",
    "selected_cols = [\n",
    "    'weekly_sales',\n",
    "    'holiday_flag',\n",
    "    'temperature',\n",
    "    'fuel_price',\n",
    "    'cpi',\n",
    "    'unemployment',\n",
    "    'is_weekend',\n",
    "    'is_holiday'\n",
    "]\n",
    "\n",
    "\n",
    "filtered_df = df[selected_cols].dropna()\n",
    "\n",
    "\n",
    "corr_matrix = filtered_df.corr().round(2)\n",
    "\n",
    "\n",
    "fig = px.imshow(\n",
    "    corr_matrix,\n",
    "    text_auto=True,\n",
    "    color_continuous_scale='RdBu_r',\n",
    "    zmin=-1, zmax=1,\n",
    "    title=\"🔍 Interactive Correlation Heatmap of Key Features\"\n",
    ")\n",
    "\n",
    "fig.update_layout(\n",
    "    xaxis_title=\"Features\",\n",
    "    yaxis_title=\"Features\",\n",
    "    title_x=0.5,\n",
    "    height=600,\n",
    "    margin=dict(l=80, r=40, t=60, b=40)\n",
    ")\n",
    "\n",
    "fig.show()\n"
   ]
  },
  {
   "cell_type": "code",
   "execution_count": 102,
   "id": "5d999bb3",
   "metadata": {},
   "outputs": [
    {
     "data": {
      "image/png": "[encoded data removed]",
      "text/plain": [
       "<Figure size 1500x1000 with 5 Axes>"
      ]
     },
     "metadata": {},
     "output_type": "display_data"
    }
   ],
   "source": [
    "import seaborn as sns\n",
    "import matplotlib.pyplot as plt\n",
    "\n",
    "num_cols = ['weekly_sales', 'temperature', 'fuel_price', 'cpi', 'unemployment']\n",
    "plt.figure(figsize=(15, 10))\n",
    "for i, col in enumerate(num_cols):\n",
    "    plt.subplot(2, 3, i + 1)\n",
    "    sns.histplot(df[col], kde=True)\n",
    "    plt.title(f'{col} Distribution')\n",
    "plt.tight_layout()\n",
    "plt.show()\n"
   ]
  },
  {
   "cell_type": "code",
   "execution_count": 7,
   "id": "ea8858c6",
   "metadata": {},
   "outputs": [],
   "source": [
    "# Check if 'date' is already in index\n",
    "if 'date' not in df.columns:\n",
    "    df.reset_index(inplace=True)\n",
    "\n",
    "# Now ensure 'date' is datetime and set it as index\n",
    "df['date'] = pd.to_datetime(df['date'])\n",
    "df.set_index('date', inplace=True)\n"
   ]
  },
  {
   "cell_type": "code",
   "execution_count": 6,
   "id": "1c2ed912",
   "metadata": {},
   "outputs": [
    {
     "ename": "KeyError",
     "evalue": "'date'",
     "output_type": "error",
     "traceback": [
      "\u001b[1;31m---------------------------------------------------------------------------\u001b[0m",
      "\u001b[1;31mKeyError\u001b[0m                                  Traceback (most recent call last)",
      "File \u001b[1;32mc:\\Users\\saisa\\Downloads\\Walmart_Sales\\venv\\Lib\\site-packages\\pandas\\core\\indexes\\base.py:3805\u001b[0m, in \u001b[0;36mIndex.get_loc\u001b[1;34m(self, key)\u001b[0m\n\u001b[0;32m   3804\u001b[0m \u001b[38;5;28;01mtry\u001b[39;00m:\n\u001b[1;32m-> 3805\u001b[0m     \u001b[38;5;28;01mreturn\u001b[39;00m \u001b[38;5;28;43mself\u001b[39;49m\u001b[38;5;241;43m.\u001b[39;49m\u001b[43m_engine\u001b[49m\u001b[38;5;241;43m.\u001b[39;49m\u001b[43mget_loc\u001b[49m\u001b[43m(\u001b[49m\u001b[43mcasted_key\u001b[49m\u001b[43m)\u001b[49m\n\u001b[0;32m   3806\u001b[0m \u001b[38;5;28;01mexcept\u001b[39;00m \u001b[38;5;167;01mKeyError\u001b[39;00m \u001b[38;5;28;01mas\u001b[39;00m err:\n",
      "File \u001b[1;32mindex.pyx:167\u001b[0m, in \u001b[0;36mpandas._libs.index.IndexEngine.get_loc\u001b[1;34m()\u001b[0m\n",
      "File \u001b[1;32mindex.pyx:196\u001b[0m, in \u001b[0;36mpandas._libs.index.IndexEngine.get_loc\u001b[1;34m()\u001b[0m\n",
      "File \u001b[1;32mpandas\\\\_libs\\\\hashtable_class_helper.pxi:7081\u001b[0m, in \u001b[0;36mpandas._libs.hashtable.PyObjectHashTable.get_item\u001b[1;34m()\u001b[0m\n",
      "File \u001b[1;32mpandas\\\\_libs\\\\hashtable_class_helper.pxi:7089\u001b[0m, in \u001b[0;36mpandas._libs.hashtable.PyObjectHashTable.get_item\u001b[1;34m()\u001b[0m\n",
      "\u001b[1;31mKeyError\u001b[0m: 'date'",
      "\nThe above exception was the direct cause of the following exception:\n",
      "\u001b[1;31mKeyError\u001b[0m                                  Traceback (most recent call last)",
      "Cell \u001b[1;32mIn[6], line 2\u001b[0m\n\u001b[0;32m      1\u001b[0m \u001b[38;5;66;03m# Ensure 'date' is datetime and set as index\u001b[39;00m\n\u001b[1;32m----> 2\u001b[0m df[\u001b[38;5;124m'\u001b[39m\u001b[38;5;124mdate\u001b[39m\u001b[38;5;124m'\u001b[39m] \u001b[38;5;241m=\u001b[39m pd\u001b[38;5;241m.\u001b[39mto_datetime(\u001b[43mdf\u001b[49m\u001b[43m[\u001b[49m\u001b[38;5;124;43m'\u001b[39;49m\u001b[38;5;124;43mdate\u001b[39;49m\u001b[38;5;124;43m'\u001b[39;49m\u001b[43m]\u001b[49m)\n\u001b[0;32m      3\u001b[0m df\u001b[38;5;241m.\u001b[39mset_index(\u001b[38;5;124m'\u001b[39m\u001b[38;5;124mdate\u001b[39m\u001b[38;5;124m'\u001b[39m, inplace\u001b[38;5;241m=\u001b[39m\u001b[38;5;28;01mTrue\u001b[39;00m)\n\u001b[0;32m      5\u001b[0m \u001b[38;5;66;03m# --------------------------------\u001b[39;00m\n\u001b[0;32m      6\u001b[0m \u001b[38;5;66;03m# Decompose Overall Weekly Sales\u001b[39;00m\n\u001b[0;32m      7\u001b[0m \u001b[38;5;66;03m# --------------------------------\u001b[39;00m\n",
      "File \u001b[1;32mc:\\Users\\saisa\\Downloads\\Walmart_Sales\\venv\\Lib\\site-packages\\pandas\\core\\frame.py:4102\u001b[0m, in \u001b[0;36mDataFrame.__getitem__\u001b[1;34m(self, key)\u001b[0m\n\u001b[0;32m   4100\u001b[0m \u001b[38;5;28;01mif\u001b[39;00m \u001b[38;5;28mself\u001b[39m\u001b[38;5;241m.\u001b[39mcolumns\u001b[38;5;241m.\u001b[39mnlevels \u001b[38;5;241m>\u001b[39m \u001b[38;5;241m1\u001b[39m:\n\u001b[0;32m   4101\u001b[0m     \u001b[38;5;28;01mreturn\u001b[39;00m \u001b[38;5;28mself\u001b[39m\u001b[38;5;241m.\u001b[39m_getitem_multilevel(key)\n\u001b[1;32m-> 4102\u001b[0m indexer \u001b[38;5;241m=\u001b[39m \u001b[38;5;28;43mself\u001b[39;49m\u001b[38;5;241;43m.\u001b[39;49m\u001b[43mcolumns\u001b[49m\u001b[38;5;241;43m.\u001b[39;49m\u001b[43mget_loc\u001b[49m\u001b[43m(\u001b[49m\u001b[43mkey\u001b[49m\u001b[43m)\u001b[49m\n\u001b[0;32m   4103\u001b[0m \u001b[38;5;28;01mif\u001b[39;00m is_integer(indexer):\n\u001b[0;32m   4104\u001b[0m     indexer \u001b[38;5;241m=\u001b[39m [indexer]\n",
      "File \u001b[1;32mc:\\Users\\saisa\\Downloads\\Walmart_Sales\\venv\\Lib\\site-packages\\pandas\\core\\indexes\\base.py:3812\u001b[0m, in \u001b[0;36mIndex.get_loc\u001b[1;34m(self, key)\u001b[0m\n\u001b[0;32m   3807\u001b[0m     \u001b[38;5;28;01mif\u001b[39;00m \u001b[38;5;28misinstance\u001b[39m(casted_key, \u001b[38;5;28mslice\u001b[39m) \u001b[38;5;129;01mor\u001b[39;00m (\n\u001b[0;32m   3808\u001b[0m         \u001b[38;5;28misinstance\u001b[39m(casted_key, abc\u001b[38;5;241m.\u001b[39mIterable)\n\u001b[0;32m   3809\u001b[0m         \u001b[38;5;129;01mand\u001b[39;00m \u001b[38;5;28many\u001b[39m(\u001b[38;5;28misinstance\u001b[39m(x, \u001b[38;5;28mslice\u001b[39m) \u001b[38;5;28;01mfor\u001b[39;00m x \u001b[38;5;129;01min\u001b[39;00m casted_key)\n\u001b[0;32m   3810\u001b[0m     ):\n\u001b[0;32m   3811\u001b[0m         \u001b[38;5;28;01mraise\u001b[39;00m InvalidIndexError(key)\n\u001b[1;32m-> 3812\u001b[0m     \u001b[38;5;28;01mraise\u001b[39;00m \u001b[38;5;167;01mKeyError\u001b[39;00m(key) \u001b[38;5;28;01mfrom\u001b[39;00m\u001b[38;5;250m \u001b[39m\u001b[38;5;21;01merr\u001b[39;00m\n\u001b[0;32m   3813\u001b[0m \u001b[38;5;28;01mexcept\u001b[39;00m \u001b[38;5;167;01mTypeError\u001b[39;00m:\n\u001b[0;32m   3814\u001b[0m     \u001b[38;5;66;03m# If we have a listlike key, _check_indexing_error will raise\u001b[39;00m\n\u001b[0;32m   3815\u001b[0m     \u001b[38;5;66;03m#  InvalidIndexError. Otherwise we fall through and re-raise\u001b[39;00m\n\u001b[0;32m   3816\u001b[0m     \u001b[38;5;66;03m#  the TypeError.\u001b[39;00m\n\u001b[0;32m   3817\u001b[0m     \u001b[38;5;28mself\u001b[39m\u001b[38;5;241m.\u001b[39m_check_indexing_error(key)\n",
      "\u001b[1;31mKeyError\u001b[0m: 'date'"
     ]
    }
   ],
   "source": [
    "# Ensure 'date' is datetime and set as index\n",
    "df['date'] = pd.to_datetime(df['date'])\n",
    "df.set_index('date', inplace=True)\n",
    "\n",
    "# --------------------------------\n",
    "# Decompose Overall Weekly Sales\n",
    "# --------------------------------\n",
    "weekly_sales = df['weekly_sales'].resample('W').sum()\n",
    "\n",
    "result = seasonal_decompose(weekly_sales, model='additive', period=52)\n",
    "\n",
    "plt.figure(figsize=(14, 10))\n",
    "result.plot()\n",
    "plt.suptitle('⏱️ Time Series Decomposition of Weekly Sales', fontsize=16)\n",
    "plt.tight_layout()\n",
    "plt.show()\n",
    "\n",
    "# --------------------------------\n",
    "# Optional: Decompose per store\n",
    "# --------------------------------\n",
    "def decompose_store(store_id):\n",
    "    df_store = df[df['store'] == store_id]\n",
    "    weekly = df_store['weekly_sales'].resample('W').sum()\n",
    "    \n",
    "    if len(weekly) >= 52:\n",
    "        result = seasonal_decompose(weekly, model='additive', period=52)\n",
    "        result.plot()\n",
    "        plt.suptitle(f'Store {store_id} - Time Series Decomposition', fontsize=14)\n",
    "        plt.tight_layout()\n",
    "        plt.show()\n",
    "    else:\n",
    "        print(f\"⚠️ Not enough data to decompose store {store_id}.\")\n"
   ]
  },
  {
   "cell_type": "code",
   "execution_count": 14,
   "id": "e8f1c6b8",
   "metadata": {},
   "outputs": [
    {
     "data": {
      "image/png": "[encoded data removed]",
      "text/plain": [
       "<Figure size 640x480 with 4 Axes>"
      ]
     },
     "metadata": {},
     "output_type": "display_data"
    }
   ],
   "source": [
    "from statsmodels.tsa.seasonal import seasonal_decompose\n",
    "import matplotlib.pyplot as plt\n",
    "\n",
    "# Decompose overall sales\n",
    "weekly_sales = df['weekly_sales'].resample('W').sum()\n",
    "result = seasonal_decompose(weekly_sales, model='additive', period=52)\n",
    "\n",
    "# Plot\n",
    "\n",
    "result.plot()\n",
    "plt.suptitle('Time Series Decomposition of Weekly Sales', fontsize=16)\n",
    "plt.tight_layout()\n",
    "plt.show()\n"
   ]
  }
 ],
 "metadata": {
  "kernelspec": {
   "display_name": "venv",
   "language": "python",
   "name": "python3"
  },
  "language_info": {
   "codemirror_mode": {
    "name": "ipython",
    "version": 3
   },
   "file_extension": ".py",
   "mimetype": "text/x-python",
   "name": "python",
   "nbconvert_exporter": "python",
   "pygments_lexer": "ipython3",
   "version": "3.13.5"
  }
 },
 "nbformat": 4,
 "nbformat_minor": 5
}
