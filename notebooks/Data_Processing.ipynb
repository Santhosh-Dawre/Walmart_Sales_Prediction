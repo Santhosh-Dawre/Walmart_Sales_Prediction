{
 "cells": [
  {
   "cell_type": "markdown",
   "id": "80adabd9",
   "metadata": {},
   "source": [
    "# Libraries"
   ]
  },
  {
   "cell_type": "code",
   "execution_count": 57,
   "id": "74add9fa",
   "metadata": {},
   "outputs": [],
   "source": [
    "import pandas as pd\n",
    "import numpy as np\n",
    "import os"
   ]
  },
  {
   "cell_type": "markdown",
   "id": "2c4885b4",
   "metadata": {},
   "source": [
    "# Loading Data"
   ]
  },
  {
   "cell_type": "code",
   "execution_count": 58,
   "id": "7e203e7e",
   "metadata": {},
   "outputs": [],
   "source": [
    "raw_data_path = \"C:/Users/Saisa/Downloads/Walmart_Sales/data/raw/Walmart_Sales.csv\"\n",
    "store_data_path = \"C:/Users/Saisa/Downloads/Walmart_Sales/data/raw/store_names.csv\"\n",
    "\n",
    "df_sales = pd.read_csv(raw_data_path)\n",
    "df_stores = pd.read_csv(store_data_path)"
   ]
  },
  {
   "cell_type": "code",
   "execution_count": 59,
   "id": "62dc0b49",
   "metadata": {},
   "outputs": [
    {
     "data": {
      "text/plain": [
       "(6435, 8)"
      ]
     },
     "execution_count": 59,
     "metadata": {},
     "output_type": "execute_result"
    }
   ],
   "source": [
    "df_sales.shape"
   ]
  },
  {
   "cell_type": "code",
   "execution_count": 60,
   "id": "65598387",
   "metadata": {},
   "outputs": [
    {
     "data": {
      "text/html": [
       "<div>\n",
       "<style scoped>\n",
       "    .dataframe tbody tr th:only-of-type {\n",
       "        vertical-align: middle;\n",
       "    }\n",
       "\n",
       "    .dataframe tbody tr th {\n",
       "        vertical-align: top;\n",
       "    }\n",
       "\n",
       "    .dataframe thead th {\n",
       "        text-align: right;\n",
       "    }\n",
       "</style>\n",
       "<table border=\"1\" class=\"dataframe\">\n",
       "  <thead>\n",
       "    <tr style=\"text-align: right;\">\n",
       "      <th></th>\n",
       "      <th>Store</th>\n",
       "      <th>Date</th>\n",
       "      <th>Weekly_Sales</th>\n",
       "      <th>Holiday_Flag</th>\n",
       "      <th>Temperature</th>\n",
       "      <th>Fuel_Price</th>\n",
       "      <th>CPI</th>\n",
       "      <th>Unemployment</th>\n",
       "    </tr>\n",
       "  </thead>\n",
       "  <tbody>\n",
       "    <tr>\n",
       "      <th>0</th>\n",
       "      <td>1</td>\n",
       "      <td>05-02-2010</td>\n",
       "      <td>1643690.90</td>\n",
       "      <td>0</td>\n",
       "      <td>42.31</td>\n",
       "      <td>2.572</td>\n",
       "      <td>211.096358</td>\n",
       "      <td>8.106</td>\n",
       "    </tr>\n",
       "    <tr>\n",
       "      <th>1</th>\n",
       "      <td>1</td>\n",
       "      <td>12-02-2010</td>\n",
       "      <td>1641957.44</td>\n",
       "      <td>1</td>\n",
       "      <td>38.51</td>\n",
       "      <td>2.548</td>\n",
       "      <td>211.242170</td>\n",
       "      <td>8.106</td>\n",
       "    </tr>\n",
       "    <tr>\n",
       "      <th>2</th>\n",
       "      <td>1</td>\n",
       "      <td>19-02-2010</td>\n",
       "      <td>1611968.17</td>\n",
       "      <td>0</td>\n",
       "      <td>39.93</td>\n",
       "      <td>2.514</td>\n",
       "      <td>211.289143</td>\n",
       "      <td>8.106</td>\n",
       "    </tr>\n",
       "    <tr>\n",
       "      <th>3</th>\n",
       "      <td>1</td>\n",
       "      <td>26-02-2010</td>\n",
       "      <td>1409727.59</td>\n",
       "      <td>0</td>\n",
       "      <td>46.63</td>\n",
       "      <td>2.561</td>\n",
       "      <td>211.319643</td>\n",
       "      <td>8.106</td>\n",
       "    </tr>\n",
       "    <tr>\n",
       "      <th>4</th>\n",
       "      <td>1</td>\n",
       "      <td>05-03-2010</td>\n",
       "      <td>1554806.68</td>\n",
       "      <td>0</td>\n",
       "      <td>46.50</td>\n",
       "      <td>2.625</td>\n",
       "      <td>211.350143</td>\n",
       "      <td>8.106</td>\n",
       "    </tr>\n",
       "  </tbody>\n",
       "</table>\n",
       "</div>"
      ],
      "text/plain": [
       "   Store        Date  Weekly_Sales  Holiday_Flag  Temperature  Fuel_Price  \\\n",
       "0      1  05-02-2010    1643690.90             0        42.31       2.572   \n",
       "1      1  12-02-2010    1641957.44             1        38.51       2.548   \n",
       "2      1  19-02-2010    1611968.17             0        39.93       2.514   \n",
       "3      1  26-02-2010    1409727.59             0        46.63       2.561   \n",
       "4      1  05-03-2010    1554806.68             0        46.50       2.625   \n",
       "\n",
       "          CPI  Unemployment  \n",
       "0  211.096358         8.106  \n",
       "1  211.242170         8.106  \n",
       "2  211.289143         8.106  \n",
       "3  211.319643         8.106  \n",
       "4  211.350143         8.106  "
      ]
     },
     "execution_count": 60,
     "metadata": {},
     "output_type": "execute_result"
    }
   ],
   "source": [
    "df_sales.head()"
   ]
  },
  {
   "cell_type": "code",
   "execution_count": 61,
   "id": "da230f90",
   "metadata": {},
   "outputs": [
    {
     "name": "stdout",
     "output_type": "stream",
     "text": [
      "<class 'pandas.core.frame.DataFrame'>\n",
      "RangeIndex: 6435 entries, 0 to 6434\n",
      "Data columns (total 8 columns):\n",
      " #   Column        Non-Null Count  Dtype  \n",
      "---  ------        --------------  -----  \n",
      " 0   Store         6435 non-null   int64  \n",
      " 1   Date          6435 non-null   object \n",
      " 2   Weekly_Sales  6435 non-null   float64\n",
      " 3   Holiday_Flag  6435 non-null   int64  \n",
      " 4   Temperature   6435 non-null   float64\n",
      " 5   Fuel_Price    6435 non-null   float64\n",
      " 6   CPI           6435 non-null   float64\n",
      " 7   Unemployment  6435 non-null   float64\n",
      "dtypes: float64(5), int64(2), object(1)\n",
      "memory usage: 402.3+ KB\n"
     ]
    }
   ],
   "source": [
    "df_sales.info()"
   ]
  },
  {
   "cell_type": "markdown",
   "id": "517ad536",
   "metadata": {},
   "source": [
    "# Data Cleaning"
   ]
  },
  {
   "cell_type": "code",
   "execution_count": 62,
   "id": "3d615cb1",
   "metadata": {},
   "outputs": [],
   "source": [
    "# Standardzing the Column Names\n",
    "df_sales.columns = df_sales.columns.str.lower().str.replace(\" \", \"_\")\n",
    "df_stores.columns = df_stores.columns.str.lower().str.replace(\" \", \"_\")"
   ]
  },
  {
   "cell_type": "code",
   "execution_count": 63,
   "id": "cb119711",
   "metadata": {},
   "outputs": [],
   "source": [
    "#Parsing Date Columns\n",
    "df_sales['date'] = pd.to_datetime(df_sales['date'], errors='coerce')\n",
    "df_sales.dropna(subset=['date'], inplace=True)  # remove rows with invalid dates\n"
   ]
  },
  {
   "cell_type": "code",
   "execution_count": 64,
   "id": "0bdfb61e",
   "metadata": {},
   "outputs": [
    {
     "data": {
      "text/plain": [
       "store           0\n",
       "date            0\n",
       "weekly_sales    0\n",
       "holiday_flag    0\n",
       "temperature     0\n",
       "fuel_price      0\n",
       "cpi             0\n",
       "unemployment    0\n",
       "dtype: int64"
      ]
     },
     "execution_count": 64,
     "metadata": {},
     "output_type": "execute_result"
    }
   ],
   "source": [
    "# Handling Missing Values\n",
    "df_sales.dropna()\n",
    "df_sales.isna().sum()\n"
   ]
  },
  {
   "cell_type": "code",
   "execution_count": 65,
   "id": "7347e988",
   "metadata": {},
   "outputs": [],
   "source": [
    "# Removing Duplicate Values\n",
    "\n",
    "df_sales.drop_duplicates(inplace=True)\n"
   ]
  },
  {
   "cell_type": "code",
   "execution_count": 66,
   "id": "3f7d28f8",
   "metadata": {},
   "outputs": [],
   "source": [
    "# Extracting Time Components\n",
    "\n",
    "df_sales['year'] = df_sales['date'].dt.year\n",
    "df_sales['month'] = df_sales['date'].dt.month\n",
    "df_sales['day'] = df_sales['date'].dt.day\n",
    "df_sales['weekday'] = df_sales['date'].dt.dayofweek\n",
    "df_sales['is_weekend'] = df_sales['weekday'].isin([5, 6])"
   ]
  },
  {
   "cell_type": "code",
   "execution_count": 68,
   "id": "a6f40fba",
   "metadata": {},
   "outputs": [
    {
     "name": "stderr",
     "output_type": "stream",
     "text": [
      "C:\\Users\\saisa\\AppData\\Local\\Temp\\ipykernel_7936\\3313458946.py:8: FutureWarning: The behavior of 'isin' with dtype=datetime64[ns] and castable values (e.g. strings) is deprecated. In a future version, these will not be considered matching by isin. Explicitly cast to the appropriate dtype before calling isin instead.\n",
      "  df_sales['is_holiday'] = df_sales['date'].isin(us_holidays).astype(int)\n"
     ]
    }
   ],
   "source": [
    "# Step 1: Import holidays\n",
    "import holidays\n",
    "\n",
    "# Step 2: Define US holidays for all years present in the dataset\n",
    "us_holidays = holidays.US(years=range(df_sales['date'].dt.year.min(), df_sales['date'].dt.year.max() + 1))\n",
    "\n",
    "# Step 3: Create 'is_holiday' flag\n",
    "df_sales['is_holiday'] = df_sales['date'].isin(us_holidays).astype(int)\n",
    "\n",
    "# Step 4: Create 'holiday_name' column\n",
    "df_sales['holiday_name'] = df_sales['date'].map(us_holidays)\n",
    "\n",
    "# Step 5: Fill non-holiday rows with 'None'\n",
    "df_sales['holiday_name'] = df_sales['holiday_name'].fillna('No Holiday')\n"
   ]
  },
  {
   "cell_type": "code",
   "execution_count": 69,
   "id": "3113e297",
   "metadata": {},
   "outputs": [
    {
     "data": {
      "text/plain": [
       "np.int64(0)"
      ]
     },
     "execution_count": 69,
     "metadata": {},
     "output_type": "execute_result"
    }
   ],
   "source": [
    "# Merge Store Names\n",
    "df = pd.merge(df_sales, df_stores, how='left', on='store')\n",
    "df['store_name'].isna().sum()\n"
   ]
  },
  {
   "cell_type": "code",
   "execution_count": 70,
   "id": "6e664431",
   "metadata": {},
   "outputs": [
    {
     "name": "stdout",
     "output_type": "stream",
     "text": [
      "<class 'pandas.core.frame.DataFrame'>\n",
      "RangeIndex: 2565 entries, 0 to 2564\n",
      "Data columns (total 16 columns):\n",
      " #   Column        Non-Null Count  Dtype         \n",
      "---  ------        --------------  -----         \n",
      " 0   store         2565 non-null   int64         \n",
      " 1   date          2565 non-null   datetime64[ns]\n",
      " 2   weekly_sales  2565 non-null   float64       \n",
      " 3   holiday_flag  2565 non-null   int64         \n",
      " 4   temperature   2565 non-null   float64       \n",
      " 5   fuel_price    2565 non-null   float64       \n",
      " 6   cpi           2565 non-null   float64       \n",
      " 7   unemployment  2565 non-null   float64       \n",
      " 8   year          2565 non-null   int32         \n",
      " 9   month         2565 non-null   int32         \n",
      " 10  day           2565 non-null   int32         \n",
      " 11  weekday       2565 non-null   int32         \n",
      " 12  is_weekend    2565 non-null   bool          \n",
      " 13  is_holiday    2565 non-null   int64         \n",
      " 14  holiday_name  2565 non-null   object        \n",
      " 15  store_name    2565 non-null   object        \n",
      "dtypes: bool(1), datetime64[ns](1), float64(5), int32(4), int64(3), object(2)\n",
      "memory usage: 263.1+ KB\n",
      "None\n",
      "             store                           date  weekly_sales  holiday_flag  \\\n",
      "count  2565.000000                           2565  2.565000e+03   2565.000000   \n",
      "mean     23.000000  2011-05-29 11:47:22.105263104  1.059872e+06      0.105263   \n",
      "min       1.000000            2010-01-10 00:00:00  2.099862e+05      0.000000   \n",
      "25%      12.000000            2010-10-09 00:00:00  5.700695e+05      0.000000   \n",
      "50%      23.000000            2011-05-08 00:00:00  9.813452e+05      0.000000   \n",
      "75%      34.000000            2012-02-03 00:00:00  1.450733e+06      0.000000   \n",
      "max      45.000000            2012-12-10 00:00:00  2.752122e+06      1.000000   \n",
      "std      12.989706                            NaN  5.573831e+05      0.306952   \n",
      "\n",
      "       temperature   fuel_price          cpi  unemployment         year  \\\n",
      "count  2565.000000  2565.000000  2565.000000   2565.000000  2565.000000   \n",
      "mean     59.585864     3.329579   171.386349      8.022267  2010.929825   \n",
      "min      -2.060000     2.513000   126.085452      3.879000  2010.000000   \n",
      "25%      45.260000     2.868000   131.586613      6.908000  2010.000000   \n",
      "50%      61.100000     3.417000   182.598306      7.907000  2011.000000   \n",
      "75%      74.570000     3.702000   212.512605      8.622000  2012.000000   \n",
      "max     100.070000     4.468000   227.169392     14.313000  2012.000000   \n",
      "std      19.069276     0.461985    39.293112      1.878158     0.791769   \n",
      "\n",
      "             month          day      weekday   is_holiday  \n",
      "count  2565.000000  2565.000000  2565.000000  2565.000000  \n",
      "mean      6.561404     6.491228     2.929825     0.070175  \n",
      "min       1.000000     1.000000     0.000000     0.000000  \n",
      "25%       4.000000     4.000000     1.000000     0.000000  \n",
      "50%       6.000000     6.000000     3.000000     0.000000  \n",
      "75%      10.000000     9.000000     5.000000     0.000000  \n",
      "max      12.000000    12.000000     6.000000     1.000000  \n",
      "std       3.459797     3.256522     2.101868     0.255492  \n"
     ]
    }
   ],
   "source": [
    "print(df.info())\n",
    "print(df.describe())"
   ]
  },
  {
   "cell_type": "code",
   "execution_count": 71,
   "id": "4f91e3a5",
   "metadata": {},
   "outputs": [],
   "source": [
    "processed_path = \"C:/Users/Saisa/Downloads/Walmart_Sales/data/processed/processed_sales.csv\"\n",
    "df.to_csv(processed_path, index=False)\n"
   ]
  }
 ],
 "metadata": {
  "kernelspec": {
   "display_name": "venv",
   "language": "python",
   "name": "python3"
  },
  "language_info": {
   "codemirror_mode": {
    "name": "ipython",
    "version": 3
   },
   "file_extension": ".py",
   "mimetype": "text/x-python",
   "name": "python",
   "nbconvert_exporter": "python",
   "pygments_lexer": "ipython3",
   "version": "3.13.5"
  }
 },
 "nbformat": 4,
 "nbformat_minor": 5
}
